{
 "cells": [
  {
   "cell_type": "code",
   "execution_count": 4,
   "metadata": {},
   "outputs": [],
   "source": [
    "import pandas as pd\n",
    "import numpy as np\n",
    "import os\n",
    "import glob\n",
    "from hrvanalysis import get_time_domain_features\n",
    "from hrvanalysis import get_frequency_domain_features\n",
    "import neurokit2 as nk\n",
    "pd.set_option('display.max_rows', None)\n",
    "import warnings\n",
    "warnings.filterwarnings(action='once')"
   ]
  },
  {
   "cell_type": "code",
   "execution_count": 5,
   "metadata": {},
   "outputs": [],
   "source": [
    "#Final Analysis\n",
    "#==============\n",
    "\n",
    "minTimeDiff = 25 #25ms\n",
    "\n",
    "def processLevel(start_signal, end_signal, sensorDataDF, level, debug=False):\n",
    "    if(debug):\n",
    "        print(\"Processing Level: \", level)\n",
    "    if end_signal != None:\n",
    "        level_signal_start_time = sensorDataDF[sensorDataDF['MarkerName'] == start_signal]['Timestamp'].values[0]\n",
    "        next_level_signal_start_time =  sensorDataDF[sensorDataDF['MarkerName'] == end_signal]['Timestamp'].values[0]\n",
    "        level_df = sensorDataDF[sensorDataDF['Timestamp'].between(level_signal_start_time, next_level_signal_start_time)]\n",
    "    else:\n",
    "        #level_signal_start_time = sensorDataDF[sensorDataDF['MarkerName'] == start_signal]['Timestamp'].values[0]\n",
    "        level_df = sensorDataDF.iloc[sensorDataDF.where(sensorDataDF['MarkerName'] == start_signal).first_valid_index():]\n",
    "       \n",
    "\n",
    "    level_df.reset_index(inplace = True) #As the indices from the main df is carried over\n",
    "    \n",
    "    pretest_first_right_press_ind = level_df.where(level_df['MarkerName'] == 'RightSwitchPressed').first_valid_index()\n",
    "    level_df.iloc[pretest_first_right_press_ind:].replace(to_replace =\"LeftSwitchPressed\", value =\"\", inplace=True) #Remove left presses after right presses\n",
    "\n",
    "    level_start_ind = level_df.where(level_df['MarkerName'] == 'LeftSwitchPressed').last_valid_index()\n",
    "    level_end_ind = level_df.where(level_df.iloc[level_start_ind:]['MarkerName'] == 'RightSwitchPressed').first_valid_index()\n",
    "\n",
    "    level_df = level_df.iloc[level_start_ind:level_end_ind+1]\n",
    "    \n",
    "    #print(\"Size of level_df: \", len(level_df))\n",
    "    level_time_secs = (level_df.iloc[-1]['Timestamp'] - level_df.iloc[0]['Timestamp'])/1000\n",
    "    level_gsr_mean = level_df['GSR Conductance CAL'].mean()\n",
    "    level_hr_mean = level_df['Heart rate'].mean()\n",
    "\n",
    "    gsr_df = pd.DataFrame(level_df['GSR Conductance CAL'])\n",
    "    gsr_df = gsr_df[gsr_df['GSR Conductance CAL'].notna()]\n",
    "    gsr_list = gsr_df['GSR Conductance CAL'].tolist()\n",
    "    if(len(gsr_list) > 0):\n",
    "        signals, info = nk.eda_process(gsr_list, sampling_rate=128)\n",
    "        level_gsr_peaks_rate = len(info['SCR_Peaks']) / level_time_secs\n",
    "        #level_gsr_mean_peak_amplitude = sum(info['SCR_Amplitude'])/len(info['SCR_Amplitude'])\n",
    "        #print(type(info['SCR_Amplitude']))\n",
    "        level_gsr_mean_peak_amplitude = np.nansum(info['SCR_Amplitude'])/ np.sum(~np.isnan(info['SCR_Amplitude'])) \n",
    "        if(debug): \n",
    "            # Extract clean EDA and SCR features\n",
    "            cleaned = signals[\"EDA_Clean\"]\n",
    "            #features = [info[\"SCR_Onsets\"], info[\"SCR_Peaks\"], info[\"SCR_Recovery\"]]\n",
    "            features = [info[\"SCR_Peaks\"]]\n",
    "            plot = nk.events_plot(features, cleaned, color=['red'])           \n",
    "            print(info)\n",
    "            print('level_gsr_mean_peak_amplitude', level_gsr_mean_peak_amplitude)\n",
    "\n",
    "    else:\n",
    "        print(\"No GSR data in this level for this participant\")\n",
    "        level_gsr_peaks_rate = None\n",
    "        level_gsr_mean_peak_amplitude = None\n",
    "    #level_gsr_\n",
    "\n",
    "    rr_intervals_df = pd.DataFrame(level_df['R-R interval'])\n",
    "    rr_intervals_df = rr_intervals_df[rr_intervals_df['R-R interval'].notna()]\n",
    "    #convert column to list\n",
    "    rr_intervals_list = rr_intervals_df['R-R interval'].tolist()\n",
    "    #print(\"Size of rr intervals list: \", len(rr_intervals_list))\n",
    "    if(len(rr_intervals_list) > 0):\n",
    "        #rr_intervals_df.describe()\n",
    "        #rr_intervals_df[0]\n",
    "        time_domain_features = get_time_domain_features(rr_intervals_list)\n",
    "        freq_domain_features =  get_frequency_domain_features(rr_intervals_list, method='lomb')\n",
    "        #df[df[column].notna()][column]\n",
    "        level_rmssd = time_domain_features['rmssd']\n",
    "        level_sdnn = time_domain_features['sdnn']\n",
    "        level_mean_nni = time_domain_features['mean_nni']\n",
    "        level_hf_n = freq_domain_features['hfnu']\n",
    "        level_lf_n = freq_domain_features['lfnu']\n",
    "        level_lf_hf_ratio = freq_domain_features['lf_hf_ratio']\n",
    "    else:\n",
    "        print(\"No RR intervals data in this level for this participant\")\n",
    "        level_rmssd = None\n",
    "        level_sdnn = None\n",
    "        level_mean_nni = None\n",
    "        level_hf_n = None\n",
    "        level_lf_n = None\n",
    "        level_lf_hf_ratio = None\n",
    "\n",
    "    #Calculate total contact time \n",
    "    level_contact_df = level_df[level_df['MarkerName'] == 'BuzzWireHit']\n",
    "    total_contact_time = 0\n",
    "    for i in range(1,len(level_contact_df)): \n",
    "        #print('Currently processing ', mistakeTimeStampsdf.iloc[i])\n",
    "        timeDiff = level_contact_df.iloc[i]['Timestamp'] - level_contact_df.iloc[i-1]['Timestamp']\n",
    "        #print('Difference with last time stamp- ', timeDiff)\n",
    "        if(timeDiff < minTimeDiff): #mistake detected if within the timeDiff threshold\n",
    "            total_contact_time+=timeDiff\n",
    "        else:\n",
    "            total_contact_time+=25\n",
    "    level_total_contact_time_secs = total_contact_time/1000\n",
    "    return level_time_secs, level_total_contact_time_secs, level_gsr_mean, level_hr_mean, level_gsr_peaks_rate, level_gsr_mean_peak_amplitude, level_rmssd, level_sdnn, level_mean_nni, level_hf_n, level_lf_n, level_lf_hf_ratio\n",
    "\n"
   ]
  },
  {
   "cell_type": "code",
   "execution_count": 6,
   "metadata": {},
   "outputs": [],
   "source": [
    "def analyzeData(condition, location, processed_file_name, debug=False):\n",
    "    finalResultsDF = pd.DataFrame(columns=['Participant_ID','Baseline_HR', 'Baseline_GSR', 'Baseline_GSR_Peaks_Rate', 'Baseline_RMSSD', 'Baseline_SDNN', 'Baseline_Mean_NNI', 'Baseline_LFN', 'Baseline_HFN', 'Baseline_LFHF_Ratio', 'Pretest_Time', 'Pretest_Mistake_Time', 'Pretest_GSR', 'Pretest_HR', 'Pretest_RMSSD', 'Pretest_SDNN', 'Pretest_Mean_NNI', 'Pretest_LFN', 'Pretest_HFN', 'Pretest_LFHF_Ratio', 'Pretest_GSR_Peaks_Rate', 'Pretest_GSR_Mean_Peak_Amplitude', 'Level_1_Time', 'Level_1_Mistake_Time', 'Level_1_HR','Level_1_GSR', 'Level_1_RMSSD', 'Level_1_SDNN', 'Level_1_Mean_NNI', 'Level_1_LFN', 'Level_1_HFN', 'Level_1_LFHF_Ratio', 'Level_1_GSR_Peaks_Rate', 'Level_1_GSR_Mean_Peak_Amplitude', 'Level_2_Time', 'Level_2_Mistake_Time', 'Level_2_HR','Level_2_GSR', 'Level_2_RMSSD', 'Level_2_SDNN', 'Level_2_Mean_NNI', 'Level_2_LFN', 'Level_2_HFN', 'Level_2_LFHF_Ratio', 'Level_2_GSR_Peaks_Rate', 'Level_2_GSR_Mean_Peak_Amplitude','Level_3_Time', 'Level_3_Mistake_Time', 'Level_3_HR','Level_3_GSR', 'Level_3_RMSSD', 'Level_3_SDNN', 'Level_3_Mean_NNI', 'Level_3_LFN', 'Level_3_HFN', 'Level_3_LFHF_Ratio', 'Level_3_GSR_Peaks_Rate', 'Level_3_GSR_Mean_Peak_Amplitude', 'Level_4_Time', 'Level_4_Mistake_Time', 'Level_4_HR','Level_4_GSR', 'Level_4_RMSSD', 'Level_4_SDNN', 'Level_4_Mean_NNI', 'Level_4_LFN', 'Level_4_HFN', 'Level_4_LFHF_Ratio', 'Level_4_GSR_Peaks_Rate', 'Level_4_GSR_Mean_Peak_Amplitude', 'Posttest_Time', 'Posttest_Mistake_Time', 'Posttest_GSR', 'Posttest_HR', 'Posttest_RMSSD', 'Posttest_SDNN', 'Posttest_Mean_NNI', 'Posttest_LFN', 'Posttest_HFN', 'Posttest_LFHF_Ratio', 'Posttest_GSR_Peaks_Rate', 'Posttest_GSR_Mean_Peak_Amplitude'])\n",
    "    file_list = glob.glob(condition + location)\n",
    "    for file in file_list:\n",
    "        file_name = file[file.rindex('\\\\')+1:]\n",
    "        participant_id = file_name[file_name.find('_') + 1:file_name.find('.')][:6] #Remove all characters other than the participant id\n",
    "        print('partipant_id - ', participant_id)\n",
    "\n",
    "        #sensorDataDF_test = pd.read_csv('VR_BuzzwireStudy/BuzzwireStudy/Sensor Data/Final/016_2D0402.csv')#pd.read_csv(file)\n",
    "        sensorDataDF_test = pd.read_csv(file)\n",
    "        sensorDataDF_test = sensorDataDF_test.iloc[27:] #Ignore iMotions metadata in the first 27 rows\n",
    "        headers = sensorDataDF_test.iloc[0] #Take the resulting df's first row \n",
    "        sensorDataDF_test  = pd.DataFrame(sensorDataDF_test.values[1:], columns=headers)\n",
    "        sensorDataDF_test = sensorDataDF_test[['Timestamp', 'Heart rate','R-R interval','MarkerName','GSR Conductance CAL']].copy()\n",
    "        sensorDataDF_test['Timestamp'] = sensorDataDF_test['Timestamp'].astype(float)\n",
    "        sensorDataDF_test['Heart rate'] = sensorDataDF_test['Heart rate'].astype(float)\n",
    "        sensorDataDF_test['R-R interval'] = sensorDataDF_test['R-R interval'].astype(float)\n",
    "        sensorDataDF_test['GSR Conductance CAL'] = sensorDataDF_test['GSR Conductance CAL'].astype(float)\n",
    "        #for i in range(1,len(sensorDataDF_test)): \n",
    "        #    currMarkerName = sensorDataDF_test.iloc[i]['MarkerName']\n",
    "        #    if pd.isnull(currMarkerName): continue\n",
    "\n",
    "        #Baseline\n",
    "        baseline_start_time = sensorDataDF_test[sensorDataDF_test['MarkerName'] == 'baseline_started']['Timestamp'].values[0]\n",
    "        baseline_end_time =  sensorDataDF_test[sensorDataDF_test['MarkerName'] == 'baseline_over']['Timestamp'].values[0]\n",
    "        baseline_gsr_df = pd.DataFrame(sensorDataDF_test[sensorDataDF_test['Timestamp'].between(baseline_start_time, baseline_end_time)]['GSR Conductance CAL'])\n",
    "        #print(baseline_gsr_df.columns)\n",
    "        baseline_gsr_df = baseline_gsr_df[baseline_gsr_df['GSR Conductance CAL'].notna()]\n",
    "        baseline_gsr = baseline_gsr_df['GSR Conductance CAL'].mean()\n",
    "        baseline_gsr_list = baseline_gsr_df['GSR Conductance CAL'].tolist()\n",
    "        if(len(baseline_gsr_list) > 0):\n",
    "            signals, info = nk.eda_process(baseline_gsr_list, sampling_rate=128)\n",
    "            baseline_gsr_peaks_rate = len(info['SCR_Peaks']) / 180 #3 min baseline = 180 secs\n",
    "        else:\n",
    "            print(\"No GSR data in this level for this participant\")\n",
    "            baseline_gsr_peaks_rate = None\n",
    "            \n",
    "        #print(baseline_gsr_df.mean())\n",
    "        #baseline_gsr_list = baseline_gsr_df['GSR Conductance CAL'].tolist()\n",
    "        #signals, info = nk.eda_process(baseline_gsr_list, sampling_rate=128)\n",
    "        #print(\"Baseline GSR - \", baseline_gsr)\n",
    "        baseline_hr_df = sensorDataDF_test[sensorDataDF_test['Timestamp'].between(baseline_start_time, baseline_end_time)]['Heart rate']\n",
    "        baseline_hr = baseline_hr_df.mean()\n",
    "        baseline_rr_intervals_df = pd.DataFrame(sensorDataDF_test[sensorDataDF_test['Timestamp'].between(baseline_start_time, baseline_end_time)]['R-R interval'])\n",
    "        baseline_rr_intervals_df = baseline_rr_intervals_df[baseline_rr_intervals_df['R-R interval'].notna()]\n",
    "        #convert column to list\n",
    "        baseline_rr_intervals_list = baseline_rr_intervals_df['R-R interval'].tolist()\n",
    "    \n",
    "        baseline_time_domain_features = get_time_domain_features(baseline_rr_intervals_list)\n",
    "        baseline_freq_domain_features =  get_frequency_domain_features(baseline_rr_intervals_list, sampling_frequency=1)\n",
    "        baseline_rmssd = baseline_time_domain_features['rmssd']\n",
    "        baseline_sdnn = baseline_time_domain_features['sdnn']\n",
    "        baseline_mean_nni = baseline_time_domain_features['mean_nni']\n",
    "        baseline_hf_n = baseline_freq_domain_features['hfnu']\n",
    "        baseline_lf_n = baseline_freq_domain_features['lfnu']\n",
    "        baseline_lf_hf_ratio = baseline_freq_domain_features['lf_hf_ratio']\n",
    "\n",
    "        \n",
    "        pretest_time_secs, pretest_total_contact_time_secs, pretest_gsr_mean, pretest_hr_mean, pretest_gsr_peaks_rate, pretest_gsr_mean_peak_amplitude, pretest_rmssd, pretest_sdnn, pretest_mean_nni, pretest_hf_n, pretest_lf_n, pretest_lf_hf_ratio  = processLevel('pre_test_started', 'level_1_started', sensorDataDF_test, level='Pretest', debug=debug)\n",
    "        level_1_time_secs, level_1_total_contact_time_secs, level_1_gsr_mean , level_1_hr_mean, level_1_gsr_peaks_rate, level_1_gsr_mean_peak_amplitude, level_1_rmssd, level_1_sdnn, level_1_mean_nni, level_1_hf_n, level_1_lf_n, level_1_lf_hf_ratio = processLevel('level_1_started', 'level_2_started', sensorDataDF_test, level='Level 1',debug=debug)\n",
    "        level_2_time_secs, level_2_total_contact_time_secs, level_2_gsr_mean , level_2_hr_mean, level_2_gsr_peaks_rate, level_2_gsr_mean_peak_amplitude, level_2_rmssd, level_2_sdnn, level_2_mean_nni, level_2_hf_n, level_2_lf_n, level_2_lf_hf_ratio = processLevel('level_2_started', 'level_3_started', sensorDataDF_test, level='Level 2',debug=debug)\n",
    "        level_3_time_secs, level_3_total_contact_time_secs, level_3_gsr_mean , level_3_hr_mean, level_3_gsr_peaks_rate, level_3_gsr_mean_peak_amplitude, level_3_rmssd, level_3_sdnn, level_3_mean_nni, level_3_hf_n, level_3_lf_n, level_3_lf_hf_ratio = processLevel('level_3_started', 'level_4_started', sensorDataDF_test, level='Level 3',debug=debug)\n",
    "        level_4_time_secs, level_4_total_contact_time_secs, level_4_gsr_mean , level_4_hr_mean, level_4_gsr_peaks_rate, level_4_gsr_mean_peak_amplitude, level_4_rmssd, level_4_sdnn, level_4_mean_nni, level_4_hf_n, level_4_lf_n, level_4_lf_hf_ratio = processLevel('level_4_started', 'post_test_started', sensorDataDF_test, level='Level 4',debug=debug)\n",
    "        posttest_time_secs, posttest_total_contact_time_secs, posttest_gsr_mean, posttest_hr_mean, posttest_gsr_peaks_rate, posttest_gsr_mean_peak_amplitude, posttest_rmssd, posttest_sdnn, posttest_mean_nni, posttest_hf_n, posttest_lf_n, posttest_lf_hf_ratio= processLevel('post_test_started', None, sensorDataDF_test, level='Posttest',debug=debug)\n",
    "\n",
    "        #Add to final results df\n",
    "        #print('',{'Participant_ID' : participant_id,'Baseline_HR' : baseline_hr, 'Baseline_GSR' : baseline_gsr, 'Pretest_Time' : pretest_time_secs, 'Pretest_Mistake_Time' : pretest_total_contact_time_secs, 'Pretest_GSR' : pretest_gsr, 'Pretest_HR' : pretest_hr, 'Level_1_Time' : level_1_time_secs, 'Level_1_Mistake_Time' : level_1_total_contact_time_secs, 'Level_1_HR' : level_1_hr,'Level_1_GSR' : level_1_gsr, 'Level_2_Time' : level_2_time_secs, 'Level_2_Mistake_Time' : level_2_total_contact_time_secs, 'Level_2_HR' : level_2_hr,'Level_2_GSR' : level_2_gsr, 'Level_3_Time' : level_3_time_secs, 'Level_3_Mistake_Time' : level_3_total_contact_time_secs, 'Level_3_HR' : level_3_hr,'Level_3_GSR' : level_3_gsr, 'Level_4_Time' : level_4_time_secs, 'Level_4_Mistake_Time' : level_4_total_contact_time_secs, 'Level_4_HR' : level_4_hr,'Level_4_GSR' : level_4_gsr,'Posttest_Time' : posttest_time_secs, 'Posttest_Mistake_Time' : posttest_total_contact_time_secs, 'Posttest_GSR' : posttest_gsr, 'Posttest_HR' : posttest_hr})\n",
    "        finalResultsDF = finalResultsDF.append({'Participant_ID' : participant_id,'Baseline_HR' : baseline_hr, 'Baseline_GSR' : baseline_gsr, 'Baseline_GSR_Peaks_Rate' : baseline_gsr_peaks_rate, 'Baseline_RMSSD' : baseline_rmssd, 'Baseline_SDNN' : baseline_sdnn, 'Baseline_Mean_NNI' : baseline_mean_nni, 'Baseline_LFN' : baseline_lf_n, 'Baseline_HFN' : baseline_hf_n, 'Baseline_LFHF_Ratio' : baseline_lf_hf_ratio, 'Pretest_Time' : pretest_time_secs, 'Pretest_Mistake_Time' : pretest_total_contact_time_secs, 'Pretest_GSR' : pretest_gsr_mean, 'Pretest_HR' : pretest_hr_mean, 'Pretest_RMSSD' : pretest_rmssd, 'Pretest_SDNN' : pretest_sdnn, 'Pretest_Mean_NNI' : pretest_mean_nni, 'Pretest_LFN' : pretest_lf_n, 'Pretest_HFN' : pretest_hf_n, 'Pretest_LFHF_Ratio' : pretest_lf_hf_ratio, 'Pretest_GSR_Peaks_Rate' : pretest_gsr_peaks_rate, 'Pretest_GSR_Mean_Peak_Amplitude' : pretest_gsr_mean_peak_amplitude, 'Level_1_Time' : level_1_time_secs, 'Level_1_Mistake_Time' : level_1_total_contact_time_secs, 'Level_1_HR' : level_1_hr_mean,'Level_1_GSR' : level_1_gsr_mean, 'Level_1_RMSSD' : level_1_rmssd, 'Level_1_SDNN' : level_1_sdnn, 'Level_1_Mean_NNI' : level_1_mean_nni, 'Level_1_LFN' : level_1_lf_n, 'Level_1_HFN' : level_1_hf_n, 'Level_1_LFHF_Ratio' : level_1_lf_hf_ratio, 'Level_1_GSR_Peaks_Rate' : level_1_gsr_peaks_rate, 'Level_1_GSR_Mean_Peak_Amplitude' : level_1_gsr_mean_peak_amplitude, 'Level_2_Time' : level_2_time_secs, 'Level_2_Mistake_Time' : level_2_total_contact_time_secs, 'Level_2_HR' : level_2_hr_mean,'Level_2_GSR' : level_2_gsr_mean, 'Level_2_RMSSD' : level_2_rmssd, 'Level_2_SDNN' : level_2_sdnn, 'Level_2_Mean_NNI' : level_2_mean_nni, 'Level_2_LFN' : level_2_lf_n, 'Level_2_HFN' : level_2_hf_n, 'Level_2_LFHF_Ratio' : level_2_lf_hf_ratio, 'Level_2_GSR_Peaks_Rate' : level_2_gsr_peaks_rate, 'Level_2_GSR_Mean_Peak_Amplitude' : level_2_gsr_mean_peak_amplitude, 'Level_3_Time' : level_3_time_secs, 'Level_3_Mistake_Time' : level_3_total_contact_time_secs, 'Level_3_HR' : level_3_hr_mean,'Level_3_GSR' : level_3_gsr_mean, 'Level_3_RMSSD' : level_3_rmssd, 'Level_3_SDNN' : level_3_sdnn, 'Level_3_Mean_NNI' : level_3_mean_nni, 'Level_3_LFN' : level_3_lf_n, 'Level_3_HFN' : level_3_hf_n, 'Level_3_LFHF_Ratio' : level_3_lf_hf_ratio, 'Level_3_GSR_Peaks_Rate' : level_3_gsr_peaks_rate, 'Level_3_GSR_Mean_Peak_Amplitude' : level_3_gsr_mean_peak_amplitude, 'Level_4_Time' : level_4_time_secs, 'Level_4_Mistake_Time' : level_4_total_contact_time_secs, 'Level_4_HR' : level_4_hr_mean,'Level_4_GSR' : level_4_gsr_mean, 'Level_4_RMSSD' : level_4_rmssd, 'Level_4_SDNN' : level_4_sdnn, 'Level_4_Mean_NNI' : level_4_mean_nni, 'Level_4_LFN' : level_4_lf_n, 'Level_4_HFN' : level_4_hf_n, 'Level_4_LFHF_Ratio' : level_4_lf_hf_ratio, 'Level_4_GSR_Peaks_Rate' : level_4_gsr_peaks_rate, 'Level_4_GSR_Mean_Peak_Amplitude' : level_4_gsr_mean_peak_amplitude, 'Posttest_Time' : posttest_time_secs, 'Posttest_Mistake_Time' : posttest_total_contact_time_secs, 'Posttest_GSR' : posttest_gsr_mean, 'Posttest_HR' : posttest_hr_mean, 'Posttest_RMSSD' : posttest_rmssd, 'Posttest_SDNN' : posttest_sdnn, 'Posttest_Mean_NNI' : posttest_mean_nni, 'Posttest_LFN' : posttest_lf_n, 'Posttest_HFN' : posttest_hf_n, 'Posttest_LFHF_Ratio' : posttest_lf_hf_ratio, 'Posttest_GSR_Peaks_Rate' : posttest_gsr_peaks_rate, 'Posttest_GSR_Mean_Peak_Amplitude' : posttest_gsr_mean_peak_amplitude}, ignore_index=True)\n",
    "\n",
    "        #Pre-test\n",
    "        #Pre-test time, GSR, HR\n",
    "        \n",
    "        \n",
    "    finalResultsDF.to_csv((processed_file_name + condition + '.csv'), sep=',')\n",
    "    print(\"Analysis complete\")\n"
   ]
  },
  {
   "cell_type": "code",
   "execution_count": 8,
   "metadata": {},
   "outputs": [
    {
     "name": "stdout",
     "output_type": "stream",
     "text": [
      "partipant_id -  2D0804\n"
     ]
    },
    {
     "name": "stderr",
     "output_type": "stream",
     "text": [
      "C:\\Users\\au657021\\AppData\\Local\\Temp\\ipykernel_26832\\3820552725.py:1: DtypeWarning: Columns (0,1,2,3,4,5,6,8,9,10,11,12,13,14,15,16,17,18,19,20,21,22,23,24,25,26,27,28,29,30,31,32) have mixed types.Specify dtype option on import or set low_memory=False.\n",
      "  analyzeData('VR',\"_BuzzwireStudy\\\\BuzzwireStudy\\\\Sensor Data\\\\Final\\\\*.csv\", \"finalResults_\")\n"
     ]
    },
    {
     "name": "stdout",
     "output_type": "stream",
     "text": [
      "partipant_id -  2D0803\n",
      "partipant_id -  2D0802\n",
      "partipant_id -  2D0801\n",
      "partipant_id -  2D0705\n",
      "partipant_id -  2D0704\n",
      "partipant_id -  2D0703\n",
      "partipant_id -  2D0702\n",
      "partipant_id -  2D0701\n",
      "partipant_id -  2D0605\n"
     ]
    },
    {
     "name": "stderr",
     "output_type": "stream",
     "text": [
      "C:\\Users\\au657021\\AppData\\Local\\Temp\\ipykernel_26832\\3820552725.py:1: DtypeWarning: Columns (0,1,2,3,4,5,6,8,9,10,11,12,13,18,19,20,21,22,23,24,25,26,27,28,29,30,31,32) have mixed types.Specify dtype option on import or set low_memory=False.\n",
      "  analyzeData('VR',\"_BuzzwireStudy\\\\BuzzwireStudy\\\\Sensor Data\\\\Final\\\\*.csv\", \"finalResults_\")\n"
     ]
    },
    {
     "name": "stdout",
     "output_type": "stream",
     "text": [
      "partipant_id -  2D0604\n",
      "partipant_id -  2D0602\n"
     ]
    },
    {
     "name": "stderr",
     "output_type": "stream",
     "text": [
      "C:\\Users\\au657021\\AppData\\Local\\Temp\\ipykernel_26832\\4281662543.py:41: RuntimeWarning: invalid value encountered in double_scalars\n",
      "  level_gsr_mean_peak_amplitude = np.nansum(info['SCR_Amplitude'])/ np.sum(~np.isnan(info['SCR_Amplitude']))\n"
     ]
    },
    {
     "name": "stdout",
     "output_type": "stream",
     "text": [
      "partipant_id -  2D0601\n",
      "partipant_id -  2D0402\n"
     ]
    },
    {
     "name": "stderr",
     "output_type": "stream",
     "text": [
      "C:\\Users\\au657021\\AppData\\Local\\Temp\\ipykernel_26832\\3820552725.py:1: DtypeWarning: Columns (0,1,2,3,4,5,6,8,9,10,11,12,13,14,18,19,20,21,22,23,24,25,26,27,28,29,30,31,32) have mixed types.Specify dtype option on import or set low_memory=False.\n",
      "  analyzeData('VR',\"_BuzzwireStudy\\\\BuzzwireStudy\\\\Sensor Data\\\\Final\\\\*.csv\", \"finalResults_\")\n"
     ]
    },
    {
     "name": "stdout",
     "output_type": "stream",
     "text": [
      "partipant_id -  2D0401\n",
      "partipant_id -  2D0306\n",
      "partipant_id -  2D0305\n",
      "partipant_id -  2D0304\n",
      "partipant_id -  2D0303\n",
      "partipant_id -  2D0302\n",
      "partipant_id -  2D0301\n",
      "partipant_id -  2D0202\n",
      "partipant_id -  2D0201\n",
      "partipant_id -  2D0103\n",
      "partipant_id -  2D0101\n",
      "partipant_id -  2D3008\n",
      "No GSR data in this level for this participant\n",
      "partipant_id -  2D3006\n",
      "partipant_id -  2D3005\n",
      "partipant_id -  2D3004\n",
      "partipant_id -  2D3003\n",
      "partipant_id -  2D3001\n",
      "partipant_id -  2D2903\n",
      "partipant_id -  2D2901\n",
      "Analysis complete\n",
      "partipant_id -  2C0804\n"
     ]
    },
    {
     "name": "stderr",
     "output_type": "stream",
     "text": [
      "C:\\Users\\au657021\\AppData\\Local\\Temp\\ipykernel_26832\\3820552725.py:2: DtypeWarning: Columns (0,1,2,3,4,5,6,8,9,10,11,12,13,14,15,16,17,22,23,24,25,26,27,28,29,30,31,32,33,34,35,36) have mixed types.Specify dtype option on import or set low_memory=False.\n",
      "  analyzeData('Ph', \"_BuzzwireStudy\\\\BuzzwireStudy\\\\Sensor Data\\\\Final\\\\*.csv\", \"finalResults_\")\n"
     ]
    },
    {
     "name": "stdout",
     "output_type": "stream",
     "text": [
      "partipant_id -  2C0803\n"
     ]
    },
    {
     "name": "stderr",
     "output_type": "stream",
     "text": [
      "C:\\Users\\au657021\\AppData\\Local\\Temp\\ipykernel_26832\\3820552725.py:2: DtypeWarning: Columns (0,1,2,3,4,5,6,8,9,10,11,12,13,14,15,16,17,18,19,20,21,22,23,24,25,26,27,28,29,30,31,32,33,34,35,36) have mixed types.Specify dtype option on import or set low_memory=False.\n",
      "  analyzeData('Ph', \"_BuzzwireStudy\\\\BuzzwireStudy\\\\Sensor Data\\\\Final\\\\*.csv\", \"finalResults_\")\n"
     ]
    },
    {
     "name": "stdout",
     "output_type": "stream",
     "text": [
      "partipant_id -  2C0802\n",
      "partipant_id -  2C0801\n",
      "partipant_id -  2C0704\n"
     ]
    },
    {
     "name": "stderr",
     "output_type": "stream",
     "text": [
      "C:\\Users\\au657021\\AppData\\Local\\Temp\\ipykernel_26832\\3820552725.py:2: DtypeWarning: Columns (0,1,2,3,4,5,6,8,9,10,11,12,13,17,22,23,24,25,26,27,28,29,30,31,32,33,34,35,36) have mixed types.Specify dtype option on import or set low_memory=False.\n",
      "  analyzeData('Ph', \"_BuzzwireStudy\\\\BuzzwireStudy\\\\Sensor Data\\\\Final\\\\*.csv\", \"finalResults_\")\n"
     ]
    },
    {
     "name": "stdout",
     "output_type": "stream",
     "text": [
      "partipant_id -  2C0703\n",
      "partipant_id -  2C0702\n"
     ]
    },
    {
     "name": "stderr",
     "output_type": "stream",
     "text": [
      "C:\\Users\\au657021\\AppData\\Local\\Temp\\ipykernel_26832\\3820552725.py:2: DtypeWarning: Columns (0,1,2,3,4,5,6,8,9,10,11,12,13,17,18,19,20,21,22,23,24,25,26,27,28,29,30,31,32,33,34,35,36) have mixed types.Specify dtype option on import or set low_memory=False.\n",
      "  analyzeData('Ph', \"_BuzzwireStudy\\\\BuzzwireStudy\\\\Sensor Data\\\\Final\\\\*.csv\", \"finalResults_\")\n"
     ]
    },
    {
     "name": "stdout",
     "output_type": "stream",
     "text": [
      "partipant_id -  2C0701\n",
      "partipant_id -  2C0605\n",
      "partipant_id -  2C0604\n",
      "partipant_id -  2C0603\n",
      "partipant_id -  2C0602\n",
      "partipant_id -  2C0601\n",
      "partipant_id -  2C0404\n",
      "partipant_id -  2C0403\n",
      "partipant_id -  2C0401\n",
      "partipant_id -  2C0306\n",
      "partipant_id -  2C0305\n",
      "partipant_id -  2C0304\n",
      "partipant_id -  2C0303\n",
      "partipant_id -  2C0302\n",
      "partipant_id -  2C0301\n",
      "partipant_id -  2C0201\n",
      "partipant_id -  2C0106\n",
      "partipant_id -  2C0105\n",
      "partipant_id -  2C0104\n",
      "partipant_id -  2C0103\n",
      "partipant_id -  2C0102\n",
      "partipant_id -  2C0101\n",
      "partipant_id -  2C3006\n",
      "partipant_id -  2C3005\n",
      "partipant_id -  2C3003\n",
      "partipant_id -  2C3002\n",
      "partipant_id -  2C3001\n",
      "partipant_id -  2C2905\n",
      "partipant_id -  2C2904\n",
      "partipant_id -  2C2903\n",
      "partipant_id -  2C2902\n",
      "Analysis complete\n",
      "partipant_id -  2D0805\n",
      "No GSR data in this level for this participant\n"
     ]
    },
    {
     "name": "stderr",
     "output_type": "stream",
     "text": [
      "C:\\Users\\au657021\\AppData\\Local\\Temp\\ipykernel_26832\\3820552725.py:3: DtypeWarning: Columns (0,1,2,5,8,9,10,11,12,13,18,19,20,21,22,23,24,25,26,27,28,29,30,31,32) have mixed types.Specify dtype option on import or set low_memory=False.\n",
      "  analyzeData('VR',\"_BuzzwireStudy\\\\BuzzwireStudy\\\\Sensor Data\\\\FinalRemoved\\\\*.csv\", \"finalResults_part_invalid_\")\n"
     ]
    },
    {
     "name": "stdout",
     "output_type": "stream",
     "text": [
      "No GSR data in this level for this participant\n",
      "No GSR data in this level for this participant\n",
      "No GSR data in this level for this participant\n",
      "No GSR data in this level for this participant\n",
      "No GSR data in this level for this participant\n",
      "partipant_id -  2D0603\n",
      "No GSR data in this level for this participant\n",
      "No GSR data in this level for this participant\n",
      "No GSR data in this level for this participant\n",
      "No GSR data in this level for this participant\n",
      "No GSR data in this level for this participant\n",
      "No GSR data in this level for this participant\n",
      "partipant_id -  2D0203\n",
      "No GSR data in this level for this participant\n",
      "No GSR data in this level for this participant\n",
      "No GSR data in this level for this participant\n",
      "No GSR data in this level for this participant\n",
      "No GSR data in this level for this participant\n",
      "No GSR data in this level for this participant\n",
      "partipant_id -  2D0104\n",
      "No GSR data in this level for this participant\n",
      "No GSR data in this level for this participant\n",
      "No GSR data in this level for this participant\n",
      "No GSR data in this level for this participant\n",
      "No GSR data in this level for this participant\n",
      "partipant_id -  2D0102\n",
      "No GSR data in this level for this participant\n",
      "No GSR data in this level for this participant\n",
      "No GSR data in this level for this participant\n",
      "No GSR data in this level for this participant\n",
      "No GSR data in this level for this participant\n",
      "partipant_id -  2D2905\n",
      "No GSR data in this level for this participant\n",
      "No GSR data in this level for this participant\n",
      "No GSR data in this level for this participant\n",
      "partipant_id -  2D2904\n",
      "No GSR data in this level for this participant\n",
      "No RR intervals data in this level for this participant\n",
      "No GSR data in this level for this participant\n",
      "No GSR data in this level for this participant\n",
      "No GSR data in this level for this participant\n",
      "Analysis complete\n",
      "partipant_id -  2C0402\n",
      "No RR intervals data in this level for this participant\n",
      "Analysis complete\n"
     ]
    }
   ],
   "source": [
    "analyzeData('VR',\"_BuzzwireStudy\\\\BuzzwireStudy\\\\Sensor Data\\\\Final\\\\*.csv\", \"finalResults_\")\n",
    "analyzeData('Ph', \"_BuzzwireStudy\\\\BuzzwireStudy\\\\Sensor Data\\\\Final\\\\*.csv\", \"finalResults_\")\n",
    "analyzeData('VR',\"_BuzzwireStudy\\\\BuzzwireStudy\\\\Sensor Data\\\\FinalRemoved\\\\*.csv\", \"finalResults_part_invalid_\")\n",
    "analyzeData('Ph', \"_BuzzwireStudy\\\\BuzzwireStudy\\\\Sensor Data\\\\FinalRemoved\\\\*.csv\", \"finalResults_part_invalid_\")\n",
    "\n",
    "#analyzeData('vr', \"_BuzzwireStudy\\\\BuzzwireStudy\\\\Sensor Data\\\\Final\\\\014_2D0602.csv\", \"debug\", debug=True) #For debugging specific participant data"
   ]
  },
  {
   "cell_type": "code",
   "execution_count": null,
   "metadata": {},
   "outputs": [],
   "source": []
  }
 ],
 "metadata": {
  "interpreter": {
   "hash": "2e40d6ef6bfb939848905b14bdbe439440942289b3e9d34a937c7f39c33784f7"
  },
  "kernelspec": {
   "display_name": "Python 3.9.7 ('buzz_env')",
   "language": "python",
   "name": "python3"
  },
  "language_info": {
   "codemirror_mode": {
    "name": "ipython",
    "version": 3
   },
   "file_extension": ".py",
   "mimetype": "text/x-python",
   "name": "python",
   "nbconvert_exporter": "python",
   "pygments_lexer": "ipython3",
   "version": "3.9.7"
  },
  "orig_nbformat": 4
 },
 "nbformat": 4,
 "nbformat_minor": 2
}
