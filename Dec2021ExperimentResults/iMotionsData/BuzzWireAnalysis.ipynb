{
 "cells": [
  {
   "cell_type": "code",
   "execution_count": 1,
   "id": "236b683d-2127-4f51-929c-81150ea2bcf1",
   "metadata": {},
   "outputs": [],
   "source": [
    "import pandas as pd\n",
    "import numpy as np\n",
    "import os\n",
    "import glob\n",
    "from hrvanalysis import get_time_domain_features\n",
    "from hrvanalysis import get_frequency_domain_features\n",
    "import neurokit2 as nk\n",
    "pd.set_option('display.max_rows', None)"
   ]
  },
  {
   "cell_type": "code",
   "execution_count": 4,
   "id": "26fbe68e-9933-4e35-a464-9d112c6f6232",
   "metadata": {},
   "outputs": [],
   "source": [
    "file_list = glob.glob(\"VR_BuzzwireStudy\\\\BuzzwireStudy\\\\Sensor Data\\\\Final\\\\*.csv\")"
   ]
  },
  {
   "cell_type": "code",
   "execution_count": null,
   "id": "4f822de9-4770-46fe-b8b0-3c31952f65e3",
   "metadata": {
    "scrolled": true,
    "tags": []
   },
   "outputs": [],
   "source": [
    "for file in file_list:\n",
    "    print('File name - ', file[file.rindex('\\\\')+1:])\n",
    "    \n",
    "    sensorDataDF_test = pd.read_csv(file)\n",
    "    sensorDataDF_test = sensorDataDF_test.iloc[27:] #Ignore iMotions metadata in the first 27 rows\n",
    "    headers = sensorDataDF_test.iloc[0] #Take the resulting df's first row \n",
    "    sensorDataDF_test  = pd.DataFrame(sensorDataDF_test.values[1:], columns=headers)\n",
    "    sensorDataDF_test = sensorDataDF_test[['Timestamp', 'Heart rate','R-R interval','MarkerName','GSR Conductance CAL']].copy()\n",
    "    \n",
    "    baseline_started_cnt = 0\n",
    "    pre_test_started_cnt = 0\n",
    "    level_1_started_cnt = 0\n",
    "    level_1_rest_started_cnt = 0\n",
    "    level_2_started_cnt = 0\n",
    "    level_2_rest_started_cnt = 0\n",
    "    level_3_started_cnt = 0\n",
    "    level_3_rest_started_cnt = 0\n",
    "    level_4_started_cnt = 0\n",
    "    level_4_rest_started_cnt = 0\n",
    "    post_test_started_cnt = 0\n",
    "    \n",
    "    pre_test_started_cnt = sensorDataDF_test[sensorDataDF_test['MarkerName'] == 'pre_test_started'].count()['MarkerName']\n",
    "    post_test_started_cnt = sensorDataDF_test[sensorDataDF_test['MarkerName'] == 'post_test_started'].count()['MarkerName']\n",
    "    level_1_started_cnt = sensorDataDF_test[sensorDataDF_test['MarkerName'] == 'level_1_started'].count()['MarkerName']\n",
    "    level_1_rest_started_cnt = sensorDataDF_test[sensorDataDF_test['MarkerName'] == 'level_1_rest_started'].count()['MarkerName']\n",
    "    level_2_started_cnt = sensorDataDF_test[sensorDataDF_test['MarkerName'] == 'level_2_started'].count()['MarkerName']\n",
    "    level_2_rest_started_cnt = sensorDataDF_test[sensorDataDF_test['MarkerName'] == 'level_2_rest_started'].count()['MarkerName']\n",
    "    level_3_started_cnt = sensorDataDF_test[sensorDataDF_test['MarkerName'] == 'level_3_started'].count()['MarkerName']\n",
    "    level_3_rest_started_cnt = sensorDataDF_test[sensorDataDF_test['MarkerName'] == 'level_3_rest_started'].count()['MarkerName']\n",
    "    level_4_started_cnt = sensorDataDF_test[sensorDataDF_test['MarkerName'] == 'level_4_started'].count()['MarkerName']\n",
    "    level_4_rest_started_cnt = sensorDataDF_test[sensorDataDF_test['MarkerName'] == 'level_4_rest_started'].count()['MarkerName']\n",
    "\n",
    "\n",
    "    print(\"pre_test_started -> \", pre_test_started_cnt)\n",
    "    print(\"post_test_started -> \", post_test_started_cnt)\n",
    "    print(\"level_1_started_cnt -> \", level_1_started_cnt)    \n",
    "    print(\"level_1_rest_started_cnt -> \", level_1_rest_started_cnt)   \n",
    "    print(\"level_2_started_cnt -> \", level_2_started_cnt)    \n",
    "    print(\"level_2_rest_started_cnt -> \", level_2_rest_started_cnt)   \n",
    "    print(\"level_3_started_cnt -> \", level_3_started_cnt)    \n",
    "    print(\"level_3_rest_started_cnt -> \", level_3_rest_started_cnt)   \n",
    "    print(\"level_4_started_cnt -> \", level_4_started_cnt)    \n",
    "    print(\"level_4_rest_started_cnt -> \", level_4_rest_started_cnt)   "
   ]
  },
  {
   "cell_type": "code",
   "execution_count": 56,
   "id": "ceb6369b-e762-45d4-a9b1-605041a3519b",
   "metadata": {},
   "outputs": [],
   "source": [
    "#Test Analysis\n",
    "#for file in file_list:\n",
    "    #print('File name - ', file[file.rindex('\\\\')+1:])\n",
    "    \n",
    "sensorDataDF_test = pd.read_csv('VR_BuzzwireStudy/BuzzwireStudy/Sensor Data/Final/040_2D3001.csv')#pd.read_csv(file)\n",
    "sensorDataDF_test = sensorDataDF_test.iloc[27:] #Ignore iMotions metadata in the first 27 rows\n",
    "headers = sensorDataDF_test.iloc[0] #Take the resulting df's first row \n",
    "sensorDataDF_test  = pd.DataFrame(sensorDataDF_test.values[1:], columns=headers)\n",
    "sensorDataDF_test = sensorDataDF_test[['Timestamp', 'Heart rate','R-R interval','MarkerName','GSR Conductance CAL']].copy()\n",
    "sensorDataDF_test['Timestamp'] = sensorDataDF_test['Timestamp'].astype(float)\n",
    "sensorDataDF_test['Heart rate'] = sensorDataDF_test['Heart rate'].astype(float)\n",
    "sensorDataDF_test['R-R interval'] = sensorDataDF_test['R-R interval'].astype(float)\n",
    "sensorDataDF_test['GSR Conductance CAL'] = sensorDataDF_test['GSR Conductance CAL'].astype(float)\n",
    "#for i in range(1,len(sensorDataDF_test)): \n",
    "#    currMarkerName = sensorDataDF_test.iloc[i]['MarkerName']\n",
    "#    if pd.isnull(currMarkerName): continue\n",
    "\n"
   ]
  },
  {
   "cell_type": "code",
   "execution_count": 57,
   "id": "1eea1d67-c83a-466a-80e7-df7adc34b5ac",
   "metadata": {},
   "outputs": [
    {
     "name": "stdout",
     "output_type": "stream",
     "text": [
      "78145.438\n",
      "258600.6529\n",
      "baseline_time_secs 180.4552149\n"
     ]
    }
   ],
   "source": [
    "baseline_start_time = sensorDataDF_test[sensorDataDF_test['MarkerName'] == 'baseline_started']['Timestamp'].values[0]\n",
    "baseline_end_time =  sensorDataDF_test[sensorDataDF_test['MarkerName'] == 'baseline_over']['Timestamp'].values[0]\n",
    "print(baseline_start_time)\n",
    "print(baseline_end_time)\n",
    "baseline_time_secs = (baseline_end_time - baseline_start_time) / 1000\n",
    "print('baseline_time_secs', baseline_time_secs)\n"
   ]
  },
  {
   "cell_type": "code",
   "execution_count": 58,
   "id": "0b1e0b6f",
   "metadata": {},
   "outputs": [],
   "source": [
    "gsr_df = pd.DataFrame(sensorDataDF_test[sensorDataDF_test['Timestamp'].between(baseline_start_time, baseline_end_time)]['GSR Conductance CAL'])\n",
    "gsr_df = gsr_df[gsr_df['GSR Conductance CAL'].notna()]\n",
    "gsr_list = gsr_df['GSR Conductance CAL'].tolist()\n",
    "signals, info = nk.eda_process(gsr_list, sampling_rate=128)"
   ]
  },
  {
   "cell_type": "code",
   "execution_count": 49,
   "id": "4df97ef8",
   "metadata": {},
   "outputs": [
    {
     "data": {
      "text/plain": [
       "Index(['EDA_Raw', 'EDA_Clean', 'EDA_Tonic', 'EDA_Phasic', 'SCR_Onsets',\n",
       "       'SCR_Peaks', 'SCR_Height', 'SCR_Amplitude', 'SCR_RiseTime',\n",
       "       'SCR_Recovery', 'SCR_RecoveryTime'],\n",
       "      dtype='object')"
      ]
     },
     "execution_count": 49,
     "metadata": {},
     "output_type": "execute_result"
    }
   ],
   "source": [
    "signals.columns"
   ]
  },
  {
   "cell_type": "code",
   "execution_count": 50,
   "id": "9114cf63",
   "metadata": {},
   "outputs": [
    {
     "data": {
      "text/plain": [
       "{'SCR_Onsets': array([  266,  2604,  4160,  5765,  6762,  7433, 10371, 11571, 12807,\n",
       "        13851, 14835, 16235, 17503, 19172, 20653, 21446], dtype=int64),\n",
       " 'SCR_Peaks': array([  554,  3084,  4491,  6041,  6806,  7734, 10737, 12011, 13047,\n",
       "        14027, 15325, 16597, 17806, 19523, 20924, 21742], dtype=int64),\n",
       " 'SCR_Height': array([0.14267984, 0.01518952, 0.10027497, 0.04733806, 0.04800391,\n",
       "        0.06518057, 0.04319905, 0.03262198, 0.00978341, 0.03348821,\n",
       "        0.06769307, 0.06845481, 0.15854129, 0.11221517, 0.01760799,\n",
       "        0.0393328 ]),\n",
       " 'SCR_Amplitude': array([0.23896194, 0.02383955, 0.15960599, 0.08966097, 0.00072341,\n",
       "        0.15211965, 0.07877113, 0.0686552 , 0.04120198, 0.00761914,\n",
       "        0.14191613, 0.14152134, 0.34803637, 0.19319201, 0.05059714,\n",
       "        0.05796654]),\n",
       " 'SCR_RiseTime': array([2.25     , 3.75     , 2.5859375, 2.15625  , 0.34375  , 2.3515625,\n",
       "        2.859375 , 3.4375   , 1.875    , 1.375    , 3.828125 , 2.828125 ,\n",
       "        2.3671875, 2.7421875, 2.1171875, 2.3125   ]),\n",
       " 'SCR_Recovery': array([  945.,  3315.,  4902.,  6270.,  6818.,  9871., 11177., 12447.,\n",
       "        13294., 14133., 15769., 16992., 18444., 19923., 21169., 22073.]),\n",
       " 'SCR_RecoveryTime': array([ 3.0546875,  1.8046875,  3.2109375,  1.7890625,  0.09375  ,\n",
       "        16.6953125,  3.4375   ,  3.40625  ,  1.9296875,  0.828125 ,\n",
       "         3.46875  ,  3.0859375,  4.984375 ,  3.125    ,  1.9140625,\n",
       "         2.5859375]),\n",
       " 'sampling_rate': 128}"
      ]
     },
     "execution_count": 50,
     "metadata": {},
     "output_type": "execute_result"
    }
   ],
   "source": [
    "info"
   ]
  },
  {
   "cell_type": "code",
   "execution_count": 61,
   "id": "264f9323",
   "metadata": {},
   "outputs": [
    {
     "data": {
      "text/plain": [
       "16"
      ]
     },
     "execution_count": 61,
     "metadata": {},
     "output_type": "execute_result"
    }
   ],
   "source": [
    "len(info['SCR_Peaks'])"
   ]
  },
  {
   "cell_type": "code",
   "execution_count": 66,
   "id": "a0354123",
   "metadata": {},
   "outputs": [
    {
     "data": {
      "text/plain": [
       "0.11214928089740768"
      ]
     },
     "execution_count": 66,
     "metadata": {},
     "output_type": "execute_result"
    }
   ],
   "source": []
  },
  {
   "cell_type": "code",
   "execution_count": 64,
   "id": "0220fb83",
   "metadata": {},
   "outputs": [
    {
     "data": {
      "text/plain": [
       "16"
      ]
     },
     "execution_count": 64,
     "metadata": {},
     "output_type": "execute_result"
    }
   ],
   "source": []
  },
  {
   "cell_type": "code",
   "execution_count": 59,
   "id": "144d6beb",
   "metadata": {},
   "outputs": [
    {
     "data": {
      "image/png": "[encoded data removed]",
      "text/plain": [
       "<Figure size 432x288 with 1 Axes>"
      ]
     },
     "metadata": {
      "needs_background": "light"
     },
     "output_type": "display_data"
    }
   ],
   "source": [
    "\n",
    "# Extract clean EDA and SCR features\n",
    "cleaned = signals[\"EDA_Clean\"]\n",
    "#features = [info[\"SCR_Onsets\"], info[\"SCR_Peaks\"], info[\"SCR_Recovery\"]]\n",
    "features = [info[\"SCR_Peaks\"]]\n",
    "# Visualize SCR features in cleaned EDA signal\n",
    "#plot = nk.events_plot(features, cleaned, color=['red', 'blue', 'orange'])\n",
    "plot = nk.events_plot(features, cleaned, color=['red'])"
   ]
  },
  {
   "cell_type": "code",
   "execution_count": 60,
   "id": "61a2bbc7",
   "metadata": {},
   "outputs": [
    {
     "name": "stdout",
     "output_type": "stream",
     "text": [
      "{'mean_nni': 873.5333333333333, 'sdnn': 117.34850289789127, 'sdsd': 82.94154329373667, 'nni_50': 92, 'pnni_50': 44.01913875598086, 'nni_20': 159, 'pnni_20': 76.07655502392345, 'rmssd': 82.95611914349226, 'median_nni': 872.0, 'range_nni': 530.0, 'cvsd': 0.09496617470444814, 'cvnni': 0.13433775039825757, 'mean_hr': 69.98102104194878, 'max_hr': 95.69377990430623, 'min_hr': 51.85825410544512, 'std_hr': 9.794492898320147}\n",
      "{'lf': 1943.9856022517984, 'hf': 2760.0810078332115, 'lf_hf_ratio': 0.7043219371948488, 'lfnu': 41.32563935391781, 'hfnu': 58.67436064608218, 'total_power': 7967.017416918498, 'vlf': 3262.950806833488}\n"
     ]
    },
    {
     "name": "stderr",
     "output_type": "stream",
     "text": [
      "C:\\Users\\au657021\\AppData\\Local\\Continuum\\anaconda3\\envs\\buzz_env\\lib\\site-packages\\scipy\\signal\\spectral.py:1964: UserWarning: nperseg = 256 is greater than input length  = 183, using nperseg = 183\n",
      "  warnings.warn('nperseg = {0:d} is greater than input length '\n"
     ]
    }
   ],
   "source": [
    "rr_intervals_df = pd.DataFrame(sensorDataDF_test[sensorDataDF_test['Timestamp'].between(baseline_start_time, baseline_end_time)]['R-R interval'])\n",
    "rr_intervals_df = rr_intervals_df[rr_intervals_df['R-R interval'].notna()]\n",
    "#convert column to list\n",
    "rr_intervals_list = rr_intervals_df['R-R interval'].tolist()\n",
    "#rr_intervals_df.describe()\n",
    "#rr_intervals_df[0]\n",
    "time_domain_features = get_time_domain_features(rr_intervals_list)\n",
    "freq_domain_features =  get_frequency_domain_features(rr_intervals_list, sampling_frequency=1)\n",
    "#df[df[column].notna()][column]\n",
    "print(time_domain_features)\n",
    "print(freq_domain_features)"
   ]
  },
  {
   "cell_type": "code",
   "execution_count": 376,
   "id": "c5546642-78e8-4982-b6fc-7be2e7ac3b9c",
   "metadata": {},
   "outputs": [
    {
     "name": "stdout",
     "output_type": "stream",
     "text": [
      "Baseline GSR -  1.5745860403789782\n",
      "Baseline HR -  74.63839285714286\n"
     ]
    }
   ],
   "source": [
    "#Baseline\n",
    "baseline_gsr = sensorDataDF_test[sensorDataDF_test['Timestamp'].between(baseline_start_time, baseline_end_time)]['GSR Conductance CAL']\n",
    "print(\"Baseline GSR - \", baseline_gsr.mean())\n",
    "baseline_hr = sensorDataDF_test[sensorDataDF_test['Timestamp'].between(baseline_start_time, baseline_end_time)]['Heart rate']\n",
    "print(\"Baseline HR - \", baseline_hr.mean())"
   ]
  },
  {
   "cell_type": "code",
   "execution_count": 377,
   "id": "474de224-3214-4c12-8923-200827578440",
   "metadata": {
    "scrolled": true,
    "tags": []
   },
   "outputs": [
    {
     "name": "stdout",
     "output_type": "stream",
     "text": [
      "pretest_start_ind 227\n",
      "pretest_end_ind 3468\n",
      "Pretest time -  39.90113029999999\n",
      "Pretest GSR -  2.402022040239196\n",
      "Pretest HR -  76.1\n",
      "Pretest total contact time -  6.903657300000021\n"
     ]
    }
   ],
   "source": [
    "#Pre-test\n",
    "#Pre-test time, GSR, HR\n",
    "pretest_signal_start_time = sensorDataDF_test[sensorDataDF_test['MarkerName'] == 'pre_test_started']['Timestamp'].values[0]\n",
    "level_1_signal_start_time =  sensorDataDF_test[sensorDataDF_test['MarkerName'] == 'level_1_started']['Timestamp'].values[0]\n",
    "pretest_df = sensorDataDF_test[sensorDataDF_test['Timestamp'].between(pretest_signal_start_time, level_1_signal_start_time)]\n",
    "pretest_df.reset_index(inplace = True) #As the indices from the main df is carried over\n",
    "pretest_df.to_csv('pretest_df.csv')\n",
    "\n",
    "#Remove left presses after right presses\n",
    "pretest_first_right_press_ind = pretest_df.where(pretest_df['MarkerName'] == 'RightSwitchPressed').first_valid_index()\n",
    "pretest_df.iloc[pretest_first_right_press_ind:].replace(to_replace =\"LeftSwitchPressed\", value =\"\", inplace=True)\n",
    "\n",
    "pretest_start_ind = pretest_df.where(pretest_df['MarkerName'] == 'LeftSwitchPressed').last_valid_index()\n",
    "pretest_end_ind = pretest_df.where(pretest_df.iloc[pretest_start_ind:]['MarkerName'] == 'RightSwitchPressed').first_valid_index()\n",
    "print('pretest_start_ind',pretest_start_ind)\n",
    "print('pretest_end_ind',pretest_end_ind)\n",
    "pretest_df = pretest_df.iloc[pretest_start_ind:pretest_end_ind+1]\n",
    "pretest_time_secs = (pretest_df.iloc[-1]['Timestamp'] - pretest_df.iloc[0]['Timestamp'])/1000\n",
    "print(\"Pretest time - \", pretest_time_secs)\n",
    "print(\"Pretest GSR - \", pretest_df['GSR Conductance CAL'].mean())\n",
    "print(\"Pretest HR - \",pretest_df['Heart rate'].mean())\n",
    "#pretest_df.iloc[pretest_df.where(pretest_df['MarkerName'] == 'LeftSwitchPressed').last_valid_index()]\n",
    "pretest_df.to_csv('pretest_df.csv')\n",
    "\n",
    "#Pre-test Mistakes\n",
    "pretest_contact_df = pretest_df[pretest_df['MarkerName'] == 'BuzzWireHit']\n",
    "total_contact_time = 0\n",
    "for i in range(1,len(pretest_contact_df)): \n",
    "    #print('Currently processing ', mistakeTimeStampsdf.iloc[i])\n",
    "    timeDiff = pretest_contact_df.iloc[i]['Timestamp'] - pretest_contact_df.iloc[i-1]['Timestamp']\n",
    "    #print('Difference with last time stamp- ', timeDiff)\n",
    "    if(timeDiff < 40): #mistake detected if within the timeDiff threshold\n",
    "        total_contact_time+=timeDiff\n",
    "total_contact_time_secs = total_contact_time/1000\n",
    "print(\"Pretest total contact time - \", total_contact_time_secs)\n"
   ]
  },
  {
   "cell_type": "code",
   "execution_count": 378,
   "id": "1d16f2f1-61f6-4bd4-bd16-ef561dc36274",
   "metadata": {},
   "outputs": [
    {
     "name": "stdout",
     "output_type": "stream",
     "text": [
      "level_1_start_ind 7538\n",
      "level_1_end_ind 18904\n",
      "Level 1 time -  77.12403939999989\n",
      "Level 1 GSR -  3.190996253862485\n",
      "Level 1 HR -  73.44680851063829\n",
      "Level 1 total contact time -  26.797002099999926\n"
     ]
    }
   ],
   "source": [
    "#Level 1\n",
    "#Level 1 time, GSR, HR\n",
    "level_1_signal_start_time = sensorDataDF_test[sensorDataDF_test['MarkerName'] == 'level_1_started']['Timestamp'].values[0]\n",
    "level_2_signal_start_time =  sensorDataDF_test[sensorDataDF_test['MarkerName'] == 'level_2_started']['Timestamp'].values[0]\n",
    "level_1_df = sensorDataDF_test[sensorDataDF_test['Timestamp'].between(level_1_signal_start_time, level_2_signal_start_time)]\n",
    "level_1_df.reset_index(inplace = True) #As the indices from the main df is carried over\n",
    "level_1_df.to_csv('level_1_df.csv')\n",
    "\n",
    "#Remove left presses after right presses\n",
    "level_first_right_press_ind = level_1_df.where(level_1_df['MarkerName'] == 'RightSwitchPressed').first_valid_index()\n",
    "level_1_df.iloc[level_first_right_press_ind:].replace(to_replace =\"LeftSwitchPressed\", value =\"\", inplace=True)\n",
    "\n",
    "level_1_start_ind = level_1_df.where(level_1_df['MarkerName'] == 'LeftSwitchPressed').last_valid_index()\n",
    "level_1_end_ind = level_1_df.where(level_1_df.iloc[level_1_start_ind:]['MarkerName'] == 'RightSwitchPressed').first_valid_index()\n",
    "print('level_1_start_ind',level_1_start_ind)\n",
    "print('level_1_end_ind',level_1_end_ind)\n",
    "level_1_df = level_1_df.iloc[level_1_start_ind:level_1_end_ind+1]\n",
    "level_1_time_secs = (level_1_df.iloc[-1]['Timestamp'] - level_1_df.iloc[0]['Timestamp'])/1000 #Last row - first row\n",
    "print(\"Level 1 time - \", level_1_time_secs)\n",
    "print(\"Level 1 GSR - \", level_1_df['GSR Conductance CAL'].mean())\n",
    "print(\"Level 1 HR - \",level_1_df['Heart rate'].mean())\n",
    "#pretest_df.iloc[pretest_df.where(pretest_df['MarkerName'] == 'LeftSwitchPressed').last_valid_index()]\n",
    "level_1_df.to_csv('level_1_df.csv')\n",
    "\n",
    "#Pre-test Mistakes\n",
    "level_1_contact_df = level_1_df[level_1_df['MarkerName'] == 'BuzzWireHit']\n",
    "total_contact_time = 0\n",
    "for i in range(1,len(level_1_contact_df)): \n",
    "    #print('Currently processing ', mistakeTimeStampsdf.iloc[i])\n",
    "    timeDiff = level_1_contact_df.iloc[i]['Timestamp'] - level_1_contact_df.iloc[i-1]['Timestamp']\n",
    "    #print('Difference with last time stamp- ', timeDiff)\n",
    "    if(timeDiff < 40): #mistake detected if within the timeDiff threshold\n",
    "        total_contact_time+=timeDiff\n",
    "total_contact_time_secs = total_contact_time/1000\n",
    "print(\"Level 1 total contact time - \", total_contact_time_secs)\n"
   ]
  },
  {
   "cell_type": "code",
   "execution_count": 336,
   "id": "acb46a8b-b8f5-415e-9ab1-a6f7a0d00b25",
   "metadata": {},
   "outputs": [
    {
     "name": "stdout",
     "output_type": "stream",
     "text": [
      "level_2_start_ind 5827\n",
      "level_2_end_ind 10945\n",
      "Level 2 time -  38.711824699999994\n",
      "Level 2 GSR -  0.37149069116779054\n",
      "Level 2 HR -  82.54716981132076\n",
      "Level 2 total contact time -  2.076875100000063\n"
     ]
    }
   ],
   "source": [
    "#Level 2\n",
    "#Level 2 time, GSR, HR\n",
    "level_2_signal_start_time = sensorDataDF_test[sensorDataDF_test['MarkerName'] == 'level_2_started']['Timestamp'].values[0]\n",
    "level_3_signal_start_time =  sensorDataDF_test[sensorDataDF_test['MarkerName'] == 'level_3_started']['Timestamp'].values[0]\n",
    "level_2_df = sensorDataDF_test[sensorDataDF_test['Timestamp'].between(level_2_signal_start_time, level_3_signal_start_time)]\n",
    "level_2_df.reset_index(inplace = True) #As the indices from the main df is carried over\n",
    "level_2_df.to_csv('level_2_df.csv')\n",
    "\n",
    "#Remove left presses after right presses\n",
    "level_first_right_press_ind = level_2_df.where(level_2_df['MarkerName'] == 'RightSwitchPressed').first_valid_index()\n",
    "level_2_df.iloc[level_first_right_press_ind:].replace(to_replace =\"LeftSwitchPressed\", value =\"\", inplace=True)\n",
    "\n",
    "level_2_start_ind = level_2_df.where(level_2_df['MarkerName'] == 'LeftSwitchPressed').last_valid_index()\n",
    "level_2_end_ind = level_2_df.where(level_2_df.iloc[level_2_start_ind:]['MarkerName'] == 'RightSwitchPressed').first_valid_index()\n",
    "print('level_2_start_ind',level_2_start_ind)\n",
    "print('level_2_end_ind',level_2_end_ind)\n",
    "level_2_df = level_2_df.iloc[level_2_start_ind:level_2_end_ind+1]\n",
    "level_2_time_secs = (level_2_df.iloc[-1]['Timestamp'] - level_2_df.iloc[0]['Timestamp'])/1000 #Last row - first row\n",
    "print(\"Level 2 time - \", level_2_time_secs)\n",
    "print(\"Level 2 GSR - \", level_2_df['GSR Conductance CAL'].mean())\n",
    "print(\"Level 2 HR - \",level_2_df['Heart rate'].mean())\n",
    "#pretest_df.iloc[pretest_df.where(pretest_df['MarkerName'] == 'LeftSwitchPressed').last_valid_index()]\n",
    "level_2_df.to_csv('level_2_df.csv')\n",
    "\n",
    "#Pre-test Mistakes\n",
    "level_2_contact_df = level_2_df[level_2_df['MarkerName'] == 'BuzzWireHit']\n",
    "total_contact_time = 0\n",
    "for i in range(1,len(level_2_contact_df)): \n",
    "    #print('Currently processing ', mistakeTimeStampsdf.iloc[i])\n",
    "    timeDiff = level_2_contact_df.iloc[i]['Timestamp'] - level_2_contact_df.iloc[i-1]['Timestamp']\n",
    "    #print('Difference with last time stamp- ', timeDiff)\n",
    "    if(timeDiff < 40): #mistake detected if within the timeDiff threshold\n",
    "        total_contact_time+=timeDiff\n",
    "total_contact_time_secs = total_contact_time/1000\n",
    "print(\"Level 2 total contact time - \", total_contact_time_secs)\n"
   ]
  },
  {
   "cell_type": "code",
   "execution_count": 337,
   "id": "b70fae36-aa80-422b-a291-7ac4136eb6c4",
   "metadata": {
    "scrolled": true,
    "tags": []
   },
   "outputs": [
    {
     "name": "stdout",
     "output_type": "stream",
     "text": [
      "level_3_start_ind 6043\n",
      "level_3_end_ind 10201\n",
      "Level 3 time -  30.952886100000004\n",
      "Level 3 GSR -  0.8267024915182417\n",
      "Level 3 HR -  86.42105263157895\n",
      "Level 3 total contact time -  2.8407383000003175\n"
     ]
    }
   ],
   "source": [
    "#Level 3\n",
    "#Level 3 time, GSR, HR\n",
    "level_3_signal_start_time = sensorDataDF_test[sensorDataDF_test['MarkerName'] == 'level_3_started']['Timestamp'].values[0]\n",
    "level_4_signal_start_time =  sensorDataDF_test[sensorDataDF_test['MarkerName'] == 'level_4_started']['Timestamp'].values[0]\n",
    "level_3_df = sensorDataDF_test[sensorDataDF_test['Timestamp'].between(level_3_signal_start_time, level_4_signal_start_time)]\n",
    "level_3_df.reset_index(inplace = True) #As the indices from the main df is carried over\n",
    "level_3_df.to_csv('level_3_df.csv')\n",
    "\n",
    "#Remove left presses after right presses\n",
    "level_first_right_press_ind = level_3_df.where(level_3_df['MarkerName'] == 'RightSwitchPressed').first_valid_index()\n",
    "level_3_df.iloc[level_first_right_press_ind:].replace(to_replace =\"LeftSwitchPressed\", value =\"\", inplace=True)\n",
    "\n",
    "level_3_start_ind = level_3_df.where(level_3_df['MarkerName'] == 'LeftSwitchPressed').last_valid_index()\n",
    "level_3_end_ind = level_3_df.where(level_3_df.iloc[level_3_start_ind:]['MarkerName'] == 'RightSwitchPressed').first_valid_index()\n",
    "print('level_3_start_ind',level_3_start_ind)\n",
    "print('level_3_end_ind',level_3_end_ind)\n",
    "level_3_df = level_3_df.iloc[level_3_start_ind:level_3_end_ind+1]\n",
    "level_3_time_secs = (level_3_df.iloc[-1]['Timestamp'] - level_3_df.iloc[0]['Timestamp'])/1000 #Last row - first row\n",
    "print(\"Level 3 time - \", level_3_time_secs)\n",
    "print(\"Level 3 GSR - \", level_3_df['GSR Conductance CAL'].mean())\n",
    "print(\"Level 3 HR - \",level_3_df['Heart rate'].mean())\n",
    "#pretest_df.iloc[pretest_df.where(pretest_df['MarkerName'] == 'LeftSwitchPressed').last_valid_index()]\n",
    "level_3_df.to_csv('level_3_df.csv')\n",
    "\n",
    "#Pre-test Mistakes\n",
    "level_3_contact_df = level_3_df[level_3_df['MarkerName'] == 'BuzzWireHit']\n",
    "total_contact_time = 0\n",
    "for i in range(1,len(level_3_contact_df)): \n",
    "    #print('Currently processing ', mistakeTimeStampsdf.iloc[i])\n",
    "    timeDiff = level_3_contact_df.iloc[i]['Timestamp'] - level_3_contact_df.iloc[i-1]['Timestamp']\n",
    "    #print('Difference with last time stamp- ', timeDiff)\n",
    "    if(timeDiff < 40): #mistake detected if within the timeDiff threshold\n",
    "        total_contact_time+=timeDiff\n",
    "total_contact_time_secs = total_contact_time/1000\n",
    "print(\"Level 3 total contact time - \", total_contact_time_secs)\n"
   ]
  },
  {
   "cell_type": "code",
   "execution_count": 338,
   "id": "3d5237e6-f5a9-4741-bdb2-1da48689ecab",
   "metadata": {},
   "outputs": [
    {
     "name": "stdout",
     "output_type": "stream",
     "text": [
      "level_4_start_ind 5965\n",
      "level_4_end_ind 9752\n",
      "Level 4 time -  28.33326279999991\n",
      "Level 4 GSR -  1.0732317630276773\n",
      "Level 4 HR -  88.05263157894737\n",
      "Level 4 total contact time -  2.226728800000041\n"
     ]
    }
   ],
   "source": [
    "#Level 4\n",
    "#Level 4 time, GSR, HR\n",
    "level_4_signal_start_time = sensorDataDF_test[sensorDataDF_test['MarkerName'] == 'level_4_started']['Timestamp'].values[0]\n",
    "post_test_signal_start_time =  sensorDataDF_test[sensorDataDF_test['MarkerName'] == 'post_test_started']['Timestamp'].values[0]\n",
    "level_4_df = sensorDataDF_test[sensorDataDF_test['Timestamp'].between(level_4_signal_start_time, post_test_signal_start_time)]\n",
    "level_4_df.reset_index(inplace = True) #As the indices from the main df is carried over\n",
    "level_4_df.to_csv('level_4_df.csv')\n",
    "\n",
    "#Remove left presses after right presses\n",
    "level_first_right_press_ind = level_4_df.where(level_4_df['MarkerName'] == 'RightSwitchPressed').first_valid_index()\n",
    "level_4_df.iloc[level_first_right_press_ind:].replace(to_replace =\"LeftSwitchPressed\", value =\"\", inplace=True)\n",
    "\n",
    "level_4_start_ind = level_4_df.where(level_4_df['MarkerName'] == 'LeftSwitchPressed').last_valid_index()\n",
    "level_4_end_ind = level_4_df.where(level_4_df.iloc[level_4_start_ind:]['MarkerName'] == 'RightSwitchPressed').first_valid_index()\n",
    "print('level_4_start_ind',level_4_start_ind)\n",
    "print('level_4_end_ind',level_4_end_ind)\n",
    "level_4_df = level_4_df.iloc[level_4_start_ind:level_4_end_ind+1]\n",
    "level_4_time_secs = (level_4_df.iloc[-1]['Timestamp'] - level_4_df.iloc[0]['Timestamp'])/1000 #Last row - first row\n",
    "print(\"Level 4 time - \", level_4_time_secs)\n",
    "print(\"Level 4 GSR - \", level_4_df['GSR Conductance CAL'].mean())\n",
    "print(\"Level 4 HR - \",level_4_df['Heart rate'].mean())\n",
    "#pretest_df.iloc[pretest_df.where(pretest_df['MarkerName'] == 'LeftSwitchPressed').last_valid_index()]\n",
    "level_4_df.to_csv('level_4_df.csv')\n",
    "\n",
    "#Level 4 Mistakes\n",
    "level_4_contact_df = level_4_df[level_4_df['MarkerName'] == 'BuzzWireHit']\n",
    "total_contact_time = 0\n",
    "for i in range(1,len(level_4_contact_df)): \n",
    "    #print('Currently processing ', mistakeTimeStampsdf.iloc[i])\n",
    "    timeDiff = level_4_contact_df.iloc[i]['Timestamp'] - level_4_contact_df.iloc[i-1]['Timestamp']\n",
    "    #print('Difference with last time stamp- ', timeDiff)\n",
    "    if(timeDiff < 40): #mistake detected if within the timeDiff threshold\n",
    "        total_contact_time+=timeDiff\n",
    "total_contact_time_secs = total_contact_time/1000\n",
    "print(\"Level 4 total contact time - \", total_contact_time_secs)\n"
   ]
  },
  {
   "cell_type": "code",
   "execution_count": 339,
   "id": "1d3a31ba-7446-42b1-873a-77e2b1276462",
   "metadata": {},
   "outputs": [
    {
     "name": "stdout",
     "output_type": "stream",
     "text": [
      "None\n"
     ]
    }
   ],
   "source": [
    "print(sensorDataDF_test.where(pretest_df['MarkerName'] == 'post_test_started').first_valid_index())"
   ]
  },
  {
   "cell_type": "code",
   "execution_count": 340,
   "id": "0a96df7a-920c-4288-a064-e6e09d1639f3",
   "metadata": {},
   "outputs": [
    {
     "name": "stdout",
     "output_type": "stream",
     "text": [
      "posttest_start_ind 683\n",
      "posttest_end_ind 5353\n",
      "Posttest time -  35.205139399999986\n",
      "Posttest GSR -  0.949185154245075\n",
      "Posttest HR -  nan\n",
      "Posttest total contact time -  3.07097330000042\n"
     ]
    }
   ],
   "source": [
    "#Post-test\n",
    "#Post-test time, GSR, HR\n",
    "post_test_signal_start_time = sensorDataDF_test[sensorDataDF_test['MarkerName'] == 'post_test_started']['Timestamp'].values[0]\n",
    "#level_1_signal_start_time =  sensorDataDF_test[sensorDataDF_test['MarkerName'] == 'level_1_started']['Timestamp'].values[0]\n",
    "#pretest_df = sensorDataDF_test[sensorDataDF_test['Timestamp'].between(pretest_signal_start_time, level_1_signal_start_time)]\n",
    "posttest_df = sensorDataDF_test.iloc[sensorDataDF_test.where(sensorDataDF_test['MarkerName'] == 'post_test_started').first_valid_index():]\n",
    "posttest_df.reset_index(inplace = True) #As the indices from the main df is carried over\n",
    "posttest_df.to_csv('posttest_df.csv')\n",
    "posttest_start_ind = posttest_df.where(posttest_df['MarkerName'] == 'LeftSwitchPressed').last_valid_index()\n",
    "posttest_end_ind = posttest_df.where(posttest_df.iloc[posttest_start_ind:]['MarkerName'] == 'RightSwitchPressed').first_valid_index()\n",
    "print('posttest_start_ind',posttest_start_ind)\n",
    "print('posttest_end_ind',posttest_end_ind)\n",
    "posttest_df = posttest_df.iloc[posttest_start_ind:posttest_end_ind+1]\n",
    "posttest_time_secs = (posttest_df.iloc[-1]['Timestamp'] - posttest_df.iloc[0]['Timestamp'])/1000\n",
    "print(\"Posttest time - \", posttest_time_secs)\n",
    "print(\"Posttest GSR - \", posttest_df['GSR Conductance CAL'].mean())\n",
    "print(\"Posttest HR - \",posttest_df['Heart rate'].mean())\n",
    "#pretest_df.iloc[pretest_df.where(pretest_df['MarkerName'] == 'LeftSwitchPressed').last_valid_index()]\n",
    "posttest_df.to_csv('posttest_df.csv')\n",
    "\n",
    "#Post-test Mistakes\n",
    "posttest_contact_df = posttest_df[posttest_df['MarkerName'] == 'BuzzWireHit']\n",
    "total_contact_time = 0\n",
    "for i in range(1,len(posttest_contact_df)): \n",
    "    #print('Currently processing ', mistakeTimeStampsdf.iloc[i])\n",
    "    timeDiff = posttest_contact_df.iloc[i]['Timestamp'] - posttest_contact_df.iloc[i-1]['Timestamp']\n",
    "    #print('Difference with last time stamp- ', timeDiff)\n",
    "    if(timeDiff < 40): #mistake detected if within the timeDiff threshold\n",
    "        total_contact_time+=timeDiff\n",
    "total_contact_time_secs = total_contact_time/1000\n",
    "print(\"Posttest total contact time - \", total_contact_time_secs)\n"
   ]
  },
  {
   "cell_type": "code",
   "execution_count": 38,
   "id": "85fade64-e925-42f4-86dc-d80afaf270a0",
   "metadata": {},
   "outputs": [],
   "source": [
    "#Final Analysis\n",
    "#==============\n",
    "\n",
    "minTimeDiff = 25\n",
    "\n",
    "def analyzeData(condition):\n",
    "    finalResultsDF = pd.DataFrame(columns=['Participant_ID','Baseline_HR', 'Baseline_GSR', 'Pretest_Time', 'Pretest_Mistake_Time', 'Pretest_GSR', 'Pretest_HR', 'Level_1_Time', 'Level_1_Mistake_Time', 'Level_1_HR','Level_1_GSR', 'Level_2_Time', 'Level_2_Mistake_Time', 'Level_2_HR','Level_2_GSR', 'Level_3_Time', 'Level_3_Mistake_Time', 'Level_3_HR','Level_3_GSR', 'Level_4_Time', 'Level_4_Mistake_Time', 'Level_4_HR','Level_4_GSR', 'Posttest_Time', 'Posttest_Mistake_Time', 'Posttest_GSR', 'Posttest_HR'])\n",
    "    file_list = glob.glob(condition + \"_BuzzwireStudy\\\\BuzzwireStudy\\\\Sensor Data\\\\FinalRemoved\\\\*.csv\")\n",
    "    for file in file_list:\n",
    "        file_name = file[file.rindex('\\\\')+1:]\n",
    "        participant_id = file_name[file_name.find('_') + 1:file_name.find('.')]\n",
    "        print('partipant_id - ', participant_id)\n",
    "\n",
    "        #sensorDataDF_test = pd.read_csv('VR_BuzzwireStudy/BuzzwireStudy/Sensor Data/Final/016_2D0402.csv')#pd.read_csv(file)\n",
    "        sensorDataDF_test = pd.read_csv(file)\n",
    "        sensorDataDF_test = sensorDataDF_test.iloc[27:] #Ignore iMotions metadata in the first 27 rows\n",
    "        headers = sensorDataDF_test.iloc[0] #Take the resulting df's first row \n",
    "        sensorDataDF_test  = pd.DataFrame(sensorDataDF_test.values[1:], columns=headers)\n",
    "        sensorDataDF_test = sensorDataDF_test[['Timestamp', 'Heart rate','R-R interval','MarkerName','GSR Conductance CAL']].copy()\n",
    "        sensorDataDF_test['Timestamp'] = sensorDataDF_test['Timestamp'].astype(float)\n",
    "        sensorDataDF_test['Heart rate'] = sensorDataDF_test['Heart rate'].astype(float)\n",
    "        sensorDataDF_test['R-R interval'] = sensorDataDF_test['R-R interval'].astype(float)\n",
    "        sensorDataDF_test['GSR Conductance CAL'] = sensorDataDF_test['GSR Conductance CAL'].astype(float)\n",
    "        #for i in range(1,len(sensorDataDF_test)): \n",
    "        #    currMarkerName = sensorDataDF_test.iloc[i]['MarkerName']\n",
    "        #    if pd.isnull(currMarkerName): continue\n",
    "\n",
    "        #Baseline\n",
    "        baseline_start_time = sensorDataDF_test[sensorDataDF_test['MarkerName'] == 'baseline_started']['Timestamp'].values[0]\n",
    "        baseline_end_time =  sensorDataDF_test[sensorDataDF_test['MarkerName'] == 'baseline_over']['Timestamp'].values[0]\n",
    "        baseline_gsr_df = sensorDataDF_test[sensorDataDF_test['Timestamp'].between(baseline_start_time, baseline_end_time)]['GSR Conductance CAL']\n",
    "        baseline_gsr = baseline_gsr_df.mean()\n",
    "        #print(\"Baseline GSR - \", baseline_gsr)\n",
    "        baseline_hr_df = sensorDataDF_test[sensorDataDF_test['Timestamp'].between(baseline_start_time, baseline_end_time)]['Heart rate']\n",
    "        baseline_hr = baseline_hr_df.mean()\n",
    "        #print(\"Baseline HR - \", baseline_hr)\n",
    "\n",
    "\n",
    "        gsr_df = pd.DataFrame(sensorDataDF_test[sensorDataDF_test['Timestamp'].between(baseline_start_time, baseline_end_time)]['GSR Conductance CAL'])\n",
    "        gsr_df = gsr_df[gsr_df['GSR Conductance CAL'].notna()]\n",
    "        gsr_list = gsr_df['GSR Conductance CAL'].tolist()\n",
    "        signals, info = nk.eda_process(gsr_list, sampling_rate=128)\n",
    "\n",
    "        len(info['SCR_Peaks'])\n",
    "\n",
    "        rr_intervals_df = pd.DataFrame(sensorDataDF_test[sensorDataDF_test['Timestamp'].between(baseline_start_time, baseline_end_time)]['R-R interval'])\n",
    "        rr_intervals_df = rr_intervals_df[rr_intervals_df['R-R interval'].notna()]\n",
    "        #convert column to list\n",
    "        rr_intervals_list = rr_intervals_df['R-R interval'].tolist()\n",
    "        #rr_intervals_df.describe()\n",
    "        #rr_intervals_df[0]\n",
    "        time_domain_features = get_time_domain_features(rr_intervals_list)\n",
    "        freq_domain_features =  get_frequency_domain_features(rr_intervals_list, sampling_frequency=1)\n",
    "        #df[df[column].notna()][column]\n",
    "        time_domain_features\n",
    "        freq_domain_features\n",
    "\n",
    "\n",
    "\n",
    "        #=======================================================================\n",
    "\n",
    "        #Pre-test\n",
    "        #Pre-test time, GSR, HR\n",
    "        pretest_signal_start_time = sensorDataDF_test[sensorDataDF_test['MarkerName'] == 'pre_test_started']['Timestamp'].values[0]\n",
    "        level_1_signal_start_time =  sensorDataDF_test[sensorDataDF_test['MarkerName'] == 'level_1_started']['Timestamp'].values[0]\n",
    "        pretest_df = sensorDataDF_test[sensorDataDF_test['Timestamp'].between(pretest_signal_start_time, level_1_signal_start_time)]\n",
    "        pretest_df.reset_index(inplace = True) #As the indices from the main df is carried over\n",
    "        #pretest_df.to_csv('pretest_df.csv')\n",
    "\n",
    "        #Remove left presses after right presses\n",
    "        pretest_first_right_press_ind = pretest_df.where(pretest_df['MarkerName'] == 'RightSwitchPressed').first_valid_index()\n",
    "        pretest_df.iloc[pretest_first_right_press_ind:].replace(to_replace =\"LeftSwitchPressed\", value =\"\", inplace=True)\n",
    "\n",
    "        pretest_start_ind = pretest_df.where(pretest_df['MarkerName'] == 'LeftSwitchPressed').last_valid_index()\n",
    "        pretest_end_ind = pretest_df.where(pretest_df.iloc[pretest_start_ind:]['MarkerName'] == 'RightSwitchPressed').first_valid_index()\n",
    "        #print('pretest_start_ind',pretest_start_ind)\n",
    "        #print('pretest_end_ind',pretest_end_ind)\n",
    "        pretest_df = pretest_df.iloc[pretest_start_ind:pretest_end_ind+1]\n",
    "        pretest_time_secs = (pretest_df.iloc[-1]['Timestamp'] - pretest_df.iloc[0]['Timestamp'])/1000\n",
    "        #print(\"Pretest time - \", pretest_time_secs)\n",
    "        pretest_gsr = pretest_df['GSR Conductance CAL'].mean()\n",
    "        #print(\"Pretest GSR - \", pretest_gsr)\n",
    "        pretest_hr = pretest_df['Heart rate'].mean()\n",
    "        #print(\"Pretest HR - \", pretest_hr)\n",
    "        #pretest_df.iloc[pretest_df.where(pretest_df['MarkerName'] == 'LeftSwitchPressed').last_valid_index()]\n",
    "        #pretest_df.to_csv('pretest_df.csv')\n",
    "\n",
    "        #Pre-test Mistakes\n",
    "        pretest_contact_df = pretest_df[pretest_df['MarkerName'] == 'BuzzWireHit']\n",
    "        total_contact_time = 0\n",
    "        for i in range(1,len(pretest_contact_df)): \n",
    "            #print('Currently processing ', mistakeTimeStampsdf.iloc[i])\n",
    "            timeDiff = pretest_contact_df.iloc[i]['Timestamp'] - pretest_contact_df.iloc[i-1]['Timestamp']\n",
    "            #print('Difference with last time stamp- ', timeDiff)\n",
    "            if(timeDiff < minTimeDiff): #mistake detected if within the timeDiff threshold\n",
    "                total_contact_time+=timeDiff\n",
    "            else:\n",
    "                total_contact_time+=25\n",
    "        pretest_total_contact_time_secs = total_contact_time/1000\n",
    "        #print(\"Pretest total contact time - \", pretest_total_contact_time_secs)\n",
    "\n",
    "        #=======================================================================\n",
    "        #Level 1\n",
    "        #Level 1 time, GSR, HR\n",
    "        level_1_signal_start_time = sensorDataDF_test[sensorDataDF_test['MarkerName'] == 'level_1_started']['Timestamp'].values[0]\n",
    "        level_2_signal_start_time =  sensorDataDF_test[sensorDataDF_test['MarkerName'] == 'level_2_started']['Timestamp'].values[0]\n",
    "        level_1_df = sensorDataDF_test[sensorDataDF_test['Timestamp'].between(level_1_signal_start_time, level_2_signal_start_time)]\n",
    "        level_1_df.reset_index(inplace = True) #As the indices from the main df is carried over\n",
    "        #level_1_df.to_csv('level_1_df.csv')\n",
    "\n",
    "        #Remove left presses after right presses\n",
    "        level_first_right_press_ind = level_1_df.where(level_1_df['MarkerName'] == 'RightSwitchPressed').first_valid_index()\n",
    "        level_1_df.iloc[level_first_right_press_ind:].replace(to_replace =\"LeftSwitchPressed\", value =\"\", inplace=True)\n",
    "\n",
    "        level_1_start_ind = level_1_df.where(level_1_df['MarkerName'] == 'LeftSwitchPressed').last_valid_index()\n",
    "        level_1_end_ind = level_1_df.where(level_1_df.iloc[level_1_start_ind:]['MarkerName'] == 'RightSwitchPressed').first_valid_index()\n",
    "        #print('level_1_start_ind',level_1_start_ind)\n",
    "        #print('level_1_end_ind',level_1_end_ind)\n",
    "        level_1_df = level_1_df.iloc[level_1_start_ind:level_1_end_ind+1]\n",
    "        level_1_time_secs = (level_1_df.iloc[-1]['Timestamp'] - level_1_df.iloc[0]['Timestamp'])/1000 #Last row - first row\n",
    "        #print(\"Level 1 time - \", level_1_time_secs)\n",
    "        level_1_gsr = level_1_df['GSR Conductance CAL'].mean()\n",
    "        #print(\"Level 1 GSR - \", level_1_gsr)\n",
    "        level_1_hr = level_1_df['Heart rate'].mean()\n",
    "        #print(\"Level 1 HR - \", level_1_hr)\n",
    "        #pretest_df.iloc[pretest_df.where(pretest_df['MarkerName'] == 'LeftSwitchPressed').last_valid_index()]\n",
    "        #level_1_df.to_csv('level_1_df.csv')\n",
    "\n",
    "        #Level Mistakes\n",
    "        level_1_contact_df = level_1_df[level_1_df['MarkerName'] == 'BuzzWireHit']\n",
    "        total_contact_time = 0\n",
    "        for i in range(1,len(level_1_contact_df)): \n",
    "            #print('Currently processing ', mistakeTimeStampsdf.iloc[i])\n",
    "            timeDiff = level_1_contact_df.iloc[i]['Timestamp'] - level_1_contact_df.iloc[i-1]['Timestamp']\n",
    "            #print('Difference with last time stamp- ', timeDiff)\n",
    "            if(timeDiff < minTimeDiff): #mistake detected if within the timeDiff threshold\n",
    "                total_contact_time+=timeDiff\n",
    "            else:\n",
    "                total_contact_time+=25\n",
    "        level_1_total_contact_time_secs = total_contact_time/1000\n",
    "        #print(\"Level 1 total contact time - \", level_1_total_contact_time_secs)    \n",
    "\n",
    "        #=======================================================================\n",
    "        #Level 2\n",
    "        #Level 2 time, GSR, HR\n",
    "        level_2_signal_start_time = sensorDataDF_test[sensorDataDF_test['MarkerName'] == 'level_2_started']['Timestamp'].values[0]\n",
    "        level_3_signal_start_time =  sensorDataDF_test[sensorDataDF_test['MarkerName'] == 'level_3_started']['Timestamp'].values[0]\n",
    "        level_2_df = sensorDataDF_test[sensorDataDF_test['Timestamp'].between(level_2_signal_start_time, level_3_signal_start_time)]\n",
    "        level_2_df.reset_index(inplace = True) #As the indices from the main df is carried over\n",
    "        #level_2_df.to_csv('level_2_df.csv')\n",
    "\n",
    "        #Remove left presses after right presses\n",
    "        level_first_right_press_ind = level_2_df.where(level_2_df['MarkerName'] == 'RightSwitchPressed').first_valid_index()\n",
    "        level_2_df.iloc[level_first_right_press_ind:].replace(to_replace =\"LeftSwitchPressed\", value =\"\", inplace=True)\n",
    "\n",
    "        level_2_start_ind = level_2_df.where(level_2_df['MarkerName'] == 'LeftSwitchPressed').last_valid_index()\n",
    "        level_2_end_ind = level_2_df.where(level_2_df.iloc[level_2_start_ind:]['MarkerName'] == 'RightSwitchPressed').first_valid_index()\n",
    "        #print('level_2_start_ind',level_2_start_ind)\n",
    "        #print('level_2_end_ind',level_2_end_ind)\n",
    "        level_2_df = level_2_df.iloc[level_2_start_ind:level_2_end_ind+1]\n",
    "        level_2_time_secs = (level_2_df.iloc[-1]['Timestamp'] - level_2_df.iloc[0]['Timestamp'])/1000 #Last row - first row\n",
    "        #print(\"Level 2 time - \", level_2_time_secs)\n",
    "        level_2_gsr = level_2_df['GSR Conductance CAL'].mean()\n",
    "        #print(\"Level 2 GSR - \", level_2_gsr)\n",
    "        level_2_hr = level_2_df['Heart rate'].mean()\n",
    "        #print(\"Level 2 HR - \", level_2_hr)\n",
    "        #pretest_df.iloc[pretest_df.where(pretest_df['MarkerName'] == 'LeftSwitchPressed').last_valid_index()]\n",
    "        #level_2_df.to_csv('level_2_df.csv')\n",
    "\n",
    "        #Level Mistakes\n",
    "        level_2_contact_df = level_2_df[level_2_df['MarkerName'] == 'BuzzWireHit']\n",
    "        total_contact_time = 0\n",
    "        for i in range(1,len(level_2_contact_df)): \n",
    "            #print('Currently processing ', mistakeTimeStampsdf.iloc[i])\n",
    "            timeDiff = level_2_contact_df.iloc[i]['Timestamp'] - level_2_contact_df.iloc[i-1]['Timestamp']\n",
    "            #print('Difference with last time stamp- ', timeDiff)\n",
    "            if(timeDiff < minTimeDiff): #mistake detected if within the timeDiff threshold\n",
    "                total_contact_time+=timeDiff\n",
    "            else:\n",
    "                total_contact_time+=25\n",
    "        level_2_total_contact_time_secs = total_contact_time/1000\n",
    "        #print(\"Level 2 total contact time - \", level_2_total_contact_time_secs)\n",
    "\n",
    "        #=======================================================================\n",
    "        #Level 3\n",
    "        #Level 3 time, GSR, HR\n",
    "        level_3_signal_start_time = sensorDataDF_test[sensorDataDF_test['MarkerName'] == 'level_3_started']['Timestamp'].values[0]\n",
    "        level_4_signal_start_time =  sensorDataDF_test[sensorDataDF_test['MarkerName'] == 'level_4_started']['Timestamp'].values[0]\n",
    "        level_3_df = sensorDataDF_test[sensorDataDF_test['Timestamp'].between(level_3_signal_start_time, level_4_signal_start_time)]\n",
    "        level_3_df.reset_index(inplace = True) #As the indices from the main df is carried over\n",
    "        #level_3_df.to_csv('level_3_df.csv')\n",
    "\n",
    "        #Remove left presses after right presses\n",
    "        level_first_right_press_ind = level_3_df.where(level_3_df['MarkerName'] == 'RightSwitchPressed').first_valid_index()\n",
    "        level_3_df.iloc[level_first_right_press_ind:].replace(to_replace =\"LeftSwitchPressed\", value =\"\", inplace=True)\n",
    "\n",
    "        level_3_start_ind = level_3_df.where(level_3_df['MarkerName'] == 'LeftSwitchPressed').last_valid_index()\n",
    "        level_3_end_ind = level_3_df.where(level_3_df.iloc[level_3_start_ind:]['MarkerName'] == 'RightSwitchPressed').first_valid_index()\n",
    "        #print('level_3_start_ind',level_3_start_ind)\n",
    "        #print('level_3_end_ind',level_3_end_ind)\n",
    "        level_3_df = level_3_df.iloc[level_3_start_ind:level_3_end_ind+1]\n",
    "        level_3_time_secs = (level_3_df.iloc[-1]['Timestamp'] - level_3_df.iloc[0]['Timestamp'])/1000 #Last row - first row\n",
    "        #print(\"Level 3 time - \", level_3_time_secs)\n",
    "        level_3_gsr = level_3_df['GSR Conductance CAL'].mean()\n",
    "        #print(\"Level 3 GSR - \", level_3_gsr)\n",
    "        level_3_hr = level_3_df['Heart rate'].mean()\n",
    "        #print(\"Level 3 HR - \", level_3_hr)\n",
    "        #pretest_df.iloc[pretest_df.where(pretest_df['MarkerName'] == 'LeftSwitchPressed').last_valid_index()]\n",
    "        #level_3_df.to_csv('level_3_df.csv')\n",
    "\n",
    "        #Level3 Mistakes\n",
    "        level_3_contact_df = level_3_df[level_3_df['MarkerName'] == 'BuzzWireHit']\n",
    "        total_contact_time = 0\n",
    "        for i in range(1,len(level_3_contact_df)): \n",
    "            #print('Currently processing ', mistakeTimeStampsdf.iloc[i])\n",
    "            timeDiff = level_3_contact_df.iloc[i]['Timestamp'] - level_3_contact_df.iloc[i-1]['Timestamp']\n",
    "            #print('Difference with last time stamp- ', timeDiff)\n",
    "            if(timeDiff < minTimeDiff): #mistake detected if within the timeDiff threshold\n",
    "                total_contact_time+=timeDiff\n",
    "            else:\n",
    "                total_contact_time+=25\n",
    "        level_3_total_contact_time_secs = total_contact_time/1000\n",
    "        #print(\"Level 3 total contact time - \", level_3_total_contact_time_secs)\n",
    "\n",
    "        #=======================================================================\n",
    "\n",
    "        #Level 4\n",
    "        #Level 4 time, GSR, HR\n",
    "        level_4_signal_start_time = sensorDataDF_test[sensorDataDF_test['MarkerName'] == 'level_4_started']['Timestamp'].values[0]\n",
    "        post_test_signal_start_time =  sensorDataDF_test[sensorDataDF_test['MarkerName'] == 'post_test_started']['Timestamp'].values[0]\n",
    "        level_4_df = sensorDataDF_test[sensorDataDF_test['Timestamp'].between(level_4_signal_start_time, post_test_signal_start_time)]\n",
    "        level_4_df.reset_index(inplace = True) #As the indices from the main df is carried over\n",
    "        #level_4_df.to_csv('level_4_df.csv')\n",
    "\n",
    "        #Remove left presses after right presses\n",
    "        level_first_right_press_ind = level_4_df.where(level_4_df['MarkerName'] == 'RightSwitchPressed').first_valid_index()\n",
    "        level_4_df.iloc[level_first_right_press_ind:].replace(to_replace =\"LeftSwitchPressed\", value =\"\", inplace=True)\n",
    "\n",
    "        level_4_start_ind = level_4_df.where(level_4_df['MarkerName'] == 'LeftSwitchPressed').last_valid_index()\n",
    "        level_4_end_ind = level_4_df.where(level_4_df.iloc[level_4_start_ind:]['MarkerName'] == 'RightSwitchPressed').first_valid_index()\n",
    "        #print('level_4_start_ind',level_4_start_ind)\n",
    "        #print('level_4_end_ind',level_4_end_ind)\n",
    "        level_4_df = level_4_df.iloc[level_4_start_ind:level_4_end_ind+1]\n",
    "        level_4_time_secs = (level_4_df.iloc[-1]['Timestamp'] - level_4_df.iloc[0]['Timestamp'])/1000 #Last row - first row\n",
    "        #print(\"Level 4 time - \", level_4_time_secs)\n",
    "        level_4_gsr = level_4_df['GSR Conductance CAL'].mean()\n",
    "        #print(\"Level 4 GSR - \", level_4_gsr)\n",
    "        level_4_hr = level_4_df['Heart rate'].mean()\n",
    "        #print(\"Level 4 HR - \", level_4_hr)\n",
    "        #pretest_df.iloc[pretest_df.where(pretest_df['MarkerName'] == 'LeftSwitchPressed').last_valid_index()]\n",
    "        #level_4_df.to_csv('level_4_df.csv')\n",
    "\n",
    "        #Level Mistakes\n",
    "        level_4_contact_df = level_4_df[level_4_df['MarkerName'] == 'BuzzWireHit']\n",
    "        total_contact_time = 0\n",
    "        for i in range(1,len(level_4_contact_df)): \n",
    "            #print('Currently processing ', mistakeTimeStampsdf.iloc[i])\n",
    "            timeDiff = level_4_contact_df.iloc[i]['Timestamp'] - level_4_contact_df.iloc[i-1]['Timestamp']\n",
    "            #print('Difference with last time stamp- ', timeDiff)\n",
    "            if(timeDiff < minTimeDiff): #mistake detected if within the timeDiff threshold\n",
    "                total_contact_time+=timeDiff\n",
    "            else:\n",
    "                total_contact_time+=25\n",
    "        level_4_total_contact_time_secs = total_contact_time/1000\n",
    "        #print(\"Level 4 total contact time - \", level_4_total_contact_time_secs)\n",
    "\n",
    "\n",
    "        #=======================================================================\n",
    "\n",
    "        #Post-test\n",
    "        #Post-test time, GSR, HR\n",
    "        post_test_signal_start_time = sensorDataDF_test[sensorDataDF_test['MarkerName'] == 'post_test_started']['Timestamp'].values[0]\n",
    "        #level_1_signal_start_time =  sensorDataDF_test[sensorDataDF_test['MarkerName'] == 'level_1_started']['Timestamp'].values[0]\n",
    "        #pretest_df = sensorDataDF_test[sensorDataDF_test['Timestamp'].between(pretest_signal_start_time, level_1_signal_start_time)]\n",
    "        posttest_df = sensorDataDF_test.iloc[sensorDataDF_test.where(sensorDataDF_test['MarkerName'] == 'post_test_started').first_valid_index():]\n",
    "        posttest_df.reset_index(inplace = True) #As the indices from the main df is carried over\n",
    "        #posttest_df.to_csv('posttest_df.csv')\n",
    "        posttest_start_ind = posttest_df.where(posttest_df['MarkerName'] == 'LeftSwitchPressed').last_valid_index()\n",
    "        posttest_end_ind = posttest_df.where(posttest_df.iloc[posttest_start_ind:]['MarkerName'] == 'RightSwitchPressed').first_valid_index()\n",
    "        #print('posttest_start_ind',posttest_start_ind)\n",
    "        #print('posttest_end_ind',posttest_end_ind)\n",
    "        posttest_df = posttest_df.iloc[posttest_start_ind:posttest_end_ind+1]\n",
    "        posttest_time_secs = (posttest_df.iloc[-1]['Timestamp'] - posttest_df.iloc[0]['Timestamp'])/1000\n",
    "        #print(\"Posttest time - \", posttest_time_secs)\n",
    "        posttest_gsr = posttest_df['GSR Conductance CAL'].mean()\n",
    "        #print(\"Posttest GSR - \", posttest_gsr)\n",
    "        posttest_hr = posttest_df['Heart rate'].mean()\n",
    "        #print(\"Posttest HR - \", posttest_hr)\n",
    "        #pretest_df.iloc[pretest_df.where(pretest_df['MarkerName'] == 'LeftSwitchPressed').last_valid_index()]\n",
    "        #posttest_df.to_csv('posttest_df.csv')\n",
    "\n",
    "        #Pre-test Mistakes\n",
    "        posttest_contact_df = posttest_df[posttest_df['MarkerName'] == 'BuzzWireHit']\n",
    "        total_contact_time = 0\n",
    "        for i in range(1,len(posttest_contact_df)): \n",
    "            #print('Currently processing ', mistakeTimeStampsdf.iloc[i])\n",
    "            timeDiff = posttest_contact_df.iloc[i]['Timestamp'] - posttest_contact_df.iloc[i-1]['Timestamp']\n",
    "            #print('Difference with last time stamp- ', timeDiff)\n",
    "            if(timeDiff < minTimeDiff): #mistake detected if within the timeDiff threshold\n",
    "                total_contact_time+=timeDiff\n",
    "            else:\n",
    "                total_contact_time+=25\n",
    "        posttest_total_contact_time_secs = total_contact_time/1000\n",
    "        #print(\"Posttest total contact time - \", posttest_total_contact_time_secs)\n",
    "\n",
    "        #=======================================================================    \n",
    "        #Add to final results df\n",
    "        #print('',{'Participant_ID' : participant_id,'Baseline_HR' : baseline_hr, 'Baseline_GSR' : baseline_gsr, 'Pretest_Time' : pretest_time_secs, 'Pretest_Mistake_Time' : pretest_total_contact_time_secs, 'Pretest_GSR' : pretest_gsr, 'Pretest_HR' : pretest_hr, 'Level_1_Time' : level_1_time_secs, 'Level_1_Mistake_Time' : level_1_total_contact_time_secs, 'Level_1_HR' : level_1_hr,'Level_1_GSR' : level_1_gsr, 'Level_2_Time' : level_2_time_secs, 'Level_2_Mistake_Time' : level_2_total_contact_time_secs, 'Level_2_HR' : level_2_hr,'Level_2_GSR' : level_2_gsr, 'Level_3_Time' : level_3_time_secs, 'Level_3_Mistake_Time' : level_3_total_contact_time_secs, 'Level_3_HR' : level_3_hr,'Level_3_GSR' : level_3_gsr, 'Level_4_Time' : level_4_time_secs, 'Level_4_Mistake_Time' : level_4_total_contact_time_secs, 'Level_4_HR' : level_4_hr,'Level_4_GSR' : level_4_gsr,'Posttest_Time' : posttest_time_secs, 'Posttest_Mistake_Time' : posttest_total_contact_time_secs, 'Posttest_GSR' : posttest_gsr, 'Posttest_HR' : posttest_hr})\n",
    "        finalResultsDF = finalResultsDF.append({'Participant_ID' : participant_id,'Baseline_HR' : baseline_hr, 'Baseline_GSR' : baseline_gsr, 'Pretest_Time' : pretest_time_secs, 'Pretest_Mistake_Time' : pretest_total_contact_time_secs, 'Pretest_GSR' : pretest_gsr, 'Pretest_HR' : pretest_hr, 'Level_1_Time' : level_1_time_secs, 'Level_1_Mistake_Time' : level_1_total_contact_time_secs, 'Level_1_HR' : level_1_hr,'Level_1_GSR' : level_1_gsr, 'Level_2_Time' : level_2_time_secs, 'Level_2_Mistake_Time' : level_2_total_contact_time_secs, 'Level_2_HR' : level_2_hr,'Level_2_GSR' : level_2_gsr, 'Level_3_Time' : level_3_time_secs, 'Level_3_Mistake_Time' : level_3_total_contact_time_secs, 'Level_3_HR' : level_3_hr,'Level_3_GSR' : level_3_gsr, 'Level_4_Time' : level_4_time_secs, 'Level_4_Mistake_Time' : level_4_total_contact_time_secs, 'Level_4_HR' : level_4_hr,'Level_4_GSR' : level_4_gsr,'Posttest_Time' : posttest_time_secs, 'Posttest_Mistake_Time' : posttest_total_contact_time_secs, 'Posttest_GSR' : posttest_gsr, 'Posttest_HR' : posttest_hr}, ignore_index=True)\n",
    "\n",
    "\n",
    "    finalResultsDF.to_csv(('finalResults_removed_' + condition + '.csv'), sep=',')\n",
    "    print(\"Analysis complete\")\n"
   ]
  },
  {
   "cell_type": "code",
   "execution_count": 39,
   "id": "bd310966-6a2e-4bf3-9c73-b35e8d8b2812",
   "metadata": {},
   "outputs": [
    {
     "name": "stdout",
     "output_type": "stream",
     "text": [
      "partipant_id -  2C0402\n"
     ]
    },
    {
     "name": "stderr",
     "output_type": "stream",
     "text": [
      "C:\\Users\\au657021\\AppData\\Local\\Temp\\ipykernel_15244\\3935729124.py:2: DtypeWarning: Columns (0,1,2,3,4,5,6,8,9,10,11,12,13,17,18,19,20,21,22,23,24,25,26,27,28,29,30,31,32,33,34,35,36) have mixed types.Specify dtype option on import or set low_memory=False.\n",
      "  analyzeData('Ph')\n",
      "C:\\Users\\au657021\\AppData\\Local\\Continuum\\anaconda3\\envs\\buzz_env\\lib\\site-packages\\pandas\\core\\frame.py:5238: SettingWithCopyWarning: \n",
      "A value is trying to be set on a copy of a slice from a DataFrame\n",
      "\n",
      "See the caveats in the documentation: https://pandas.pydata.org/pandas-docs/stable/user_guide/indexing.html#returning-a-view-versus-a-copy\n",
      "  return super().replace(\n"
     ]
    },
    {
     "name": "stdout",
     "output_type": "stream",
     "text": [
      "Analysis complete\n"
     ]
    }
   ],
   "source": [
    "#analyzeData('VR')\n",
    "analyzeData('Ph')"
   ]
  }
 ],
 "metadata": {
  "interpreter": {
   "hash": "26ce6ba3b7b834eabcc8dbe38fc04fc9a9baa1265b8c2d77e1606cfe053a4d4c"
  },
  "kernelspec": {
   "display_name": "Python 3.9.7 ('buzz_env')",
   "language": "python",
   "name": "python3"
  },
  "language_info": {
   "codemirror_mode": {
    "name": "ipython",
    "version": 3
   },
   "file_extension": ".py",
   "mimetype": "text/x-python",
   "name": "python",
   "nbconvert_exporter": "python",
   "pygments_lexer": "ipython3",
   "version": "3.9.7"
  }
 },
 "nbformat": 4,
 "nbformat_minor": 5
}
