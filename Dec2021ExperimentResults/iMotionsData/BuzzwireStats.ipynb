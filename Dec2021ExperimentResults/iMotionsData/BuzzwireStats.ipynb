{
 "cells": [
  {
   "cell_type": "code",
   "execution_count": 1,
   "id": "ece32836-adce-45cc-a879-2f2c906406c5",
   "metadata": {},
   "outputs": [],
   "source": [
    "import pandas as pd\n",
    "import numpy as np\n",
    "import matplotlib.pyplot as plt\n",
    "from scipy import stats\n",
    "#import math"
   ]
  },
  {
   "cell_type": "code",
   "execution_count": 2,
   "id": "e6ca0fc9-ccdb-44ca-b6ad-c9867cc90129",
   "metadata": {},
   "outputs": [],
   "source": [
    "ph_results_df = pd.read_csv('finalResults_ph.csv')"
   ]
  },
  {
   "cell_type": "code",
   "execution_count": 3,
   "id": "a04b4f16-5747-48a3-9e1e-fb5f3123d4be",
   "metadata": {},
   "outputs": [
    {
     "data": {
      "text/html": [
       "<div>\n",
       "<style scoped>\n",
       "    .dataframe tbody tr th:only-of-type {\n",
       "        vertical-align: middle;\n",
       "    }\n",
       "\n",
       "    .dataframe tbody tr th {\n",
       "        vertical-align: top;\n",
       "    }\n",
       "\n",
       "    .dataframe thead th {\n",
       "        text-align: right;\n",
       "    }\n",
       "</style>\n",
       "<table border=\"1\" class=\"dataframe\">\n",
       "  <thead>\n",
       "    <tr style=\"text-align: right;\">\n",
       "      <th></th>\n",
       "      <th>Unnamed: 0</th>\n",
       "      <th>Participant_ID</th>\n",
       "      <th>Baseline_HR</th>\n",
       "      <th>Baseline_GSR</th>\n",
       "      <th>Pretest_Time</th>\n",
       "      <th>Pretest_Mistake_Time</th>\n",
       "      <th>Pretest_GSR</th>\n",
       "      <th>Pretest_HR</th>\n",
       "      <th>Level_1_Time</th>\n",
       "      <th>Level_1_Mistake_Time</th>\n",
       "      <th>...</th>\n",
       "      <th>Level_3_HR</th>\n",
       "      <th>Level_3_GSR</th>\n",
       "      <th>Level_4_Time</th>\n",
       "      <th>Level_4_Mistake_Time</th>\n",
       "      <th>Level_4_HR</th>\n",
       "      <th>Level_4_GSR</th>\n",
       "      <th>Posttest_Time</th>\n",
       "      <th>Posttest_Mistake_Time</th>\n",
       "      <th>Posttest_GSR</th>\n",
       "      <th>Posttest_HR</th>\n",
       "    </tr>\n",
       "  </thead>\n",
       "  <tbody>\n",
       "    <tr>\n",
       "      <th>0</th>\n",
       "      <td>0</td>\n",
       "      <td>2C0804</td>\n",
       "      <td>66.014706</td>\n",
       "      <td>5.098206</td>\n",
       "      <td>8.458740</td>\n",
       "      <td>2.276493</td>\n",
       "      <td>10.258958</td>\n",
       "      <td>65.666667</td>\n",
       "      <td>5.110225</td>\n",
       "      <td>0.961844</td>\n",
       "      <td>...</td>\n",
       "      <td>60.444444</td>\n",
       "      <td>12.082032</td>\n",
       "      <td>8.019757</td>\n",
       "      <td>1.238242</td>\n",
       "      <td>76.000000</td>\n",
       "      <td>12.711438</td>\n",
       "      <td>8.757860</td>\n",
       "      <td>2.793538</td>\n",
       "      <td>13.663014</td>\n",
       "      <td>67.600000</td>\n",
       "    </tr>\n",
       "    <tr>\n",
       "      <th>1</th>\n",
       "      <td>1</td>\n",
       "      <td>2C0803</td>\n",
       "      <td>78.797521</td>\n",
       "      <td>4.517196</td>\n",
       "      <td>13.213282</td>\n",
       "      <td>2.032065</td>\n",
       "      <td>10.820270</td>\n",
       "      <td>82.235294</td>\n",
       "      <td>6.530196</td>\n",
       "      <td>0.000000</td>\n",
       "      <td>...</td>\n",
       "      <td>78.400000</td>\n",
       "      <td>12.985760</td>\n",
       "      <td>11.389664</td>\n",
       "      <td>0.872140</td>\n",
       "      <td>77.937500</td>\n",
       "      <td>12.524012</td>\n",
       "      <td>14.340231</td>\n",
       "      <td>2.058855</td>\n",
       "      <td>14.863311</td>\n",
       "      <td>82.631579</td>\n",
       "    </tr>\n",
       "    <tr>\n",
       "      <th>2</th>\n",
       "      <td>2</td>\n",
       "      <td>2C0802</td>\n",
       "      <td>53.027322</td>\n",
       "      <td>0.568230</td>\n",
       "      <td>23.835914</td>\n",
       "      <td>4.948266</td>\n",
       "      <td>0.732314</td>\n",
       "      <td>55.880000</td>\n",
       "      <td>10.697470</td>\n",
       "      <td>0.169826</td>\n",
       "      <td>...</td>\n",
       "      <td>52.444444</td>\n",
       "      <td>0.867310</td>\n",
       "      <td>15.386138</td>\n",
       "      <td>3.922399</td>\n",
       "      <td>62.533333</td>\n",
       "      <td>1.011710</td>\n",
       "      <td>13.338316</td>\n",
       "      <td>3.795558</td>\n",
       "      <td>1.560167</td>\n",
       "      <td>60.214286</td>\n",
       "    </tr>\n",
       "    <tr>\n",
       "      <th>3</th>\n",
       "      <td>3</td>\n",
       "      <td>2C0801</td>\n",
       "      <td>76.421053</td>\n",
       "      <td>4.885489</td>\n",
       "      <td>22.537037</td>\n",
       "      <td>2.322484</td>\n",
       "      <td>7.559679</td>\n",
       "      <td>85.878788</td>\n",
       "      <td>9.287472</td>\n",
       "      <td>0.130671</td>\n",
       "      <td>...</td>\n",
       "      <td>77.545455</td>\n",
       "      <td>12.029860</td>\n",
       "      <td>18.323262</td>\n",
       "      <td>0.779437</td>\n",
       "      <td>78.695652</td>\n",
       "      <td>12.927031</td>\n",
       "      <td>27.859444</td>\n",
       "      <td>1.052882</td>\n",
       "      <td>13.810460</td>\n",
       "      <td>83.846154</td>\n",
       "    </tr>\n",
       "    <tr>\n",
       "      <th>4</th>\n",
       "      <td>4</td>\n",
       "      <td>2C0704</td>\n",
       "      <td>61.470588</td>\n",
       "      <td>0.394222</td>\n",
       "      <td>26.010274</td>\n",
       "      <td>2.991700</td>\n",
       "      <td>0.473938</td>\n",
       "      <td>75.156250</td>\n",
       "      <td>10.234093</td>\n",
       "      <td>0.234108</td>\n",
       "      <td>...</td>\n",
       "      <td>66.812500</td>\n",
       "      <td>0.776192</td>\n",
       "      <td>9.983448</td>\n",
       "      <td>2.098705</td>\n",
       "      <td>78.071429</td>\n",
       "      <td>0.330589</td>\n",
       "      <td>18.879906</td>\n",
       "      <td>3.869818</td>\n",
       "      <td>0.753636</td>\n",
       "      <td>67.727273</td>\n",
       "    </tr>\n",
       "  </tbody>\n",
       "</table>\n",
       "<p>5 rows × 28 columns</p>\n",
       "</div>"
      ],
      "text/plain": [
       "   Unnamed: 0 Participant_ID  Baseline_HR  Baseline_GSR  Pretest_Time  \\\n",
       "0           0         2C0804    66.014706      5.098206      8.458740   \n",
       "1           1         2C0803    78.797521      4.517196     13.213282   \n",
       "2           2         2C0802    53.027322      0.568230     23.835914   \n",
       "3           3         2C0801    76.421053      4.885489     22.537037   \n",
       "4           4         2C0704    61.470588      0.394222     26.010274   \n",
       "\n",
       "   Pretest_Mistake_Time  Pretest_GSR  Pretest_HR  Level_1_Time  \\\n",
       "0              2.276493    10.258958   65.666667      5.110225   \n",
       "1              2.032065    10.820270   82.235294      6.530196   \n",
       "2              4.948266     0.732314   55.880000     10.697470   \n",
       "3              2.322484     7.559679   85.878788      9.287472   \n",
       "4              2.991700     0.473938   75.156250     10.234093   \n",
       "\n",
       "   Level_1_Mistake_Time  ...  Level_3_HR  Level_3_GSR  Level_4_Time  \\\n",
       "0              0.961844  ...   60.444444    12.082032      8.019757   \n",
       "1              0.000000  ...   78.400000    12.985760     11.389664   \n",
       "2              0.169826  ...   52.444444     0.867310     15.386138   \n",
       "3              0.130671  ...   77.545455    12.029860     18.323262   \n",
       "4              0.234108  ...   66.812500     0.776192      9.983448   \n",
       "\n",
       "   Level_4_Mistake_Time  Level_4_HR  Level_4_GSR  Posttest_Time  \\\n",
       "0              1.238242   76.000000    12.711438       8.757860   \n",
       "1              0.872140   77.937500    12.524012      14.340231   \n",
       "2              3.922399   62.533333     1.011710      13.338316   \n",
       "3              0.779437   78.695652    12.927031      27.859444   \n",
       "4              2.098705   78.071429     0.330589      18.879906   \n",
       "\n",
       "   Posttest_Mistake_Time  Posttest_GSR  Posttest_HR  \n",
       "0               2.793538     13.663014    67.600000  \n",
       "1               2.058855     14.863311    82.631579  \n",
       "2               3.795558      1.560167    60.214286  \n",
       "3               1.052882     13.810460    83.846154  \n",
       "4               3.869818      0.753636    67.727273  \n",
       "\n",
       "[5 rows x 28 columns]"
      ]
     },
     "execution_count": 3,
     "metadata": {},
     "output_type": "execute_result"
    }
   ],
   "source": [
    "ph_results_df.head()"
   ]
  },
  {
   "cell_type": "code",
   "execution_count": 4,
   "id": "9d9c903d",
   "metadata": {},
   "outputs": [],
   "source": [
    "#Normalize the data\n",
    "ph_results_df['Norm_Pretest_HR'] = ph_results_df['Pretest_HR'] - ph_results_df['Baseline_HR']/ph_results_df['Baseline_HR']\n",
    "ph_results_df['Norm_Pretest_GSR'] = ph_results_df['Pretest_GSR'] - ph_results_df['Baseline_GSR']/ph_results_df['Baseline_GSR']\n",
    "\n",
    "ph_results_df['Norm_Level_1_HR'] = ph_results_df['Level_1_HR'] - ph_results_df['Baseline_HR']/ph_results_df['Baseline_HR']\n",
    "ph_results_df['Norm_Level_1_GSR'] = ph_results_df['Level_1_GSR'] - ph_results_df['Baseline_GSR']/ph_results_df['Baseline_GSR']\n",
    "\n",
    "ph_results_df['Norm_Level_2_HR'] = ph_results_df['Level_2_HR'] - ph_results_df['Baseline_HR']/ph_results_df['Baseline_HR']\n",
    "ph_results_df['Norm_Level_2_GSR'] = ph_results_df['Level_2_GSR'] - ph_results_df['Baseline_GSR']/ph_results_df['Baseline_GSR']\n",
    "\n",
    "ph_results_df['Norm_Level_3_HR'] = ph_results_df['Level_3_HR'] - ph_results_df['Baseline_HR']/ph_results_df['Baseline_HR']\n",
    "ph_results_df['Norm_Level_3_GSR'] = ph_results_df['Level_3_GSR'] - ph_results_df['Baseline_GSR']/ph_results_df['Baseline_GSR']\n",
    "\n",
    "ph_results_df['Norm_Level_4_HR'] = ph_results_df['Level_4_HR'] - ph_results_df['Baseline_HR']/ph_results_df['Baseline_HR']\n",
    "ph_results_df['Norm_Level_4_GSR'] = ph_results_df['Level_4_GSR'] - ph_results_df['Baseline_GSR']/ph_results_df['Baseline_GSR']\n",
    "\n",
    "ph_results_df['Norm_Posttest_HR'] = ph_results_df['Posttest_HR'] - ph_results_df['Baseline_HR']/ph_results_df['Baseline_HR']\n",
    "ph_results_df['Norm_Posttest_GSR'] = ph_results_df['Posttest_GSR'] - ph_results_df['Baseline_GSR']/ph_results_df['Baseline_GSR']"
   ]
  },
  {
   "cell_type": "code",
   "execution_count": 64,
   "id": "63f4bec7",
   "metadata": {},
   "outputs": [],
   "source": [
    "#Combined score metric \n",
    "ph_results_df['Norm_Pretest_Score'] = 1 / np.sqrt(ph_results_df['Pretest_Time'] * ph_results_df['Pretest_Mistake_Time'])\n",
    "ph_results_df['Norm_Level_1_Score'] = 1 / np.sqrt(ph_results_df['Level_1_Time'] * ph_results_df['Level_1_Mistake_Time'])\n",
    "ph_results_df['Norm_Level_2_Score'] = 1 / np.sqrt(ph_results_df['Level_2_Time'] * ph_results_df['Level_2_Mistake_Time'])\n",
    "ph_results_df['Norm_Level_3_Score'] = 1 / np.sqrt(ph_results_df['Level_3_Time'] * ph_results_df['Level_3_Mistake_Time'])\n",
    "ph_results_df['Norm_Level_4_Score'] = 1 / np.sqrt(ph_results_df['Level_4_Time'] * ph_results_df['Level_4_Mistake_Time'])"
   ]
  },
  {
   "cell_type": "code",
   "execution_count": 65,
   "id": "c455052f",
   "metadata": {},
   "outputs": [
    {
     "name": "stderr",
     "output_type": "stream",
     "text": [
      "C:\\Users\\au657021\\AppData\\Local\\Continuum\\anaconda3\\envs\\buzz_env\\lib\\site-packages\\numpy\\lib\\function_base.py:4009: RuntimeWarning: invalid value encountered in subtract\n",
      "  diff_b_a = subtract(b, a)\n",
      "C:\\Users\\au657021\\AppData\\Local\\Continuum\\anaconda3\\envs\\buzz_env\\lib\\site-packages\\matplotlib\\cbook\\__init__.py:1220: RuntimeWarning: invalid value encountered in less_equal\n",
      "  wiskhi = x[x <= hival]\n",
      "C:\\Users\\au657021\\AppData\\Local\\Continuum\\anaconda3\\envs\\buzz_env\\lib\\site-packages\\matplotlib\\cbook\\__init__.py:1227: RuntimeWarning: invalid value encountered in greater_equal\n",
      "  wisklo = x[x >= loval]\n",
      "C:\\Users\\au657021\\AppData\\Local\\Continuum\\anaconda3\\envs\\buzz_env\\lib\\site-packages\\matplotlib\\cbook\\__init__.py:1236: RuntimeWarning: invalid value encountered in greater\n",
      "  x[x > stats['whishi']],\n"
     ]
    },
    {
     "data": {
      "text/plain": [
       "<AxesSubplot:>"
      ]
     },
     "execution_count": 65,
     "metadata": {},
     "output_type": "execute_result"
    },
    {
     "data": {
      "image/png": "[encoded data removed]",
      "text/plain": [
       "<Figure size 720x720 with 1 Axes>"
      ]
     },
     "metadata": {
      "needs_background": "light"
     },
     "output_type": "display_data"
    }
   ],
   "source": [
    "#ph_results_df.boxplot(column=['Norm_Pretest_Score', 'Norm_Level_1_Score' , 'Norm_Level_2_Score', 'Norm_Level_3_Score', 'Norm_Level_4_Score'], figsize=(10,10))"
   ]
  },
  {
   "cell_type": "code",
   "execution_count": 66,
   "id": "cbdeeb3d",
   "metadata": {},
   "outputs": [
    {
     "data": {
      "text/plain": [
       "0      60.800000\n",
       "1      76.090909\n",
       "2      50.454545\n",
       "3      87.800000\n",
       "4      65.333333\n",
       "5      96.846154\n",
       "6      61.266667\n",
       "7      68.687500\n",
       "8      59.600000\n",
       "9      76.500000\n",
       "10     83.285714\n",
       "11     50.000000\n",
       "12     92.700000\n",
       "13     76.000000\n",
       "14     80.142857\n",
       "15     72.166667\n",
       "16     81.500000\n",
       "17     76.555556\n",
       "18     72.214286\n",
       "19     75.545455\n",
       "20     77.619048\n",
       "21     59.000000\n",
       "22     60.285714\n",
       "23     73.000000\n",
       "24     64.250000\n",
       "25     86.750000\n",
       "26     90.894737\n",
       "27     75.000000\n",
       "28     84.125000\n",
       "29     78.000000\n",
       "30     52.000000\n",
       "31     74.111111\n",
       "32     64.700000\n",
       "33     94.375000\n",
       "34     84.888889\n",
       "35     71.555556\n",
       "36    100.200000\n",
       "37     63.250000\n",
       "38     64.181818\n",
       "Name: Norm_Level_1_HR, dtype: float64"
      ]
     },
     "execution_count": 66,
     "metadata": {},
     "output_type": "execute_result"
    }
   ],
   "source": [
    "#ph_results_df['Norm_Level_1_HR']"
   ]
  },
  {
   "cell_type": "code",
   "execution_count": 67,
   "id": "f5633256",
   "metadata": {},
   "outputs": [
    {
     "data": {
      "text/plain": [
       "0      61.800000\n",
       "1      77.090909\n",
       "2      51.454545\n",
       "3      88.800000\n",
       "4      66.333333\n",
       "5      97.846154\n",
       "6      62.266667\n",
       "7      69.687500\n",
       "8      60.600000\n",
       "9      77.500000\n",
       "10     84.285714\n",
       "11     51.000000\n",
       "12     93.700000\n",
       "13     77.000000\n",
       "14     81.142857\n",
       "15     73.166667\n",
       "16     82.500000\n",
       "17     77.555556\n",
       "18     73.214286\n",
       "19     76.545455\n",
       "20     78.619048\n",
       "21     60.000000\n",
       "22     61.285714\n",
       "23     74.000000\n",
       "24     65.250000\n",
       "25     87.750000\n",
       "26     91.894737\n",
       "27     76.000000\n",
       "28     85.125000\n",
       "29     79.000000\n",
       "30     53.000000\n",
       "31     75.111111\n",
       "32     65.700000\n",
       "33     95.375000\n",
       "34     85.888889\n",
       "35     72.555556\n",
       "36    101.200000\n",
       "37     64.250000\n",
       "38     65.181818\n",
       "Name: Level_1_HR, dtype: float64"
      ]
     },
     "execution_count": 67,
     "metadata": {},
     "output_type": "execute_result"
    }
   ],
   "source": [
    "#ph_results_df['Level_1_HR']"
   ]
  },
  {
   "cell_type": "code",
   "execution_count": 52,
   "id": "d7cf668c",
   "metadata": {},
   "outputs": [
    {
     "name": "stdout",
     "output_type": "stream",
     "text": [
      "Shapiro test for normality\n",
      "Baseline_GSR  - shapiro test p-value less than 0.05 -  True\n",
      "Norm_Pretest_GSR  - shapiro test p-value less than 0.05 -  True\n",
      "Norm_Level_1_GSR  - shapiro test p-value less than 0.05 -  True\n",
      "Norm_Level_2_GSR  - shapiro test p-value less than 0.05 -  True\n",
      "Norm_Level_3_GSR  - shapiro test p-value less than 0.05 -  True\n",
      "Norm_Level_4_GSR  - shapiro test p-value less than 0.05 -  True\n",
      "Norm_Posttest_GSR  - shapiro test p-value less than 0.05 -  True\n",
      "Baseline_HR  - shapiro test p-value less than 0.05 -  False\n",
      "Norm_Pretest_HR  - shapiro test p-value less than 0.05 -  False\n",
      "Norm_Level_1_HR  - shapiro test p-value less than 0.05 -  False\n",
      "Norm_Level_2_HR  - shapiro test p-value less than 0.05 -  False\n",
      "Norm_Level_3_HR  - shapiro test p-value less than 0.05 -  False\n",
      "Norm_Level_4_HR  - shapiro test p-value less than 0.05 -  False\n",
      "Norm_Posttest_HR  - shapiro test p-value less than 0.05 -  True\n",
      "Pretest_Time  - shapiro test p-value less than 0.05 -  True\n",
      "Pretest_Mistake_Time  - shapiro test p-value less than 0.05 -  True\n",
      "Posttest_Time  - shapiro test p-value less than 0.05 -  True\n",
      "Posttest_Mistake_Time  - shapiro test p-value less than 0.05 -  True\n"
     ]
    }
   ],
   "source": [
    "print(\"Shapiro test for normality (Not normal if p-value is less than 0.05)\")\n",
    "\n",
    "for column in ['Baseline_GSR', 'Norm_Pretest_GSR' , 'Norm_Level_1_GSR', 'Norm_Level_2_GSR', 'Norm_Level_3_GSR', 'Norm_Level_4_GSR', 'Norm_Posttest_GSR', 'Baseline_HR', 'Norm_Pretest_HR' , 'Norm_Level_1_HR', 'Norm_Level_2_HR', 'Norm_Level_3_HR', 'Norm_Level_4_HR', 'Norm_Posttest_HR', 'Pretest_Time', 'Pretest_Mistake_Time', 'Posttest_Time', 'Posttest_Mistake_Time']:\n",
    "    print(column, \" - shapiro test p-value less than 0.05 - \", stats.shapiro(ph_results_df[ph_results_df[column].notna()][column]).pvalue < 0.05) #Not normal if p-value is less than 0.05"
   ]
  },
  {
   "cell_type": "code",
   "execution_count": 75,
   "id": "0fa2d5a1",
   "metadata": {},
   "outputs": [
    {
     "name": "stdout",
     "output_type": "stream",
     "text": [
      "Mean of pre-test and post-test time in physical condition\n",
      "21.98 22.03\n",
      "Mean of pre-test and post-test mistake time in physical condition\n",
      "3.14 2.12\n"
     ]
    }
   ],
   "source": [
    "#Mean of pre-test and post-test time\n",
    "print(\"Mean of pre-test and post-test time in physical condition\")\n",
    "print(round(ph_results_df['Pretest_Time'].mean(skipna=True),2), round(ph_results_df['Posttest_Time'].mean(skipna=True),2))\n",
    "\n",
    "#Mean of pre-test and post-test mistake time in physical condition\n",
    "print(\"Mean of pre-test and post-test mistake time in physical condition\")\n",
    "print(round(ph_results_df['Pretest_Mistake_Time'].mean(skipna=True),2), round(ph_results_df['Posttest_Mistake_Time'].mean(skipna=True),2))"
   ]
  },
  {
   "cell_type": "code",
   "execution_count": 80,
   "id": "f07a23ab",
   "metadata": {},
   "outputs": [],
   "source": [
    "#Difference between pre-test and post-test time/mistakes in a new column\n",
    "ph_results_df['Time_Gain'] = ph_results_df['Posttest_Time'] - ph_results_df['Pretest_Time']\n",
    "ph_results_df['Mistake_Gain'] = ph_results_df['Posttest_Mistake_Time'] - ph_results_df['Pretest_Mistake_Time']\n",
    "\n"
   ]
  },
  {
   "cell_type": "code",
   "execution_count": 77,
   "id": "52f08e45",
   "metadata": {},
   "outputs": [
    {
     "data": {
      "text/plain": [
       "41"
      ]
     },
     "execution_count": 77,
     "metadata": {},
     "output_type": "execute_result"
    }
   ],
   "source": [
    "vr_results_df['Pretest_Time'].size"
   ]
  },
  {
   "cell_type": "code",
   "execution_count": null,
   "id": "92db6427",
   "metadata": {},
   "outputs": [],
   "source": []
  },
  {
   "cell_type": "code",
   "execution_count": 64,
   "id": "d12ac371",
   "metadata": {},
   "outputs": [
    {
     "name": "stdout",
     "output_type": "stream",
     "text": [
      "Wilcoxon test for pre-test and post-test time in physical condition\n",
      "WilcoxonResult(statistic=393.0, pvalue=0.8192559592995198)\n",
      "Wilcoxon test for pre-test mistake and post-test mistake time in physical condition\n",
      "WilcoxonResult(statistic=80.0, pvalue=9.180421503905772e-06)\n"
     ]
    }
   ],
   "source": [
    "#Wilcoxon test for pre-test and post-test time\n",
    "print(\"Wilcoxon test for pre-test and post-test time in physical condition\")\n",
    "print(stats.wilcoxon(ph_results_df['Pretest_Time'], ph_results_df['Posttest_Time']))\n",
    "#Wilcoxon test for pre-test mistake and post-test mistake time\n",
    "print(\"Wilcoxon test for pre-test mistake and post-test mistake time in physical condition\")\n",
    "print(stats.wilcoxon(ph_results_df['Pretest_Mistake_Time'], ph_results_df['Posttest_Mistake_Time']))"
   ]
  },
  {
   "cell_type": "code",
   "execution_count": 59,
   "id": "208ef701",
   "metadata": {},
   "outputs": [
    {
     "name": "stdout",
     "output_type": "stream",
     "text": [
      "Mean of GSR across all training levels in physical condition\n",
      "3.3210652542692305\n",
      "Mean of HR across all training levels in physical condition\n",
      "73.93263629705127\n"
     ]
    }
   ],
   "source": [
    "#Mean of GSR across all training levels in physical condition\n",
    "print(\"Mean of GSR across all training levels in physical condition\")\n",
    "print((ph_results_df['Norm_Level_1_GSR'].mean(skipna=True) + ph_results_df['Norm_Level_2_GSR'].mean(skipna=True) + ph_results_df['Norm_Level_3_GSR'].mean(skipna=True) + ph_results_df['Norm_Level_4_GSR'].mean(skipna=True))/4)\n",
    "\n",
    "#Mean of HR across all training levels in physical condition\n",
    "print(\"Mean of HR across all training levels in physical condition\")\n",
    "print((ph_results_df['Norm_Level_1_HR'].mean(skipna=True) + ph_results_df['Norm_Level_2_HR'].mean(skipna=True) + ph_results_df['Norm_Level_3_HR'].mean(skipna=True) + ph_results_df['Norm_Level_4_HR'].mean(skipna=True))/4)"
   ]
  },
  {
   "cell_type": "code",
   "execution_count": 68,
   "id": "2fa0ad0b",
   "metadata": {},
   "outputs": [
    {
     "name": "stdout",
     "output_type": "stream",
     "text": [
      "Wilcoxon test for pre and post-training self-efficacy in Physical condition\n",
      "WilcoxonResult(statistic=191.5, pvalue=0.5453836355499604)\n"
     ]
    }
   ],
   "source": [
    "ph_eff_df = pd.read_csv('..\\\\OnlineSurvey\\\\Self_Eff_Ph.csv')\n",
    "ph_eff_df\n",
    "print(\"Wilcoxon test for pre and post-training self-efficacy in Physical condition\")\n",
    "print(stats.wilcoxon(ph_eff_df['Eff1'], ph_eff_df['Eff2']))"
   ]
  },
  {
   "cell_type": "code",
   "execution_count": 69,
   "id": "8066c6a7-6890-4617-b188-8ba6eae0c934",
   "metadata": {},
   "outputs": [
    {
     "data": {
      "text/plain": [
       "<AxesSubplot:>"
      ]
     },
     "execution_count": 69,
     "metadata": {},
     "output_type": "execute_result"
    },
    {
     "data": {
      "image/png": "[encoded data removed]",
      "text/plain": [
       "<Figure size 1008x720 with 1 Axes>"
      ]
     },
     "metadata": {
      "needs_background": "light"
     },
     "output_type": "display_data"
    }
   ],
   "source": [
    "#Draw box plot of Baseline_HR and Baseline_GSR columns in ph_results_df\n",
    "ph_results_df.boxplot(column=['Baseline_GSR', 'Pretest_GSR' , 'Norm_Level_1_GSR', 'Norm_Level_2_GSR', 'Norm_Level_3_GSR', 'Norm_Level_4_GSR', 'Norm_Posttest_GSR'], figsize=(14,10),showmeans=True)\n"
   ]
  },
  {
   "cell_type": "code",
   "execution_count": 70,
   "id": "ce0ba811",
   "metadata": {},
   "outputs": [
    {
     "data": {
      "text/plain": [
       "<AxesSubplot:>"
      ]
     },
     "execution_count": 70,
     "metadata": {},
     "output_type": "execute_result"
    },
    {
     "data": {
      "image/png": "[encoded data removed]",
      "text/plain": [
       "<Figure size 1008x720 with 1 Axes>"
      ]
     },
     "metadata": {
      "needs_background": "light"
     },
     "output_type": "display_data"
    }
   ],
   "source": [
    "ph_results_df.boxplot(column=['Baseline_HR', 'Pretest_HR' , 'Norm_Level_1_HR', 'Norm_Level_2_HR', 'Norm_Level_3_HR', 'Norm_Level_4_HR', 'Norm_Posttest_HR'], figsize=(14,10),showmeans=True)"
   ]
  },
  {
   "cell_type": "code",
   "execution_count": 71,
   "id": "63cd1c62",
   "metadata": {},
   "outputs": [
    {
     "data": {
      "text/plain": [
       "<AxesSubplot:>"
      ]
     },
     "execution_count": 71,
     "metadata": {},
     "output_type": "execute_result"
    },
    {
     "data": {
      "image/png": "[encoded data removed]",
      "text/plain": [
       "<Figure size 1008x720 with 1 Axes>"
      ]
     },
     "metadata": {
      "needs_background": "light"
     },
     "output_type": "display_data"
    }
   ],
   "source": [
    "ph_results_df.boxplot(column=['Pretest_Time', 'Level_1_Time', 'Level_2_Time', 'Level_3_Time', 'Level_4_Time', 'Posttest_Time'], figsize=(14,10),showmeans=True)"
   ]
  },
  {
   "cell_type": "code",
   "execution_count": 72,
   "id": "6cabfb77",
   "metadata": {},
   "outputs": [
    {
     "data": {
      "text/plain": [
       "<AxesSubplot:>"
      ]
     },
     "execution_count": 72,
     "metadata": {},
     "output_type": "execute_result"
    },
    {
     "data": {
      "image/png": "[encoded data removed]",
      "text/plain": [
       "<Figure size 1008x720 with 1 Axes>"
      ]
     },
     "metadata": {
      "needs_background": "light"
     },
     "output_type": "display_data"
    }
   ],
   "source": [
    "ph_results_df.boxplot(column=['Pretest_Mistake_Time', 'Level_1_Mistake_Time', 'Level_2_Mistake_Time', 'Level_3_Mistake_Time', 'Level_4_Mistake_Time', 'Posttest_Mistake_Time'], figsize=(14,10),showmeans=True)"
   ]
  },
  {
   "cell_type": "markdown",
   "id": "37a50c55",
   "metadata": {},
   "source": [
    "## VR"
   ]
  },
  {
   "cell_type": "code",
   "execution_count": 6,
   "id": "32bd12fa",
   "metadata": {},
   "outputs": [],
   "source": [
    "vr_results_df = pd.read_csv('finalResults_vr.csv')"
   ]
  },
  {
   "cell_type": "code",
   "execution_count": 25,
   "id": "31613df8",
   "metadata": {},
   "outputs": [],
   "source": [
    "#Normalize the data\n",
    "vr_results_df['Norm_Pretest_HR'] = vr_results_df['Pretest_HR'] - vr_results_df['Baseline_HR']/vr_results_df['Baseline_HR']\n",
    "vr_results_df['Norm_Pretest_GSR'] = vr_results_df['Pretest_GSR'] - vr_results_df['Baseline_GSR']/vr_results_df['Baseline_GSR']\n",
    "\n",
    "vr_results_df['Norm_Level_1_HR'] = vr_results_df['Level_1_HR'] - vr_results_df['Baseline_HR']/vr_results_df['Baseline_HR']\n",
    "vr_results_df['Norm_Level_1_GSR'] = vr_results_df['Level_1_GSR'] - vr_results_df['Baseline_GSR']/vr_results_df['Baseline_GSR']\n",
    "\n",
    "vr_results_df['Norm_Level_2_HR'] = vr_results_df['Level_2_HR'] - vr_results_df['Baseline_HR']/vr_results_df['Baseline_HR']\n",
    "vr_results_df['Norm_Level_2_GSR'] = vr_results_df['Level_2_GSR'] - vr_results_df['Baseline_GSR']/vr_results_df['Baseline_GSR']\n",
    "\n",
    "vr_results_df['Norm_Level_3_HR'] = vr_results_df['Level_3_HR'] - vr_results_df['Baseline_HR']/vr_results_df['Baseline_HR']\n",
    "vr_results_df['Norm_Level_3_GSR'] = vr_results_df['Level_3_GSR'] - vr_results_df['Baseline_GSR']/vr_results_df['Baseline_GSR']\n",
    "\n",
    "vr_results_df['Norm_Level_4_HR'] = vr_results_df['Level_4_HR'] - vr_results_df['Baseline_HR']/vr_results_df['Baseline_HR']\n",
    "vr_results_df['Norm_Level_4_GSR'] = vr_results_df['Level_4_GSR'] - vr_results_df['Baseline_GSR']/vr_results_df['Baseline_GSR']\n",
    "\n",
    "vr_results_df['Norm_Posttest_HR'] = vr_results_df['Posttest_HR'] - vr_results_df['Baseline_HR']/vr_results_df['Baseline_HR']\n",
    "vr_results_df['Norm_Posttest_GSR'] = vr_results_df['Posttest_GSR'] - vr_results_df['Baseline_GSR']/vr_results_df['Baseline_GSR']"
   ]
  },
  {
   "cell_type": "code",
   "execution_count": 37,
   "id": "791dd990",
   "metadata": {},
   "outputs": [
    {
     "data": {
      "text/plain": [
       "<AxesSubplot:>"
      ]
     },
     "execution_count": 37,
     "metadata": {},
     "output_type": "execute_result"
    },
    {
     "data": {
      "image/png": "[encoded data removed]",
      "text/plain": [
       "<Figure size 432x288 with 1 Axes>"
      ]
     },
     "metadata": {
      "needs_background": "light"
     },
     "output_type": "display_data"
    }
   ],
   "source": [
    "vr_results_df['Norm_Level_1_GSR'].hist(bins=20)"
   ]
  },
  {
   "cell_type": "code",
   "execution_count": 46,
   "id": "38f80198",
   "metadata": {},
   "outputs": [
    {
     "data": {
      "text/plain": [
       "0      4.282314\n",
       "1     -0.204561\n",
       "2     -0.537678\n",
       "3      1.576135\n",
       "4      2.190996\n",
       "5      1.282662\n",
       "6      5.523009\n",
       "7      0.708998\n",
       "8      3.107515\n",
       "9      1.638601\n",
       "10     1.332528\n",
       "11    -0.213560\n",
       "12     1.148521\n",
       "13     2.061680\n",
       "14    -0.225800\n",
       "15     2.047727\n",
       "16     2.346104\n",
       "17     9.923149\n",
       "18    -0.426242\n",
       "19     1.519457\n",
       "20     0.855267\n",
       "21     2.227425\n",
       "22     2.794658\n",
       "23     2.661586\n",
       "24    -0.303998\n",
       "25     2.170974\n",
       "26     8.056771\n",
       "27     0.625628\n",
       "28    14.722928\n",
       "29     3.464252\n",
       "30     4.856754\n",
       "31     1.727062\n",
       "32     0.963721\n",
       "Name: Norm_Level_1_GSR, dtype: float64"
      ]
     },
     "execution_count": 46,
     "metadata": {},
     "output_type": "execute_result"
    }
   ],
   "source": [
    "#vr_results_df[vr_results_df[\"Norm_Level_1_GSR\"].notna()][\"Norm_Level_1_GSR\"]"
   ]
  },
  {
   "cell_type": "code",
   "execution_count": 51,
   "id": "15aa97b1",
   "metadata": {},
   "outputs": [
    {
     "name": "stdout",
     "output_type": "stream",
     "text": [
      "Shapiro test for normality\n",
      "Baseline_GSR  - shapiro test p-value less than 0.05 -  True\n",
      "Norm_Pretest_GSR  - shapiro test p-value less than 0.05 -  True\n",
      "Norm_Level_1_GSR  - shapiro test p-value less than 0.05 -  True\n",
      "Norm_Level_2_GSR  - shapiro test p-value less than 0.05 -  True\n",
      "Norm_Level_3_GSR  - shapiro test p-value less than 0.05 -  True\n",
      "Norm_Level_4_GSR  - shapiro test p-value less than 0.05 -  True\n",
      "Norm_Posttest_GSR  - shapiro test p-value less than 0.05 -  True\n",
      "Baseline_HR  - shapiro test p-value less than 0.05 -  False\n",
      "Norm_Pretest_HR  - shapiro test p-value less than 0.05 -  False\n",
      "Norm_Level_1_HR  - shapiro test p-value less than 0.05 -  False\n",
      "Norm_Level_2_HR  - shapiro test p-value less than 0.05 -  False\n",
      "Norm_Level_3_HR  - shapiro test p-value less than 0.05 -  True\n",
      "Norm_Level_4_HR  - shapiro test p-value less than 0.05 -  False\n",
      "Norm_Posttest_HR  - shapiro test p-value less than 0.05 -  False\n",
      "Pretest_Time  - shapiro test p-value less than 0.05 -  False\n",
      "Pretest_Mistake_Time  - shapiro test p-value less than 0.05 -  True\n",
      "Posttest_Time  - shapiro test p-value less than 0.05 -  True\n",
      "Posttest_Mistake_Time  - shapiro test p-value less than 0.05 -  False\n"
     ]
    }
   ],
   "source": [
    "print(\"Shapiro test for normality (Not normal if p-value is less than 0.05)\")\n",
    "\n",
    "for column in ['Baseline_GSR', 'Norm_Pretest_GSR' , 'Norm_Level_1_GSR', 'Norm_Level_2_GSR', 'Norm_Level_3_GSR', 'Norm_Level_4_GSR', 'Norm_Posttest_GSR', 'Baseline_HR', 'Norm_Pretest_HR' , 'Norm_Level_1_HR', 'Norm_Level_2_HR', 'Norm_Level_3_HR', 'Norm_Level_4_HR', 'Norm_Posttest_HR', 'Pretest_Time', 'Pretest_Mistake_Time', 'Posttest_Time', 'Posttest_Mistake_Time']:\n",
    "    print(column, \" - shapiro test p-value less than 0.05 - \", stats.shapiro(vr_results_df[vr_results_df[column].notna()][column]).pvalue < 0.05) #Not normal if p-value is less than 0.05"
   ]
  },
  {
   "cell_type": "code",
   "execution_count": 74,
   "id": "79ddbff0",
   "metadata": {},
   "outputs": [
    {
     "data": {
      "text/plain": [
       "count    41.000000\n",
       "mean     24.751948\n",
       "std       8.579064\n",
       "min      10.420474\n",
       "25%      19.047669\n",
       "50%      25.132270\n",
       "75%      27.560680\n",
       "max      45.200509\n",
       "Name: Pretest_Time, dtype: float64"
      ]
     },
     "execution_count": 74,
     "metadata": {},
     "output_type": "execute_result"
    }
   ],
   "source": [
    "vr_results_df['Pretest_Time'].describe()\n",
    "#vr_results_df['Posttest_Time'].describe()\n",
    "#vr_results_df['Pretest_Mistake_Time'].describe()\n",
    "#vr_results_df['Posttest_Mistake_Time'].describe()"
   ]
  },
  {
   "cell_type": "code",
   "execution_count": 71,
   "id": "61bc5338",
   "metadata": {},
   "outputs": [
    {
     "name": "stdout",
     "output_type": "stream",
     "text": [
      "Mean of pre-test and post-test time in VR condition\n",
      "24.75 23.41\n",
      "Mean of pre-test and post-test mistake time in VR condition\n",
      "4.16 2.95\n"
     ]
    }
   ],
   "source": [
    "#Mean of pre-test and post-test time\n",
    "print(\"Mean of pre-test and post-test time in VR condition\")\n",
    "print(round(vr_results_df['Pretest_Time'].mean(skipna=True),2), round(vr_results_df['Posttest_Time'].mean(skipna=True),2))\n",
    "\n",
    "#Mean of pre-test and post-test mistake time in physical condition\n",
    "print(\"Mean of pre-test and post-test mistake time in VR condition\")\n",
    "print(round(vr_results_df['Pretest_Mistake_Time'].mean(skipna=True),2), round(vr_results_df['Posttest_Mistake_Time'].mean(skipna=True),2))"
   ]
  },
  {
   "cell_type": "code",
   "execution_count": 81,
   "id": "1523cb96",
   "metadata": {},
   "outputs": [],
   "source": [
    "#Difference between pre-test and post-test time/mistakes in a new column\n",
    "vr_results_df['Time_Gain'] = vr_results_df['Posttest_Time'] - vr_results_df['Pretest_Time']\n",
    "vr_results_df['Mistake_Gain'] = vr_results_df['Posttest_Mistake_Time'] - vr_results_df['Pretest_Mistake_Time']\n",
    "\n"
   ]
  },
  {
   "cell_type": "code",
   "execution_count": 79,
   "id": "cf98d9ee",
   "metadata": {},
   "outputs": [
    {
     "name": "stdout",
     "output_type": "stream",
     "text": [
      "Wilcoxon test for pre-test and post-test time in VR condition\n",
      "WilcoxonResult(statistic=366.0, pvalue=0.40325453311151205)\n",
      "Wilcoxon test for pre-test mistake and post-test mistake time in VR condition\n",
      "True\n"
     ]
    }
   ],
   "source": [
    "#Wilcoxon test for pre-test and post-test time\n",
    "print(\"Wilcoxon test for pre-test and post-test time in VR condition\")\n",
    "print(stats.wilcoxon(vr_results_df['Pretest_Time'], vr_results_df['Posttest_Time']))\n",
    "#Wilcoxon test for pre-test mistake and post-test mistake time\n",
    "print(\"Wilcoxon test for pre-test mistake and post-test mistake time in VR condition\")\n",
    "print(stats.wilcoxon(vr_results_df['Pretest_Mistake_Time'], vr_results_df['Posttest_Mistake_Time']).pvalue<0.001)"
   ]
  },
  {
   "cell_type": "code",
   "execution_count": 58,
   "id": "01e40aef",
   "metadata": {},
   "outputs": [
    {
     "name": "stdout",
     "output_type": "stream",
     "text": [
      "Mean of GSR across all training levels in VR condition\n",
      "2.7044273700530304\n",
      "Mean of HR across all training levels in VR condition\n",
      "73.21465291727274\n"
     ]
    }
   ],
   "source": [
    "#Mean of GSR across all training levels in VR condition\n",
    "print(\"Mean of GSR across all training levels in VR condition\")\n",
    "print((vr_results_df['Norm_Level_1_GSR'].mean(skipna=True) + vr_results_df['Norm_Level_2_GSR'].mean(skipna=True) + vr_results_df['Norm_Level_3_GSR'].mean(skipna=True) + vr_results_df['Norm_Level_4_GSR'].mean(skipna=True))/4)\n",
    "vr_results_df['Avg_GSR'] = (vr_results_df['Norm_Level_1_GSR'].mean(skipna=True) + vr_results_df['Norm_Level_2_GSR'].mean(skipna=True) + vr_results_df['Norm_Level_3_GSR'].mean(skipna=True) + vr_results_df['Norm_Level_4_GSR'].mean(skipna=True))/4\n",
    "#Mean of HR across all training levels in VR condition\n",
    "print(\"Mean of HR across all training levels in VR condition\")\n",
    "print((vr_results_df['Norm_Level_1_HR'].mean(skipna=True) + vr_results_df['Norm_Level_2_HR'].mean(skipna=True) + vr_results_df['Norm_Level_3_HR'].mean(skipna=True) + vr_results_df['Norm_Level_4_HR'].mean(skipna=True))/4)"
   ]
  },
  {
   "cell_type": "code",
   "execution_count": 90,
   "id": "a04eb160",
   "metadata": {},
   "outputs": [
    {
     "name": "stdout",
     "output_type": "stream",
     "text": [
      "Wilcoxon test for pre and post-training self-efficacy in VR condition\n",
      "True\n"
     ]
    }
   ],
   "source": [
    "vr_eff_df = pd.read_csv('..\\\\OnlineSurvey\\\\Self_Eff_VR.csv')\n",
    "vr_eff_df\n",
    "print(\"Wilcoxon test for pre and post-training self-efficacy in VR condition\")\n",
    "print(stats.wilcoxon(vr_eff_df['Eff1'], vr_eff_df['Eff2']).pvalue<0.05)"
   ]
  },
  {
   "cell_type": "code",
   "execution_count": 27,
   "id": "48e35945",
   "metadata": {},
   "outputs": [
    {
     "data": {
      "text/plain": [
       "<AxesSubplot:>"
      ]
     },
     "execution_count": 27,
     "metadata": {},
     "output_type": "execute_result"
    },
    {
     "data": {
      "image/png": "[encoded data removed]",
      "text/plain": [
       "<Figure size 1008x720 with 1 Axes>"
      ]
     },
     "metadata": {
      "needs_background": "light"
     },
     "output_type": "display_data"
    }
   ],
   "source": [
    "vr_results_df.boxplot(column=['Baseline_GSR', 'Norm_Pretest_GSR' , 'Norm_Level_1_GSR', 'Norm_Level_2_GSR', 'Norm_Level_3_GSR', 'Norm_Level_4_GSR', 'Norm_Posttest_GSR'], figsize=(14,10),showmeans=True)"
   ]
  },
  {
   "cell_type": "code",
   "execution_count": 28,
   "id": "9d6c708c",
   "metadata": {},
   "outputs": [
    {
     "data": {
      "text/plain": [
       "<AxesSubplot:>"
      ]
     },
     "execution_count": 28,
     "metadata": {},
     "output_type": "execute_result"
    },
    {
     "data": {
      "image/png": "[encoded data removed]",
      "text/plain": [
       "<Figure size 1008x720 with 1 Axes>"
      ]
     },
     "metadata": {
      "needs_background": "light"
     },
     "output_type": "display_data"
    }
   ],
   "source": [
    "vr_results_df.boxplot(column=['Baseline_HR', 'Norm_Pretest_HR' , 'Norm_Level_1_HR', 'Norm_Level_2_HR', 'Norm_Level_3_HR', 'Norm_Level_4_HR', 'Norm_Posttest_HR'], figsize=(14,10),showmeans=True)"
   ]
  },
  {
   "cell_type": "code",
   "execution_count": 29,
   "id": "56d05843",
   "metadata": {},
   "outputs": [
    {
     "data": {
      "text/plain": [
       "<AxesSubplot:>"
      ]
     },
     "execution_count": 29,
     "metadata": {},
     "output_type": "execute_result"
    },
    {
     "data": {
      "image/png": "[encoded data removed]",
      "text/plain": [
       "<Figure size 720x720 with 1 Axes>"
      ]
     },
     "metadata": {
      "needs_background": "light"
     },
     "output_type": "display_data"
    }
   ],
   "source": [
    "vr_results_df.boxplot(column=['Pretest_Time', 'Level_1_Time', 'Level_2_Time', 'Level_3_Time', 'Level_4_Time', 'Posttest_Time'], figsize=(10,10),showmeans=True)"
   ]
  },
  {
   "cell_type": "code",
   "execution_count": 22,
   "id": "e33ea463",
   "metadata": {},
   "outputs": [
    {
     "data": {
      "text/plain": [
       "<AxesSubplot:>"
      ]
     },
     "execution_count": 22,
     "metadata": {},
     "output_type": "execute_result"
    },
    {
     "data": {
      "image/png": "[encoded data removed]",
      "text/plain": [
       "<Figure size 1008x720 with 1 Axes>"
      ]
     },
     "metadata": {
      "needs_background": "light"
     },
     "output_type": "display_data"
    }
   ],
   "source": [
    "vr_results_df.boxplot(column=['Pretest_Mistake_Time', 'Level_1_Mistake_Time', 'Level_2_Mistake_Time', 'Level_3_Mistake_Time', 'Level_4_Mistake_Time', 'Posttest_Mistake_Time'], figsize=(14,10),showmeans=True)"
   ]
  },
  {
   "cell_type": "markdown",
   "id": "8c25049b",
   "metadata": {},
   "source": [
    "VR vs Physical"
   ]
  },
  {
   "cell_type": "code",
   "execution_count": 23,
   "id": "e97e540b",
   "metadata": {},
   "outputs": [
    {
     "name": "stdout",
     "output_type": "stream",
     "text": [
      "Physical\n",
      "Training Average GSR  3.3210652542692305\n",
      "Training Average HR  73.93263629705127\n",
      "Posttest Time Diff  -0.04828429249999999\n",
      "Posttest Mistake Time Diff  1.020256545\n",
      "VR\n",
      "Training Average GSR  2.7044273700530304\n",
      "Training Average HR  73.21465291727274\n",
      "Posttest Time Diff  1.3401363999999987\n",
      "Posttest Mistake Time Diff  1.2120566512195117\n"
     ]
    }
   ],
   "source": [
    "print('Physical')\n",
    "#print('Pretest_Time', ph_results_df['Pretest_Time'].mean())\n",
    "#print('Level_1_Mistake_Time', ph_results_df['Level_1_Mistake_Time'].mean())\n",
    "#print('Level_1_Mistake_Time', ph_results_df['Level_2_Mistake_Time'].mean())\n",
    "#print('Level_1_Mistake_Time', ph_results_df['Level_3_Mistake_Time'].mean())\n",
    "#print('Level_1_Mistake_Time', ph_results_df['Level_4_Mistake_Time'].mean())\n",
    "#print('Posttest_Time', ph_results_df['Posttest_Time'].mean())\n",
    "print('Training Average GSR ', (ph_results_df['Norm_Level_1_GSR'].mean() + ph_results_df['Norm_Level_2_GSR'].mean() + ph_results_df['Norm_Level_3_GSR'].mean() + ph_results_df['Norm_Level_4_GSR'].mean())/4)\n",
    "print('Training Average HR ', (ph_results_df['Norm_Level_1_HR'].mean() + ph_results_df['Norm_Level_2_HR'].mean() + ph_results_df['Norm_Level_3_HR'].mean() + ph_results_df['Norm_Level_4_HR'].mean())/4)\n",
    "print('Posttest Time Diff ', ph_results_df['Pretest_Time'].mean() - ph_results_df['Posttest_Time'].mean())\n",
    "print('Posttest Mistake Time Diff ', ph_results_df['Pretest_Mistake_Time'].mean() - ph_results_df['Posttest_Mistake_Time'].mean())\n",
    "\n",
    "print('VR')\n",
    "#print('Pretest_Time', vr_results_df['Pretest_Time'].mean())\n",
    "#print('Level_1_Mistake_Time', vr_results_df['Level_1_Mistake_Time'].mean())\n",
    "#print('Level_1_Mistake_Time', vr_results_df['Level_2_Mistake_Time'].mean())\n",
    "#print('Level_1_Mistake_Time', vr_results_df['Level_3_Mistake_Time'].mean())\n",
    "#print('Level_1_Mistake_Time', vr_results_df['Level_4_Mistake_Time'].mean())\n",
    "#print('Posttest_Time', vr_results_df['Posttest_Time'].mean())\n",
    "print('Training Average GSR ', (vr_results_df['Norm_Level_1_GSR'].mean() + vr_results_df['Norm_Level_2_GSR'].mean() + vr_results_df['Norm_Level_3_GSR'].mean() + vr_results_df['Norm_Level_4_GSR'].mean())/4)\n",
    "print('Training Average HR ', (vr_results_df['Norm_Level_1_HR'].mean() + vr_results_df['Norm_Level_2_HR'].mean() + vr_results_df['Norm_Level_3_HR'].mean() + vr_results_df['Norm_Level_4_HR'].mean())/4)\n",
    "print('Posttest Time Diff ', vr_results_df['Pretest_Time'].mean() - vr_results_df['Posttest_Time'].mean())\n",
    "print('Posttest Mistake Time Diff ', vr_results_df['Pretest_Mistake_Time'].mean() - vr_results_df['Posttest_Mistake_Time'].mean())"
   ]
  },
  {
   "cell_type": "code",
   "execution_count": 86,
   "id": "5ee6977b",
   "metadata": {},
   "outputs": [
    {
     "name": "stdout",
     "output_type": "stream",
     "text": [
      "MannwhitneyuResult(statistic=862.0, pvalue=0.6559629587348746)\n",
      "MannwhitneyuResult(statistic=829.0, pvalue=0.5357532305260525)\n"
     ]
    }
   ],
   "source": [
    "print(stats.mannwhitneyu(x=ph_results_df['Time_Gain'], y=vr_results_df['Time_Gain'], alternative = 'less'))\n",
    "print(stats.mannwhitneyu(x=ph_results_df['Mistake_Gain'], y=vr_results_df['Mistake_Gain'], alternative = 'less'))\n",
    "print(stats.mannwhitneyu(x=ph_results_df['Mistake_Gain'], y=vr_results_df['Mistake_Gain'], alternative = 'less'))"
   ]
  },
  {
   "cell_type": "code",
   "execution_count": 24,
   "id": "8bd8b258",
   "metadata": {},
   "outputs": [
    {
     "name": "stdout",
     "output_type": "stream",
     "text": [
      "LeveneResult(statistic=nan, pvalue=nan)\n",
      "LeveneResult(statistic=nan, pvalue=nan)\n",
      "LeveneResult(statistic=nan, pvalue=nan)\n",
      "LeveneResult(statistic=nan, pvalue=nan)\n",
      "LeveneResult(statistic=nan, pvalue=nan)\n",
      "LeveneResult(statistic=nan, pvalue=nan)\n",
      "LeveneResult(statistic=nan, pvalue=nan)\n",
      "LeveneResult(statistic=nan, pvalue=nan)\n",
      "LeveneResult(statistic=nan, pvalue=nan)\n",
      "LeveneResult(statistic=nan, pvalue=nan)\n"
     ]
    }
   ],
   "source": [
    "#Levene's test for equal variances\n",
    "print(stats.levene(ph_results_df['Norm_Pretest_HR'], vr_results_df['Norm_Pretest_HR'], center='median'))\n",
    "print(stats.levene(ph_results_df['Norm_Level_1_HR'], vr_results_df['Norm_Level_1_HR'], center='median'))\n",
    "print(stats.levene(ph_results_df['Norm_Level_2_HR'], vr_results_df['Norm_Level_2_HR'], center='median'))\n",
    "print(stats.levene(ph_results_df['Norm_Level_3_HR'], vr_results_df['Norm_Level_3_HR'], center='median'))\n",
    "print(stats.levene(ph_results_df['Norm_Level_4_HR'], vr_results_df['Norm_Level_4_HR'], center='median'))\n",
    "\n",
    "print(stats.levene(ph_results_df['Norm_Pretest_GSR'], vr_results_df['Norm_Pretest_GSR'], center='median'))\n",
    "print(stats.levene(ph_results_df['Norm_Level_1_GSR'], vr_results_df['Norm_Level_1_GSR'], center='median'))\n",
    "print(stats.levene(ph_results_df['Norm_Level_2_GSR'], vr_results_df['Norm_Level_2_GSR'], center='median'))\n",
    "print(stats.levene(ph_results_df['Norm_Level_3_GSR'], vr_results_df['Norm_Level_3_GSR'], center='median'))\n",
    "print(stats.levene(ph_results_df['Norm_Level_4_GSR'], vr_results_df['Norm_Level_4_GSR'], center='median'))"
   ]
  },
  {
   "cell_type": "code",
   "execution_count": 91,
   "id": "c44b1db1",
   "metadata": {},
   "outputs": [],
   "source": [
    "\n"
   ]
  },
  {
   "cell_type": "code",
   "execution_count": 93,
   "id": "47756202",
   "metadata": {},
   "outputs": [
    {
     "data": {
      "text/plain": [
       "2"
      ]
     },
     "execution_count": 93,
     "metadata": {},
     "output_type": "execute_result"
    }
   ],
   "source": []
  }
 ],
 "metadata": {
  "kernelspec": {
   "display_name": "Python 3 (ipykernel)",
   "language": "python",
   "name": "python3"
  },
  "language_info": {
   "codemirror_mode": {
    "name": "ipython",
    "version": 3
   },
   "file_extension": ".py",
   "mimetype": "text/x-python",
   "name": "python",
   "nbconvert_exporter": "python",
   "pygments_lexer": "ipython3",
   "version": "3.9.7"
  }
 },
 "nbformat": 4,
 "nbformat_minor": 5
}
