{
 "cells": [
  {
   "cell_type": "code",
   "execution_count": 2,
   "id": "ece32836-adce-45cc-a879-2f2c906406c5",
   "metadata": {},
   "outputs": [],
   "source": [
    "import pandas as pd\n",
    "import numpy as np\n",
    "import seaborn as sns\n",
    "import matplotlib.pyplot as plt\n",
    "from scipy import stats\n",
    "sns.set_theme(style=\"ticks\", color_codes=True)\n",
    "#import math\n",
    "pd.set_option('display.max_rows', None)"
   ]
  },
  {
   "cell_type": "code",
   "execution_count": 3,
   "id": "e6ca0fc9-ccdb-44ca-b6ad-c9867cc90129",
   "metadata": {},
   "outputs": [],
   "source": [
    "ph_results_df = pd.read_csv('finalResults_ph.csv')\n",
    "vr_results_df = pd.read_csv('finalResults_vr.csv')\n",
    "vr_results_df.drop(['Unnamed: 0'], axis=1, inplace=True)\n",
    "ph_results_df.drop(['Unnamed: 0'], axis=1, inplace=True)"
   ]
  },
  {
   "cell_type": "code",
   "execution_count": 4,
   "id": "9d9c903d",
   "metadata": {},
   "outputs": [],
   "source": [
    "#Normalize the data\n",
    "def normalize_signals(df):\n",
    "\n",
    "    df['Norm_Pretest_HR'] = (df['Pretest_HR'] - df['Baseline_HR'])/df['Baseline_HR']\n",
    "    df['Norm_Pretest_GSR'] = (df['Pretest_GSR'] - df['Baseline_GSR'])/df['Baseline_GSR']\n",
    "\n",
    "    df['Norm_Level_1_HR'] = (df['Level_1_HR'] - df['Baseline_HR'])/df['Baseline_HR']\n",
    "    df['Norm_Level_1_GSR'] = (df['Level_1_GSR'] - df['Baseline_GSR'])/df['Baseline_GSR']\n",
    "\n",
    "    df['Norm_Level_2_HR'] = (df['Level_2_HR'] - df['Baseline_HR'])/df['Baseline_HR']\n",
    "    df['Norm_Level_2_GSR'] = (df['Level_2_GSR'] - df['Baseline_GSR'])/df['Baseline_GSR']\n",
    "\n",
    "    df['Norm_Level_3_HR'] = (df['Level_3_HR'] - df['Baseline_HR'])/df['Baseline_HR']\n",
    "    df['Norm_Level_3_GSR'] = (df['Level_3_GSR'] - df['Baseline_GSR'])/df['Baseline_GSR']\n",
    "\n",
    "    df['Norm_Level_4_HR'] = (df['Level_4_HR'] - df['Baseline_HR'])/df['Baseline_HR']\n",
    "    df['Norm_Level_4_GSR'] = (df['Level_4_GSR'] - df['Baseline_GSR'])/df['Baseline_GSR']\n",
    "\n",
    "    df['Norm_Posttest_HR'] = (df['Posttest_HR'] - df['Baseline_HR'])/df['Baseline_HR']\n",
    "    df['Norm_Posttest_GSR'] = (df['Posttest_GSR'] - df['Baseline_GSR'])/df['Baseline_GSR']\n",
    "\n",
    "#Difference between pre-test and post-test time/mistakes in a new column\n",
    "def calculate_gains(df):\n",
    "    df['Time_Gain'] = df['Pretest_Time'] - df['Posttest_Time']\n",
    "    df['Mistake_Gain'] = df['Pretest_Mistake_Time'] - df['Posttest_Mistake_Time']\n",
    "\n",
    "#Calculate mean normalized HR across 4 training levels\n",
    "def calculate_mean_training_hr(df):\n",
    "    df['Mean_Norm_Training_HR'] = (df['Level_1_HR'] + df['Level_2_HR'] + df['Level_3_HR'] + df['Level_4_HR']) / 4\n",
    "\n",
    "#Calculate mean normalized GSR across 4 training levels    \n",
    "def calculate_mean_training_gsr(df):\n",
    "    df['Mean_Norm_Training_GSR'] = (df['Level_1_GSR'] + df['Level_2_GSR'] + df['Level_3_GSR'] + df['Level_4_GSR']) / 4\n",
    "    \n",
    "\n"
   ]
  },
  {
   "cell_type": "code",
   "execution_count": 5,
   "id": "9692c93b",
   "metadata": {},
   "outputs": [],
   "source": [
    "normalize_signals(ph_results_df)\n",
    "normalize_signals(vr_results_df)\n",
    "calculate_gains(ph_results_df)\n",
    "calculate_gains(vr_results_df)\n",
    "calculate_mean_training_hr(ph_results_df)\n",
    "calculate_mean_training_gsr(ph_results_df)\n",
    "calculate_mean_training_hr(vr_results_df)\n",
    "calculate_mean_training_gsr(vr_results_df)"
   ]
  },
  {
   "cell_type": "code",
   "execution_count": null,
   "id": "160798d7",
   "metadata": {},
   "outputs": [],
   "source": [
    "ph_results_df['part']"
   ]
  },
  {
   "cell_type": "code",
   "execution_count": 8,
   "id": "d9f7484d",
   "metadata": {},
   "outputs": [
    {
     "data": {
      "text/html": [
       "<div>\n",
       "<style scoped>\n",
       "    .dataframe tbody tr th:only-of-type {\n",
       "        vertical-align: middle;\n",
       "    }\n",
       "\n",
       "    .dataframe tbody tr th {\n",
       "        vertical-align: top;\n",
       "    }\n",
       "\n",
       "    .dataframe thead th {\n",
       "        text-align: right;\n",
       "    }\n",
       "</style>\n",
       "<table border=\"1\" class=\"dataframe\">\n",
       "  <thead>\n",
       "    <tr style=\"text-align: right;\">\n",
       "      <th></th>\n",
       "      <th>Participant_ID</th>\n",
       "      <th>Baseline_GSR</th>\n",
       "      <th>Posttest_GSR</th>\n",
       "      <th>Norm_Posttest_GSR</th>\n",
       "    </tr>\n",
       "  </thead>\n",
       "  <tbody>\n",
       "    <tr>\n",
       "      <th>0</th>\n",
       "      <td>2D0804</td>\n",
       "      <td>1.368344</td>\n",
       "      <td>6.164815</td>\n",
       "      <td>3.505309</td>\n",
       "    </tr>\n",
       "    <tr>\n",
       "      <th>1</th>\n",
       "      <td>2D0803</td>\n",
       "      <td>0.239503</td>\n",
       "      <td>1.478322</td>\n",
       "      <td>5.172448</td>\n",
       "    </tr>\n",
       "    <tr>\n",
       "      <th>2</th>\n",
       "      <td>2D0802</td>\n",
       "      <td>0.164803</td>\n",
       "      <td>6.397466</td>\n",
       "      <td>37.818814</td>\n",
       "    </tr>\n",
       "    <tr>\n",
       "      <th>3</th>\n",
       "      <td>2D0801</td>\n",
       "      <td>0.681940</td>\n",
       "      <td>2.843427</td>\n",
       "      <td>3.169615</td>\n",
       "    </tr>\n",
       "    <tr>\n",
       "      <th>4</th>\n",
       "      <td>2D0705</td>\n",
       "      <td>1.574586</td>\n",
       "      <td>4.210957</td>\n",
       "      <td>1.674326</td>\n",
       "    </tr>\n",
       "    <tr>\n",
       "      <th>5</th>\n",
       "      <td>2D0704</td>\n",
       "      <td>0.473231</td>\n",
       "      <td>2.334307</td>\n",
       "      <td>3.932700</td>\n",
       "    </tr>\n",
       "    <tr>\n",
       "      <th>6</th>\n",
       "      <td>2D0703</td>\n",
       "      <td>1.046969</td>\n",
       "      <td>9.172667</td>\n",
       "      <td>7.761163</td>\n",
       "    </tr>\n",
       "    <tr>\n",
       "      <th>7</th>\n",
       "      <td>2D0702 (1)</td>\n",
       "      <td>0.525388</td>\n",
       "      <td>2.580750</td>\n",
       "      <td>3.912088</td>\n",
       "    </tr>\n",
       "    <tr>\n",
       "      <th>8</th>\n",
       "      <td>2D0701</td>\n",
       "      <td>1.362772</td>\n",
       "      <td>4.588827</td>\n",
       "      <td>2.367274</td>\n",
       "    </tr>\n",
       "    <tr>\n",
       "      <th>9</th>\n",
       "      <td>2D0605</td>\n",
       "      <td>1.037051</td>\n",
       "      <td>3.818668</td>\n",
       "      <td>2.682239</td>\n",
       "    </tr>\n",
       "    <tr>\n",
       "      <th>10</th>\n",
       "      <td>2D0604</td>\n",
       "      <td>0.798665</td>\n",
       "      <td>2.716790</td>\n",
       "      <td>2.401663</td>\n",
       "    </tr>\n",
       "    <tr>\n",
       "      <th>11</th>\n",
       "      <td>2D0602</td>\n",
       "      <td>0.306857</td>\n",
       "      <td>1.460557</td>\n",
       "      <td>3.759728</td>\n",
       "    </tr>\n",
       "    <tr>\n",
       "      <th>12</th>\n",
       "      <td>2D0601</td>\n",
       "      <td>0.670505</td>\n",
       "      <td>2.967266</td>\n",
       "      <td>3.425418</td>\n",
       "    </tr>\n",
       "    <tr>\n",
       "      <th>13</th>\n",
       "      <td>2D0402</td>\n",
       "      <td>1.641324</td>\n",
       "      <td>3.390257</td>\n",
       "      <td>1.065563</td>\n",
       "    </tr>\n",
       "    <tr>\n",
       "      <th>14</th>\n",
       "      <td>2D0401</td>\n",
       "      <td>0.320913</td>\n",
       "      <td>1.498833</td>\n",
       "      <td>3.670528</td>\n",
       "    </tr>\n",
       "    <tr>\n",
       "      <th>15</th>\n",
       "      <td>2D0306</td>\n",
       "      <td>1.981813</td>\n",
       "      <td>3.217723</td>\n",
       "      <td>0.623626</td>\n",
       "    </tr>\n",
       "    <tr>\n",
       "      <th>16</th>\n",
       "      <td>2D0305</td>\n",
       "      <td>2.012520</td>\n",
       "      <td>4.291818</td>\n",
       "      <td>1.132559</td>\n",
       "    </tr>\n",
       "    <tr>\n",
       "      <th>17</th>\n",
       "      <td>2D0304</td>\n",
       "      <td>2.535340</td>\n",
       "      <td>14.538250</td>\n",
       "      <td>4.734242</td>\n",
       "    </tr>\n",
       "    <tr>\n",
       "      <th>18</th>\n",
       "      <td>2D0303</td>\n",
       "      <td>0.501851</td>\n",
       "      <td>0.942641</td>\n",
       "      <td>0.878329</td>\n",
       "    </tr>\n",
       "    <tr>\n",
       "      <th>19</th>\n",
       "      <td>2D0302</td>\n",
       "      <td>1.469060</td>\n",
       "      <td>2.949034</td>\n",
       "      <td>1.007430</td>\n",
       "    </tr>\n",
       "    <tr>\n",
       "      <th>20</th>\n",
       "      <td>2D0301</td>\n",
       "      <td>0.903300</td>\n",
       "      <td>2.302454</td>\n",
       "      <td>1.548936</td>\n",
       "    </tr>\n",
       "    <tr>\n",
       "      <th>21</th>\n",
       "      <td>2D0202</td>\n",
       "      <td>1.311225</td>\n",
       "      <td>4.293708</td>\n",
       "      <td>2.274578</td>\n",
       "    </tr>\n",
       "    <tr>\n",
       "      <th>22</th>\n",
       "      <td>2D0201</td>\n",
       "      <td>1.450281</td>\n",
       "      <td>4.701176</td>\n",
       "      <td>2.241563</td>\n",
       "    </tr>\n",
       "    <tr>\n",
       "      <th>23</th>\n",
       "      <td>2D0103</td>\n",
       "      <td>2.300476</td>\n",
       "      <td>4.225399</td>\n",
       "      <td>0.836750</td>\n",
       "    </tr>\n",
       "    <tr>\n",
       "      <th>24</th>\n",
       "      <td>2D0101correct</td>\n",
       "      <td>0.673174</td>\n",
       "      <td>1.237442</td>\n",
       "      <td>0.838221</td>\n",
       "    </tr>\n",
       "    <tr>\n",
       "      <th>25</th>\n",
       "      <td>2D3008</td>\n",
       "      <td>1.373710</td>\n",
       "      <td>NaN</td>\n",
       "      <td>NaN</td>\n",
       "    </tr>\n",
       "    <tr>\n",
       "      <th>26</th>\n",
       "      <td>2D3006</td>\n",
       "      <td>2.130767</td>\n",
       "      <td>6.773443</td>\n",
       "      <td>2.178875</td>\n",
       "    </tr>\n",
       "    <tr>\n",
       "      <th>27</th>\n",
       "      <td>2D3005</td>\n",
       "      <td>0.276300</td>\n",
       "      <td>5.495166</td>\n",
       "      <td>18.888399</td>\n",
       "    </tr>\n",
       "    <tr>\n",
       "      <th>28</th>\n",
       "      <td>2D3004</td>\n",
       "      <td>5.837238</td>\n",
       "      <td>15.677046</td>\n",
       "      <td>1.685696</td>\n",
       "    </tr>\n",
       "    <tr>\n",
       "      <th>29</th>\n",
       "      <td>2D3003Correct</td>\n",
       "      <td>2.919732</td>\n",
       "      <td>4.769117</td>\n",
       "      <td>0.633409</td>\n",
       "    </tr>\n",
       "    <tr>\n",
       "      <th>30</th>\n",
       "      <td>2D3001</td>\n",
       "      <td>3.259850</td>\n",
       "      <td>9.253290</td>\n",
       "      <td>1.838564</td>\n",
       "    </tr>\n",
       "    <tr>\n",
       "      <th>31</th>\n",
       "      <td>2D2903</td>\n",
       "      <td>2.438352</td>\n",
       "      <td>3.062939</td>\n",
       "      <td>0.256152</td>\n",
       "    </tr>\n",
       "    <tr>\n",
       "      <th>32</th>\n",
       "      <td>2D2901</td>\n",
       "      <td>0.427715</td>\n",
       "      <td>2.660152</td>\n",
       "      <td>5.219449</td>\n",
       "    </tr>\n",
       "    <tr>\n",
       "      <th>33</th>\n",
       "      <td>2D0805</td>\n",
       "      <td>NaN</td>\n",
       "      <td>NaN</td>\n",
       "      <td>NaN</td>\n",
       "    </tr>\n",
       "    <tr>\n",
       "      <th>34</th>\n",
       "      <td>2D0603</td>\n",
       "      <td>NaN</td>\n",
       "      <td>NaN</td>\n",
       "      <td>NaN</td>\n",
       "    </tr>\n",
       "    <tr>\n",
       "      <th>35</th>\n",
       "      <td>2D0203</td>\n",
       "      <td>NaN</td>\n",
       "      <td>NaN</td>\n",
       "      <td>NaN</td>\n",
       "    </tr>\n",
       "    <tr>\n",
       "      <th>36</th>\n",
       "      <td>2D0104</td>\n",
       "      <td>NaN</td>\n",
       "      <td>NaN</td>\n",
       "      <td>NaN</td>\n",
       "    </tr>\n",
       "    <tr>\n",
       "      <th>37</th>\n",
       "      <td>2D0102</td>\n",
       "      <td>NaN</td>\n",
       "      <td>NaN</td>\n",
       "      <td>NaN</td>\n",
       "    </tr>\n",
       "    <tr>\n",
       "      <th>38</th>\n",
       "      <td>2D3008</td>\n",
       "      <td>NaN</td>\n",
       "      <td>NaN</td>\n",
       "      <td>NaN</td>\n",
       "    </tr>\n",
       "    <tr>\n",
       "      <th>39</th>\n",
       "      <td>2D2905</td>\n",
       "      <td>NaN</td>\n",
       "      <td>NaN</td>\n",
       "      <td>NaN</td>\n",
       "    </tr>\n",
       "    <tr>\n",
       "      <th>40</th>\n",
       "      <td>2D2904</td>\n",
       "      <td>NaN</td>\n",
       "      <td>NaN</td>\n",
       "      <td>NaN</td>\n",
       "    </tr>\n",
       "  </tbody>\n",
       "</table>\n",
       "</div>"
      ],
      "text/plain": [
       "   Participant_ID  Baseline_GSR  Posttest_GSR  Norm_Posttest_GSR\n",
       "0          2D0804      1.368344      6.164815           3.505309\n",
       "1          2D0803      0.239503      1.478322           5.172448\n",
       "2          2D0802      0.164803      6.397466          37.818814\n",
       "3          2D0801      0.681940      2.843427           3.169615\n",
       "4          2D0705      1.574586      4.210957           1.674326\n",
       "5          2D0704      0.473231      2.334307           3.932700\n",
       "6          2D0703      1.046969      9.172667           7.761163\n",
       "7      2D0702 (1)      0.525388      2.580750           3.912088\n",
       "8          2D0701      1.362772      4.588827           2.367274\n",
       "9          2D0605      1.037051      3.818668           2.682239\n",
       "10         2D0604      0.798665      2.716790           2.401663\n",
       "11         2D0602      0.306857      1.460557           3.759728\n",
       "12         2D0601      0.670505      2.967266           3.425418\n",
       "13         2D0402      1.641324      3.390257           1.065563\n",
       "14         2D0401      0.320913      1.498833           3.670528\n",
       "15         2D0306      1.981813      3.217723           0.623626\n",
       "16         2D0305      2.012520      4.291818           1.132559\n",
       "17         2D0304      2.535340     14.538250           4.734242\n",
       "18         2D0303      0.501851      0.942641           0.878329\n",
       "19         2D0302      1.469060      2.949034           1.007430\n",
       "20         2D0301      0.903300      2.302454           1.548936\n",
       "21         2D0202      1.311225      4.293708           2.274578\n",
       "22         2D0201      1.450281      4.701176           2.241563\n",
       "23         2D0103      2.300476      4.225399           0.836750\n",
       "24  2D0101correct      0.673174      1.237442           0.838221\n",
       "25         2D3008      1.373710           NaN                NaN\n",
       "26         2D3006      2.130767      6.773443           2.178875\n",
       "27         2D3005      0.276300      5.495166          18.888399\n",
       "28         2D3004      5.837238     15.677046           1.685696\n",
       "29  2D3003Correct      2.919732      4.769117           0.633409\n",
       "30         2D3001      3.259850      9.253290           1.838564\n",
       "31         2D2903      2.438352      3.062939           0.256152\n",
       "32         2D2901      0.427715      2.660152           5.219449\n",
       "33         2D0805           NaN           NaN                NaN\n",
       "34         2D0603           NaN           NaN                NaN\n",
       "35         2D0203           NaN           NaN                NaN\n",
       "36         2D0104           NaN           NaN                NaN\n",
       "37         2D0102           NaN           NaN                NaN\n",
       "38         2D3008           NaN           NaN                NaN\n",
       "39         2D2905           NaN           NaN                NaN\n",
       "40         2D2904           NaN           NaN                NaN"
      ]
     },
     "execution_count": 8,
     "metadata": {},
     "output_type": "execute_result"
    }
   ],
   "source": [
    "vr_results_df[['Participant_ID','Baseline_GSR','Posttest_GSR','Norm_Posttest_GSR']]"
   ]
  },
  {
   "cell_type": "code",
   "execution_count": 36,
   "id": "63f4bec7",
   "metadata": {},
   "outputs": [],
   "source": [
    "#Combined score metric \n",
    "#ph_results_df['Norm_Pretest_Score'] = 1 / np.sqrt(ph_results_df['Pretest_Time'] * ph_results_df['Pretest_Mistake_Time'])\n",
    "#ph_results_df['Norm_Level_1_Score'] = 1 / np.sqrt(ph_results_df['Level_1_Time'] * ph_results_df['Level_1_Mistake_Time'])\n",
    "#ph_results_df['Norm_Level_2_Score'] = 1 / np.sqrt(ph_results_df['Level_2_Time'] * ph_results_df['Level_2_Mistake_Time'])\n",
    "#ph_results_df['Norm_Level_3_Score'] = 1 / np.sqrt(ph_results_df['Level_3_Time'] * ph_results_df['Level_3_Mistake_Time'])\n",
    "#ph_results_df['Norm_Level_4_Score'] = 1 / np.sqrt(ph_results_df['Level_4_Time'] * ph_results_df['Level_4_Mistake_Time'])"
   ]
  },
  {
   "cell_type": "code",
   "execution_count": 62,
   "id": "0234ffcd",
   "metadata": {},
   "outputs": [
    {
     "data": {
      "text/plain": [
       "Index(['Participant_ID', 'Baseline_HR', 'Baseline_GSR', 'Pretest_Time',\n",
       "       'Pretest_Mistake_Time', 'Pretest_GSR', 'Pretest_HR', 'Level_1_Time',\n",
       "       'Level_1_Mistake_Time', 'Level_1_HR', 'Level_1_GSR', 'Level_2_Time',\n",
       "       'Level_2_Mistake_Time', 'Level_2_HR', 'Level_2_GSR', 'Level_3_Time',\n",
       "       'Level_3_Mistake_Time', 'Level_3_HR', 'Level_3_GSR', 'Level_4_Time',\n",
       "       'Level_4_Mistake_Time', 'Level_4_HR', 'Level_4_GSR', 'Posttest_Time',\n",
       "       'Posttest_Mistake_Time', 'Posttest_GSR', 'Posttest_HR',\n",
       "       'Norm_Pretest_HR', 'Norm_Pretest_GSR', 'Norm_Level_1_HR',\n",
       "       'Norm_Level_1_GSR', 'Norm_Level_2_HR', 'Norm_Level_2_GSR',\n",
       "       'Norm_Level_3_HR', 'Norm_Level_3_GSR', 'Norm_Level_4_HR',\n",
       "       'Norm_Level_4_GSR', 'Norm_Posttest_HR', 'Norm_Posttest_GSR',\n",
       "       'Time_Gain', 'Mistake_Gain', 'Mean_Norm_Training_HR',\n",
       "       'Mean_Norm_Training_GSR'],\n",
       "      dtype='object')"
      ]
     },
     "execution_count": 62,
     "metadata": {},
     "output_type": "execute_result"
    }
   ],
   "source": [
    "ph_results_df.columns"
   ]
  },
  {
   "cell_type": "code",
   "execution_count": 50,
   "id": "c455052f",
   "metadata": {},
   "outputs": [],
   "source": [
    "#ph_results_df.boxplot(column=['Norm_Pretest_HR', 'Norm_Level_1_HR' , 'Norm_Level_2_HR', 'Norm_Level_3_HR', 'Norm_Level_4_HR','Norm_Posttest_HR'], figsize=(14,10), showmeans=True)"
   ]
  },
  {
   "cell_type": "code",
   "execution_count": 51,
   "id": "391a7cc0",
   "metadata": {},
   "outputs": [],
   "source": [
    "#vr_results_df.boxplot(column=['Norm_Pretest_HR', 'Norm_Level_1_HR' , 'Norm_Level_2_HR', 'Norm_Level_3_HR', 'Norm_Level_4_HR','Norm_Posttest_HR'], figsize=(14,10), showmeans=True)"
   ]
  },
  {
   "cell_type": "code",
   "execution_count": 14,
   "id": "562a6a23",
   "metadata": {},
   "outputs": [],
   "source": [
    "#ph_results_df.boxplot(column=['Norm_Pretest_GSR', 'Norm_Level_1_GSR' , 'Norm_Level_2_GSR', 'Norm_Level_3_GSR', 'Norm_Level_4_GSR','Norm_Posttest_GSR'], figsize=(14,10), showmeans=True)"
   ]
  },
  {
   "cell_type": "code",
   "execution_count": 15,
   "id": "ce04e991",
   "metadata": {},
   "outputs": [],
   "source": [
    "#vr_results_df.boxplot(column=['Norm_Pretest_GSR', 'Norm_Level_1_GSR' , 'Norm_Level_2_GSR', 'Norm_Level_3_GSR', 'Norm_Level_4_GSR','Norm_Posttest_GSR'], figsize=(14,10), showmeans=True)"
   ]
  },
  {
   "cell_type": "code",
   "execution_count": 9,
   "id": "a1b1e9b1",
   "metadata": {},
   "outputs": [],
   "source": [
    "#combined_results_df = pd.concat([ph_results_df, vr_results_df], axis=0)"
   ]
  },
  {
   "cell_type": "code",
   "execution_count": 16,
   "id": "65330da2",
   "metadata": {},
   "outputs": [],
   "source": [
    "#combined_results_df.rename(columns={'Mean_Norm_Training_GSR': 'Mean Normalized GSR (Training)', 'Mean_Norm_Training_HR': 'Mean Normalized HR (Training)', 'Time_Gain':'Task Completion Time (Gain)', 'Mistake_Gain':'Mistake Time (Gain)'}, inplace=True)\n",
    "#sns.pairplot(\n",
    "#    combined_results_df,\n",
    "#    x_vars=[\"Mean Normalized GSR (Training)\", \"Mean Normalized HR (Training)\"],\n",
    "#    y_vars=[\"Task Completion Time (Gain)\", \"Mistake Time (Gain)\"],\n",
    "#)"
   ]
  },
  {
   "cell_type": "code",
   "execution_count": 41,
   "id": "d7cf668c",
   "metadata": {},
   "outputs": [
    {
     "name": "stdout",
     "output_type": "stream",
     "text": [
      "Shapiro test for normality (Not normal if p-value is less than 0.05)\n",
      "VR\n",
      "----\n",
      "**  Baseline_HR  is normally distributed\n",
      "Baseline_GSR  is not normally distributed\n",
      "**  Pretest_Time  is normally distributed\n",
      "Pretest_Mistake_Time  is not normally distributed\n",
      "Pretest_GSR  is not normally distributed\n",
      "**  Pretest_HR  is normally distributed\n",
      "Level_1_Time  is not normally distributed\n",
      "Level_1_Mistake_Time  is not normally distributed\n",
      "**  Level_1_HR  is normally distributed\n",
      "Level_1_GSR  is not normally distributed\n",
      "Level_2_Time  is not normally distributed\n",
      "Level_2_Mistake_Time  is not normally distributed\n",
      "**  Level_2_HR  is normally distributed\n",
      "Level_2_GSR  is not normally distributed\n",
      "Level_3_Time  is not normally distributed\n",
      "Level_3_Mistake_Time  is not normally distributed\n",
      "Level_3_HR  is not normally distributed\n",
      "Level_3_GSR  is not normally distributed\n",
      "Level_4_Time  is not normally distributed\n",
      "Level_4_Mistake_Time  is not normally distributed\n",
      "**  Level_4_HR  is normally distributed\n",
      "Level_4_GSR  is not normally distributed\n",
      "Posttest_Time  is not normally distributed\n",
      "**  Posttest_Mistake_Time  is normally distributed\n",
      "Posttest_GSR  is not normally distributed\n",
      "**  Posttest_HR  is normally distributed\n",
      "Norm_Pretest_HR  is not normally distributed\n",
      "Norm_Pretest_GSR  is not normally distributed\n",
      "**  Norm_Level_1_HR  is normally distributed\n",
      "Norm_Level_1_GSR  is not normally distributed\n",
      "**  Norm_Level_2_HR  is normally distributed\n",
      "Norm_Level_2_GSR  is not normally distributed\n",
      "**  Norm_Level_3_HR  is normally distributed\n",
      "Norm_Level_3_GSR  is not normally distributed\n",
      "**  Norm_Level_4_HR  is normally distributed\n",
      "Norm_Level_4_GSR  is not normally distributed\n",
      "Norm_Posttest_HR  is not normally distributed\n",
      "Norm_Posttest_GSR  is not normally distributed\n",
      "**  Time_Gain  is normally distributed\n",
      "Mistake_Gain  is not normally distributed\n",
      "**  Mean_Norm_Training_HR  is normally distributed\n",
      "Mean_Norm_Training_GSR  is not normally distributed\n",
      "Physical\n",
      "--------\n",
      "**  Baseline_HR  is normally distributed\n",
      "Baseline_GSR  is not normally distributed\n",
      "Pretest_Time  is not normally distributed\n",
      "Pretest_Mistake_Time  is not normally distributed\n",
      "Pretest_GSR  is not normally distributed\n",
      "**  Pretest_HR  is normally distributed\n",
      "Level_1_Time  is not normally distributed\n",
      "Level_1_Mistake_Time  is not normally distributed\n",
      "**  Level_1_HR  is normally distributed\n",
      "Level_1_GSR  is not normally distributed\n",
      "Level_2_Time  is not normally distributed\n",
      "Level_2_Mistake_Time  is not normally distributed\n",
      "**  Level_2_HR  is normally distributed\n",
      "Level_2_GSR  is not normally distributed\n",
      "Level_3_Time  is not normally distributed\n",
      "Level_3_Mistake_Time  is not normally distributed\n",
      "**  Level_3_HR  is normally distributed\n",
      "Level_3_GSR  is not normally distributed\n",
      "Level_4_Time  is not normally distributed\n",
      "Level_4_Mistake_Time  is not normally distributed\n",
      "**  Level_4_HR  is normally distributed\n",
      "Level_4_GSR  is not normally distributed\n",
      "Posttest_Time  is not normally distributed\n",
      "Posttest_Mistake_Time  is not normally distributed\n",
      "Posttest_GSR  is not normally distributed\n",
      "Posttest_HR  is not normally distributed\n",
      "**  Norm_Pretest_HR  is normally distributed\n",
      "**  Norm_Pretest_GSR  is normally distributed\n",
      "Norm_Level_1_HR  is not normally distributed\n",
      "Norm_Level_1_GSR  is not normally distributed\n",
      "**  Norm_Level_2_HR  is normally distributed\n",
      "Norm_Level_2_GSR  is not normally distributed\n",
      "**  Norm_Level_3_HR  is normally distributed\n",
      "Norm_Level_3_GSR  is not normally distributed\n",
      "Norm_Level_4_HR  is not normally distributed\n",
      "Norm_Level_4_GSR  is not normally distributed\n",
      "**  Norm_Posttest_HR  is normally distributed\n",
      "Norm_Posttest_GSR  is not normally distributed\n",
      "Time_Gain  is not normally distributed\n",
      "**  Mistake_Gain  is normally distributed\n",
      "**  Mean_Norm_Training_HR  is normally distributed\n",
      "Mean_Norm_Training_GSR  is not normally distributed\n"
     ]
    }
   ],
   "source": [
    "def check_normality_all_features(df):\n",
    "    for column in df.columns:\n",
    "        if column != 'Participant_ID':        \n",
    "            if stats.shapiro(df[df[column].notna()][column]).pvalue < 0.05:\n",
    "                print(column,' is not normally distributed')\n",
    "            else:\n",
    "                print('** ',column,' is normally distributed')\n",
    "print(\"Shapiro test for normality (Not normal if p-value is less than 0.05)\")\n",
    "print(\"VR\")\n",
    "print('----')\n",
    "check_normality_all_features(vr_results_df)\n",
    "print(\"Physical\")\n",
    "print('--------')\n",
    "check_normality_all_features(ph_results_df)\n",
    "\n",
    "#for column in ['Baseline_GSR', 'Norm_Pretest_GSR' , 'Norm_Level_1_GSR', 'Norm_Level_2_GSR', 'Norm_Level_3_GSR', 'Norm_Level_4_GSR', 'Norm_Posttest_GSR', 'Baseline_HR', 'Norm_Pretest_HR' , 'Norm_Level_1_HR', 'Norm_Level_2_HR', 'Norm_Level_3_HR', 'Norm_Level_4_HR', 'Norm_Posttest_HR', 'Pretest_Time', 'Pretest_Mistake_Time', 'Posttest_Time', 'Posttest_Mistake_Time']:\n",
    "#    print(column, \" - shapiro test p-value less than 0.05 - \", stats.shapiro(ph_results_df[ph_results_df[column].notna()][column]).pvalue < 0.05) #Not normal if p-value is less than 0.05"
   ]
  },
  {
   "cell_type": "code",
   "execution_count": 14,
   "id": "0fa2d5a1",
   "metadata": {},
   "outputs": [
    {
     "name": "stdout",
     "output_type": "stream",
     "text": [
      "Mean of pre-test and post-test time in physical condition\n",
      "21.98 22.03\n",
      "Mean of pre-test and post-test mistake time in physical condition\n",
      "3.14 2.12\n"
     ]
    }
   ],
   "source": [
    "#Mean of pre-test and post-test time\n",
    "print(\"Mean of pre-test and post-test time in physical condition\")\n",
    "print(round(ph_results_df['Pretest_Time'].mean(skipna=True),2), round(ph_results_df['Posttest_Time'].mean(skipna=True),2))\n",
    "\n",
    "#Mean of pre-test and post-test mistake time in physical condition\n",
    "print(\"Mean of pre-test and post-test mistake time in physical condition\")\n",
    "print(round(ph_results_df['Pretest_Mistake_Time'].mean(skipna=True),2), round(ph_results_df['Posttest_Mistake_Time'].mean(skipna=True),2))\n",
    "\n",
    "#Mean of pre-test and post-test time\n",
    "print(\"Mean of pre-test and post-test time in VR condition\")\n",
    "print(round(vr_results_df['Pretest_Time'].mean(skipna=True),2), round(vr_results_df['Posttest_Time'].mean(skipna=True),2))\n",
    "\n",
    "#Mean of pre-test and post-test mistake time in physical condition\n",
    "print(\"Mean of pre-test and post-test mistake time in VR condition\")\n",
    "print(round(vr_results_df['Pretest_Mistake_Time'].mean(skipna=True),2), round(vr_results_df['Posttest_Mistake_Time'].mean(skipna=True),2))"
   ]
  },
  {
   "cell_type": "code",
   "execution_count": null,
   "id": "d12ac371",
   "metadata": {},
   "outputs": [
    {
     "name": "stdout",
     "output_type": "stream",
     "text": [
      "Wilcoxon test for pre-test and post-test time in physical condition\n",
      "WilcoxonResult(statistic=393.0, pvalue=0.8192559592995198)\n",
      "Wilcoxon test for pre-test mistake and post-test mistake time in physical condition\n",
      "WilcoxonResult(statistic=80.0, pvalue=9.180421503905772e-06)\n"
     ]
    }
   ],
   "source": [
    "#Wilcoxon test for pre-test and post-test time\n",
    "print(\"Wilcoxon test for pre-test and post-test time in physical condition\")\n",
    "print(stats.wilcoxon(ph_results_df['Pretest_Time'], ph_results_df['Posttest_Time']))\n",
    "#Wilcoxon test for pre-test mistake and post-test mistake time\n",
    "print(\"Wilcoxon test for pre-test mistake and post-test mistake time in physical condition\")\n",
    "print(stats.wilcoxon(ph_results_df['Pretest_Mistake_Time'], ph_results_df['Posttest_Mistake_Time']))\n",
    "\n",
    "print(\"Wilcoxon test for pre-test and post-test time in VR condition\")\n",
    "print(stats.wilcoxon(vr_results_df['Pretest_Time'], vr_results_df['Posttest_Time']))\n",
    "#Wilcoxon test for pre-test mistake and post-test mistake time\n",
    "print(\"Wilcoxon test for pre-test mistake and post-test mistake time in VR condition\")\n",
    "print(stats.wilcoxon(vr_results_df['Pretest_Mistake_Time'], vr_results_df['Posttest_Mistake_Time']))"
   ]
  },
  {
   "cell_type": "code",
   "execution_count": 17,
   "id": "b0eaa46e",
   "metadata": {},
   "outputs": [
    {
     "name": "stdout",
     "output_type": "stream",
     "text": [
      "Physical\n",
      "Training Average GSR  1.81010469701905\n",
      "Training Average HR  0.0015943335280845013\n",
      "Posttest Time Diff  -0.04828429249999999\n",
      "Posttest Mistake Time Diff  1.020256545\n",
      "VR\n",
      "Training Average GSR  2.3660800463261897\n",
      "Training Average HR  -0.02191920273981677\n",
      "Posttest Time Diff  1.3401363999999987\n",
      "Posttest Mistake Time Diff  1.2120566512195117\n"
     ]
    }
   ],
   "source": [
    "print('Physical')\n",
    "#print('Pretest_Time', ph_results_df['Pretest_Time'].mean())\n",
    "#print('Level_1_Mistake_Time', ph_results_df['Level_1_Mistake_Time'].mean())\n",
    "#print('Level_1_Mistake_Time', ph_results_df['Level_2_Mistake_Time'].mean())\n",
    "#print('Level_1_Mistake_Time', ph_results_df['Level_3_Mistake_Time'].mean())\n",
    "#print('Level_1_Mistake_Time', ph_results_df['Level_4_Mistake_Time'].mean())\n",
    "#print('Posttest_Time', ph_results_df['Posttest_Time'].mean())\n",
    "print('Training Average GSR ', (ph_results_df['Norm_Level_1_GSR'].mean() + ph_results_df['Norm_Level_2_GSR'].mean() + ph_results_df['Norm_Level_3_GSR'].mean() + ph_results_df['Norm_Level_4_GSR'].mean())/4)\n",
    "print('Training Average HR ', (ph_results_df['Norm_Level_1_HR'].mean() + ph_results_df['Norm_Level_2_HR'].mean() + ph_results_df['Norm_Level_3_HR'].mean() + ph_results_df['Norm_Level_4_HR'].mean())/4)\n",
    "print('Posttest Time Diff ', ph_results_df['Pretest_Time'].mean() - ph_results_df['Posttest_Time'].mean())\n",
    "print('Posttest Mistake Time Diff ', ph_results_df['Pretest_Mistake_Time'].mean() - ph_results_df['Posttest_Mistake_Time'].mean())\n",
    "\n",
    "print('VR')\n",
    "#print('Pretest_Time', vr_results_df['Pretest_Time'].mean())\n",
    "#print('Level_1_Mistake_Time', vr_results_df['Level_1_Mistake_Time'].mean())\n",
    "#print('Level_1_Mistake_Time', vr_results_df['Level_2_Mistake_Time'].mean())\n",
    "#print('Level_1_Mistake_Time', vr_results_df['Level_3_Mistake_Time'].mean())\n",
    "#print('Level_1_Mistake_Time', vr_results_df['Level_4_Mistake_Time'].mean())\n",
    "#print('Posttest_Time', vr_results_df['Posttest_Time'].mean())\n",
    "print('Training Average GSR ', (vr_results_df['Norm_Level_1_GSR'].mean() + vr_results_df['Norm_Level_2_GSR'].mean() + vr_results_df['Norm_Level_3_GSR'].mean() + vr_results_df['Norm_Level_4_GSR'].mean())/4)\n",
    "print('Training Average HR ', (vr_results_df['Norm_Level_1_HR'].mean() + vr_results_df['Norm_Level_2_HR'].mean() + vr_results_df['Norm_Level_3_HR'].mean() + vr_results_df['Norm_Level_4_HR'].mean())/4)\n",
    "print('Posttest Time Diff ', vr_results_df['Pretest_Time'].mean() - vr_results_df['Posttest_Time'].mean())\n",
    "print('Posttest Mistake Time Diff ', vr_results_df['Pretest_Mistake_Time'].mean() - vr_results_df['Posttest_Mistake_Time'].mean())"
   ]
  },
  {
   "cell_type": "code",
   "execution_count": 70,
   "id": "2fa0ad0b",
   "metadata": {},
   "outputs": [
    {
     "name": "stdout",
     "output_type": "stream",
     "text": [
      "Wilcoxon test for pre and post-training self-efficacy in Physical condition\n",
      "WilcoxonResult(statistic=191.5, pvalue=0.5453836355499604)\n"
     ]
    }
   ],
   "source": [
    "ph_eff_df = pd.read_csv('..\\\\OnlineSurvey\\\\Self_Eff_Ph.csv')\n",
    "ph_eff_df\n",
    "print(\"Wilcoxon test for pre and post-training self-efficacy in Physical condition\")\n",
    "print(stats.wilcoxon(ph_eff_df['Eff1'], ph_eff_df['Eff2']))"
   ]
  },
  {
   "cell_type": "code",
   "execution_count": null,
   "id": "b3b6931c",
   "metadata": {},
   "outputs": [
    {
     "data": {
      "text/plain": [
       "0.0952380952380949"
      ]
     },
     "execution_count": 132,
     "metadata": {},
     "output_type": "execute_result"
    }
   ],
   "source": [
    "ph_eff_df['Eff2'].mean(skipna=True) - ph_eff_df['Eff1'].mean(skipna=True)"
   ]
  },
  {
   "cell_type": "code",
   "execution_count": null,
   "id": "eb90bd43",
   "metadata": {},
   "outputs": [
    {
     "data": {
      "text/html": [
       "<div>\n",
       "<style scoped>\n",
       "    .dataframe tbody tr th:only-of-type {\n",
       "        vertical-align: middle;\n",
       "    }\n",
       "\n",
       "    .dataframe tbody tr th {\n",
       "        vertical-align: top;\n",
       "    }\n",
       "\n",
       "    .dataframe thead th {\n",
       "        text-align: right;\n",
       "    }\n",
       "</style>\n",
       "<table border=\"1\" class=\"dataframe\">\n",
       "  <thead>\n",
       "    <tr style=\"text-align: right;\">\n",
       "      <th></th>\n",
       "      <th>Eff1</th>\n",
       "      <th>Eff2</th>\n",
       "    </tr>\n",
       "  </thead>\n",
       "  <tbody>\n",
       "    <tr>\n",
       "      <th>count</th>\n",
       "      <td>42.000000</td>\n",
       "      <td>42.000000</td>\n",
       "    </tr>\n",
       "    <tr>\n",
       "      <th>mean</th>\n",
       "      <td>4.380952</td>\n",
       "      <td>4.476190</td>\n",
       "    </tr>\n",
       "    <tr>\n",
       "      <th>std</th>\n",
       "      <td>1.430545</td>\n",
       "      <td>1.347773</td>\n",
       "    </tr>\n",
       "    <tr>\n",
       "      <th>min</th>\n",
       "      <td>1.000000</td>\n",
       "      <td>1.000000</td>\n",
       "    </tr>\n",
       "    <tr>\n",
       "      <th>25%</th>\n",
       "      <td>3.250000</td>\n",
       "      <td>4.000000</td>\n",
       "    </tr>\n",
       "    <tr>\n",
       "      <th>50%</th>\n",
       "      <td>4.000000</td>\n",
       "      <td>4.500000</td>\n",
       "    </tr>\n",
       "    <tr>\n",
       "      <th>75%</th>\n",
       "      <td>5.000000</td>\n",
       "      <td>5.000000</td>\n",
       "    </tr>\n",
       "    <tr>\n",
       "      <th>max</th>\n",
       "      <td>7.000000</td>\n",
       "      <td>7.000000</td>\n",
       "    </tr>\n",
       "  </tbody>\n",
       "</table>\n",
       "</div>"
      ],
      "text/plain": [
       "            Eff1       Eff2\n",
       "count  42.000000  42.000000\n",
       "mean    4.380952   4.476190\n",
       "std     1.430545   1.347773\n",
       "min     1.000000   1.000000\n",
       "25%     3.250000   4.000000\n",
       "50%     4.000000   4.500000\n",
       "75%     5.000000   5.000000\n",
       "max     7.000000   7.000000"
      ]
     },
     "execution_count": 128,
     "metadata": {},
     "output_type": "execute_result"
    }
   ],
   "source": [
    "ph_eff_df.describe()"
   ]
  },
  {
   "cell_type": "code",
   "execution_count": 16,
   "id": "8066c6a7-6890-4617-b188-8ba6eae0c934",
   "metadata": {},
   "outputs": [
    {
     "data": {
      "text/plain": [
       "<AxesSubplot:>"
      ]
     },
     "execution_count": 16,
     "metadata": {},
     "output_type": "execute_result"
    },
    {
     "data": {
      "image/png": "[encoded data removed]",
      "text/plain": [
       "<Figure size 1008x720 with 1 Axes>"
      ]
     },
     "metadata": {},
     "output_type": "display_data"
    }
   ],
   "source": [
    "#Draw box plot of Baseline_HR and Baseline_GSR columns in ph_results_df\n",
    "ph_results_df.boxplot(column=['Baseline_GSR', 'Pretest_GSR' , 'Norm_Level_1_GSR', 'Norm_Level_2_GSR', 'Norm_Level_3_GSR', 'Norm_Level_4_GSR', 'Norm_Posttest_GSR'], figsize=(14,10),showmeans=True)\n"
   ]
  },
  {
   "cell_type": "code",
   "execution_count": null,
   "id": "ce0ba811",
   "metadata": {},
   "outputs": [],
   "source": [
    "#ph_results_df.boxplot(column=['Baseline_HR', 'Pretest_HR' , 'Norm_Level_1_HR', 'Norm_Level_2_HR', 'Norm_Level_3_HR', 'Norm_Level_4_HR', 'Norm_Posttest_HR'], figsize=(14,10),showmeans=True)"
   ]
  },
  {
   "cell_type": "code",
   "execution_count": null,
   "id": "63cd1c62",
   "metadata": {},
   "outputs": [],
   "source": [
    "#ph_results_df.boxplot(column=['Pretest_Time', 'Level_1_Time', 'Level_2_Time', 'Level_3_Time', 'Level_4_Time', 'Posttest_Time'], figsize=(14,10),showmeans=True)"
   ]
  },
  {
   "cell_type": "code",
   "execution_count": null,
   "id": "6cabfb77",
   "metadata": {},
   "outputs": [],
   "source": [
    "#ph_results_df.boxplot(column=['Pretest_Mistake_Time', 'Level_1_Mistake_Time', 'Level_2_Mistake_Time', 'Level_3_Mistake_Time', 'Level_4_Mistake_Time', 'Posttest_Mistake_Time'], figsize=(14,10),showmeans=True)"
   ]
  },
  {
   "cell_type": "code",
   "execution_count": 48,
   "id": "791dd990",
   "metadata": {},
   "outputs": [],
   "source": [
    "#vr_results_df['Norm_Level_1_GSR'].hist(bins=20)"
   ]
  },
  {
   "cell_type": "code",
   "execution_count": null,
   "id": "38f80198",
   "metadata": {},
   "outputs": [],
   "source": [
    "#vr_results_df[vr_results_df[\"Norm_Level_1_GSR\"].notna()][\"Norm_Level_1_GSR\"]"
   ]
  },
  {
   "cell_type": "code",
   "execution_count": null,
   "id": "61bc5338",
   "metadata": {},
   "outputs": [
    {
     "name": "stdout",
     "output_type": "stream",
     "text": [
      "Mean of pre-test and post-test time in VR condition\n",
      "24.75 23.41\n",
      "Mean of pre-test and post-test mistake time in VR condition\n",
      "4.16 2.95\n"
     ]
    }
   ],
   "source": []
  },
  {
   "cell_type": "code",
   "execution_count": 25,
   "id": "cf98d9ee",
   "metadata": {},
   "outputs": [
    {
     "name": "stdout",
     "output_type": "stream",
     "text": [
      "Wilcoxon test for pre-test and post-test time in VR condition\n",
      "WilcoxonResult(statistic=366.0, pvalue=0.40325453311151205)\n",
      "Wilcoxon test for pre-test mistake and post-test mistake time in VR condition\n",
      "True\n"
     ]
    }
   ],
   "source": [
    "#Wilcoxon test for pre-test and post-test time\n",
    "print(\"Wilcoxon test for pre-test and post-test time in VR condition\")\n",
    "print(stats.wilcoxon(vr_results_df['Pretest_Time'], vr_results_df['Posttest_Time']))\n",
    "#Wilcoxon test for pre-test mistake and post-test mistake time\n",
    "print(\"Wilcoxon test for pre-test mistake and post-test mistake time in VR condition\")\n",
    "print(stats.wilcoxon(vr_results_df['Pretest_Mistake_Time'], vr_results_df['Posttest_Mistake_Time']).pvalue<0.001)"
   ]
  },
  {
   "cell_type": "code",
   "execution_count": 34,
   "id": "01e40aef",
   "metadata": {},
   "outputs": [
    {
     "name": "stdout",
     "output_type": "stream",
     "text": [
      "Mean of GSR across all training levels in VR condition\n",
      "Mean of HR across all training levels in VR condition\n"
     ]
    }
   ],
   "source": [
    "#Mean of GSR across all training levels in VR condition\n",
    "print(\"Mean of GSR across all training levels in VR condition\")\n",
    "\n",
    "vr_results_df['Avg_GSR'] = (vr_results_df['Norm_Level_1_GSR'] + vr_results_df['Norm_Level_2_GSR']+ vr_results_df['Norm_Level_3_GSR']+ vr_results_df['Norm_Level_4_GSR'])/4\n",
    "#Mean of HR across all training levels in VR condition\n",
    "print(\"Mean of HR across all training levels in VR condition\")\n",
    "vr_results_df['Avg_HR'] = (vr_results_df['Norm_Level_1_HR'] + vr_results_df['Norm_Level_2_HR'] + vr_results_df['Norm_Level_3_HR'] + vr_results_df['Norm_Level_4_HR'])/4\n"
   ]
  },
  {
   "cell_type": "code",
   "execution_count": 71,
   "id": "a04eb160",
   "metadata": {},
   "outputs": [
    {
     "name": "stdout",
     "output_type": "stream",
     "text": [
      "Wilcoxon test for pre and post-training self-efficacy in VR condition\n",
      "WilcoxonResult(statistic=120.5, pvalue=0.015977108919375097)\n"
     ]
    }
   ],
   "source": [
    "vr_eff_df = pd.read_csv('..\\\\OnlineSurvey\\\\Self_Eff_VR.csv')\n",
    "vr_eff_df\n",
    "print(\"Wilcoxon test for pre and post-training self-efficacy in VR condition\")\n",
    "print(stats.wilcoxon(vr_eff_df['Eff1'], vr_eff_df['Eff2']))"
   ]
  },
  {
   "cell_type": "code",
   "execution_count": null,
   "id": "4b218dd6",
   "metadata": {},
   "outputs": [
    {
     "data": {
      "text/html": [
       "<div>\n",
       "<style scoped>\n",
       "    .dataframe tbody tr th:only-of-type {\n",
       "        vertical-align: middle;\n",
       "    }\n",
       "\n",
       "    .dataframe tbody tr th {\n",
       "        vertical-align: top;\n",
       "    }\n",
       "\n",
       "    .dataframe thead th {\n",
       "        text-align: right;\n",
       "    }\n",
       "</style>\n",
       "<table border=\"1\" class=\"dataframe\">\n",
       "  <thead>\n",
       "    <tr style=\"text-align: right;\">\n",
       "      <th></th>\n",
       "      <th>Eff1</th>\n",
       "      <th>Eff2</th>\n",
       "    </tr>\n",
       "  </thead>\n",
       "  <tbody>\n",
       "    <tr>\n",
       "      <th>count</th>\n",
       "      <td>45.000000</td>\n",
       "      <td>45.000000</td>\n",
       "    </tr>\n",
       "    <tr>\n",
       "      <th>mean</th>\n",
       "      <td>3.800000</td>\n",
       "      <td>4.244444</td>\n",
       "    </tr>\n",
       "    <tr>\n",
       "      <th>std</th>\n",
       "      <td>1.099587</td>\n",
       "      <td>1.111010</td>\n",
       "    </tr>\n",
       "    <tr>\n",
       "      <th>min</th>\n",
       "      <td>1.000000</td>\n",
       "      <td>2.000000</td>\n",
       "    </tr>\n",
       "    <tr>\n",
       "      <th>25%</th>\n",
       "      <td>3.000000</td>\n",
       "      <td>3.000000</td>\n",
       "    </tr>\n",
       "    <tr>\n",
       "      <th>50%</th>\n",
       "      <td>4.000000</td>\n",
       "      <td>4.000000</td>\n",
       "    </tr>\n",
       "    <tr>\n",
       "      <th>75%</th>\n",
       "      <td>5.000000</td>\n",
       "      <td>5.000000</td>\n",
       "    </tr>\n",
       "    <tr>\n",
       "      <th>max</th>\n",
       "      <td>6.000000</td>\n",
       "      <td>6.000000</td>\n",
       "    </tr>\n",
       "  </tbody>\n",
       "</table>\n",
       "</div>"
      ],
      "text/plain": [
       "            Eff1       Eff2\n",
       "count  45.000000  45.000000\n",
       "mean    3.800000   4.244444\n",
       "std     1.099587   1.111010\n",
       "min     1.000000   2.000000\n",
       "25%     3.000000   3.000000\n",
       "50%     4.000000   4.000000\n",
       "75%     5.000000   5.000000\n",
       "max     6.000000   6.000000"
      ]
     },
     "execution_count": 129,
     "metadata": {},
     "output_type": "execute_result"
    }
   ],
   "source": [
    "vr_eff_df.describe()"
   ]
  },
  {
   "cell_type": "code",
   "execution_count": null,
   "id": "48e35945",
   "metadata": {},
   "outputs": [],
   "source": [
    "#vr_results_df.boxplot(column=['Baseline_GSR', 'Norm_Pretest_GSR' , 'Norm_Level_1_GSR', 'Norm_Level_2_GSR', 'Norm_Level_3_GSR', 'Norm_Level_4_GSR', 'Norm_Posttest_GSR'], figsize=(14,10),showmeans=True)\n",
    "#vr_results_df.boxplot(column=['Baseline_HR', 'Norm_Pretest_HR' , 'Norm_Level_1_HR', 'Norm_Level_2_HR', 'Norm_Level_3_HR', 'Norm_Level_4_HR', 'Norm_Posttest_HR'], figsize=(14,10),showmeans=True)\n",
    "#vr_results_df.boxplot(column=['Pretest_Time', 'Level_1_Time', 'Level_2_Time', 'Level_3_Time', 'Level_4_Time', 'Posttest_Time'], figsize=(10,10),showmeans=True)\n",
    "#vr_results_df.boxplot(column=['Pretest_Mistake_Time', 'Level_1_Mistake_Time', 'Level_2_Mistake_Time', 'Level_3_Mistake_Time', 'Level_4_Mistake_Time', 'Posttest_Mistake_Time'], figsize=(14,10),showmeans=True)"
   ]
  },
  {
   "cell_type": "markdown",
   "id": "8c25049b",
   "metadata": {},
   "source": [
    "VR vs Physical"
   ]
  },
  {
   "cell_type": "code",
   "execution_count": null,
   "id": "e97e540b",
   "metadata": {},
   "outputs": [
    {
     "name": "stdout",
     "output_type": "stream",
     "text": [
      "Physical\n",
      "Training Average GSR  3.3210652542692305\n",
      "Training Average HR  73.93263629705127\n",
      "Posttest Time Diff  -0.04828429249999999\n",
      "Posttest Mistake Time Diff  1.020256545\n",
      "VR\n",
      "Training Average GSR  2.7044273700530304\n",
      "Training Average HR  73.21465291727274\n",
      "Posttest Time Diff  1.3401363999999987\n",
      "Posttest Mistake Time Diff  1.2120566512195117\n"
     ]
    }
   ],
   "source": []
  },
  {
   "cell_type": "code",
   "execution_count": null,
   "id": "e958c0f4",
   "metadata": {},
   "outputs": [],
   "source": [
    "#ph_eff_df['Eff_diff'] = ph_eff_df['Eff2'] - ph_eff_df['Eff1']\n",
    "#vr_eff_df['Eff_diff'] = vr_eff_df['Eff2'] - vr_eff_df['Eff1']"
   ]
  },
  {
   "cell_type": "code",
   "execution_count": null,
   "id": "8e3519cd",
   "metadata": {},
   "outputs": [
    {
     "data": {
      "text/plain": [
       "count    45.000000\n",
       "mean      0.444444\n",
       "std       1.098668\n",
       "min      -2.000000\n",
       "25%       0.000000\n",
       "50%       1.000000\n",
       "75%       1.000000\n",
       "max       3.000000\n",
       "Name: Eff_diff, dtype: float64"
      ]
     },
     "execution_count": 141,
     "metadata": {},
     "output_type": "execute_result"
    }
   ],
   "source": [
    "#vr_eff_df['Eff_diff'].describe()"
   ]
  },
  {
   "cell_type": "code",
   "execution_count": 73,
   "id": "9701b15d",
   "metadata": {},
   "outputs": [],
   "source": []
  },
  {
   "cell_type": "code",
   "execution_count": null,
   "id": "6ce04b4d",
   "metadata": {},
   "outputs": [
    {
     "name": "stdout",
     "output_type": "stream",
     "text": [
      "MannwhitneyuResult(statistic=767.5, pvalue=0.058472133788943795)\n"
     ]
    }
   ],
   "source": [
    "print(stats.mannwhitneyu(x=ph_eff_df['Eff_diff'], y=vr_eff_df['Eff_diff'], alternative = 'less')) "
   ]
  },
  {
   "cell_type": "code",
   "execution_count": null,
   "id": "d8f6a114",
   "metadata": {},
   "outputs": [
    {
     "data": {
      "text/plain": [
       "count    41.000000\n",
       "mean      1.212057\n",
       "std       2.029335\n",
       "min      -2.590388\n",
       "25%      -0.013862\n",
       "50%       1.053452\n",
       "75%       1.688275\n",
       "max      10.733681\n",
       "Name: Mistake_Gain, dtype: float64"
      ]
     },
     "execution_count": 116,
     "metadata": {},
     "output_type": "execute_result"
    }
   ],
   "source": [
    "vr_results_df['Mistake_Gain'].describe()"
   ]
  },
  {
   "cell_type": "code",
   "execution_count": null,
   "id": "fae2ce0e",
   "metadata": {},
   "outputs": [
    {
     "data": {
      "text/plain": [
       "count    40.000000\n",
       "mean      1.020257\n",
       "std       1.144590\n",
       "min      -1.483373\n",
       "25%       0.221911\n",
       "50%       0.868675\n",
       "75%       1.638569\n",
       "max       3.616186\n",
       "Name: Mistake_Gain, dtype: float64"
      ]
     },
     "execution_count": 117,
     "metadata": {},
     "output_type": "execute_result"
    }
   ],
   "source": [
    "ph_results_df['Mistake_Gain'].describe()\n"
   ]
  },
  {
   "cell_type": "code",
   "execution_count": null,
   "id": "5ee6977b",
   "metadata": {},
   "outputs": [
    {
     "name": "stdout",
     "output_type": "stream",
     "text": [
      "MannwhitneyuResult(statistic=778.0, pvalue=0.3475203518468134)\n",
      "MannwhitneyuResult(statistic=811.0, pvalue=0.4680017108778346)\n",
      "MannwhitneyuResult(statistic=811.0, pvalue=0.4680017108778346)\n"
     ]
    }
   ],
   "source": [
    "print(stats.mannwhitneyu(x=ph_results_df['Time_Gain'], y=vr_results_df['Time_Gain'], alternative = 'less'))\n",
    "print(stats.mannwhitneyu(x=ph_results_df['Mistake_Gain'], y=vr_results_df['Mistake_Gain'], alternative = 'less'))\n"
   ]
  },
  {
   "cell_type": "code",
   "execution_count": null,
   "id": "369e92ff",
   "metadata": {},
   "outputs": [
    {
     "data": {
      "text/plain": [
       "count    39.000000\n",
       "mean     73.932636\n",
       "std      12.329238\n",
       "min      48.659722\n",
       "25%      64.084270\n",
       "50%      73.620016\n",
       "75%      80.801894\n",
       "max      97.710714\n",
       "Name: Avg_HR, dtype: float64"
      ]
     },
     "execution_count": 157,
     "metadata": {},
     "output_type": "execute_result"
    }
   ],
   "source": [
    "ph_results_df['Avg_HR'].describe()"
   ]
  },
  {
   "cell_type": "code",
   "execution_count": null,
   "id": "09db7833",
   "metadata": {},
   "outputs": [
    {
     "data": {
      "text/plain": [
       "count     33.000000\n",
       "mean      73.214653\n",
       "std       13.765000\n",
       "min       45.700435\n",
       "25%       64.848853\n",
       "50%       70.539719\n",
       "75%       78.948851\n",
       "max      111.919660\n",
       "Name: Avg_HR, dtype: float64"
      ]
     },
     "execution_count": 158,
     "metadata": {},
     "output_type": "execute_result"
    }
   ],
   "source": [
    "vr_results_df['Avg_HR'].describe()"
   ]
  },
  {
   "cell_type": "code",
   "execution_count": 79,
   "id": "3d71d6b6",
   "metadata": {},
   "outputs": [],
   "source": [
    "combined_results_df = pd.concat([ph_results_df, vr_results_df], axis=0)\n"
   ]
  },
  {
   "cell_type": "code",
   "execution_count": 80,
   "id": "b2af5872",
   "metadata": {},
   "outputs": [
    {
     "data": {
      "text/plain": [
       "Index(['Unnamed: 0', 'Participant_ID', 'Baseline_HR', 'Baseline_GSR',\n",
       "       'Pretest_Time', 'Pretest_Mistake_Time', 'Pretest_GSR', 'Pretest_HR',\n",
       "       'Level_1_Time', 'Level_1_Mistake_Time', 'Level_1_HR', 'Level_1_GSR',\n",
       "       'Level_2_Time', 'Level_2_Mistake_Time', 'Level_2_HR', 'Level_2_GSR',\n",
       "       'Level_3_Time', 'Level_3_Mistake_Time', 'Level_3_HR', 'Level_3_GSR',\n",
       "       'Level_4_Time', 'Level_4_Mistake_Time', 'Level_4_HR', 'Level_4_GSR',\n",
       "       'Posttest_Time', 'Posttest_Mistake_Time', 'Posttest_GSR', 'Posttest_HR',\n",
       "       'Norm_Pretest_HR', 'Norm_Pretest_GSR', 'Norm_Level_1_HR',\n",
       "       'Norm_Level_1_GSR', 'Norm_Level_2_HR', 'Norm_Level_2_GSR',\n",
       "       'Norm_Level_3_HR', 'Norm_Level_3_GSR', 'Norm_Level_4_HR',\n",
       "       'Norm_Level_4_GSR', 'Norm_Posttest_HR', 'Norm_Posttest_GSR',\n",
       "       'Norm_Pretest_Score', 'Norm_Level_1_Score', 'Norm_Level_2_Score',\n",
       "       'Norm_Level_3_Score', 'Norm_Level_4_Score', 'Condition', 'Time_Gain',\n",
       "       'Mistake_Gain', 'Avg_GSR', 'Avg_HR'],\n",
       "      dtype='object')"
      ]
     },
     "execution_count": 80,
     "metadata": {},
     "output_type": "execute_result"
    }
   ],
   "source": [
    "combined_results_df.columns"
   ]
  },
  {
   "cell_type": "code",
   "execution_count": 85,
   "id": "45803748",
   "metadata": {},
   "outputs": [
    {
     "name": "stderr",
     "output_type": "stream",
     "text": [
      "C:\\Users\\au657021\\AppData\\Local\\Continuum\\anaconda3\\envs\\buzz_env\\lib\\site-packages\\pandas\\core\\arraylike.py:364: RuntimeWarning: invalid value encountered in sqrt\n",
      "  result = getattr(ufunc, method)(*inputs, **kwargs)\n"
     ]
    }
   ],
   "source": [
    "#combined_results_df['Test_Score'] = 1 / np.sqrt(combined_results_df['Time_Gain'] * combined_results_df['Mistake_Gain'])"
   ]
  },
  {
   "cell_type": "code",
   "execution_count": 107,
   "id": "dd111589",
   "metadata": {},
   "outputs": [
    {
     "data": {
      "text/plain": [
       "<seaborn.axisgrid.FacetGrid at 0x1c9b279ae80>"
      ]
     },
     "execution_count": 107,
     "metadata": {},
     "output_type": "execute_result"
    },
    {
     "data": {
      "image/png": "[encoded data removed]",
      "text/plain": [
       "<Figure size 360x360 with 1 Axes>"
      ]
     },
     "metadata": {},
     "output_type": "display_data"
    }
   ],
   "source": [
    "sns.lmplot(data=combined_results_df, x=\"Avg_GSR\", y=\"Time_Gain\")"
   ]
  },
  {
   "cell_type": "code",
   "execution_count": 109,
   "id": "eab0ebe2",
   "metadata": {},
   "outputs": [
    {
     "data": {
      "text/plain": [
       "<seaborn.axisgrid.PairGrid at 0x1c9b307f040>"
      ]
     },
     "execution_count": 109,
     "metadata": {},
     "output_type": "execute_result"
    },
    {
     "data": {
      "image/png": "[encoded data removed]",
      "text/plain": [
       "<Figure size 360x360 with 4 Axes>"
      ]
     },
     "metadata": {},
     "output_type": "display_data"
    }
   ],
   "source": [
    "combined_results_df.rename(columns={'Avg_GSR': 'Avg GSR (Training)', 'Avg_HR': 'Avg HR (Training)', 'Time_Gain':'Task Completion Time (Gain)', 'Mistake_Gain':'Mistake Time (Gain)'}, inplace=True)\n",
    "sns.pairplot(\n",
    "    combined_results_df,\n",
    "    x_vars=[\"Avg GSR (Training)\", \"Avg HR (Training)\"],\n",
    "    y_vars=[\"Task Completion Time (Gain)\", \"Mistake Time (Gain)\"],\n",
    ")"
   ]
  },
  {
   "cell_type": "code",
   "execution_count": null,
   "id": "b143d939",
   "metadata": {},
   "outputs": [
    {
     "name": "stdout",
     "output_type": "stream",
     "text": [
      "SpearmanrResult(correlation=0.16605569489999358, pvalue=0.16329676385865172)\n"
     ]
    }
   ],
   "source": [
    "print(stats.spearmanr(a = combined_results_df['Avg_HR'], b = combined_results_df['Mistake_Gain'], nan_policy='omit'))\n"
   ]
  },
  {
   "cell_type": "code",
   "execution_count": null,
   "id": "d0da5b7e",
   "metadata": {},
   "outputs": [
    {
     "data": {
      "text/plain": [
       "72"
      ]
     },
     "execution_count": 183,
     "metadata": {},
     "output_type": "execute_result"
    }
   ],
   "source": [
    "combined_results_df['Avg_GSR'].count()"
   ]
  },
  {
   "cell_type": "code",
   "execution_count": null,
   "id": "e86ff631",
   "metadata": {},
   "outputs": [
    {
     "name": "stdout",
     "output_type": "stream",
     "text": [
      "SpearmanrResult(correlation=0.09585825455013183, pvalue=0.42313407378199486)\n",
      "SpearmanrResult(correlation=0.010965335391343494, pvalue=0.927160242932232)\n",
      "SpearmanrResult(correlation=-0.21429030805839602, pvalue=0.07067643877989238)\n"
     ]
    }
   ],
   "source": [
    "print(stats.spearmanr(combined_results_df['Avg_GSR'], combined_results_df['Mistake_Gain'], nan_policy='omit'))\n",
    "print(stats.spearmanr(combined_results_df['Avg_HR'], combined_results_df['Time_Gain'], nan_policy='omit'))\n",
    "print(stats.spearmanr(combined_results_df['Avg_GSR'], combined_results_df['Time_Gain'], nan_policy='omit'))"
   ]
  },
  {
   "cell_type": "code",
   "execution_count": null,
   "id": "cb0dda2c",
   "metadata": {},
   "outputs": [
    {
     "name": "stdout",
     "output_type": "stream",
     "text": [
      "SpearmanrResult(correlation=0.3560371517027864, pvalue=0.14702554764788864)\n",
      "SpearmanrResult(correlation=-0.09803921568627451, pvalue=0.6987424830235279)\n"
     ]
    }
   ],
   "source": [
    "combined_results_df_high_HR = combined_results_df[combined_results_df['Avg_HR'] > combined_results_df['Avg_HR'].quantile(0.75)]\n",
    "print(stats.spearmanr(combined_results_df_high_HR['Avg_HR'], combined_results_df_high_HR['Mistake_Gain'], nan_policy='omit'))\n",
    "print(stats.spearmanr(combined_results_df_high_HR['Avg_HR'], combined_results_df_high_HR['Time_Gain'], nan_policy='omit'))"
   ]
  },
  {
   "cell_type": "code",
   "execution_count": null,
   "id": "cd6233f1",
   "metadata": {},
   "outputs": [
    {
     "name": "stdout",
     "output_type": "stream",
     "text": [
      "SpearmanrResult(correlation=0.12972972972972976, pvalue=0.4507871465252461)\n",
      "SpearmanrResult(correlation=-0.05662805662805664, pvalue=0.7428808870113839)\n"
     ]
    }
   ],
   "source": [
    "combined_results_df_low_HR = combined_results_df[combined_results_df['Avg_HR'] < combined_results_df['Avg_HR'].quantile(0.25)]\n",
    "print(stats.spearmanr(combined_results_df_low_HR['Avg_HR'], combined_results_df_low_HR['Mistake_Gain'], nan_policy='omit'))\n",
    "print(stats.spearmanr(combined_results_df_low_HR['Avg_HR'], combined_results_df_low_HR['Time_Gain'], nan_policy='omit'))"
   ]
  },
  {
   "cell_type": "code",
   "execution_count": null,
   "id": "85c4f04a",
   "metadata": {},
   "outputs": [
    {
     "name": "stdout",
     "output_type": "stream",
     "text": [
      "SpearmanrResult(correlation=0.1479471788715486, pvalue=0.3052024577818458)\n",
      "SpearmanrResult(correlation=0.015702280912364946, pvalue=0.913813102725811)\n"
     ]
    }
   ],
   "source": [
    "combined_results_df_mid_HR = combined_results_df[(combined_results_df['Avg_HR'] > combined_results_df['Avg_HR'].quantile(0.15)) & (combined_results_df['Avg_HR'] < combined_results_df['Avg_HR'].quantile(0.85))]\n",
    "print(stats.spearmanr(combined_results_df_mid_HR['Avg_HR'], combined_results_df_mid_HR['Mistake_Gain'], nan_policy='omit'))\n",
    "print(stats.spearmanr(combined_results_df_mid_HR['Avg_HR'], combined_results_df_mid_HR['Time_Gain'], nan_policy='omit'))"
   ]
  },
  {
   "cell_type": "code",
   "execution_count": null,
   "id": "e3309e4a",
   "metadata": {},
   "outputs": [
    {
     "name": "stdout",
     "output_type": "stream",
     "text": [
      "SpearmanrResult(correlation=0.19716859716859722, pvalue=0.24906668175139635)\n"
     ]
    }
   ],
   "source": [
    "combined_results_df_hilo_hr = pd.concat([combined_results_df_high_HR, combined_results_df_low_HR], axis=0)\n",
    "print(stats.spearmanr(combined_results_df_hilo_hr['Avg_HR'], combined_results_df_hilo_hr['Mistake_Gain'], nan_policy='omit'))"
   ]
  },
  {
   "cell_type": "code",
   "execution_count": null,
   "id": "55193ee7",
   "metadata": {},
   "outputs": [
    {
     "name": "stdout",
     "output_type": "stream",
     "text": [
      "SpearmanrResult(correlation=-0.2507739938080495, pvalue=0.31551339595948574)\n",
      "SpearmanrResult(correlation=-0.1496388028895769, pvalue=0.5534228921214378)\n"
     ]
    }
   ],
   "source": [
    "combined_results_df_high_GSR = combined_results_df[combined_results_df['Avg_GSR'] > combined_results_df['Avg_GSR'].quantile(0.75)]\n",
    "print(stats.spearmanr(combined_results_df_high_GSR['Avg_GSR'], combined_results_df_high_GSR['Mistake_Gain'], nan_policy='omit'))\n",
    "print(stats.spearmanr(combined_results_df_high_GSR['Avg_GSR'], combined_results_df_high_GSR['Time_Gain'], nan_policy='omit'))"
   ]
  },
  {
   "cell_type": "code",
   "execution_count": null,
   "id": "19e1eb86",
   "metadata": {},
   "outputs": [
    {
     "name": "stdout",
     "output_type": "stream",
     "text": [
      "SpearmanrResult(correlation=-0.11867905056759545, pvalue=0.6390493358496443)\n",
      "SpearmanrResult(correlation=-0.31475748194014447, pvalue=0.20331354771785812)\n"
     ]
    }
   ],
   "source": [
    "combined_results_df_low_GSR = combined_results_df[combined_results_df['Avg_HR'] < combined_results_df['Avg_HR'].quantile(0.25)]\n",
    "print(stats.spearmanr(combined_results_df_low_GSR['Avg_GSR'], combined_results_df_low_GSR['Mistake_Gain'], nan_policy='omit'))\n",
    "print(stats.spearmanr(combined_results_df_low_GSR['Avg_GSR'], combined_results_df_low_GSR['Time_Gain'], nan_policy='omit'))"
   ]
  },
  {
   "cell_type": "code",
   "execution_count": null,
   "id": "5d0f0784",
   "metadata": {},
   "outputs": [
    {
     "name": "stderr",
     "output_type": "stream",
     "text": [
      "C:\\Users\\au657021\\AppData\\Local\\Continuum\\anaconda3\\envs\\buzz_env\\lib\\site-packages\\numpy\\lib\\function_base.py:4009: RuntimeWarning: invalid value encountered in subtract\n",
      "  diff_b_a = subtract(b, a)\n"
     ]
    },
    {
     "data": {
      "text/html": [
       "<div>\n",
       "<style scoped>\n",
       "    .dataframe tbody tr th:only-of-type {\n",
       "        vertical-align: middle;\n",
       "    }\n",
       "\n",
       "    .dataframe tbody tr th {\n",
       "        vertical-align: top;\n",
       "    }\n",
       "\n",
       "    .dataframe thead th {\n",
       "        text-align: right;\n",
       "    }\n",
       "</style>\n",
       "<table border=\"1\" class=\"dataframe\">\n",
       "  <thead>\n",
       "    <tr style=\"text-align: right;\">\n",
       "      <th></th>\n",
       "      <th>Unnamed: 0</th>\n",
       "      <th>Baseline_HR</th>\n",
       "      <th>Baseline_GSR</th>\n",
       "      <th>Pretest_Time</th>\n",
       "      <th>Pretest_Mistake_Time</th>\n",
       "      <th>Pretest_GSR</th>\n",
       "      <th>Pretest_HR</th>\n",
       "      <th>Level_1_Time</th>\n",
       "      <th>Level_1_Mistake_Time</th>\n",
       "      <th>Level_1_HR</th>\n",
       "      <th>...</th>\n",
       "      <th>Norm_Level_3_HR</th>\n",
       "      <th>Norm_Level_3_GSR</th>\n",
       "      <th>Norm_Level_4_HR</th>\n",
       "      <th>Norm_Level_4_GSR</th>\n",
       "      <th>Norm_Posttest_HR</th>\n",
       "      <th>Norm_Posttest_GSR</th>\n",
       "      <th>Time_Gain</th>\n",
       "      <th>Mistake_Gain</th>\n",
       "      <th>Avg_GSR</th>\n",
       "      <th>Avg_HR</th>\n",
       "    </tr>\n",
       "  </thead>\n",
       "  <tbody>\n",
       "    <tr>\n",
       "      <th>count</th>\n",
       "      <td>40.000000</td>\n",
       "      <td>39.000000</td>\n",
       "      <td>39.000000</td>\n",
       "      <td>40.000000</td>\n",
       "      <td>40.000000</td>\n",
       "      <td>39.000000</td>\n",
       "      <td>39.000000</td>\n",
       "      <td>39.000000</td>\n",
       "      <td>39.000000</td>\n",
       "      <td>39.000000</td>\n",
       "      <td>...</td>\n",
       "      <td>33.000000</td>\n",
       "      <td>33.000000</td>\n",
       "      <td>33.000000</td>\n",
       "      <td>33.000000</td>\n",
       "      <td>33.000000</td>\n",
       "      <td>32.000000</td>\n",
       "      <td>41.000000</td>\n",
       "      <td>41.000000</td>\n",
       "      <td>33.000000</td>\n",
       "      <td>33.000000</td>\n",
       "    </tr>\n",
       "    <tr>\n",
       "      <th>mean</th>\n",
       "      <td>19.500000</td>\n",
       "      <td>74.907976</td>\n",
       "      <td>1.638849</td>\n",
       "      <td>21.983323</td>\n",
       "      <td>3.138121</td>\n",
       "      <td>3.105645</td>\n",
       "      <td>79.636630</td>\n",
       "      <td>8.740348</td>\n",
       "      <td>0.191531</td>\n",
       "      <td>74.889141</td>\n",
       "      <td>...</td>\n",
       "      <td>72.337447</td>\n",
       "      <td>2.775583</td>\n",
       "      <td>73.225575</td>\n",
       "      <td>2.913297</td>\n",
       "      <td>76.397509</td>\n",
       "      <td>3.562960</td>\n",
       "      <td>1.340136</td>\n",
       "      <td>1.212057</td>\n",
       "      <td>2.704427</td>\n",
       "      <td>73.214653</td>\n",
       "    </tr>\n",
       "    <tr>\n",
       "      <th>std</th>\n",
       "      <td>11.690452</td>\n",
       "      <td>12.295171</td>\n",
       "      <td>1.222840</td>\n",
       "      <td>12.002677</td>\n",
       "      <td>1.581298</td>\n",
       "      <td>2.539813</td>\n",
       "      <td>13.241658</td>\n",
       "      <td>3.952119</td>\n",
       "      <td>0.275587</td>\n",
       "      <td>12.719334</td>\n",
       "      <td>...</td>\n",
       "      <td>13.223825</td>\n",
       "      <td>3.102874</td>\n",
       "      <td>13.303283</td>\n",
       "      <td>3.073179</td>\n",
       "      <td>13.900464</td>\n",
       "      <td>3.437163</td>\n",
       "      <td>8.460420</td>\n",
       "      <td>2.029335</td>\n",
       "      <td>3.076615</td>\n",
       "      <td>13.765000</td>\n",
       "    </tr>\n",
       "    <tr>\n",
       "      <th>min</th>\n",
       "      <td>0.000000</td>\n",
       "      <td>49.836066</td>\n",
       "      <td>0.388673</td>\n",
       "      <td>8.458740</td>\n",
       "      <td>0.000000</td>\n",
       "      <td>0.252664</td>\n",
       "      <td>54.466667</td>\n",
       "      <td>4.038280</td>\n",
       "      <td>0.000000</td>\n",
       "      <td>51.000000</td>\n",
       "      <td>...</td>\n",
       "      <td>48.904762</td>\n",
       "      <td>-0.391428</td>\n",
       "      <td>43.925926</td>\n",
       "      <td>-0.362710</td>\n",
       "      <td>49.055556</td>\n",
       "      <td>-0.057359</td>\n",
       "      <td>-19.471416</td>\n",
       "      <td>-2.590388</td>\n",
       "      <td>-0.398094</td>\n",
       "      <td>45.700435</td>\n",
       "    </tr>\n",
       "    <tr>\n",
       "      <th>25%</th>\n",
       "      <td>9.750000</td>\n",
       "      <td>66.208619</td>\n",
       "      <td>0.821497</td>\n",
       "      <td>13.955063</td>\n",
       "      <td>2.149136</td>\n",
       "      <td>1.594634</td>\n",
       "      <td>68.371528</td>\n",
       "      <td>6.028757</td>\n",
       "      <td>0.000000</td>\n",
       "      <td>65.215909</td>\n",
       "      <td>...</td>\n",
       "      <td>63.424242</td>\n",
       "      <td>1.274730</td>\n",
       "      <td>66.337838</td>\n",
       "      <td>1.586777</td>\n",
       "      <td>67.900000</td>\n",
       "      <td>1.640301</td>\n",
       "      <td>-4.778246</td>\n",
       "      <td>-0.013862</td>\n",
       "      <td>1.264140</td>\n",
       "      <td>64.848853</td>\n",
       "    </tr>\n",
       "    <tr>\n",
       "      <th>50%</th>\n",
       "      <td>19.500000</td>\n",
       "      <td>76.407080</td>\n",
       "      <td>1.225052</td>\n",
       "      <td>18.793420</td>\n",
       "      <td>2.962966</td>\n",
       "      <td>2.151845</td>\n",
       "      <td>79.366667</td>\n",
       "      <td>7.407319</td>\n",
       "      <td>0.092889</td>\n",
       "      <td>76.000000</td>\n",
       "      <td>...</td>\n",
       "      <td>70.578947</td>\n",
       "      <td>2.018353</td>\n",
       "      <td>70.210526</td>\n",
       "      <td>2.102728</td>\n",
       "      <td>74.566667</td>\n",
       "      <td>2.604463</td>\n",
       "      <td>1.490965</td>\n",
       "      <td>1.053452</td>\n",
       "      <td>1.879275</td>\n",
       "      <td>70.539719</td>\n",
       "    </tr>\n",
       "    <tr>\n",
       "      <th>75%</th>\n",
       "      <td>29.250000</td>\n",
       "      <td>84.449404</td>\n",
       "      <td>2.214465</td>\n",
       "      <td>26.257368</td>\n",
       "      <td>3.940936</td>\n",
       "      <td>3.861507</td>\n",
       "      <td>88.063235</td>\n",
       "      <td>10.465781</td>\n",
       "      <td>0.281453</td>\n",
       "      <td>83.392857</td>\n",
       "      <td>...</td>\n",
       "      <td>76.903226</td>\n",
       "      <td>2.874541</td>\n",
       "      <td>78.636364</td>\n",
       "      <td>3.075578</td>\n",
       "      <td>82.097561</td>\n",
       "      <td>3.950630</td>\n",
       "      <td>5.845163</td>\n",
       "      <td>1.688275</td>\n",
       "      <td>2.795485</td>\n",
       "      <td>78.948851</td>\n",
       "    </tr>\n",
       "    <tr>\n",
       "      <th>max</th>\n",
       "      <td>39.000000</td>\n",
       "      <td>96.401384</td>\n",
       "      <td>5.098206</td>\n",
       "      <td>71.426308</td>\n",
       "      <td>8.981445</td>\n",
       "      <td>10.820270</td>\n",
       "      <td>106.718750</td>\n",
       "      <td>24.004306</td>\n",
       "      <td>1.291825</td>\n",
       "      <td>101.200000</td>\n",
       "      <td>...</td>\n",
       "      <td>111.548387</td>\n",
       "      <td>14.945498</td>\n",
       "      <td>110.391304</td>\n",
       "      <td>14.350258</td>\n",
       "      <td>113.581395</td>\n",
       "      <td>14.677046</td>\n",
       "      <td>29.535441</td>\n",
       "      <td>10.733681</td>\n",
       "      <td>14.613092</td>\n",
       "      <td>111.919660</td>\n",
       "    </tr>\n",
       "  </tbody>\n",
       "</table>\n",
       "<p>8 rows × 91 columns</p>\n",
       "</div>"
      ],
      "text/plain": [
       "       Unnamed: 0  Baseline_HR  Baseline_GSR  Pretest_Time  \\\n",
       "count   40.000000    39.000000     39.000000     40.000000   \n",
       "mean    19.500000    74.907976      1.638849     21.983323   \n",
       "std     11.690452    12.295171      1.222840     12.002677   \n",
       "min      0.000000    49.836066      0.388673      8.458740   \n",
       "25%      9.750000    66.208619      0.821497     13.955063   \n",
       "50%     19.500000    76.407080      1.225052     18.793420   \n",
       "75%     29.250000    84.449404      2.214465     26.257368   \n",
       "max     39.000000    96.401384      5.098206     71.426308   \n",
       "\n",
       "       Pretest_Mistake_Time  Pretest_GSR  Pretest_HR  Level_1_Time  \\\n",
       "count             40.000000    39.000000   39.000000     39.000000   \n",
       "mean               3.138121     3.105645   79.636630      8.740348   \n",
       "std                1.581298     2.539813   13.241658      3.952119   \n",
       "min                0.000000     0.252664   54.466667      4.038280   \n",
       "25%                2.149136     1.594634   68.371528      6.028757   \n",
       "50%                2.962966     2.151845   79.366667      7.407319   \n",
       "75%                3.940936     3.861507   88.063235     10.465781   \n",
       "max                8.981445    10.820270  106.718750     24.004306   \n",
       "\n",
       "       Level_1_Mistake_Time  Level_1_HR  ...  Norm_Level_3_HR  \\\n",
       "count             39.000000   39.000000  ...        33.000000   \n",
       "mean               0.191531   74.889141  ...        72.337447   \n",
       "std                0.275587   12.719334  ...        13.223825   \n",
       "min                0.000000   51.000000  ...        48.904762   \n",
       "25%                0.000000   65.215909  ...        63.424242   \n",
       "50%                0.092889   76.000000  ...        70.578947   \n",
       "75%                0.281453   83.392857  ...        76.903226   \n",
       "max                1.291825  101.200000  ...       111.548387   \n",
       "\n",
       "       Norm_Level_3_GSR  Norm_Level_4_HR  Norm_Level_4_GSR  Norm_Posttest_HR  \\\n",
       "count         33.000000        33.000000         33.000000         33.000000   \n",
       "mean           2.775583        73.225575          2.913297         76.397509   \n",
       "std            3.102874        13.303283          3.073179         13.900464   \n",
       "min           -0.391428        43.925926         -0.362710         49.055556   \n",
       "25%            1.274730        66.337838          1.586777         67.900000   \n",
       "50%            2.018353        70.210526          2.102728         74.566667   \n",
       "75%            2.874541        78.636364          3.075578         82.097561   \n",
       "max           14.945498       110.391304         14.350258        113.581395   \n",
       "\n",
       "       Norm_Posttest_GSR  Time_Gain  Mistake_Gain    Avg_GSR      Avg_HR  \n",
       "count          32.000000  41.000000     41.000000  33.000000   33.000000  \n",
       "mean            3.562960   1.340136      1.212057   2.704427   73.214653  \n",
       "std             3.437163   8.460420      2.029335   3.076615   13.765000  \n",
       "min            -0.057359 -19.471416     -2.590388  -0.398094   45.700435  \n",
       "25%             1.640301  -4.778246     -0.013862   1.264140   64.848853  \n",
       "50%             2.604463   1.490965      1.053452   1.879275   70.539719  \n",
       "75%             3.950630   5.845163      1.688275   2.795485   78.948851  \n",
       "max            14.677046  29.535441     10.733681  14.613092  111.919660  \n",
       "\n",
       "[8 rows x 91 columns]"
      ]
     },
     "execution_count": 160,
     "metadata": {},
     "output_type": "execute_result"
    }
   ],
   "source": [
    "combined_results_df.describe()"
   ]
  },
  {
   "cell_type": "code",
   "execution_count": null,
   "id": "eb4a8a3a",
   "metadata": {},
   "outputs": [
    {
     "name": "stdout",
     "output_type": "stream",
     "text": [
      "MannwhitneyuResult(statistic=542.0, pvalue=0.12683894842626298)\n",
      "MannwhitneyuResult(statistic=596.0, pvalue=0.29764869379041836)\n"
     ]
    }
   ],
   "source": [
    "print(stats.mannwhitneyu(x=vr_results_df['Avg_GSR'].dropna(), y=ph_results_df['Avg_GSR'].dropna(), alternative = 'less'))\n",
    "print(stats.mannwhitneyu(x=vr_results_df['Avg_HR'].dropna(), y=ph_results_df['Avg_HR'].dropna(), alternative = 'less'))"
   ]
  },
  {
   "cell_type": "code",
   "execution_count": null,
   "id": "45e1f7b8",
   "metadata": {},
   "outputs": [
    {
     "name": "stdout",
     "output_type": "stream",
     "text": [
      "Shapiro test for normality (Not normal if p-value is less than 0.05)\n",
      "Baseline_GSR  - shapiro test p-value less than 0.05 -  True\n",
      "Norm_Pretest_GSR  - shapiro test p-value less than 0.05 -  True\n",
      "Norm_Level_1_GSR  - shapiro test p-value less than 0.05 -  True\n",
      "Norm_Level_2_GSR  - shapiro test p-value less than 0.05 -  True\n",
      "Norm_Level_3_GSR  - shapiro test p-value less than 0.05 -  True\n",
      "Norm_Level_4_GSR  - shapiro test p-value less than 0.05 -  True\n",
      "Norm_Posttest_GSR  - shapiro test p-value less than 0.05 -  True\n",
      "Baseline_HR  - shapiro test p-value less than 0.05 -  False\n",
      "Norm_Pretest_HR  - shapiro test p-value less than 0.05 -  False\n",
      "Norm_Level_1_HR  - shapiro test p-value less than 0.05 -  False\n",
      "Norm_Level_2_HR  - shapiro test p-value less than 0.05 -  False\n",
      "Norm_Level_3_HR  - shapiro test p-value less than 0.05 -  True\n",
      "Norm_Level_4_HR  - shapiro test p-value less than 0.05 -  False\n",
      "Norm_Posttest_HR  - shapiro test p-value less than 0.05 -  False\n",
      "Pretest_Time  - shapiro test p-value less than 0.05 -  False\n",
      "Pretest_Mistake_Time  - shapiro test p-value less than 0.05 -  True\n",
      "Posttest_Time  - shapiro test p-value less than 0.05 -  True\n",
      "Posttest_Mistake_Time  - shapiro test p-value less than 0.05 -  False\n",
      "Time_Gain  - shapiro test p-value less than 0.05 -  False\n",
      "Mistake_Gain  - shapiro test p-value less than 0.05 -  True\n"
     ]
    }
   ],
   "source": [
    "print(\"Shapiro test for normality (Not normal if p-value is less than 0.05)\")\n",
    "\n",
    "for column in ['Baseline_GSR', 'Norm_Pretest_GSR' , 'Norm_Level_1_GSR', 'Norm_Level_2_GSR', 'Norm_Level_3_GSR', 'Norm_Level_4_GSR', 'Norm_Posttest_GSR', 'Baseline_HR', 'Norm_Pretest_HR' , 'Norm_Level_1_HR', 'Norm_Level_2_HR', 'Norm_Level_3_HR', 'Norm_Level_4_HR', 'Norm_Posttest_HR', 'Pretest_Time', 'Pretest_Mistake_Time', 'Posttest_Time', 'Posttest_Mistake_Time', 'Time_Gain', 'Mistake_Gain']:\n",
    "    print(column, \" - shapiro test p-value less than 0.05 - \", stats.shapiro(vr_results_df[vr_results_df[column].notna()][column]).pvalue < 0.05) #Not normal if p-value is less than 0.05"
   ]
  },
  {
   "cell_type": "code",
   "execution_count": null,
   "id": "d288884f",
   "metadata": {},
   "outputs": [
    {
     "name": "stdout",
     "output_type": "stream",
     "text": [
      "Shapiro test for normality (Not normal if p-value is less than 0.05)\n",
      "Baseline_GSR  - shapiro test p-value less than 0.05 -  True\n",
      "Norm_Pretest_GSR  - shapiro test p-value less than 0.05 -  True\n",
      "Norm_Level_1_GSR  - shapiro test p-value less than 0.05 -  True\n",
      "Norm_Level_2_GSR  - shapiro test p-value less than 0.05 -  True\n",
      "Norm_Level_3_GSR  - shapiro test p-value less than 0.05 -  True\n",
      "Norm_Level_4_GSR  - shapiro test p-value less than 0.05 -  True\n",
      "Norm_Posttest_GSR  - shapiro test p-value less than 0.05 -  True\n",
      "Baseline_HR  - shapiro test p-value less than 0.05 -  False\n",
      "Norm_Pretest_HR  - shapiro test p-value less than 0.05 -  False\n",
      "Norm_Level_1_HR  - shapiro test p-value less than 0.05 -  False\n",
      "Norm_Level_2_HR  - shapiro test p-value less than 0.05 -  False\n",
      "Norm_Level_3_HR  - shapiro test p-value less than 0.05 -  False\n",
      "Norm_Level_4_HR  - shapiro test p-value less than 0.05 -  False\n",
      "Norm_Posttest_HR  - shapiro test p-value less than 0.05 -  True\n",
      "Pretest_Time  - shapiro test p-value less than 0.05 -  True\n",
      "Pretest_Mistake_Time  - shapiro test p-value less than 0.05 -  True\n",
      "Posttest_Time  - shapiro test p-value less than 0.05 -  True\n",
      "Posttest_Mistake_Time  - shapiro test p-value less than 0.05 -  True\n",
      "Time_Gain  - shapiro test p-value less than 0.05 -  True\n",
      "Mistake_Gain  - shapiro test p-value less than 0.05 -  False\n"
     ]
    },
    {
     "name": "stderr",
     "output_type": "stream",
     "text": [
      "C:\\Users\\au657021\\AppData\\Local\\Temp\\ipykernel_22024\\1593316478.py:4: UserWarning: Boolean Series key will be reindexed to match DataFrame index.\n",
      "  print(column, \" - shapiro test p-value less than 0.05 - \", stats.shapiro(ph_results_df[vr_results_df[column].notna()][column]).pvalue < 0.05) #Not normal if p-value is less than 0.05\n"
     ]
    }
   ],
   "source": [
    "print(\"Shapiro test for normality (Not normal if p-value is less than 0.05)\")\n",
    "\n",
    "for column in ['Baseline_GSR', 'Norm_Pretest_GSR' , 'Norm_Level_1_GSR', 'Norm_Level_2_GSR', 'Norm_Level_3_GSR', 'Norm_Level_4_GSR', 'Norm_Posttest_GSR', 'Baseline_HR', 'Norm_Pretest_HR' , 'Norm_Level_1_HR', 'Norm_Level_2_HR', 'Norm_Level_3_HR', 'Norm_Level_4_HR', 'Norm_Posttest_HR', 'Pretest_Time', 'Pretest_Mistake_Time', 'Posttest_Time', 'Posttest_Mistake_Time', 'Time_Gain', 'Mistake_Gain']:\n",
    "    print(column, \" - shapiro test p-value less than 0.05 - \", stats.shapiro(ph_results_df[vr_results_df[column].notna()][column]).pvalue < 0.05) #Not normal if p-value is less than 0.05"
   ]
  },
  {
   "cell_type": "code",
   "execution_count": null,
   "id": "8bd8b258",
   "metadata": {},
   "outputs": [
    {
     "name": "stdout",
     "output_type": "stream",
     "text": [
      "LeveneResult(statistic=nan, pvalue=nan)\n",
      "LeveneResult(statistic=nan, pvalue=nan)\n",
      "LeveneResult(statistic=nan, pvalue=nan)\n",
      "LeveneResult(statistic=nan, pvalue=nan)\n",
      "LeveneResult(statistic=nan, pvalue=nan)\n",
      "LeveneResult(statistic=nan, pvalue=nan)\n",
      "LeveneResult(statistic=nan, pvalue=nan)\n",
      "LeveneResult(statistic=nan, pvalue=nan)\n",
      "LeveneResult(statistic=nan, pvalue=nan)\n",
      "LeveneResult(statistic=nan, pvalue=nan)\n"
     ]
    }
   ],
   "source": [
    "#Levene's test for equal variances\n",
    "print(stats.levene(ph_results_df['Norm_Pretest_HR'], vr_results_df['Norm_Pretest_HR'], center='median'))\n",
    "print(stats.levene(ph_results_df['Norm_Level_1_HR'], vr_results_df['Norm_Level_1_HR'], center='median'))\n",
    "print(stats.levene(ph_results_df['Norm_Level_2_HR'], vr_results_df['Norm_Level_2_HR'], center='median'))\n",
    "print(stats.levene(ph_results_df['Norm_Level_3_HR'], vr_results_df['Norm_Level_3_HR'], center='median'))\n",
    "print(stats.levene(ph_results_df['Norm_Level_4_HR'], vr_results_df['Norm_Level_4_HR'], center='median'))\n",
    "\n",
    "print(stats.levene(ph_results_df['Norm_Pretest_GSR'], vr_results_df['Norm_Pretest_GSR'], center='median'))\n",
    "print(stats.levene(ph_results_df['Norm_Level_1_GSR'], vr_results_df['Norm_Level_1_GSR'], center='median'))\n",
    "print(stats.levene(ph_results_df['Norm_Level_2_GSR'], vr_results_df['Norm_Level_2_GSR'], center='median'))\n",
    "print(stats.levene(ph_results_df['Norm_Level_3_GSR'], vr_results_df['Norm_Level_3_GSR'], center='median'))\n",
    "print(stats.levene(ph_results_df['Norm_Level_4_GSR'], vr_results_df['Norm_Level_4_GSR'], center='median'))"
   ]
  },
  {
   "cell_type": "code",
   "execution_count": 75,
   "id": "eebf2184",
   "metadata": {},
   "outputs": [],
   "source": [
    "vr_eff_df['Condition'] = 'VR'\n",
    "ph_eff_df['Condition'] = 'Physical'\n",
    "combined_eff_df = pd.concat([vr_eff_df, ph_eff_df])"
   ]
  },
  {
   "cell_type": "code",
   "execution_count": 77,
   "id": "5012a99a",
   "metadata": {},
   "outputs": [
    {
     "data": {
      "text/html": [
       "<div>\n",
       "<style scoped>\n",
       "    .dataframe tbody tr th:only-of-type {\n",
       "        vertical-align: middle;\n",
       "    }\n",
       "\n",
       "    .dataframe tbody tr th {\n",
       "        vertical-align: top;\n",
       "    }\n",
       "\n",
       "    .dataframe thead th {\n",
       "        text-align: right;\n",
       "    }\n",
       "</style>\n",
       "<table border=\"1\" class=\"dataframe\">\n",
       "  <thead>\n",
       "    <tr style=\"text-align: right;\">\n",
       "      <th></th>\n",
       "      <th>Condition</th>\n",
       "      <th>Self-efficacy</th>\n",
       "      <th>Efficacy Level</th>\n",
       "    </tr>\n",
       "  </thead>\n",
       "  <tbody>\n",
       "    <tr>\n",
       "      <th>0</th>\n",
       "      <td>VR</td>\n",
       "      <td>Pre-training</td>\n",
       "      <td>5</td>\n",
       "    </tr>\n",
       "    <tr>\n",
       "      <th>1</th>\n",
       "      <td>VR</td>\n",
       "      <td>Pre-training</td>\n",
       "      <td>5</td>\n",
       "    </tr>\n",
       "    <tr>\n",
       "      <th>2</th>\n",
       "      <td>VR</td>\n",
       "      <td>Pre-training</td>\n",
       "      <td>5</td>\n",
       "    </tr>\n",
       "    <tr>\n",
       "      <th>3</th>\n",
       "      <td>VR</td>\n",
       "      <td>Pre-training</td>\n",
       "      <td>4</td>\n",
       "    </tr>\n",
       "    <tr>\n",
       "      <th>4</th>\n",
       "      <td>VR</td>\n",
       "      <td>Pre-training</td>\n",
       "      <td>4</td>\n",
       "    </tr>\n",
       "    <tr>\n",
       "      <th>...</th>\n",
       "      <td>...</td>\n",
       "      <td>...</td>\n",
       "      <td>...</td>\n",
       "    </tr>\n",
       "    <tr>\n",
       "      <th>169</th>\n",
       "      <td>Physical</td>\n",
       "      <td>Post-training</td>\n",
       "      <td>3</td>\n",
       "    </tr>\n",
       "    <tr>\n",
       "      <th>170</th>\n",
       "      <td>Physical</td>\n",
       "      <td>Post-training</td>\n",
       "      <td>6</td>\n",
       "    </tr>\n",
       "    <tr>\n",
       "      <th>171</th>\n",
       "      <td>Physical</td>\n",
       "      <td>Post-training</td>\n",
       "      <td>4</td>\n",
       "    </tr>\n",
       "    <tr>\n",
       "      <th>172</th>\n",
       "      <td>Physical</td>\n",
       "      <td>Post-training</td>\n",
       "      <td>4</td>\n",
       "    </tr>\n",
       "    <tr>\n",
       "      <th>173</th>\n",
       "      <td>Physical</td>\n",
       "      <td>Post-training</td>\n",
       "      <td>5</td>\n",
       "    </tr>\n",
       "  </tbody>\n",
       "</table>\n",
       "<p>174 rows × 3 columns</p>\n",
       "</div>"
      ],
      "text/plain": [
       "    Condition  Self-efficacy  Efficacy Level\n",
       "0          VR   Pre-training               5\n",
       "1          VR   Pre-training               5\n",
       "2          VR   Pre-training               5\n",
       "3          VR   Pre-training               4\n",
       "4          VR   Pre-training               4\n",
       "..        ...            ...             ...\n",
       "169  Physical  Post-training               3\n",
       "170  Physical  Post-training               6\n",
       "171  Physical  Post-training               4\n",
       "172  Physical  Post-training               4\n",
       "173  Physical  Post-training               5\n",
       "\n",
       "[174 rows x 3 columns]"
      ]
     },
     "execution_count": 77,
     "metadata": {},
     "output_type": "execute_result"
    }
   ],
   "source": [
    "combined_eff_df\n",
    "#combined_eff_df = combined_results_df[['Pretest_Mistake_Time', 'Posttest_Mistake_Time', 'Condition']].copy()\n",
    "combined_eff_df.rename(columns={'Eff1': 'Pre-training', 'Eff2': 'Post-training'}, inplace=True)\n",
    "combined_eff_df_long = combined_eff_df.melt(id_vars=['Condition'], var_name='Self-efficacy', value_name='Efficacy Level')\n",
    "combined_eff_df_long"
   ]
  },
  {
   "cell_type": "code",
   "execution_count": 78,
   "id": "79254627",
   "metadata": {},
   "outputs": [
    {
     "name": "stderr",
     "output_type": "stream",
     "text": [
      "C:\\Users\\au657021\\AppData\\Local\\Continuum\\anaconda3\\envs\\buzz_env\\lib\\site-packages\\seaborn\\categorical.py:3750: UserWarning: The `size` parameter has been renamed to `height`; please update your code.\n",
      "  warnings.warn(msg, UserWarning)\n"
     ]
    },
    {
     "data": {
      "text/plain": [
       "<seaborn.axisgrid.FacetGrid at 0x1c9af7376a0>"
      ]
     },
     "execution_count": 78,
     "metadata": {},
     "output_type": "execute_result"
    },
    {
     "data": {
      "image/png": "[encoded data removed]",
      "text/plain": [
       "<Figure size 944.6x576 with 1 Axes>"
      ]
     },
     "metadata": {},
     "output_type": "display_data"
    }
   ],
   "source": [
    "sns.catplot(x='Self-efficacy', y='Efficacy Level', dodge = True, hue= 'Condition', kind=\"point\", data=combined_eff_df_long, size=8, aspect=1.5, capsize=.04)"
   ]
  },
  {
   "cell_type": "code",
   "execution_count": 35,
   "id": "31003645",
   "metadata": {},
   "outputs": [],
   "source": [
    "vr_results_df['Condition'] = 'VR'\n",
    "ph_results_df['Condition'] = 'Physical'"
   ]
  },
  {
   "cell_type": "code",
   "execution_count": 36,
   "id": "40f75c13",
   "metadata": {},
   "outputs": [
    {
     "data": {
      "text/plain": [
       "Index(['Unnamed: 0', 'Participant_ID', 'Baseline_HR', 'Baseline_GSR',\n",
       "       'Pretest_Time', 'Pretest_Mistake_Time', 'Pretest_GSR', 'Pretest_HR',\n",
       "       'Level_1_Time', 'Level_1_Mistake_Time', 'Level_1_HR', 'Level_1_GSR',\n",
       "       'Level_2_Time', 'Level_2_Mistake_Time', 'Level_2_HR', 'Level_2_GSR',\n",
       "       'Level_3_Time', 'Level_3_Mistake_Time', 'Level_3_HR', 'Level_3_GSR',\n",
       "       'Level_4_Time', 'Level_4_Mistake_Time', 'Level_4_HR', 'Level_4_GSR',\n",
       "       'Posttest_Time', 'Posttest_Mistake_Time', 'Posttest_GSR', 'Posttest_HR',\n",
       "       'Condition', 'Time_Gain', 'Mistake_Gain', 'Norm_Pretest_HR',\n",
       "       'Norm_Pretest_GSR', 'Norm_Level_1_HR', 'Norm_Level_1_GSR',\n",
       "       'Norm_Level_2_HR', 'Norm_Level_2_GSR', 'Norm_Level_3_HR',\n",
       "       'Norm_Level_3_GSR', 'Norm_Level_4_HR', 'Norm_Level_4_GSR',\n",
       "       'Norm_Posttest_HR', 'Norm_Posttest_GSR', 'Avg_GSR', 'Avg_HR'],\n",
       "      dtype='object')"
      ]
     },
     "execution_count": 36,
     "metadata": {},
     "output_type": "execute_result"
    }
   ],
   "source": [
    "vr_results_df.columns"
   ]
  },
  {
   "cell_type": "code",
   "execution_count": 65,
   "id": "a12580c9",
   "metadata": {},
   "outputs": [],
   "source": [
    "combined_results_df = pd.concat([vr_results_df, ph_results_df])\n",
    "#combined_results_df = combined_results_df[['Pretest_Time', 'Posttest_Time', 'Condition']].copy()\n",
    "combined_results_df = combined_results_df[['Pretest_Mistake_Time', 'Posttest_Mistake_Time', 'Condition']].copy()\n",
    "combined_results_df.rename(columns={'Pretest_Mistake_Time': 'Pretest', 'Posttest_Mistake_Time': 'Posttest'}, inplace=True)\n",
    "combined_results_df_long = combined_results_df.melt(id_vars=['Condition'], var_name='Test', value_name='Time')"
   ]
  },
  {
   "cell_type": "code",
   "execution_count": 49,
   "id": "ae408674",
   "metadata": {},
   "outputs": [
    {
     "data": {
      "text/html": [
       "<div>\n",
       "<style scoped>\n",
       "    .dataframe tbody tr th:only-of-type {\n",
       "        vertical-align: middle;\n",
       "    }\n",
       "\n",
       "    .dataframe tbody tr th {\n",
       "        vertical-align: top;\n",
       "    }\n",
       "\n",
       "    .dataframe thead th {\n",
       "        text-align: right;\n",
       "    }\n",
       "</style>\n",
       "<table border=\"1\" class=\"dataframe\">\n",
       "  <thead>\n",
       "    <tr style=\"text-align: right;\">\n",
       "      <th></th>\n",
       "      <th>Condition</th>\n",
       "      <th>Variable</th>\n",
       "      <th>Time</th>\n",
       "    </tr>\n",
       "  </thead>\n",
       "  <tbody>\n",
       "    <tr>\n",
       "      <th>0</th>\n",
       "      <td>VR</td>\n",
       "      <td>Pretest_Time</td>\n",
       "      <td>24.540540</td>\n",
       "    </tr>\n",
       "    <tr>\n",
       "      <th>1</th>\n",
       "      <td>VR</td>\n",
       "      <td>Pretest_Time</td>\n",
       "      <td>36.800053</td>\n",
       "    </tr>\n",
       "    <tr>\n",
       "      <th>2</th>\n",
       "      <td>VR</td>\n",
       "      <td>Pretest_Time</td>\n",
       "      <td>37.060505</td>\n",
       "    </tr>\n",
       "    <tr>\n",
       "      <th>3</th>\n",
       "      <td>VR</td>\n",
       "      <td>Pretest_Time</td>\n",
       "      <td>27.061413</td>\n",
       "    </tr>\n",
       "    <tr>\n",
       "      <th>4</th>\n",
       "      <td>VR</td>\n",
       "      <td>Pretest_Time</td>\n",
       "      <td>39.901130</td>\n",
       "    </tr>\n",
       "    <tr>\n",
       "      <th>...</th>\n",
       "      <td>...</td>\n",
       "      <td>...</td>\n",
       "      <td>...</td>\n",
       "    </tr>\n",
       "    <tr>\n",
       "      <th>157</th>\n",
       "      <td>Physical</td>\n",
       "      <td>Posttest_Time</td>\n",
       "      <td>18.503739</td>\n",
       "    </tr>\n",
       "    <tr>\n",
       "      <th>158</th>\n",
       "      <td>Physical</td>\n",
       "      <td>Posttest_Time</td>\n",
       "      <td>22.779398</td>\n",
       "    </tr>\n",
       "    <tr>\n",
       "      <th>159</th>\n",
       "      <td>Physical</td>\n",
       "      <td>Posttest_Time</td>\n",
       "      <td>18.156550</td>\n",
       "    </tr>\n",
       "    <tr>\n",
       "      <th>160</th>\n",
       "      <td>Physical</td>\n",
       "      <td>Posttest_Time</td>\n",
       "      <td>40.977314</td>\n",
       "    </tr>\n",
       "    <tr>\n",
       "      <th>161</th>\n",
       "      <td>Physical</td>\n",
       "      <td>Posttest_Time</td>\n",
       "      <td>35.205139</td>\n",
       "    </tr>\n",
       "  </tbody>\n",
       "</table>\n",
       "<p>162 rows × 3 columns</p>\n",
       "</div>"
      ],
      "text/plain": [
       "    Condition       Variable       Time\n",
       "0          VR   Pretest_Time  24.540540\n",
       "1          VR   Pretest_Time  36.800053\n",
       "2          VR   Pretest_Time  37.060505\n",
       "3          VR   Pretest_Time  27.061413\n",
       "4          VR   Pretest_Time  39.901130\n",
       "..        ...            ...        ...\n",
       "157  Physical  Posttest_Time  18.503739\n",
       "158  Physical  Posttest_Time  22.779398\n",
       "159  Physical  Posttest_Time  18.156550\n",
       "160  Physical  Posttest_Time  40.977314\n",
       "161  Physical  Posttest_Time  35.205139\n",
       "\n",
       "[162 rows x 3 columns]"
      ]
     },
     "execution_count": 49,
     "metadata": {},
     "output_type": "execute_result"
    }
   ],
   "source": [
    "combined_results_df_long"
   ]
  },
  {
   "cell_type": "code",
   "execution_count": 66,
   "id": "392831c7",
   "metadata": {},
   "outputs": [
    {
     "name": "stderr",
     "output_type": "stream",
     "text": [
      "C:\\Users\\au657021\\AppData\\Local\\Continuum\\anaconda3\\envs\\buzz_env\\lib\\site-packages\\seaborn\\categorical.py:3750: UserWarning: The `size` parameter has been renamed to `height`; please update your code.\n",
      "  warnings.warn(msg, UserWarning)\n"
     ]
    },
    {
     "data": {
      "text/plain": [
       "<seaborn.axisgrid.FacetGrid at 0x1c9ae4a8430>"
      ]
     },
     "execution_count": 66,
     "metadata": {},
     "output_type": "execute_result"
    },
    {
     "data": {
      "image/png": "[encoded data removed]",
      "text/plain": [
       "<Figure size 944.6x576 with 1 Axes>"
      ]
     },
     "metadata": {},
     "output_type": "display_data"
    }
   ],
   "source": [
    "sns.catplot(x='Test', y='Time', dodge = True, hue= 'Condition', kind=\"point\", data=combined_results_df_long, size=8, aspect=1.5, capsize=.04)"
   ]
  },
  {
   "cell_type": "code",
   "execution_count": 18,
   "id": "c44b1db1",
   "metadata": {},
   "outputs": [
    {
     "data": {
      "text/html": [
       "<div>\n",
       "<style scoped>\n",
       "    .dataframe tbody tr th:only-of-type {\n",
       "        vertical-align: middle;\n",
       "    }\n",
       "\n",
       "    .dataframe tbody tr th {\n",
       "        vertical-align: top;\n",
       "    }\n",
       "\n",
       "    .dataframe thead th {\n",
       "        text-align: right;\n",
       "    }\n",
       "</style>\n",
       "<table border=\"1\" class=\"dataframe\">\n",
       "  <thead>\n",
       "    <tr style=\"text-align: right;\">\n",
       "      <th></th>\n",
       "      <th>Condition</th>\n",
       "      <th>Variable</th>\n",
       "      <th>Level</th>\n",
       "    </tr>\n",
       "  </thead>\n",
       "  <tbody>\n",
       "    <tr>\n",
       "      <th>0</th>\n",
       "      <td>VR</td>\n",
       "      <td>Mental Demand</td>\n",
       "      <td>13</td>\n",
       "    </tr>\n",
       "    <tr>\n",
       "      <th>1</th>\n",
       "      <td>VR</td>\n",
       "      <td>Mental Demand</td>\n",
       "      <td>12</td>\n",
       "    </tr>\n",
       "    <tr>\n",
       "      <th>2</th>\n",
       "      <td>VR</td>\n",
       "      <td>Mental Demand</td>\n",
       "      <td>8</td>\n",
       "    </tr>\n",
       "    <tr>\n",
       "      <th>3</th>\n",
       "      <td>VR</td>\n",
       "      <td>Mental Demand</td>\n",
       "      <td>8</td>\n",
       "    </tr>\n",
       "    <tr>\n",
       "      <th>4</th>\n",
       "      <td>VR</td>\n",
       "      <td>Mental Demand</td>\n",
       "      <td>18</td>\n",
       "    </tr>\n",
       "    <tr>\n",
       "      <th>...</th>\n",
       "      <td>...</td>\n",
       "      <td>...</td>\n",
       "      <td>...</td>\n",
       "    </tr>\n",
       "    <tr>\n",
       "      <th>517</th>\n",
       "      <td>Physical</td>\n",
       "      <td>Frustration</td>\n",
       "      <td>17</td>\n",
       "    </tr>\n",
       "    <tr>\n",
       "      <th>518</th>\n",
       "      <td>Physical</td>\n",
       "      <td>Frustration</td>\n",
       "      <td>2</td>\n",
       "    </tr>\n",
       "    <tr>\n",
       "      <th>519</th>\n",
       "      <td>Physical</td>\n",
       "      <td>Frustration</td>\n",
       "      <td>11</td>\n",
       "    </tr>\n",
       "    <tr>\n",
       "      <th>520</th>\n",
       "      <td>Physical</td>\n",
       "      <td>Frustration</td>\n",
       "      <td>3</td>\n",
       "    </tr>\n",
       "    <tr>\n",
       "      <th>521</th>\n",
       "      <td>Physical</td>\n",
       "      <td>Frustration</td>\n",
       "      <td>17</td>\n",
       "    </tr>\n",
       "  </tbody>\n",
       "</table>\n",
       "<p>522 rows × 3 columns</p>\n",
       "</div>"
      ],
      "text/plain": [
       "    Condition       Variable  Level\n",
       "0          VR  Mental Demand     13\n",
       "1          VR  Mental Demand     12\n",
       "2          VR  Mental Demand      8\n",
       "3          VR  Mental Demand      8\n",
       "4          VR  Mental Demand     18\n",
       "..        ...            ...    ...\n",
       "517  Physical    Frustration     17\n",
       "518  Physical    Frustration      2\n",
       "519  Physical    Frustration     11\n",
       "520  Physical    Frustration      3\n",
       "521  Physical    Frustration     17\n",
       "\n",
       "[522 rows x 3 columns]"
      ]
     },
     "execution_count": 18,
     "metadata": {},
     "output_type": "execute_result"
    }
   ],
   "source": [
    "vr_nasatlx_df = pd.read_csv('..\\\\OnlineSurvey\\\\VR_Nasa.csv')\n",
    "ph_nasatlx_df = pd.read_csv('..\\\\OnlineSurvey\\\\Ph_Nasa.csv')\n",
    "vr_nasatlx_df['Condition'] = 'VR'\n",
    "ph_nasatlx_df['Condition'] = 'Physical'\n",
    "nasatlx_df = pd.concat([vr_nasatlx_df, ph_nasatlx_df])\n",
    "nasatlx_df_long = nasatlx_df.melt(id_vars=['Condition'], var_name='Variable', value_name='Level')\n",
    "nasatlx_df_long"
   ]
  },
  {
   "cell_type": "code",
   "execution_count": 68,
   "id": "9884b7c3",
   "metadata": {},
   "outputs": [
    {
     "name": "stderr",
     "output_type": "stream",
     "text": [
      "C:\\Users\\au657021\\AppData\\Local\\Continuum\\anaconda3\\envs\\buzz_env\\lib\\site-packages\\seaborn\\categorical.py:3750: UserWarning: The `size` parameter has been renamed to `height`; please update your code.\n",
      "  warnings.warn(msg, UserWarning)\n"
     ]
    },
    {
     "data": {
      "text/plain": [
       "<seaborn.axisgrid.FacetGrid at 0x1c9af6fd5e0>"
      ]
     },
     "execution_count": 68,
     "metadata": {},
     "output_type": "execute_result"
    },
    {
     "data": {
      "image/png": "[encoded data removed]",
      "text/plain": [
       "<Figure size 944.6x576 with 1 Axes>"
      ]
     },
     "metadata": {},
     "output_type": "display_data"
    }
   ],
   "source": [
    "\n",
    "sns.catplot(x='Variable', y='Level', hue= 'Condition', kind=\"bar\", data=nasatlx_df_long, size=8, aspect=1.5, ci = None)"
   ]
  },
  {
   "cell_type": "code",
   "execution_count": null,
   "id": "40a6a65c",
   "metadata": {},
   "outputs": [
    {
     "data": {
      "text/plain": [
       "count    42.000000\n",
       "mean     10.619048\n",
       "std       5.656649\n",
       "min       1.000000\n",
       "25%       5.000000\n",
       "50%      12.000000\n",
       "75%      15.000000\n",
       "max      21.000000\n",
       "Name: Frustration, dtype: float64"
      ]
     },
     "execution_count": 42,
     "metadata": {},
     "output_type": "execute_result"
    }
   ],
   "source": [
    "ph_nasatlx_df['Frustration'].describe()"
   ]
  },
  {
   "cell_type": "code",
   "execution_count": null,
   "id": "47756202",
   "metadata": {},
   "outputs": [
    {
     "name": "stdout",
     "output_type": "stream",
     "text": [
      "Mann Whitney U test for Mental Demand in VR vs physical\n",
      "MannwhitneyuResult(statistic=874.0, pvalue=0.5476396506501511)\n",
      "Mann Whitney U test for Physical Demand in VR vs physical\n",
      "MannwhitneyuResult(statistic=915.0, pvalue=0.8017537172432971)\n",
      "Mann Whitney U test for Temporal Demand in VR vs physical\n",
      "MannwhitneyuResult(statistic=1240.0, pvalue=0.012120548114918736)\n",
      "Mann Whitney U test for Performance in VR vs physical\n",
      "MannwhitneyuResult(statistic=802.0, pvalue=0.22471942196316996)\n",
      "Mann Whitney U test for Effort in VR vs physical\n",
      "MannwhitneyuResult(statistic=973.0, pvalue=0.814670863592921)\n",
      "Mann Whitney U test for Frustration in VR vs physical\n",
      "MannwhitneyuResult(statistic=922.5, pvalue=0.8514775130430722)\n"
     ]
    }
   ],
   "source": [
    "print(\"Mann Whitney U test for Mental Demand in VR vs physical\")\n",
    "print(stats.mannwhitneyu(x=ph_nasatlx_df['Mental Demand'], y=vr_nasatlx_df['Mental Demand']))\n",
    "print(\"Mann Whitney U test for Physical Demand in VR vs physical\")\n",
    "print(stats.mannwhitneyu(x=ph_nasatlx_df['Physical Demand'], y=vr_nasatlx_df['Physical Demand']))\n",
    "print(\"Mann Whitney U test for Temporal Demand in VR vs physical\")\n",
    "print(stats.mannwhitneyu(x=ph_nasatlx_df['Temporal Demand'], y=vr_nasatlx_df['Temporal Demand']))\n",
    "print(\"Mann Whitney U test for Performance in VR vs physical\")\n",
    "print(stats.mannwhitneyu(x=ph_nasatlx_df['Performance'], y=vr_nasatlx_df['Performance']))\n",
    "print(\"Mann Whitney U test for Effort in VR vs physical\")\n",
    "print(stats.mannwhitneyu(x=ph_nasatlx_df['Effort'], y=vr_nasatlx_df['Effort']))\n",
    "print(\"Mann Whitney U test for Frustration in VR vs physical\")\n",
    "print(stats.mannwhitneyu(x=ph_nasatlx_df['Frustration'], y=vr_nasatlx_df['Frustration']))\n"
   ]
  },
  {
   "cell_type": "code",
   "execution_count": null,
   "id": "06f02f52",
   "metadata": {},
   "outputs": [],
   "source": [
    "#Create a dataframe with the mean values of each column in the ph_nasatlx_df and vr_nasatlx_df\n",
    "#nasatlx_df = pd.DataFrame(columns=['Mental Demand', 'Physical Demand', 'Temporal Demand', 'Performance', 'Effort', 'Frustration'])\n",
    "#nasatlx_df = nasatlx_df.append(pd.DataFrame([[ph_nasatlx_df['Mental Demand'].mean(), ph_nasatlx_df['Physical Demand'].mean(), ph_nasatlx_df['Temporal Demand'].mean(), ph_nasatlx_df['Performance'].mean(), ph_nasatlx_df['Effort'].mean(), ph_nasatlx_df['Frustration'].mean()]], columns=['Mental Demand', 'Physical Demand', 'Temporal Demand', 'Performance', 'Effort', 'Frustration'], index=['PH'] ))\n",
    "#nasatlx_df = nasatlx_df.append(pd.DataFrame([[vr_nasatlx_df['Mental Demand'].mean(), vr_nasatlx_df['Physical Demand'].mean(), vr_nasatlx_df['Temporal Demand'].mean(), vr_nasatlx_df['Performance'].mean(), vr_nasatlx_df['Effort'].mean(), vr_nasatlx_df['Frustration'].mean()]], columns=['Mental Demand', 'Physical Demand', 'Temporal Demand', 'Performance', 'Effort', 'Frustration'], index=['VR'] ))"
   ]
  },
  {
   "cell_type": "code",
   "execution_count": null,
   "id": "a224e930",
   "metadata": {},
   "outputs": [
    {
     "data": {
      "text/html": [
       "<div>\n",
       "<style scoped>\n",
       "    .dataframe tbody tr th:only-of-type {\n",
       "        vertical-align: middle;\n",
       "    }\n",
       "\n",
       "    .dataframe tbody tr th {\n",
       "        vertical-align: top;\n",
       "    }\n",
       "\n",
       "    .dataframe thead th {\n",
       "        text-align: right;\n",
       "    }\n",
       "</style>\n",
       "<table border=\"1\" class=\"dataframe\">\n",
       "  <thead>\n",
       "    <tr style=\"text-align: right;\">\n",
       "      <th></th>\n",
       "      <th>Mental Demand</th>\n",
       "      <th>Physical Demand</th>\n",
       "      <th>Temporal Demand</th>\n",
       "      <th>Performance</th>\n",
       "      <th>Effort</th>\n",
       "      <th>Frustration</th>\n",
       "    </tr>\n",
       "  </thead>\n",
       "  <tbody>\n",
       "    <tr>\n",
       "      <th>PH</th>\n",
       "      <td>11.523810</td>\n",
       "      <td>9.952381</td>\n",
       "      <td>11.714286</td>\n",
       "      <td>11.380952</td>\n",
       "      <td>14.523810</td>\n",
       "      <td>10.619048</td>\n",
       "    </tr>\n",
       "    <tr>\n",
       "      <th>VR</th>\n",
       "      <td>12.066667</td>\n",
       "      <td>10.222222</td>\n",
       "      <td>9.155556</td>\n",
       "      <td>12.400000</td>\n",
       "      <td>14.488889</td>\n",
       "      <td>10.822222</td>\n",
       "    </tr>\n",
       "  </tbody>\n",
       "</table>\n",
       "</div>"
      ],
      "text/plain": [
       "    Mental Demand  Physical Demand  Temporal Demand  Performance     Effort  \\\n",
       "PH      11.523810         9.952381        11.714286    11.380952  14.523810   \n",
       "VR      12.066667        10.222222         9.155556    12.400000  14.488889   \n",
       "\n",
       "    Frustration  \n",
       "PH    10.619048  \n",
       "VR    10.822222  "
      ]
     },
     "execution_count": 45,
     "metadata": {},
     "output_type": "execute_result"
    }
   ],
   "source": [
    "#nasatlx_df"
   ]
  },
  {
   "cell_type": "code",
   "execution_count": 4,
   "id": "9a3bc4fd",
   "metadata": {},
   "outputs": [
    {
     "name": "stderr",
     "output_type": "stream",
     "text": [
      "C:\\Users\\au657021\\AppData\\Local\\Continuum\\anaconda3\\envs\\buzz_env\\lib\\site-packages\\sklearn\\neighbors\\_distance_metric.py:10: FutureWarning: sklearn.neighbors.DistanceMetric has been moved to sklearn.metrics.DistanceMetric in 1.0. This import path will be removed in 1.3\n",
      "  warnings.warn(\n"
     ]
    }
   ],
   "source": [
    "import neurokit2 as nk\n",
    "\n",
    "# Download example data\n",
    "data = nk.data(\"bio_eventrelated_100hz\")\n",
    "\n",
    "# Preprocess the data (filter, find peaks, etc.)\n",
    "processed_data, info = nk.bio_process(ecg=data[\"ECG\"], rsp=data[\"RSP\"], eda=data[\"EDA\"], sampling_rate=100)\n",
    "\n",
    "# Compute relevant features\n",
    "results = nk.bio_analyze(processed_data, sampling_rate=100)"
   ]
  },
  {
   "cell_type": "code",
   "execution_count": 9,
   "id": "65e7828b",
   "metadata": {},
   "outputs": [
    {
     "data": {
      "text/plain": [
       "Index(['ECG_Rate_Mean', 'HRV_MeanNN', 'HRV_SDNN', 'HRV_SDANN1', 'HRV_SDNNI1',\n",
       "       'HRV_SDANN2', 'HRV_SDNNI2', 'HRV_SDANN5', 'HRV_SDNNI5', 'HRV_RMSSD',\n",
       "       ...\n",
       "       'SCR_Peaks_N', 'SCR_Peaks_Amplitude_Mean', 'RSA_P2T_Mean',\n",
       "       'RSA_P2T_Mean_log', 'RSA_P2T_SD', 'RSA_P2T_NoRSA', 'RSA_PorgesBohrer',\n",
       "       'RSA_Gates_Mean', 'RSA_Gates_Mean_log', 'RSA_Gates_SD'],\n",
       "      dtype='object', length=113)"
      ]
     },
     "execution_count": 9,
     "metadata": {},
     "output_type": "execute_result"
    }
   ],
   "source": [
    "results.columns"
   ]
  }
 ],
 "metadata": {
  "kernelspec": {
   "display_name": "Python 3 (ipykernel)",
   "language": "python",
   "name": "python3"
  },
  "language_info": {
   "codemirror_mode": {
    "name": "ipython",
    "version": 3
   },
   "file_extension": ".py",
   "mimetype": "text/x-python",
   "name": "python",
   "nbconvert_exporter": "python",
   "pygments_lexer": "ipython3",
   "version": "3.9.7"
  }
 },
 "nbformat": 4,
 "nbformat_minor": 5
}
