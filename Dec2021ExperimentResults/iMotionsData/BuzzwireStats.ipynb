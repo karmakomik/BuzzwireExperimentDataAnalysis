{
 "cells": [
  {
   "cell_type": "code",
   "execution_count": 46,
   "id": "ece32836-adce-45cc-a879-2f2c906406c5",
   "metadata": {},
   "outputs": [],
   "source": [
    "import pandas as pd\n",
    "import numpy as np\n",
    "import seaborn as sns\n",
    "import matplotlib.pyplot as plt\n",
    "from scipy import stats\n",
    "sns.set_theme(style=\"ticks\", color_codes=True)\n",
    "#import math\n",
    "pd.set_option('display.max_rows', None)"
   ]
  },
  {
   "cell_type": "markdown",
   "id": "b45de308",
   "metadata": {},
   "source": [
    "# __Load Data__"
   ]
  },
  {
   "cell_type": "code",
   "execution_count": 53,
   "id": "e6ca0fc9-ccdb-44ca-b6ad-c9867cc90129",
   "metadata": {},
   "outputs": [],
   "source": [
    "#Load all data\n",
    "ph_results_df = pd.read_csv('finalResults_Ph.csv')\n",
    "vr_results_df = pd.read_csv('finalResults_VR.csv')\n",
    "ph_results_part_invalid_df = pd.read_csv('finalResults_part_invalid_Ph.csv')\n",
    "vr_results_part_invalid_df = pd.read_csv('finalResults_part_invalid_VR.csv')\n",
    "#Merge ph_results_df with ph_results_part_invalid_df\n",
    "ph_results_df = ph_results_df.append(ph_results_part_invalid_df)\n",
    "vr_results_df = vr_results_df.append(vr_results_part_invalid_df)\n",
    "#Store as csv\n",
    "#ph_results_df.to_csv('finalResults_Ph_all.csv')\n",
    "#vr_results_df.to_csv('finalResults_VR_all.csv')\n",
    "\n",
    "online_responses_df = pd.read_csv('..\\\\OnlineSurvey\\\\BuzzwireOnlineResponses.csv')\n",
    "\n",
    "vr_results_df.drop(['Unnamed: 0'], axis=1, inplace=True)\n",
    "ph_results_df.drop(['Unnamed: 0'], axis=1, inplace=True)\n",
    "\n",
    "vr_results_df['Condition'] = 'VR'\n",
    "ph_results_df['Condition'] = 'Physical'\n",
    "\n",
    "vr_results_df['Participant_ID'] = vr_results_df['Participant_ID'].str.upper()\n",
    "ph_results_df['Participant_ID'] = ph_results_df['Participant_ID'].str.upper()\n",
    "online_responses_df['Participant_ID'] = online_responses_df['Participant_ID'].str.upper()\n",
    "\n"
   ]
  },
  {
   "cell_type": "markdown",
   "id": "bdfc771f",
   "metadata": {},
   "source": [
    "# __Process Data for Statistics__"
   ]
  },
  {
   "cell_type": "code",
   "execution_count": 61,
   "id": "9d9c903d",
   "metadata": {},
   "outputs": [],
   "source": [
    "#Normalize the data\n",
    "def normalize_signals(df):\n",
    "\n",
    "    df['Norm_Pretest_HR'] = (df['Pretest_HR'] - df['Baseline_HR'])/df['Baseline_HR']\n",
    "    df['Norm_Pretest_GSR'] = (df['Pretest_GSR'] - df['Baseline_GSR'])/df['Baseline_GSR']\n",
    "    df['Norm_Pretest_GSR_Peaks_Rate'] = (df['Pretest_GSR_Peaks_Rate'] - df['Baseline_GSR_Peaks_Rate'])/df['Baseline_GSR_Peaks_Rate']\n",
    "\n",
    "    df['Norm_Level_1_HR'] = (df['Level_1_HR'] - df['Baseline_HR'])/df['Baseline_HR']\n",
    "    df['Norm_Level_1_GSR'] = (df['Level_1_GSR'] - df['Baseline_GSR'])/df['Baseline_GSR']\n",
    "    df['Norm_Level_1_GSR_Peaks_Rate'] = (df['Level_1_GSR_Peaks_Rate'] - df['Baseline_GSR_Peaks_Rate'])/df['Baseline_GSR_Peaks_Rate']\n",
    "\n",
    "    df['Norm_Level_2_HR'] = (df['Level_2_HR'] - df['Baseline_HR'])/df['Baseline_HR']\n",
    "    df['Norm_Level_2_GSR'] = (df['Level_2_GSR'] - df['Baseline_GSR'])/df['Baseline_GSR']\n",
    "    df['Norm_Level_2_GSR_Peaks_Rate'] = (df['Level_2_GSR_Peaks_Rate'] - df['Baseline_GSR_Peaks_Rate'])/df['Baseline_GSR_Peaks_Rate']\n",
    "\n",
    "    df['Norm_Level_3_HR'] = (df['Level_3_HR'] - df['Baseline_HR'])/df['Baseline_HR']\n",
    "    df['Norm_Level_3_GSR'] = (df['Level_3_GSR'] - df['Baseline_GSR'])/df['Baseline_GSR']\n",
    "    df['Norm_Level_3_GSR_Peaks_Rate'] = (df['Level_3_GSR_Peaks_Rate'] - df['Baseline_GSR_Peaks_Rate'])/df['Baseline_GSR_Peaks_Rate']\n",
    "\n",
    "    df['Norm_Level_4_HR'] = (df['Level_4_HR'] - df['Baseline_HR'])/df['Baseline_HR']\n",
    "    df['Norm_Level_4_GSR'] = (df['Level_4_GSR'] - df['Baseline_GSR'])/df['Baseline_GSR']\n",
    "    df['Norm_Level_4_GSR_Peaks_Rate'] = (df['Level_4_GSR_Peaks_Rate'] - df['Baseline_GSR_Peaks_Rate'])/df['Baseline_GSR_Peaks_Rate']\n",
    "\n",
    "    df['Norm_Posttest_HR'] = (df['Posttest_HR'] - df['Baseline_HR'])/df['Baseline_HR']\n",
    "    df['Norm_Posttest_GSR'] = (df['Posttest_GSR'] - df['Baseline_GSR'])/df['Baseline_GSR']\n",
    "    df['Norm_Posttest_GSR_Peaks_Rate'] = (df['Posttest_GSR_Peaks_Rate'] - df['Baseline_GSR_Peaks_Rate'])/df['Baseline_GSR_Peaks_Rate']\n",
    "\n",
    "    \n",
    "\n",
    "#Difference between pre-test and post-test time/mistakes in a new column\n",
    "def calculate_gains(df):\n",
    "    df['Time_Gain'] = df['Pretest_Time'] - df['Posttest_Time']\n",
    "    df['Mistake_Gain'] = df['Pretest_Mistake_Time'] - df['Posttest_Mistake_Time']\n",
    "\n",
    "#Calculate mean normalized HR across 4 training levels\n",
    "def calculate_mean_training_hr(df):\n",
    "    df['Mean_Norm_Training_HR'] = (df['Norm_Level_1_HR'] + df['Norm_Level_2_HR'] + df['Norm_Level_3_HR'] + df['Norm_Level_4_HR']) / 4\n",
    "\n",
    "#Calculate mean normalized HR across 4 training levels\n",
    "def calculate_mean_training_rmssd(df):\n",
    "    df['Mean_Training_RMSSD'] = (df['Level_1_RMSSD'] + df['Level_2_RMSSD'] + df['Level_3_RMSSD'] + df['Level_4_RMSSD']) / 4\n",
    "\n",
    "def calculate_mean_training_sdnn(df):\n",
    "    df['Mean_Training_SDNN'] = (df['Level_1_SDNN'] + df['Level_2_SDNN'] + df['Level_3_SDNN'] + df['Level_4_SDNN']) / 4\n",
    "\n",
    "def calculate_mean_training_lfhfratio(df):\n",
    "    df['Mean_Training_LFHF_Ratio'] = (df['Level_1_LFHF_Ratio'] + df['Level_2_LFHF_Ratio'] + df['Level_3_LFHF_Ratio'] + df['Level_4_LFHF_Ratio']) / 4\n",
    "\n",
    "def calculate_mean_training_hfn(df):\n",
    "    df['Mean_Training_HFN'] = (df['Level_1_HFN'] + df['Level_2_HFN'] + df['Level_3_HFN'] + df['Level_4_HFN']) / 4\n",
    "\n",
    "#Calculate mean normalized GSR across 4 training levels    \n",
    "def calculate_mean_training_gsr(df):\n",
    "    df['Mean_Norm_Training_GSR'] = (df['Norm_Level_1_GSR'] + df['Norm_Level_2_GSR'] + df['Norm_Level_3_GSR'] + df['Norm_Level_4_GSR']) / 4\n",
    "\n",
    "def calculate_mean_training_gsr_peaks_rate(df):\n",
    "    df['Mean_Norm_Training_GSR_Peaks_Rate'] = (df['Norm_Level_1_GSR_Peaks_Rate'] + df['Norm_Level_2_GSR_Peaks_Rate'] + df['Norm_Level_3_GSR_Peaks_Rate'] + df['Norm_Level_4_GSR_Peaks_Rate']) / 4\n",
    "\n",
    "def calculate_mean_training_gsr_peak_amplitude(df):\n",
    "    df['Mean_Training_GSR_Peak_Amplitude'] = df[[\"Level_1_GSR_Mean_Peak_Amplitude\", \"Level_2_GSR_Mean_Peak_Amplitude\",\"Level_3_GSR_Mean_Peak_Amplitude\",\"Level_4_GSR_Mean_Peak_Amplitude\"]].mean(axis=1, skipna=True) #np.nansum([df['Level_1_GSR_Peak_Amplitude'], df['Level_2_GSR_Peak_Amplitude'], df['Level_3_GSR_Peak_Amplitude'], df['Level_4_GSR_Peak_Amplitude']) / 4       \n",
    "\n",
    "\n",
    "\n"
   ]
  },
  {
   "cell_type": "code",
   "execution_count": 62,
   "id": "9692c93b",
   "metadata": {},
   "outputs": [],
   "source": [
    "normalize_signals(ph_results_df)\n",
    "normalize_signals(vr_results_df)\n",
    "\n",
    "calculate_gains(ph_results_df)\n",
    "calculate_gains(vr_results_df)\n",
    "\n",
    "calculate_mean_training_hr(ph_results_df)\n",
    "calculate_mean_training_hr(vr_results_df)\n",
    "\n",
    "calculate_mean_training_gsr(ph_results_df)\n",
    "calculate_mean_training_gsr(vr_results_df)\n",
    "\n",
    "calculate_mean_training_rmssd(ph_results_df)\n",
    "calculate_mean_training_rmssd(vr_results_df)\n",
    "\n",
    "calculate_mean_training_sdnn(ph_results_df)\n",
    "calculate_mean_training_sdnn(vr_results_df)\n",
    "\n",
    "calculate_mean_training_lfhfratio(ph_results_df)\n",
    "calculate_mean_training_lfhfratio(vr_results_df)\n",
    "\n",
    "calculate_mean_training_hfn(ph_results_df)\n",
    "calculate_mean_training_hfn(vr_results_df)\n",
    "\n",
    "calculate_mean_training_gsr_peaks_rate(ph_results_df)\n",
    "calculate_mean_training_gsr_peaks_rate(vr_results_df)\n",
    "\n",
    "calculate_mean_training_gsr_peak_amplitude(ph_results_df)\n",
    "calculate_mean_training_gsr_peak_amplitude(vr_results_df)\n",
    "\n"
   ]
  },
  {
   "cell_type": "code",
   "execution_count": 15,
   "id": "160798d7",
   "metadata": {},
   "outputs": [],
   "source": [
    "#ph_results_df['Mean_Training_GSR_Peak_Amplitude']"
   ]
  },
  {
   "cell_type": "code",
   "execution_count": 16,
   "id": "d9f7484d",
   "metadata": {},
   "outputs": [],
   "source": [
    "#vr_results_df[['Participant_ID','Baseline_GSR','Posttest_GSR','Norm_Posttest_GSR']]"
   ]
  },
  {
   "cell_type": "code",
   "execution_count": 36,
   "id": "63f4bec7",
   "metadata": {},
   "outputs": [],
   "source": [
    "#Combined score metric \n",
    "#ph_results_df['Norm_Pretest_Score'] = 1 / np.sqrt(ph_results_df['Pretest_Time'] * ph_results_df['Pretest_Mistake_Time'])\n",
    "#ph_results_df['Norm_Level_1_Score'] = 1 / np.sqrt(ph_results_df['Level_1_Time'] * ph_results_df['Level_1_Mistake_Time'])\n",
    "#ph_results_df['Norm_Level_2_Score'] = 1 / np.sqrt(ph_results_df['Level_2_Time'] * ph_results_df['Level_2_Mistake_Time'])\n",
    "#ph_results_df['Norm_Level_3_Score'] = 1 / np.sqrt(ph_results_df['Level_3_Time'] * ph_results_df['Level_3_Mistake_Time'])\n",
    "#ph_results_df['Norm_Level_4_Score'] = 1 / np.sqrt(ph_results_df['Level_4_Time'] * ph_results_df['Level_4_Mistake_Time'])"
   ]
  },
  {
   "cell_type": "code",
   "execution_count": 50,
   "id": "c455052f",
   "metadata": {},
   "outputs": [],
   "source": [
    "#ph_results_df.boxplot(column=['Norm_Pretest_HR', 'Norm_Level_1_HR' , 'Norm_Level_2_HR', 'Norm_Level_3_HR', 'Norm_Level_4_HR','Norm_Posttest_HR'], figsize=(14,10), showmeans=True)"
   ]
  },
  {
   "cell_type": "code",
   "execution_count": 51,
   "id": "391a7cc0",
   "metadata": {},
   "outputs": [],
   "source": [
    "#vr_results_df.boxplot(column=['Norm_Pretest_HR', 'Norm_Level_1_HR' , 'Norm_Level_2_HR', 'Norm_Level_3_HR', 'Norm_Level_4_HR','Norm_Posttest_HR'], figsize=(14,10), showmeans=True)"
   ]
  },
  {
   "cell_type": "code",
   "execution_count": 14,
   "id": "562a6a23",
   "metadata": {},
   "outputs": [],
   "source": [
    "#ph_results_df.boxplot(column=['Norm_Pretest_GSR', 'Norm_Level_1_GSR' , 'Norm_Level_2_GSR', 'Norm_Level_3_GSR', 'Norm_Level_4_GSR','Norm_Posttest_GSR'], figsize=(14,10), showmeans=True)"
   ]
  },
  {
   "cell_type": "code",
   "execution_count": 15,
   "id": "ce04e991",
   "metadata": {},
   "outputs": [],
   "source": [
    "#vr_results_df.boxplot(column=['Norm_Pretest_GSR', 'Norm_Level_1_GSR' , 'Norm_Level_2_GSR', 'Norm_Level_3_GSR', 'Norm_Level_4_GSR','Norm_Posttest_GSR'], figsize=(14,10), showmeans=True)"
   ]
  },
  {
   "cell_type": "code",
   "execution_count": 9,
   "id": "a1b1e9b1",
   "metadata": {},
   "outputs": [],
   "source": [
    "#combined_results_df = pd.concat([ph_results_df, vr_results_df], axis=0)"
   ]
  },
  {
   "cell_type": "code",
   "execution_count": 16,
   "id": "65330da2",
   "metadata": {},
   "outputs": [],
   "source": [
    "#combined_results_df.rename(columns={'Mean_Norm_Training_GSR': 'Mean Normalized GSR (Training)', 'Mean_Norm_Training_HR': 'Mean Normalized HR (Training)', 'Time_Gain':'Task Completion Time (Gain)', 'Mistake_Gain':'Mistake Time (Gain)'}, inplace=True)\n",
    "#sns.pairplot(\n",
    "#    combined_results_df,\n",
    "#    x_vars=[\"Mean Normalized GSR (Training)\", \"Mean Normalized HR (Training)\"],\n",
    "#    y_vars=[\"Task Completion Time (Gain)\", \"Mistake Time (Gain)\"],\n",
    "#)"
   ]
  },
  {
   "cell_type": "code",
   "execution_count": null,
   "id": "d7cf668c",
   "metadata": {},
   "outputs": [],
   "source": [
    "def check_normality_all_features(df):\n",
    "    for column in df.columns:\n",
    "        #print(column,' ', df[column].notna().value_counts())\n",
    "        if column != 'Participant_ID':        \n",
    "            if stats.shapiro(df[df[column].notna()][column]).pvalue < 0.05:\n",
    "                print(column,' is not normally distributed')\n",
    "            else:\n",
    "                print('** ',column,' is normally distributed')\n",
    "print(\"Shapiro test for normality (Not normal if p-value is less than 0.05)\")\n",
    "print(\"VR\")\n",
    "print('----')\n",
    "check_normality_all_features(vr_results_df)\n",
    "print(\"Physical\")\n",
    "print('--------')\n",
    "check_normality_all_features(ph_results_df)\n",
    "\n",
    "#for column in ['Baseline_GSR', 'Norm_Pretest_GSR' , 'Norm_Level_1_GSR', 'Norm_Level_2_GSR', 'Norm_Level_3_GSR', 'Norm_Level_4_GSR', 'Norm_Posttest_GSR', 'Baseline_HR', 'Norm_Pretest_HR' , 'Norm_Level_1_HR', 'Norm_Level_2_HR', 'Norm_Level_3_HR', 'Norm_Level_4_HR', 'Norm_Posttest_HR', 'Pretest_Time', 'Pretest_Mistake_Time', 'Posttest_Time', 'Posttest_Mistake_Time']:\n",
    "#    print(column, \" - shapiro test p-value less than 0.05 - \", stats.shapiro(ph_results_df[ph_results_df[column].notna()][column]).pvalue < 0.05) #Not normal if p-value is less than 0.05"
   ]
  },
  {
   "cell_type": "markdown",
   "id": "dd6c2e39",
   "metadata": {},
   "source": [
    "# __Performance gain__\n",
    "-----------------"
   ]
  },
  {
   "cell_type": "markdown",
   "id": "f9bc4cd1",
   "metadata": {},
   "source": [
    "## __Performance gain - Within Physical and VR__"
   ]
  },
  {
   "cell_type": "code",
   "execution_count": 103,
   "id": "0fa2d5a1",
   "metadata": {},
   "outputs": [
    {
     "name": "stdout",
     "output_type": "stream",
     "text": [
      "\n",
      "Mean of pre-test and post-test time in physical condition\n",
      "-------------------------------------\n",
      "20.72 21.55\n",
      "Wilcoxon test for pre-test and post-test time in physical condition\n",
      "WilcoxonResult(statistic=387.0, pvalue=0.9666063228557329)\n",
      "\n",
      "Mean of pre-test and post-test mistake time in physical condition\n",
      "-------------------------------------\n",
      "3.22 2.15\n",
      "Wilcoxon test for pre-test mistake and post-test mistake time in physical condition\n",
      "WilcoxonResult(statistic=64.0, pvalue=5.381716402386978e-06)\n",
      "\n",
      "Mean of pre-test and post-test time in VR condition\n",
      "-------------------------------------\n",
      "24.7 23.37\n",
      "Wilcoxon test for pre-test and post-test time in VR condition\n",
      "WilcoxonResult(statistic=352.0, pvalue=0.4356291562728627)\n",
      "\n",
      "Mean of pre-test and post-test mistake time in VR condition\n",
      "-------------------------------------\n",
      "4.24 2.99\n",
      "Wilcoxon test for pre-test mistake and post-test mistake time in VR condition\n",
      "WilcoxonResult(statistic=114.0, pvalue=6.931525704115409e-05)\n"
     ]
    }
   ],
   "source": [
    "#Mean of pre-test and post-test time\n",
    "print(\"\\nMean of pre-test and post-test time in physical condition\\n-------------------------------------\")\n",
    "print(round(ph_results_df['Pretest_Time'].mean(skipna=True),2), round(ph_results_df['Posttest_Time'].mean(skipna=True),2))\n",
    "#Wilcoxon test for pre-test and post-test time\n",
    "print(\"Wilcoxon test for pre-test and post-test time in physical condition\")\n",
    "print(stats.wilcoxon(ph_results_df['Pretest_Time'], ph_results_df['Posttest_Time']))\n",
    "\n",
    "#Mean of pre-test and post-test mistake time in physical condition\n",
    "print(\"\\nMean of pre-test and post-test mistake time in physical condition\\n-------------------------------------\")\n",
    "print(round(ph_results_df['Pretest_Mistake_Time'].mean(skipna=True),2), round(ph_results_df['Posttest_Mistake_Time'].mean(skipna=True),2))\n",
    "#Wilcoxon test for pre-test mistake and post-test mistake time\n",
    "print(\"Wilcoxon test for pre-test mistake and post-test mistake time in physical condition\")\n",
    "print(stats.wilcoxon(ph_results_df['Pretest_Mistake_Time'], ph_results_df['Posttest_Mistake_Time']))\n",
    "\n",
    "\n",
    "#Mean of pre-test and post-test time\n",
    "print(\"\\nMean of pre-test and post-test time in VR condition\\n-------------------------------------\")\n",
    "print(round(vr_results_df['Pretest_Time'].mean(skipna=True),2), round(vr_results_df['Posttest_Time'].mean(skipna=True),2))\n",
    "#Wilcoxon test for pre-test and post-test time\n",
    "print(\"Wilcoxon test for pre-test and post-test time in VR condition\")\n",
    "print(stats.wilcoxon(vr_results_df['Pretest_Time'], vr_results_df['Posttest_Time']))\n",
    "\n",
    "#Mean of pre-test and post-test mistake time in physical condition\n",
    "print(\"\\nMean of pre-test and post-test mistake time in VR condition\\n-------------------------------------\")\n",
    "print(round(vr_results_df['Pretest_Mistake_Time'].mean(skipna=True),2), round(vr_results_df['Posttest_Mistake_Time'].mean(skipna=True),2))\n",
    "#Wilcoxon test for pre-test mistake and post-test mistake time\n",
    "print(\"Wilcoxon test for pre-test mistake and post-test mistake time in VR condition\")\n",
    "print(stats.wilcoxon(vr_results_df['Pretest_Mistake_Time'], vr_results_df['Posttest_Mistake_Time']))\n",
    "\n",
    "\n",
    "\n"
   ]
  },
  {
   "cell_type": "markdown",
   "id": "c4fed54f",
   "metadata": {},
   "source": [
    "## __Performance gain - Physical x VR__\n"
   ]
  },
  {
   "cell_type": "code",
   "execution_count": 101,
   "id": "860aa4dd",
   "metadata": {},
   "outputs": [
    {
     "name": "stdout",
     "output_type": "stream",
     "text": [
      "\n",
      "VR vs Physical in performance gain\n",
      "-------------------------------------\n",
      "\n",
      "Mean Time gain in physical vs VR condition\n",
      "-0.83 1.33\n",
      "Statistical significance -  MannwhitneyuResult(statistic=722.0, pvalue=0.2864335931288994)\n",
      "\n",
      "Mistake gain in physical vs VR condition\n",
      "1.06 1.24\n",
      "Statistical significance -  MannwhitneyuResult(statistic=773.0, pvalue=0.4745895252655665)\n"
     ]
    }
   ],
   "source": [
    "#VR vs Physical\n",
    "print(\"\\nVR vs Physical in performance gain\\n-------------------------------------\")\n",
    "\n",
    "print(\"\\nMean Time gain in physical vs VR condition\")\n",
    "print(round(ph_results_df['Time_Gain'].mean(skipna=True),2), round(vr_results_df['Time_Gain'].mean(skipna=True),2))\n",
    "print('Statistical significance - ', stats.mannwhitneyu(x=ph_results_df['Time_Gain'], y=vr_results_df['Time_Gain'], alternative = 'less'))\n",
    "\n",
    "print('\\nMistake gain in physical vs VR condition')\n",
    "print(round(ph_results_df['Mistake_Gain'].mean(skipna=True),2), round(vr_results_df['Mistake_Gain'].mean(skipna=True),2))\n",
    "print('Statistical significance - ', stats.mannwhitneyu(x=ph_results_df['Mistake_Gain'], y=vr_results_df['Mistake_Gain'], alternative = 'less'))"
   ]
  },
  {
   "cell_type": "markdown",
   "id": "a60d0cbb",
   "metadata": {},
   "source": [
    "# __Biosignals__ \n",
    "-----------------"
   ]
  },
  {
   "cell_type": "markdown",
   "id": "0e3e680b",
   "metadata": {},
   "source": [
    "## __Biosignals - Physical x VR__ "
   ]
  },
  {
   "cell_type": "code",
   "execution_count": 64,
   "id": "fd9c2b1e",
   "metadata": {},
   "outputs": [
    {
     "name": "stdout",
     "output_type": "stream",
     "text": [
      "HR \n",
      " -----\n",
      "Mean of HR in physical vs VR condition\n",
      "0.0 -0.01\n",
      "Statistical significance MannwhitneyuResult(statistic=871.0, pvalue=0.13582472663644052)\n",
      "Mean of RMSSD in physical vs VR condition\n",
      "120.47 156.21\n",
      "Statistical significance MannwhitneyuResult(statistic=649.0, pvalue=0.13365786305046473)\n",
      "Mean of SDNN in physical vs VR condition\n",
      "103.0 125.88\n",
      "Statistical significance MannwhitneyuResult(statistic=660.0, pvalue=0.15881545340430797)\n",
      "Mean of LF/HF Ratio in physical vs VR condition\n",
      "2.12 1.87\n",
      "Statistical significance MannwhitneyuResult(statistic=801.0, pvalue=0.6589974925183048)\n",
      "Mean of HFN in physical vs VR condition\n",
      "49.55 50.1\n",
      "Statistical significance MannwhitneyuResult(statistic=750.0, pvalue=0.5437664435534985)\n",
      "GSR \n",
      " -----\n",
      "Mean of GSR in physical vs VR condition\n",
      "1.77 2.37\n",
      "Statistical significance MannwhitneyuResult(statistic=599.0, pvalue=0.3094991962340233)\n",
      "Mean of GSR peak amplitude in physical vs VR condition\n",
      "0.21 0.19\n",
      "Statistical significance -  MannwhitneyuResult(statistic=676.0, pvalue=0.4450279765236909)\n",
      "Mean of GSR peaks rate in physical vs VR condition\n",
      "3.43 1.43\n",
      "Statistical significance -  MannwhitneyuResult(statistic=813.0, pvalue=0.02806851587223288)\n"
     ]
    }
   ],
   "source": [
    "print('HR \\n-----')\n",
    "#Mean HR\n",
    "print(\"\\nMean of HR in physical vs VR condition\")\n",
    "print(round(ph_results_df['Mean_Norm_Training_HR'].mean(skipna=True),2), round(vr_results_df['Mean_Norm_Training_HR'].mean(skipna=True),2))\n",
    "print('Statistical significance - ', stats.mannwhitneyu(x=ph_results_df['Mean_Norm_Training_HR'].dropna(), y=vr_results_df['Mean_Norm_Training_HR'].dropna(), alternative = 'greater'))\n",
    "\n",
    "#RMSSD\n",
    "print(\"\\nMean of RMSSD in physical vs VR condition\")\n",
    "print(round(ph_results_df['Mean_Training_RMSSD'].mean(skipna=True),2), round(vr_results_df['Mean_Training_RMSSD'].mean(skipna=True),2))\n",
    "print('Statistical significance - ', stats.mannwhitneyu(x=ph_results_df['Mean_Training_RMSSD'].dropna(), y=vr_results_df['Mean_Training_RMSSD'].dropna(), alternative = 'less')) \n",
    "\n",
    "#SDNN\n",
    "print(\"\\nMean of SDNN in physical vs VR condition\")\n",
    "print(round(ph_results_df['Mean_Training_SDNN'].mean(skipna=True),2), round(vr_results_df['Mean_Training_SDNN'].mean(skipna=True),2))\n",
    "print('Statistical significance - ', stats.mannwhitneyu(x=ph_results_df['Mean_Training_SDNN'].dropna(), y=vr_results_df['Mean_Training_SDNN'].dropna(), alternative = 'less') )\n",
    "\n",
    "#LF/HF ratio\n",
    "print(\"\\nMean of LF/HF Ratio in physical vs VR condition\")\n",
    "print(round(ph_results_df['Mean_Training_LFHF_Ratio'].mean(skipna=True),2), round(vr_results_df['Mean_Training_LFHF_Ratio'].mean(skipna=True),2))\n",
    "print('Statistical significance - ', stats.mannwhitneyu(x=ph_results_df['Mean_Training_LFHF_Ratio'].dropna(), y=vr_results_df['Mean_Training_LFHF_Ratio'].dropna(), alternative = 'less') )\n",
    "\n",
    "#HFN\n",
    "print(\"\\nMean of HFN in physical vs VR condition\")\n",
    "print(round(ph_results_df['Mean_Training_HFN'].mean(skipna=True),2), round(vr_results_df['Mean_Training_HFN'].mean(skipna=True),2))\n",
    "print('Statistical significance - ', stats.mannwhitneyu(x=ph_results_df['Mean_Training_HFN'].dropna(), y=vr_results_df['Mean_Training_HFN'].dropna(), alternative = 'greater') )\n",
    "\n",
    "print('GSR \\n-----')\n",
    "#Mean GSR\n",
    "print(\"\\nMean of GSR in physical vs VR condition\")\n",
    "print(round(ph_results_df['Mean_Norm_Training_GSR'].mean(skipna=True),2), round(vr_results_df['Mean_Norm_Training_GSR'].mean(skipna=True),2))\n",
    "print('Statistical significance - ', stats.mannwhitneyu(x=ph_results_df['Mean_Norm_Training_GSR'].dropna(), y=vr_results_df['Mean_Norm_Training_GSR'].dropna(), alternative = 'less'))\n",
    "\n",
    "#GSR Peak amplitude\n",
    "print(\"\\nMean of GSR peak amplitude in physical vs VR condition\")\n",
    "print(round(ph_results_df['Mean_Training_GSR_Peak_Amplitude'].mean(skipna=True),2), round(vr_results_df['Mean_Training_GSR_Peak_Amplitude'].mean(skipna=True),2))\n",
    "print('Statistical significance - ', stats.mannwhitneyu(x=ph_results_df['Mean_Training_GSR_Peak_Amplitude'].dropna(), y=vr_results_df['Mean_Training_GSR_Peak_Amplitude'].dropna(), alternative = 'greater') )\n",
    "\n",
    "#GSR peaks rate\n",
    "print(\"\\nMean of GSR peaks rate in physical vs VR condition\")\n",
    "print(round(ph_results_df['Mean_Norm_Training_GSR_Peaks_Rate'].mean(skipna=True),2), round(vr_results_df['Mean_Norm_Training_GSR_Peaks_Rate'].mean(skipna=True),2))\n",
    "print('Statistical significance - ', stats.mannwhitneyu(x=ph_results_df['Mean_Norm_Training_GSR_Peaks_Rate'].dropna(), y=vr_results_df['Mean_Norm_Training_GSR_Peaks_Rate'].dropna(), alternative = 'greater'))"
   ]
  },
  {
   "cell_type": "code",
   "execution_count": 16,
   "id": "2b9f9b16",
   "metadata": {},
   "outputs": [
    {
     "name": "stdout",
     "output_type": "stream",
     "text": [
      "Count of non nan values for Mean_Training_RMSSD\n",
      "True     40\n",
      "False     1\n",
      "Name: Mean_Training_SDNN, dtype: int64\n"
     ]
    }
   ],
   "source": [
    "#Count of non nan values for Mean_Training_RMSSD\n",
    "print(\"Count of non nan values for Mean_Training_RMSSD\")\n",
    "print(vr_results_df['Mean_Training_SDNN'].notna().value_counts())"
   ]
  },
  {
   "cell_type": "code",
   "execution_count": 69,
   "id": "4cd693b8",
   "metadata": {},
   "outputs": [],
   "source": [
    "combined_results_df = pd.concat([vr_results_df, ph_results_df], axis=0)\n",
    "#Merge the online responses with the combined results DF (sensor data)\n",
    "combined_results_df = pd.merge(combined_results_df, online_responses_df, on='Participant_ID', how='outer')\n",
    "#combined_results_df.to_csv('combinedResults.csv')"
   ]
  },
  {
   "cell_type": "code",
   "execution_count": 70,
   "id": "320b9338",
   "metadata": {},
   "outputs": [],
   "source": [
    "combined_results_df.rename(columns={'Mean_Norm_Training_HR' : 'Mean HR (Training)', 'Mean_Training_RMSSD': 'Mean RMSSD (Training)', 'Mean_Training_SDNN': 'Mean SDNN (Training)', 'Mean_Norm_Training_GSR_Peaks_Rate': 'Mean GSR Peaks Rate (Training)', 'Mean_Training_LFHF_Ratio': 'Mean LFHF Ratio (Training)', 'Time_Gain':'Task Completion Time (Gain)', 'Mistake_Gain':'Mistake Time (Gain)', 'Mean_Norm_Training_GSR' : 'Mean GSR (Training)',  'Mean_Training_HFN' : 'Mean HF Normalized (Training)', 'Mean_Training_GSR_Peak_Amplitude' : 'Mean GSR Peak Amplitude (Training)'}, inplace=True)\n"
   ]
  },
  {
   "cell_type": "markdown",
   "id": "27e9379c",
   "metadata": {},
   "source": [
    "## __Biosignals x Performance__"
   ]
  },
  {
   "cell_type": "code",
   "execution_count": 81,
   "id": "12957683",
   "metadata": {},
   "outputs": [
    {
     "data": {
      "text/plain": [
       "<seaborn.axisgrid.PairGrid at 0x20381b52ac0>"
      ]
     },
     "execution_count": 81,
     "metadata": {},
     "output_type": "execute_result"
    },
    {
     "data": {
      "image/png": "[encoded data removed]",
      "text/plain": [
       "<Figure size 1430.6x360 with 10 Axes>"
      ]
     },
     "metadata": {},
     "output_type": "display_data"
    }
   ],
   "source": [
    "sns.pairplot(\n",
    "    combined_results_df,\n",
    "    x_vars=['Mean HR (Training)', \"Mean RMSSD (Training)\", \"Mean SDNN (Training)\", \"Mean LFHF Ratio (Training)\", \"Mean HF Normalized (Training)\"],\n",
    "    y_vars=[\"Task Completion Time (Gain)\", \"Mistake Time (Gain)\"],\n",
    "    aspect=1.5,\n",
    "    hue='Condition'\n",
    ") "
   ]
  },
  {
   "cell_type": "code",
   "execution_count": 75,
   "id": "01cb93b4",
   "metadata": {},
   "outputs": [
    {
     "data": {
      "text/plain": [
       "<seaborn.axisgrid.PairGrid at 0x203819ccfa0>"
      ]
     },
     "execution_count": 75,
     "metadata": {},
     "output_type": "execute_result"
    },
    {
     "data": {
      "image/png": "[encoded data removed]",
      "text/plain": [
       "<Figure size 890.6x360 with 6 Axes>"
      ]
     },
     "metadata": {},
     "output_type": "display_data"
    }
   ],
   "source": [
    "sns.pairplot(\n",
    "    combined_results_df,\n",
    "    x_vars=[\"Mean GSR (Training)\", \"Mean GSR Peaks Rate (Training)\", \"Mean GSR Peak Amplitude (Training)\"],\n",
    "    y_vars=[\"Task Completion Time (Gain)\", \"Mistake Time (Gain)\"],\n",
    "    aspect=1.5,\n",
    "    hue='Condition'\n",
    ") "
   ]
  },
  {
   "cell_type": "code",
   "execution_count": 36,
   "id": "0b3a35cd",
   "metadata": {},
   "outputs": [
    {
     "name": "stdout",
     "output_type": "stream",
     "text": [
      "SpearmanrResult(correlation=0.1140798790552736, pvalue=0.3365431694400285)\n"
     ]
    }
   ],
   "source": [
    "print(stats.spearmanr(combined_results_df['Avg GSR Peaks Rate (Training)'], combined_results_df['Task Completion Time (Gain)'], nan_policy='omit'))\n"
   ]
  },
  {
   "cell_type": "markdown",
   "id": "aa80fc08",
   "metadata": {},
   "source": [
    "## __Biosignals - High Performance Gain vs Low Performance Gain groups__"
   ]
  },
  {
   "cell_type": "markdown",
   "id": "ffb5863b",
   "metadata": {},
   "source": [
    "### __Mistake Time Gain__"
   ]
  },
  {
   "cell_type": "code",
   "execution_count": 95,
   "id": "3fba91be",
   "metadata": {},
   "outputs": [
    {
     "name": "stdout",
     "output_type": "stream",
     "text": [
      "High vs low performance groups w.r.t mistake time gain \n",
      "--------------------------------------------------------------\n",
      "HR \n",
      "-----\n",
      "Mean of HR in high vs low mistake gain groups\n",
      "-0.02 -0.0\n",
      "Statistical significance -  MannwhitneyuResult(statistic=62.0, pvalue=0.4147237944967891)\n",
      "\n",
      "Mean of RMSSD in high vs low mistake gain groups\n",
      "168.22 178.53\n",
      "Statistical significance -  MannwhitneyuResult(statistic=58.0, pvalue=0.32218657497997516)\n",
      "\n",
      "Mean of SDNN in high vs low mistake gain groups\n",
      "137.29 140.27\n",
      "Statistical significance -  MannwhitneyuResult(statistic=61.0, pvalue=0.3909070017443844)\n",
      "\n",
      "Mean of HFN in high vs low mistake gain groups\n",
      "45.89 56.63\n",
      "Statistical significance -  MannwhitneyuResult(statistic=40.0, pvalue=0.05827545976610699)\n",
      "\n",
      "Mean of LF/HF Ratio in high vs low mistake gain groups\n",
      "1.76 1.18\n",
      "Statistical significance -  MannwhitneyuResult(statistic=91.0, pvalue=0.06579380320333426)\n",
      "\n",
      "GSR \n",
      "-----\n",
      "\n",
      "Mean of GSR in high vs low mistake gain groups\n",
      "2.68 2.98\n",
      "Statistical significance -  MannwhitneyuResult(statistic=31.0, pvalue=0.13517207032739004)\n",
      "\n",
      "Mean of GSR Peak Amplitude in high vs low mistake gain groups\n",
      "0.25 0.25\n",
      "Statistical significance -  MannwhitneyuResult(statistic=43.0, pvalue=0.3115881119410587)\n",
      "\n",
      "Mean of GSR peaks rate in high vs low mistake gain groups\n",
      "1.14 2.28\n",
      "Statistical significance -  MannwhitneyuResult(statistic=30.0, pvalue=0.11822235778615192)\n"
     ]
    }
   ],
   "source": [
    "#High vs low performance groups w.r.t mistake gain \n",
    "print('High vs low performance groups w.r.t mistake time gain \\n--------------------------------------------------------------')\n",
    "combined_results_df_high_mistake_gain = combined_results_df[combined_results_df['Mistake Time (Gain)'] > combined_results_df['Mistake Time (Gain)'].quantile(0.85)]\n",
    "#print(len(combined_results_df_high_mistake_gain))\n",
    "combined_results_df_low_mistake_gain = combined_results_df[combined_results_df['Mistake Time (Gain)'] < combined_results_df['Mistake Time (Gain)'].quantile(0.15)]\n",
    "#print(len(combined_results_df_low_mistake_gain))\n",
    "\n",
    "print('HR \\n-----')\n",
    "#HR\n",
    "print(\"Mean of HR in high vs low mistake gain groups\")\n",
    "print(round(combined_results_df_high_mistake_gain['Mean HR (Training)'].mean(skipna=True),2), round(combined_results_df_low_mistake_gain['Mean HR (Training)'].mean(skipna=True),2))\n",
    "print('Statistical significance - ', stats.mannwhitneyu(x=combined_results_df_high_mistake_gain['Mean HR (Training)'].dropna(), y=combined_results_df_low_mistake_gain['Mean HR (Training)'].dropna(), alternative = 'less')) \n",
    "\n",
    "#RMSSD\n",
    "print(\"\\nMean of RMSSD in high vs low mistake gain groups\")\n",
    "print(round(combined_results_df_high_mistake_gain['Mean RMSSD (Training)'].mean(skipna=True),2), round(combined_results_df_low_mistake_gain['Mean RMSSD (Training)'].mean(skipna=True),2))\n",
    "print('Statistical significance - ', stats.mannwhitneyu(x=combined_results_df_high_mistake_gain['Mean RMSSD (Training)'].dropna(), y=combined_results_df_low_mistake_gain['Mean RMSSD (Training)'].dropna(), alternative = 'less')) \n",
    "\n",
    "#SDNN\n",
    "print(\"\\nMean of SDNN in high vs low mistake gain groups\")\n",
    "print(round(combined_results_df_high_mistake_gain['Mean SDNN (Training)'].mean(skipna=True),2), round(combined_results_df_low_mistake_gain['Mean SDNN (Training)'].mean(skipna=True),2))\n",
    "print('Statistical significance - ', stats.mannwhitneyu(x=combined_results_df_high_mistake_gain['Mean SDNN (Training)'].dropna(), y=combined_results_df_low_mistake_gain['Mean SDNN (Training)'].dropna(), alternative = 'less')) \n",
    "\n",
    "#HFN\n",
    "print(\"\\nMean of HFN in high vs low mistake gain groups\")\n",
    "print(round(combined_results_df_high_mistake_gain['Mean HF Normalized (Training)'].mean(skipna=True),2), round(combined_results_df_low_mistake_gain['Mean HF Normalized (Training)'].mean(skipna=True),2))\n",
    "print('Statistical significance - ', stats.mannwhitneyu(x=combined_results_df_high_mistake_gain['Mean HF Normalized (Training)'].dropna(), y=combined_results_df_low_mistake_gain['Mean HF Normalized (Training)'].dropna(), alternative = 'less'))\n",
    "\n",
    "#LF/HF ratio\n",
    "print(\"\\nMean of LF/HF Ratio in high vs low mistake gain groups\")\n",
    "print(round(combined_results_df_high_mistake_gain['Mean LFHF Ratio (Training)'].mean(skipna=True),2), round(combined_results_df_low_mistake_gain['Mean LFHF Ratio (Training)'].mean(skipna=True),2))\n",
    "print('Statistical significance - ', stats.mannwhitneyu(x=combined_results_df_high_mistake_gain['Mean LFHF Ratio (Training)'].dropna(), y=combined_results_df_low_mistake_gain['Mean LFHF Ratio (Training)'].dropna(), alternative = 'greater')) \n",
    "\n",
    "print('\\nGSR \\n-----')\n",
    "#GSR\n",
    "print(\"\\nMean of GSR in high vs low mistake gain groups\")\n",
    "print(round(combined_results_df_high_mistake_gain['Mean GSR (Training)'].mean(skipna=True),2), round(combined_results_df_low_mistake_gain['Mean GSR (Training)'].mean(skipna=True),2))\n",
    "print('Statistical significance - ', stats.mannwhitneyu(x=combined_results_df_high_mistake_gain['Mean GSR (Training)'].dropna(), y=combined_results_df_low_mistake_gain['Mean GSR (Training)'].dropna(), alternative = 'less'))\n",
    "\n",
    "#GSR Peak amplitude\n",
    "print(\"\\nMean of GSR Peak Amplitude in high vs low mistake gain groups\")\n",
    "print(round(combined_results_df_high_mistake_gain['Mean GSR Peak Amplitude (Training)'].mean(skipna=True),2), round(combined_results_df_low_mistake_gain['Mean GSR Peak Amplitude (Training)'].mean(skipna=True),2))\n",
    "print('Statistical significance - ', stats.mannwhitneyu(x=combined_results_df_high_mistake_gain['Mean GSR Peak Amplitude (Training)'].dropna(), y=combined_results_df_low_mistake_gain['Mean GSR Peak Amplitude (Training)'].dropna(), alternative = 'less'))\n",
    "\n",
    "#GSR peaks rate\n",
    "print(\"\\nMean of GSR peaks rate in high vs low mistake gain groups\")\n",
    "print(round(combined_results_df_high_mistake_gain['Mean GSR Peaks Rate (Training)'].mean(skipna=True),2), round(combined_results_df_low_mistake_gain['Mean GSR Peaks Rate (Training)'].mean(skipna=True),2))\n",
    "print('Statistical significance - ', stats.mannwhitneyu(x=combined_results_df_high_mistake_gain['Mean GSR Peaks Rate (Training)'].dropna(), y=combined_results_df_low_mistake_gain['Mean GSR Peaks Rate (Training)'].dropna(), alternative = 'less')) \n",
    "\n",
    "#print(stats.spearmanr(combined_results_df_high_HR['Avg_HR'], combined_results_df_high_HR['Mistake_Gain'], nan_policy='omit'))\n",
    "#print(stats.spearmanr(combined_results_df_high_HR['Avg_HR'], combined_results_df_high_HR['Time_Gain'], nan_policy='omit'))"
   ]
  },
  {
   "cell_type": "markdown",
   "id": "699e538f",
   "metadata": {},
   "source": [
    "### __Task time Gain__"
   ]
  },
  {
   "cell_type": "code",
   "execution_count": 94,
   "id": "c813876c",
   "metadata": {},
   "outputs": [
    {
     "name": "stdout",
     "output_type": "stream",
     "text": [
      "High vs low performance groups w.r.t task completion time gain \n",
      "--------------------------------------------------------------\n",
      "12\n",
      "12\n",
      "HR \n",
      "-----\n",
      "Mean of HR in high vs low task time gain groups\n",
      "0.01 -0.01\n",
      "Statistical significance -  MannwhitneyuResult(statistic=86.0, pvalue=0.11504209095812556)\n",
      "\n",
      "Mean of RMSSD in high vs low task time gain groups\n",
      "81.51 288.73\n",
      "Statistical significance -  MannwhitneyuResult(statistic=56.0, pvalue=0.2793799114354468)\n",
      "\n",
      "Mean of SDNN in high vs low task time gain groups\n",
      "76.55 216.39\n",
      "Statistical significance -  MannwhitneyuResult(statistic=51.0, pvalue=0.18608571989106287)\n",
      "\n",
      "Mean of HFN in high vs low task time gain groups\n",
      "50.07 53.53\n",
      "Statistical significance -  MannwhitneyuResult(statistic=62.0, pvalue=0.4147237944967891)\n",
      "\n",
      "Mean of LF/HF Ratio in high vs low task time gain groups\n",
      "2.09 1.42\n",
      "Statistical significance -  MannwhitneyuResult(statistic=76.0, pvalue=0.2793799114354468)\n",
      "\n",
      "GSR \n",
      "-----\n",
      "\n",
      "Mean of GSR in high vs low task time gain groups\n",
      "1.86 2.22\n",
      "Statistical significance -  MannwhitneyuResult(statistic=45.0, pvalue=0.27289898530460716)\n",
      "\n",
      "Mean of GSR Peak Amplitude in high vs low task time gain groups\n",
      "0.11 0.18\n",
      "Statistical significance -  MannwhitneyuResult(statistic=43.0, pvalue=0.1383024582255476)\n",
      "\n",
      "Mean of GSR peaks rate in high vs low task time gain groups\n",
      "1.95 2.0\n",
      "Statistical significance -  MannwhitneyuResult(statistic=51.0, pvalue=0.4294921480044799)\n"
     ]
    }
   ],
   "source": [
    "#High vs low performance groups w.r.t task completion time gain \n",
    "print('High vs low performance groups w.r.t task completion time gain \\n--------------------------------------------------------------')\n",
    "combined_results_df_high_task_time_gain = combined_results_df[combined_results_df['Task Completion Time (Gain)'] > combined_results_df['Task Completion Time (Gain)'].quantile(0.85)]\n",
    "print(len(combined_results_df_high_task_time_gain))\n",
    "combined_results_df_low_task_time_gain = combined_results_df[combined_results_df['Task Completion Time (Gain)'] < combined_results_df['Task Completion Time (Gain)'].quantile(0.15)]\n",
    "print(len(combined_results_df_low_task_time_gain))\n",
    "\n",
    "print('HR \\n-----')\n",
    "#HR\n",
    "print(\"Mean of HR in high vs low task time gain groups\")\n",
    "print(round(combined_results_df_high_task_time_gain['Mean HR (Training)'].mean(skipna=True),2), round(combined_results_df_low_task_time_gain['Mean HR (Training)'].mean(skipna=True),2))\n",
    "print('Statistical significance - ', stats.mannwhitneyu(x=combined_results_df_high_task_time_gain['Mean HR (Training)'].dropna(), y=combined_results_df_low_task_time_gain['Mean HR (Training)'].dropna(), alternative = 'greater')) \n",
    "\n",
    "#RMSSD\n",
    "print(\"\\nMean of RMSSD in high vs low task time gain groups\")\n",
    "print(round(combined_results_df_high_task_time_gain['Mean RMSSD (Training)'].mean(skipna=True),2), round(combined_results_df_low_task_time_gain['Mean RMSSD (Training)'].mean(skipna=True),2))\n",
    "print('Statistical significance - ', stats.mannwhitneyu(x=combined_results_df_high_task_time_gain['Mean RMSSD (Training)'].dropna(), y=combined_results_df_low_task_time_gain['Mean RMSSD (Training)'].dropna(), alternative = 'less')) \n",
    "\n",
    "#SDNN\n",
    "print(\"\\nMean of SDNN in high vs low task time gain groups\")\n",
    "print(round(combined_results_df_high_task_time_gain['Mean SDNN (Training)'].mean(skipna=True),2), round(combined_results_df_low_task_time_gain['Mean SDNN (Training)'].mean(skipna=True),2))\n",
    "print('Statistical significance - ', stats.mannwhitneyu(x=combined_results_df_high_task_time_gain['Mean SDNN (Training)'].dropna(), y=combined_results_df_low_task_time_gain['Mean SDNN (Training)'].dropna(), alternative = 'less')) \n",
    "\n",
    "#HFN\n",
    "print(\"\\nMean of HFN in high vs low task time gain groups\")\n",
    "print(round(combined_results_df_high_task_time_gain['Mean HF Normalized (Training)'].mean(skipna=True),2), round(combined_results_df_low_task_time_gain['Mean HF Normalized (Training)'].mean(skipna=True),2))\n",
    "print('Statistical significance - ', stats.mannwhitneyu(x=combined_results_df_high_task_time_gain['Mean HF Normalized (Training)'].dropna(), y=combined_results_df_low_task_time_gain['Mean HF Normalized (Training)'].dropna(), alternative = 'less'))\n",
    "\n",
    "#LF/HF ratio\n",
    "print(\"\\nMean of LF/HF Ratio in high vs low task time gain groups\")\n",
    "print(round(combined_results_df_high_task_time_gain['Mean LFHF Ratio (Training)'].mean(skipna=True),2), round(combined_results_df_low_task_time_gain['Mean LFHF Ratio (Training)'].mean(skipna=True),2))\n",
    "print('Statistical significance - ', stats.mannwhitneyu(x=combined_results_df_high_task_time_gain['Mean LFHF Ratio (Training)'].dropna(), y=combined_results_df_low_task_time_gain['Mean LFHF Ratio (Training)'].dropna(), alternative = 'greater')) \n",
    "\n",
    "print('\\nGSR \\n-----')\n",
    "#GSR\n",
    "print(\"\\nMean of GSR in high vs low task time gain groups\")\n",
    "print(round(combined_results_df_high_task_time_gain['Mean GSR (Training)'].mean(skipna=True),2), round(combined_results_df_low_task_time_gain['Mean GSR (Training)'].mean(skipna=True),2))\n",
    "print('Statistical significance - ', stats.mannwhitneyu(x=combined_results_df_high_task_time_gain['Mean GSR (Training)'].dropna(), y=combined_results_df_low_task_time_gain['Mean GSR (Training)'].dropna(), alternative = 'less'))\n",
    "\n",
    "#GSR Peak amplitude\n",
    "print(\"\\nMean of GSR Peak Amplitude in high vs low task time gain groups\")\n",
    "print(round(combined_results_df_high_task_time_gain['Mean GSR Peak Amplitude (Training)'].mean(skipna=True),2), round(combined_results_df_low_task_time_gain['Mean GSR Peak Amplitude (Training)'].mean(skipna=True),2))\n",
    "print('Statistical significance - ', stats.mannwhitneyu(x=combined_results_df_high_task_time_gain['Mean GSR Peak Amplitude (Training)'].dropna(), y=combined_results_df_low_task_time_gain['Mean GSR Peak Amplitude (Training)'].dropna(), alternative = 'less'))\n",
    "\n",
    "#GSR peaks rate\n",
    "print(\"\\nMean of GSR peaks rate in high vs low task time gain groups\")\n",
    "print(round(combined_results_df_high_task_time_gain['Mean GSR Peaks Rate (Training)'].mean(skipna=True),2), round(combined_results_df_low_task_time_gain['Mean GSR Peaks Rate (Training)'].mean(skipna=True),2))\n",
    "print('Statistical significance - ', stats.mannwhitneyu(x=combined_results_df_high_task_time_gain['Mean GSR Peaks Rate (Training)'].dropna(), y=combined_results_df_low_task_time_gain['Mean GSR Peaks Rate (Training)'].dropna(), alternative = 'less')) \n",
    "\n",
    "#print(stats.spearmanr(combined_results_df_high_HR['Avg_HR'], combined_results_df_high_HR['Mistake_Gain'], nan_policy='omit'))\n",
    "#print(stats.spearmanr(combined_results_df_high_HR['Avg_HR'], combined_results_df_high_HR['Time_Gain'], nan_policy='omit'))\n",
    "\n"
   ]
  },
  {
   "cell_type": "markdown",
   "id": "c0bc3638",
   "metadata": {},
   "source": [
    "# __Self-efficacy__\n",
    "---"
   ]
  },
  {
   "cell_type": "markdown",
   "id": "e7ea5939",
   "metadata": {},
   "source": [
    "## __Self-efficacy - Within Physical and VR__"
   ]
  },
  {
   "cell_type": "code",
   "execution_count": 114,
   "id": "73cb2cbe",
   "metadata": {},
   "outputs": [
    {
     "name": "stdout",
     "output_type": "stream",
     "text": [
      "Self-efficacy means for physical condition\n",
      "Self efficacy 1 (Mean) 4.358974358974359 Self efficacy 2 (Mean) 4.461538461538462\n",
      "Wilcoxon test for pre and post-training self-efficacy in Physical condition\n",
      "WilcoxonResult(statistic=165.0, pvalue=0.5366390114090078)\n",
      "\n",
      "Self-efficacy means for VR condition\n",
      "Self efficacy 1 (Mean) 3.75 Self efficacy 2 (Mean) 4.275\n",
      "Wilcoxon test for pre and post-training self-efficacy in VR condition\n",
      "WilcoxonResult(statistic=105.0, pvalue=0.011090938081077664)\n"
     ]
    }
   ],
   "source": [
    "print('Self-efficacy means for physical condition')\n",
    "print('Self efficacy 1 (Mean)', combined_results_df[combined_results_df['Condition'] == 'Physical']['Self_Efficacy_1'].mean(skipna=True), 'Self efficacy 2 (Mean)', combined_results_df[combined_results_df['Condition'] == 'Physical']['Self_Efficacy_2'].mean(skipna=True))\n",
    "print(\"Wilcoxon test for pre and post-training self-efficacy in Physical condition\")\n",
    "print(stats.wilcoxon(combined_results_df[combined_results_df['Condition'] == 'Physical']['Self_Efficacy_1'], combined_results_df[combined_results_df['Condition'] == 'Physical']['Self_Efficacy_2']))\n",
    "\n",
    "print('\\nSelf-efficacy means for VR condition')\n",
    "print('Self efficacy 1 (Mean)', combined_results_df[combined_results_df['Condition'] == 'VR']['Self_Efficacy_1'].mean(skipna=True), 'Self efficacy 2 (Mean)', combined_results_df[combined_results_df['Condition'] == 'VR']['Self_Efficacy_2'].mean(skipna=True))\n",
    "print(\"Wilcoxon test for pre and post-training self-efficacy in VR condition\")\n",
    "print(stats.wilcoxon(combined_results_df[combined_results_df['Condition'] == 'VR']['Self_Efficacy_1'], combined_results_df[combined_results_df['Condition'] == 'VR']['Self_Efficacy_2']))"
   ]
  },
  {
   "cell_type": "markdown",
   "id": "75c99280",
   "metadata": {},
   "source": [
    "## __Self-efficacy - Physical x VR__"
   ]
  },
  {
   "cell_type": "code",
   "execution_count": 117,
   "id": "a2225466",
   "metadata": {},
   "outputs": [
    {
     "name": "stdout",
     "output_type": "stream",
     "text": [
      "Mean self-efficacy increase for physical condition 0.10256410256410256\n",
      "Mean self-efficacy increase for VR condition 0.525\n",
      "Statistics for self-efficacy increase between physical and VR conditions MannwhitneyuResult(statistic=601.5, pvalue=0.03441835359011643)\n"
     ]
    }
   ],
   "source": [
    "combined_results_df['Eff_Diff'] = combined_results_df['Self_Efficacy_2'] - combined_results_df['Self_Efficacy_1']\n",
    "print('Mean self-efficacy increase for physical condition', combined_results_df[combined_results_df['Condition'] == 'Physical']['Eff_Diff'].mean(skipna=True))\n",
    "print('Mean self-efficacy increase for VR condition', combined_results_df[combined_results_df['Condition'] == 'VR']['Eff_Diff'].mean(skipna=True))\n",
    "print('Statistics for self-efficacy increase between physical and VR conditions', stats.mannwhitneyu(x=combined_results_df[combined_results_df['Condition'] == 'Physical']['Eff_Diff'], y=combined_results_df[combined_results_df['Condition'] == 'VR']['Eff_Diff'], alternative = 'less'))\n"
   ]
  },
  {
   "cell_type": "code",
   "execution_count": 70,
   "id": "2fa0ad0b",
   "metadata": {},
   "outputs": [
    {
     "name": "stdout",
     "output_type": "stream",
     "text": [
      "Wilcoxon test for pre and post-training self-efficacy in Physical condition\n",
      "WilcoxonResult(statistic=191.5, pvalue=0.5453836355499604)\n"
     ]
    }
   ],
   "source": [
    "ph_eff_df = pd.read_csv('..\\\\OnlineSurvey\\\\Self_Eff_Ph.csv')\n",
    "ph_eff_df\n",
    "print(\"Wilcoxon test for pre and post-training self-efficacy in Physical condition\")\n",
    "print(stats.wilcoxon(ph_eff_df['Eff1'], ph_eff_df['Eff2']))"
   ]
  },
  {
   "cell_type": "code",
   "execution_count": null,
   "id": "b3b6931c",
   "metadata": {},
   "outputs": [
    {
     "data": {
      "text/plain": [
       "0.0952380952380949"
      ]
     },
     "execution_count": 132,
     "metadata": {},
     "output_type": "execute_result"
    }
   ],
   "source": [
    "ph_eff_df['Eff2'].mean(skipna=True) - ph_eff_df['Eff1'].mean(skipna=True)"
   ]
  },
  {
   "cell_type": "code",
   "execution_count": 16,
   "id": "8066c6a7-6890-4617-b188-8ba6eae0c934",
   "metadata": {},
   "outputs": [
    {
     "data": {
      "text/plain": [
       "<AxesSubplot:>"
      ]
     },
     "execution_count": 16,
     "metadata": {},
     "output_type": "execute_result"
    },
    {
     "data": {
      "image/png": "[encoded data removed]",
      "text/plain": [
       "<Figure size 1008x720 with 1 Axes>"
      ]
     },
     "metadata": {},
     "output_type": "display_data"
    }
   ],
   "source": [
    "#Draw box plot of Baseline_HR and Baseline_GSR columns in ph_results_df\n",
    "ph_results_df.boxplot(column=['Baseline_GSR', 'Pretest_GSR' , 'Norm_Level_1_GSR', 'Norm_Level_2_GSR', 'Norm_Level_3_GSR', 'Norm_Level_4_GSR', 'Norm_Posttest_GSR'], figsize=(14,10),showmeans=True)\n"
   ]
  },
  {
   "cell_type": "code",
   "execution_count": null,
   "id": "ce0ba811",
   "metadata": {},
   "outputs": [],
   "source": [
    "#ph_results_df.boxplot(column=['Baseline_HR', 'Pretest_HR' , 'Norm_Level_1_HR', 'Norm_Level_2_HR', 'Norm_Level_3_HR', 'Norm_Level_4_HR', 'Norm_Posttest_HR'], figsize=(14,10),showmeans=True)"
   ]
  },
  {
   "cell_type": "code",
   "execution_count": null,
   "id": "63cd1c62",
   "metadata": {},
   "outputs": [],
   "source": [
    "#ph_results_df.boxplot(column=['Pretest_Time', 'Level_1_Time', 'Level_2_Time', 'Level_3_Time', 'Level_4_Time', 'Posttest_Time'], figsize=(14,10),showmeans=True)"
   ]
  },
  {
   "cell_type": "code",
   "execution_count": null,
   "id": "6cabfb77",
   "metadata": {},
   "outputs": [],
   "source": [
    "#ph_results_df.boxplot(column=['Pretest_Mistake_Time', 'Level_1_Mistake_Time', 'Level_2_Mistake_Time', 'Level_3_Mistake_Time', 'Level_4_Mistake_Time', 'Posttest_Mistake_Time'], figsize=(14,10),showmeans=True)"
   ]
  },
  {
   "cell_type": "code",
   "execution_count": 48,
   "id": "791dd990",
   "metadata": {},
   "outputs": [],
   "source": [
    "#vr_results_df['Norm_Level_1_GSR'].hist(bins=20)"
   ]
  },
  {
   "cell_type": "code",
   "execution_count": null,
   "id": "38f80198",
   "metadata": {},
   "outputs": [],
   "source": [
    "#vr_results_df[vr_results_df[\"Norm_Level_1_GSR\"].notna()][\"Norm_Level_1_GSR\"]"
   ]
  },
  {
   "cell_type": "code",
   "execution_count": 71,
   "id": "a04eb160",
   "metadata": {},
   "outputs": [
    {
     "name": "stdout",
     "output_type": "stream",
     "text": [
      "Wilcoxon test for pre and post-training self-efficacy in VR condition\n",
      "WilcoxonResult(statistic=120.5, pvalue=0.015977108919375097)\n"
     ]
    }
   ],
   "source": [
    "vr_eff_df = pd.read_csv('..\\\\OnlineSurvey\\\\Self_Eff_VR.csv')\n",
    "vr_eff_df\n",
    "print(\"Wilcoxon test for pre and post-training self-efficacy in VR condition\")\n",
    "print(stats.wilcoxon(vr_eff_df['Eff1'], vr_eff_df['Eff2']))"
   ]
  },
  {
   "cell_type": "code",
   "execution_count": null,
   "id": "4b218dd6",
   "metadata": {},
   "outputs": [
    {
     "data": {
      "text/html": [
       "<div>\n",
       "<style scoped>\n",
       "    .dataframe tbody tr th:only-of-type {\n",
       "        vertical-align: middle;\n",
       "    }\n",
       "\n",
       "    .dataframe tbody tr th {\n",
       "        vertical-align: top;\n",
       "    }\n",
       "\n",
       "    .dataframe thead th {\n",
       "        text-align: right;\n",
       "    }\n",
       "</style>\n",
       "<table border=\"1\" class=\"dataframe\">\n",
       "  <thead>\n",
       "    <tr style=\"text-align: right;\">\n",
       "      <th></th>\n",
       "      <th>Eff1</th>\n",
       "      <th>Eff2</th>\n",
       "    </tr>\n",
       "  </thead>\n",
       "  <tbody>\n",
       "    <tr>\n",
       "      <th>count</th>\n",
       "      <td>45.000000</td>\n",
       "      <td>45.000000</td>\n",
       "    </tr>\n",
       "    <tr>\n",
       "      <th>mean</th>\n",
       "      <td>3.800000</td>\n",
       "      <td>4.244444</td>\n",
       "    </tr>\n",
       "    <tr>\n",
       "      <th>std</th>\n",
       "      <td>1.099587</td>\n",
       "      <td>1.111010</td>\n",
       "    </tr>\n",
       "    <tr>\n",
       "      <th>min</th>\n",
       "      <td>1.000000</td>\n",
       "      <td>2.000000</td>\n",
       "    </tr>\n",
       "    <tr>\n",
       "      <th>25%</th>\n",
       "      <td>3.000000</td>\n",
       "      <td>3.000000</td>\n",
       "    </tr>\n",
       "    <tr>\n",
       "      <th>50%</th>\n",
       "      <td>4.000000</td>\n",
       "      <td>4.000000</td>\n",
       "    </tr>\n",
       "    <tr>\n",
       "      <th>75%</th>\n",
       "      <td>5.000000</td>\n",
       "      <td>5.000000</td>\n",
       "    </tr>\n",
       "    <tr>\n",
       "      <th>max</th>\n",
       "      <td>6.000000</td>\n",
       "      <td>6.000000</td>\n",
       "    </tr>\n",
       "  </tbody>\n",
       "</table>\n",
       "</div>"
      ],
      "text/plain": [
       "            Eff1       Eff2\n",
       "count  45.000000  45.000000\n",
       "mean    3.800000   4.244444\n",
       "std     1.099587   1.111010\n",
       "min     1.000000   2.000000\n",
       "25%     3.000000   3.000000\n",
       "50%     4.000000   4.000000\n",
       "75%     5.000000   5.000000\n",
       "max     6.000000   6.000000"
      ]
     },
     "execution_count": 129,
     "metadata": {},
     "output_type": "execute_result"
    }
   ],
   "source": [
    "vr_eff_df.describe()"
   ]
  },
  {
   "cell_type": "code",
   "execution_count": null,
   "id": "48e35945",
   "metadata": {},
   "outputs": [],
   "source": [
    "#vr_results_df.boxplot(column=['Baseline_GSR', 'Norm_Pretest_GSR' , 'Norm_Level_1_GSR', 'Norm_Level_2_GSR', 'Norm_Level_3_GSR', 'Norm_Level_4_GSR', 'Norm_Posttest_GSR'], figsize=(14,10),showmeans=True)\n",
    "#vr_results_df.boxplot(column=['Baseline_HR', 'Norm_Pretest_HR' , 'Norm_Level_1_HR', 'Norm_Level_2_HR', 'Norm_Level_3_HR', 'Norm_Level_4_HR', 'Norm_Posttest_HR'], figsize=(14,10),showmeans=True)\n",
    "#vr_results_df.boxplot(column=['Pretest_Time', 'Level_1_Time', 'Level_2_Time', 'Level_3_Time', 'Level_4_Time', 'Posttest_Time'], figsize=(10,10),showmeans=True)\n",
    "#vr_results_df.boxplot(column=['Pretest_Mistake_Time', 'Level_1_Mistake_Time', 'Level_2_Mistake_Time', 'Level_3_Mistake_Time', 'Level_4_Mistake_Time', 'Posttest_Mistake_Time'], figsize=(14,10),showmeans=True)"
   ]
  },
  {
   "cell_type": "markdown",
   "id": "8c25049b",
   "metadata": {},
   "source": [
    "VR vs Physical"
   ]
  },
  {
   "cell_type": "code",
   "execution_count": null,
   "id": "6ce04b4d",
   "metadata": {},
   "outputs": [
    {
     "name": "stdout",
     "output_type": "stream",
     "text": [
      "MannwhitneyuResult(statistic=767.5, pvalue=0.058472133788943795)\n"
     ]
    }
   ],
   "source": [
    "print(stats.mannwhitneyu(x=ph_eff_df['Eff_diff'], y=vr_eff_df['Eff_diff'], alternative = 'less')) "
   ]
  },
  {
   "cell_type": "code",
   "execution_count": null,
   "id": "d8f6a114",
   "metadata": {},
   "outputs": [
    {
     "data": {
      "text/plain": [
       "count    41.000000\n",
       "mean      1.212057\n",
       "std       2.029335\n",
       "min      -2.590388\n",
       "25%      -0.013862\n",
       "50%       1.053452\n",
       "75%       1.688275\n",
       "max      10.733681\n",
       "Name: Mistake_Gain, dtype: float64"
      ]
     },
     "execution_count": 116,
     "metadata": {},
     "output_type": "execute_result"
    }
   ],
   "source": [
    "vr_results_df['Mistake_Gain'].describe()"
   ]
  },
  {
   "cell_type": "code",
   "execution_count": 85,
   "id": "45803748",
   "metadata": {},
   "outputs": [
    {
     "name": "stderr",
     "output_type": "stream",
     "text": [
      "C:\\Users\\au657021\\AppData\\Local\\Continuum\\anaconda3\\envs\\buzz_env\\lib\\site-packages\\pandas\\core\\arraylike.py:364: RuntimeWarning: invalid value encountered in sqrt\n",
      "  result = getattr(ufunc, method)(*inputs, **kwargs)\n"
     ]
    }
   ],
   "source": [
    "#combined_results_df['Test_Score'] = 1 / np.sqrt(combined_results_df['Time_Gain'] * combined_results_df['Mistake_Gain'])"
   ]
  },
  {
   "cell_type": "code",
   "execution_count": 107,
   "id": "dd111589",
   "metadata": {},
   "outputs": [
    {
     "data": {
      "text/plain": [
       "<seaborn.axisgrid.FacetGrid at 0x1c9b279ae80>"
      ]
     },
     "execution_count": 107,
     "metadata": {},
     "output_type": "execute_result"
    },
    {
     "data": {
      "image/png": "[encoded data removed]",
      "text/plain": [
       "<Figure size 360x360 with 1 Axes>"
      ]
     },
     "metadata": {},
     "output_type": "display_data"
    }
   ],
   "source": [
    "sns.lmplot(data=combined_results_df, x=\"Avg_GSR\", y=\"Time_Gain\")"
   ]
  },
  {
   "cell_type": "code",
   "execution_count": null,
   "id": "cb0dda2c",
   "metadata": {},
   "outputs": [
    {
     "name": "stdout",
     "output_type": "stream",
     "text": [
      "SpearmanrResult(correlation=0.3560371517027864, pvalue=0.14702554764788864)\n",
      "SpearmanrResult(correlation=-0.09803921568627451, pvalue=0.6987424830235279)\n"
     ]
    }
   ],
   "source": [
    "combined_results_df_high_HR = combined_results_df[combined_results_df['Avg_HR'] > combined_results_df['Avg_HR'].quantile(0.75)]\n",
    "print(stats.spearmanr(combined_results_df_high_HR['Avg_HR'], combined_results_df_high_HR['Mistake_Gain'], nan_policy='omit'))\n",
    "print(stats.spearmanr(combined_results_df_high_HR['Avg_HR'], combined_results_df_high_HR['Time_Gain'], nan_policy='omit'))"
   ]
  },
  {
   "cell_type": "code",
   "execution_count": null,
   "id": "cd6233f1",
   "metadata": {},
   "outputs": [
    {
     "name": "stdout",
     "output_type": "stream",
     "text": [
      "SpearmanrResult(correlation=0.12972972972972976, pvalue=0.4507871465252461)\n",
      "SpearmanrResult(correlation=-0.05662805662805664, pvalue=0.7428808870113839)\n"
     ]
    }
   ],
   "source": [
    "combined_results_df_low_HR = combined_results_df[combined_results_df['Avg_HR'] < combined_results_df['Avg_HR'].quantile(0.25)]\n",
    "print(stats.spearmanr(combined_results_df_low_HR['Avg_HR'], combined_results_df_low_HR['Mistake_Gain'], nan_policy='omit'))\n",
    "print(stats.spearmanr(combined_results_df_low_HR['Avg_HR'], combined_results_df_low_HR['Time_Gain'], nan_policy='omit'))"
   ]
  },
  {
   "cell_type": "code",
   "execution_count": null,
   "id": "85c4f04a",
   "metadata": {},
   "outputs": [
    {
     "name": "stdout",
     "output_type": "stream",
     "text": [
      "SpearmanrResult(correlation=0.1479471788715486, pvalue=0.3052024577818458)\n",
      "SpearmanrResult(correlation=0.015702280912364946, pvalue=0.913813102725811)\n"
     ]
    }
   ],
   "source": [
    "combined_results_df_mid_HR = combined_results_df[(combined_results_df['Avg_HR'] > combined_results_df['Avg_HR'].quantile(0.15)) & (combined_results_df['Avg_HR'] < combined_results_df['Avg_HR'].quantile(0.85))]\n",
    "print(stats.spearmanr(combined_results_df_mid_HR['Avg_HR'], combined_results_df_mid_HR['Mistake_Gain'], nan_policy='omit'))\n",
    "print(stats.spearmanr(combined_results_df_mid_HR['Avg_HR'], combined_results_df_mid_HR['Time_Gain'], nan_policy='omit'))"
   ]
  },
  {
   "cell_type": "code",
   "execution_count": null,
   "id": "e3309e4a",
   "metadata": {},
   "outputs": [
    {
     "name": "stdout",
     "output_type": "stream",
     "text": [
      "SpearmanrResult(correlation=0.19716859716859722, pvalue=0.24906668175139635)\n"
     ]
    }
   ],
   "source": [
    "combined_results_df_hilo_hr = pd.concat([combined_results_df_high_HR, combined_results_df_low_HR], axis=0)\n",
    "print(stats.spearmanr(combined_results_df_hilo_hr['Avg_HR'], combined_results_df_hilo_hr['Mistake_Gain'], nan_policy='omit'))"
   ]
  },
  {
   "cell_type": "code",
   "execution_count": null,
   "id": "55193ee7",
   "metadata": {},
   "outputs": [
    {
     "name": "stdout",
     "output_type": "stream",
     "text": [
      "SpearmanrResult(correlation=-0.2507739938080495, pvalue=0.31551339595948574)\n",
      "SpearmanrResult(correlation=-0.1496388028895769, pvalue=0.5534228921214378)\n"
     ]
    }
   ],
   "source": [
    "combined_results_df_high_GSR = combined_results_df[combined_results_df['Avg_GSR'] > combined_results_df['Avg_GSR'].quantile(0.75)]\n",
    "print(stats.spearmanr(combined_results_df_high_GSR['Avg_GSR'], combined_results_df_high_GSR['Mistake_Gain'], nan_policy='omit'))\n",
    "print(stats.spearmanr(combined_results_df_high_GSR['Avg_GSR'], combined_results_df_high_GSR['Time_Gain'], nan_policy='omit'))"
   ]
  },
  {
   "cell_type": "code",
   "execution_count": null,
   "id": "19e1eb86",
   "metadata": {},
   "outputs": [
    {
     "name": "stdout",
     "output_type": "stream",
     "text": [
      "SpearmanrResult(correlation=-0.11867905056759545, pvalue=0.6390493358496443)\n",
      "SpearmanrResult(correlation=-0.31475748194014447, pvalue=0.20331354771785812)\n"
     ]
    }
   ],
   "source": [
    "combined_results_df_low_GSR = combined_results_df[combined_results_df['Avg_HR'] < combined_results_df['Avg_HR'].quantile(0.25)]\n",
    "print(stats.spearmanr(combined_results_df_low_GSR['Avg_GSR'], combined_results_df_low_GSR['Mistake_Gain'], nan_policy='omit'))\n",
    "print(stats.spearmanr(combined_results_df_low_GSR['Avg_GSR'], combined_results_df_low_GSR['Time_Gain'], nan_policy='omit'))"
   ]
  },
  {
   "cell_type": "code",
   "execution_count": null,
   "id": "5d0f0784",
   "metadata": {},
   "outputs": [
    {
     "name": "stderr",
     "output_type": "stream",
     "text": [
      "C:\\Users\\au657021\\AppData\\Local\\Continuum\\anaconda3\\envs\\buzz_env\\lib\\site-packages\\numpy\\lib\\function_base.py:4009: RuntimeWarning: invalid value encountered in subtract\n",
      "  diff_b_a = subtract(b, a)\n"
     ]
    },
    {
     "data": {
      "text/html": [
       "<div>\n",
       "<style scoped>\n",
       "    .dataframe tbody tr th:only-of-type {\n",
       "        vertical-align: middle;\n",
       "    }\n",
       "\n",
       "    .dataframe tbody tr th {\n",
       "        vertical-align: top;\n",
       "    }\n",
       "\n",
       "    .dataframe thead th {\n",
       "        text-align: right;\n",
       "    }\n",
       "</style>\n",
       "<table border=\"1\" class=\"dataframe\">\n",
       "  <thead>\n",
       "    <tr style=\"text-align: right;\">\n",
       "      <th></th>\n",
       "      <th>Unnamed: 0</th>\n",
       "      <th>Baseline_HR</th>\n",
       "      <th>Baseline_GSR</th>\n",
       "      <th>Pretest_Time</th>\n",
       "      <th>Pretest_Mistake_Time</th>\n",
       "      <th>Pretest_GSR</th>\n",
       "      <th>Pretest_HR</th>\n",
       "      <th>Level_1_Time</th>\n",
       "      <th>Level_1_Mistake_Time</th>\n",
       "      <th>Level_1_HR</th>\n",
       "      <th>...</th>\n",
       "      <th>Norm_Level_3_HR</th>\n",
       "      <th>Norm_Level_3_GSR</th>\n",
       "      <th>Norm_Level_4_HR</th>\n",
       "      <th>Norm_Level_4_GSR</th>\n",
       "      <th>Norm_Posttest_HR</th>\n",
       "      <th>Norm_Posttest_GSR</th>\n",
       "      <th>Time_Gain</th>\n",
       "      <th>Mistake_Gain</th>\n",
       "      <th>Avg_GSR</th>\n",
       "      <th>Avg_HR</th>\n",
       "    </tr>\n",
       "  </thead>\n",
       "  <tbody>\n",
       "    <tr>\n",
       "      <th>count</th>\n",
       "      <td>40.000000</td>\n",
       "      <td>39.000000</td>\n",
       "      <td>39.000000</td>\n",
       "      <td>40.000000</td>\n",
       "      <td>40.000000</td>\n",
       "      <td>39.000000</td>\n",
       "      <td>39.000000</td>\n",
       "      <td>39.000000</td>\n",
       "      <td>39.000000</td>\n",
       "      <td>39.000000</td>\n",
       "      <td>...</td>\n",
       "      <td>33.000000</td>\n",
       "      <td>33.000000</td>\n",
       "      <td>33.000000</td>\n",
       "      <td>33.000000</td>\n",
       "      <td>33.000000</td>\n",
       "      <td>32.000000</td>\n",
       "      <td>41.000000</td>\n",
       "      <td>41.000000</td>\n",
       "      <td>33.000000</td>\n",
       "      <td>33.000000</td>\n",
       "    </tr>\n",
       "    <tr>\n",
       "      <th>mean</th>\n",
       "      <td>19.500000</td>\n",
       "      <td>74.907976</td>\n",
       "      <td>1.638849</td>\n",
       "      <td>21.983323</td>\n",
       "      <td>3.138121</td>\n",
       "      <td>3.105645</td>\n",
       "      <td>79.636630</td>\n",
       "      <td>8.740348</td>\n",
       "      <td>0.191531</td>\n",
       "      <td>74.889141</td>\n",
       "      <td>...</td>\n",
       "      <td>72.337447</td>\n",
       "      <td>2.775583</td>\n",
       "      <td>73.225575</td>\n",
       "      <td>2.913297</td>\n",
       "      <td>76.397509</td>\n",
       "      <td>3.562960</td>\n",
       "      <td>1.340136</td>\n",
       "      <td>1.212057</td>\n",
       "      <td>2.704427</td>\n",
       "      <td>73.214653</td>\n",
       "    </tr>\n",
       "    <tr>\n",
       "      <th>std</th>\n",
       "      <td>11.690452</td>\n",
       "      <td>12.295171</td>\n",
       "      <td>1.222840</td>\n",
       "      <td>12.002677</td>\n",
       "      <td>1.581298</td>\n",
       "      <td>2.539813</td>\n",
       "      <td>13.241658</td>\n",
       "      <td>3.952119</td>\n",
       "      <td>0.275587</td>\n",
       "      <td>12.719334</td>\n",
       "      <td>...</td>\n",
       "      <td>13.223825</td>\n",
       "      <td>3.102874</td>\n",
       "      <td>13.303283</td>\n",
       "      <td>3.073179</td>\n",
       "      <td>13.900464</td>\n",
       "      <td>3.437163</td>\n",
       "      <td>8.460420</td>\n",
       "      <td>2.029335</td>\n",
       "      <td>3.076615</td>\n",
       "      <td>13.765000</td>\n",
       "    </tr>\n",
       "    <tr>\n",
       "      <th>min</th>\n",
       "      <td>0.000000</td>\n",
       "      <td>49.836066</td>\n",
       "      <td>0.388673</td>\n",
       "      <td>8.458740</td>\n",
       "      <td>0.000000</td>\n",
       "      <td>0.252664</td>\n",
       "      <td>54.466667</td>\n",
       "      <td>4.038280</td>\n",
       "      <td>0.000000</td>\n",
       "      <td>51.000000</td>\n",
       "      <td>...</td>\n",
       "      <td>48.904762</td>\n",
       "      <td>-0.391428</td>\n",
       "      <td>43.925926</td>\n",
       "      <td>-0.362710</td>\n",
       "      <td>49.055556</td>\n",
       "      <td>-0.057359</td>\n",
       "      <td>-19.471416</td>\n",
       "      <td>-2.590388</td>\n",
       "      <td>-0.398094</td>\n",
       "      <td>45.700435</td>\n",
       "    </tr>\n",
       "    <tr>\n",
       "      <th>25%</th>\n",
       "      <td>9.750000</td>\n",
       "      <td>66.208619</td>\n",
       "      <td>0.821497</td>\n",
       "      <td>13.955063</td>\n",
       "      <td>2.149136</td>\n",
       "      <td>1.594634</td>\n",
       "      <td>68.371528</td>\n",
       "      <td>6.028757</td>\n",
       "      <td>0.000000</td>\n",
       "      <td>65.215909</td>\n",
       "      <td>...</td>\n",
       "      <td>63.424242</td>\n",
       "      <td>1.274730</td>\n",
       "      <td>66.337838</td>\n",
       "      <td>1.586777</td>\n",
       "      <td>67.900000</td>\n",
       "      <td>1.640301</td>\n",
       "      <td>-4.778246</td>\n",
       "      <td>-0.013862</td>\n",
       "      <td>1.264140</td>\n",
       "      <td>64.848853</td>\n",
       "    </tr>\n",
       "    <tr>\n",
       "      <th>50%</th>\n",
       "      <td>19.500000</td>\n",
       "      <td>76.407080</td>\n",
       "      <td>1.225052</td>\n",
       "      <td>18.793420</td>\n",
       "      <td>2.962966</td>\n",
       "      <td>2.151845</td>\n",
       "      <td>79.366667</td>\n",
       "      <td>7.407319</td>\n",
       "      <td>0.092889</td>\n",
       "      <td>76.000000</td>\n",
       "      <td>...</td>\n",
       "      <td>70.578947</td>\n",
       "      <td>2.018353</td>\n",
       "      <td>70.210526</td>\n",
       "      <td>2.102728</td>\n",
       "      <td>74.566667</td>\n",
       "      <td>2.604463</td>\n",
       "      <td>1.490965</td>\n",
       "      <td>1.053452</td>\n",
       "      <td>1.879275</td>\n",
       "      <td>70.539719</td>\n",
       "    </tr>\n",
       "    <tr>\n",
       "      <th>75%</th>\n",
       "      <td>29.250000</td>\n",
       "      <td>84.449404</td>\n",
       "      <td>2.214465</td>\n",
       "      <td>26.257368</td>\n",
       "      <td>3.940936</td>\n",
       "      <td>3.861507</td>\n",
       "      <td>88.063235</td>\n",
       "      <td>10.465781</td>\n",
       "      <td>0.281453</td>\n",
       "      <td>83.392857</td>\n",
       "      <td>...</td>\n",
       "      <td>76.903226</td>\n",
       "      <td>2.874541</td>\n",
       "      <td>78.636364</td>\n",
       "      <td>3.075578</td>\n",
       "      <td>82.097561</td>\n",
       "      <td>3.950630</td>\n",
       "      <td>5.845163</td>\n",
       "      <td>1.688275</td>\n",
       "      <td>2.795485</td>\n",
       "      <td>78.948851</td>\n",
       "    </tr>\n",
       "    <tr>\n",
       "      <th>max</th>\n",
       "      <td>39.000000</td>\n",
       "      <td>96.401384</td>\n",
       "      <td>5.098206</td>\n",
       "      <td>71.426308</td>\n",
       "      <td>8.981445</td>\n",
       "      <td>10.820270</td>\n",
       "      <td>106.718750</td>\n",
       "      <td>24.004306</td>\n",
       "      <td>1.291825</td>\n",
       "      <td>101.200000</td>\n",
       "      <td>...</td>\n",
       "      <td>111.548387</td>\n",
       "      <td>14.945498</td>\n",
       "      <td>110.391304</td>\n",
       "      <td>14.350258</td>\n",
       "      <td>113.581395</td>\n",
       "      <td>14.677046</td>\n",
       "      <td>29.535441</td>\n",
       "      <td>10.733681</td>\n",
       "      <td>14.613092</td>\n",
       "      <td>111.919660</td>\n",
       "    </tr>\n",
       "  </tbody>\n",
       "</table>\n",
       "<p>8 rows × 91 columns</p>\n",
       "</div>"
      ],
      "text/plain": [
       "       Unnamed: 0  Baseline_HR  Baseline_GSR  Pretest_Time  \\\n",
       "count   40.000000    39.000000     39.000000     40.000000   \n",
       "mean    19.500000    74.907976      1.638849     21.983323   \n",
       "std     11.690452    12.295171      1.222840     12.002677   \n",
       "min      0.000000    49.836066      0.388673      8.458740   \n",
       "25%      9.750000    66.208619      0.821497     13.955063   \n",
       "50%     19.500000    76.407080      1.225052     18.793420   \n",
       "75%     29.250000    84.449404      2.214465     26.257368   \n",
       "max     39.000000    96.401384      5.098206     71.426308   \n",
       "\n",
       "       Pretest_Mistake_Time  Pretest_GSR  Pretest_HR  Level_1_Time  \\\n",
       "count             40.000000    39.000000   39.000000     39.000000   \n",
       "mean               3.138121     3.105645   79.636630      8.740348   \n",
       "std                1.581298     2.539813   13.241658      3.952119   \n",
       "min                0.000000     0.252664   54.466667      4.038280   \n",
       "25%                2.149136     1.594634   68.371528      6.028757   \n",
       "50%                2.962966     2.151845   79.366667      7.407319   \n",
       "75%                3.940936     3.861507   88.063235     10.465781   \n",
       "max                8.981445    10.820270  106.718750     24.004306   \n",
       "\n",
       "       Level_1_Mistake_Time  Level_1_HR  ...  Norm_Level_3_HR  \\\n",
       "count             39.000000   39.000000  ...        33.000000   \n",
       "mean               0.191531   74.889141  ...        72.337447   \n",
       "std                0.275587   12.719334  ...        13.223825   \n",
       "min                0.000000   51.000000  ...        48.904762   \n",
       "25%                0.000000   65.215909  ...        63.424242   \n",
       "50%                0.092889   76.000000  ...        70.578947   \n",
       "75%                0.281453   83.392857  ...        76.903226   \n",
       "max                1.291825  101.200000  ...       111.548387   \n",
       "\n",
       "       Norm_Level_3_GSR  Norm_Level_4_HR  Norm_Level_4_GSR  Norm_Posttest_HR  \\\n",
       "count         33.000000        33.000000         33.000000         33.000000   \n",
       "mean           2.775583        73.225575          2.913297         76.397509   \n",
       "std            3.102874        13.303283          3.073179         13.900464   \n",
       "min           -0.391428        43.925926         -0.362710         49.055556   \n",
       "25%            1.274730        66.337838          1.586777         67.900000   \n",
       "50%            2.018353        70.210526          2.102728         74.566667   \n",
       "75%            2.874541        78.636364          3.075578         82.097561   \n",
       "max           14.945498       110.391304         14.350258        113.581395   \n",
       "\n",
       "       Norm_Posttest_GSR  Time_Gain  Mistake_Gain    Avg_GSR      Avg_HR  \n",
       "count          32.000000  41.000000     41.000000  33.000000   33.000000  \n",
       "mean            3.562960   1.340136      1.212057   2.704427   73.214653  \n",
       "std             3.437163   8.460420      2.029335   3.076615   13.765000  \n",
       "min            -0.057359 -19.471416     -2.590388  -0.398094   45.700435  \n",
       "25%             1.640301  -4.778246     -0.013862   1.264140   64.848853  \n",
       "50%             2.604463   1.490965      1.053452   1.879275   70.539719  \n",
       "75%             3.950630   5.845163      1.688275   2.795485   78.948851  \n",
       "max            14.677046  29.535441     10.733681  14.613092  111.919660  \n",
       "\n",
       "[8 rows x 91 columns]"
      ]
     },
     "execution_count": 160,
     "metadata": {},
     "output_type": "execute_result"
    }
   ],
   "source": [
    "combined_results_df.describe()"
   ]
  },
  {
   "cell_type": "code",
   "execution_count": null,
   "id": "eb4a8a3a",
   "metadata": {},
   "outputs": [
    {
     "name": "stdout",
     "output_type": "stream",
     "text": [
      "MannwhitneyuResult(statistic=542.0, pvalue=0.12683894842626298)\n",
      "MannwhitneyuResult(statistic=596.0, pvalue=0.29764869379041836)\n"
     ]
    }
   ],
   "source": [
    "print(stats.mannwhitneyu(x=vr_results_df['Avg_GSR'].dropna(), y=ph_results_df['Avg_GSR'].dropna(), alternative = 'less'))\n",
    "print(stats.mannwhitneyu(x=vr_results_df['Avg_HR'].dropna(), y=ph_results_df['Avg_HR'].dropna(), alternative = 'less'))"
   ]
  },
  {
   "cell_type": "code",
   "execution_count": null,
   "id": "8bd8b258",
   "metadata": {},
   "outputs": [
    {
     "name": "stdout",
     "output_type": "stream",
     "text": [
      "LeveneResult(statistic=nan, pvalue=nan)\n",
      "LeveneResult(statistic=nan, pvalue=nan)\n",
      "LeveneResult(statistic=nan, pvalue=nan)\n",
      "LeveneResult(statistic=nan, pvalue=nan)\n",
      "LeveneResult(statistic=nan, pvalue=nan)\n",
      "LeveneResult(statistic=nan, pvalue=nan)\n",
      "LeveneResult(statistic=nan, pvalue=nan)\n",
      "LeveneResult(statistic=nan, pvalue=nan)\n",
      "LeveneResult(statistic=nan, pvalue=nan)\n",
      "LeveneResult(statistic=nan, pvalue=nan)\n"
     ]
    }
   ],
   "source": [
    "#Levene's test for equal variances\n",
    "'''\n",
    "print(stats.levene(ph_results_df['Norm_Pretest_HR'], vr_results_df['Norm_Pretest_HR'], center='median'))\n",
    "print(stats.levene(ph_results_df['Norm_Level_1_HR'], vr_results_df['Norm_Level_1_HR'], center='median'))\n",
    "print(stats.levene(ph_results_df['Norm_Level_2_HR'], vr_results_df['Norm_Level_2_HR'], center='median'))\n",
    "print(stats.levene(ph_results_df['Norm_Level_3_HR'], vr_results_df['Norm_Level_3_HR'], center='median'))\n",
    "print(stats.levene(ph_results_df['Norm_Level_4_HR'], vr_results_df['Norm_Level_4_HR'], center='median'))\n",
    "\n",
    "print(stats.levene(ph_results_df['Norm_Pretest_GSR'], vr_results_df['Norm_Pretest_GSR'], center='median'))\n",
    "print(stats.levene(ph_results_df['Norm_Level_1_GSR'], vr_results_df['Norm_Level_1_GSR'], center='median'))\n",
    "print(stats.levene(ph_results_df['Norm_Level_2_GSR'], vr_results_df['Norm_Level_2_GSR'], center='median'))\n",
    "print(stats.levene(ph_results_df['Norm_Level_3_GSR'], vr_results_df['Norm_Level_3_GSR'], center='median'))\n",
    "print(stats.levene(ph_results_df['Norm_Level_4_GSR'], vr_results_df['Norm_Level_4_GSR'], center='median'))\n",
    "'''"
   ]
  },
  {
   "cell_type": "code",
   "execution_count": 75,
   "id": "eebf2184",
   "metadata": {},
   "outputs": [],
   "source": [
    "vr_eff_df['Condition'] = 'VR'\n",
    "ph_eff_df['Condition'] = 'Physical'\n",
    "combined_eff_df = pd.concat([vr_eff_df, ph_eff_df])"
   ]
  },
  {
   "cell_type": "code",
   "execution_count": 77,
   "id": "5012a99a",
   "metadata": {},
   "outputs": [
    {
     "data": {
      "text/html": [
       "<div>\n",
       "<style scoped>\n",
       "    .dataframe tbody tr th:only-of-type {\n",
       "        vertical-align: middle;\n",
       "    }\n",
       "\n",
       "    .dataframe tbody tr th {\n",
       "        vertical-align: top;\n",
       "    }\n",
       "\n",
       "    .dataframe thead th {\n",
       "        text-align: right;\n",
       "    }\n",
       "</style>\n",
       "<table border=\"1\" class=\"dataframe\">\n",
       "  <thead>\n",
       "    <tr style=\"text-align: right;\">\n",
       "      <th></th>\n",
       "      <th>Condition</th>\n",
       "      <th>Self-efficacy</th>\n",
       "      <th>Efficacy Level</th>\n",
       "    </tr>\n",
       "  </thead>\n",
       "  <tbody>\n",
       "    <tr>\n",
       "      <th>0</th>\n",
       "      <td>VR</td>\n",
       "      <td>Pre-training</td>\n",
       "      <td>5</td>\n",
       "    </tr>\n",
       "    <tr>\n",
       "      <th>1</th>\n",
       "      <td>VR</td>\n",
       "      <td>Pre-training</td>\n",
       "      <td>5</td>\n",
       "    </tr>\n",
       "    <tr>\n",
       "      <th>2</th>\n",
       "      <td>VR</td>\n",
       "      <td>Pre-training</td>\n",
       "      <td>5</td>\n",
       "    </tr>\n",
       "    <tr>\n",
       "      <th>3</th>\n",
       "      <td>VR</td>\n",
       "      <td>Pre-training</td>\n",
       "      <td>4</td>\n",
       "    </tr>\n",
       "    <tr>\n",
       "      <th>4</th>\n",
       "      <td>VR</td>\n",
       "      <td>Pre-training</td>\n",
       "      <td>4</td>\n",
       "    </tr>\n",
       "    <tr>\n",
       "      <th>...</th>\n",
       "      <td>...</td>\n",
       "      <td>...</td>\n",
       "      <td>...</td>\n",
       "    </tr>\n",
       "    <tr>\n",
       "      <th>169</th>\n",
       "      <td>Physical</td>\n",
       "      <td>Post-training</td>\n",
       "      <td>3</td>\n",
       "    </tr>\n",
       "    <tr>\n",
       "      <th>170</th>\n",
       "      <td>Physical</td>\n",
       "      <td>Post-training</td>\n",
       "      <td>6</td>\n",
       "    </tr>\n",
       "    <tr>\n",
       "      <th>171</th>\n",
       "      <td>Physical</td>\n",
       "      <td>Post-training</td>\n",
       "      <td>4</td>\n",
       "    </tr>\n",
       "    <tr>\n",
       "      <th>172</th>\n",
       "      <td>Physical</td>\n",
       "      <td>Post-training</td>\n",
       "      <td>4</td>\n",
       "    </tr>\n",
       "    <tr>\n",
       "      <th>173</th>\n",
       "      <td>Physical</td>\n",
       "      <td>Post-training</td>\n",
       "      <td>5</td>\n",
       "    </tr>\n",
       "  </tbody>\n",
       "</table>\n",
       "<p>174 rows × 3 columns</p>\n",
       "</div>"
      ],
      "text/plain": [
       "    Condition  Self-efficacy  Efficacy Level\n",
       "0          VR   Pre-training               5\n",
       "1          VR   Pre-training               5\n",
       "2          VR   Pre-training               5\n",
       "3          VR   Pre-training               4\n",
       "4          VR   Pre-training               4\n",
       "..        ...            ...             ...\n",
       "169  Physical  Post-training               3\n",
       "170  Physical  Post-training               6\n",
       "171  Physical  Post-training               4\n",
       "172  Physical  Post-training               4\n",
       "173  Physical  Post-training               5\n",
       "\n",
       "[174 rows x 3 columns]"
      ]
     },
     "execution_count": 77,
     "metadata": {},
     "output_type": "execute_result"
    }
   ],
   "source": [
    "combined_eff_df\n",
    "#combined_eff_df = combined_results_df[['Pretest_Mistake_Time', 'Posttest_Mistake_Time', 'Condition']].copy()\n",
    "combined_eff_df.rename(columns={'Eff1': 'Pre-training', 'Eff2': 'Post-training'}, inplace=True)\n",
    "combined_eff_df_long = combined_eff_df.melt(id_vars=['Condition'], var_name='Self-efficacy', value_name='Efficacy Level')\n",
    "combined_eff_df_long"
   ]
  },
  {
   "cell_type": "code",
   "execution_count": 78,
   "id": "79254627",
   "metadata": {},
   "outputs": [
    {
     "name": "stderr",
     "output_type": "stream",
     "text": [
      "C:\\Users\\au657021\\AppData\\Local\\Continuum\\anaconda3\\envs\\buzz_env\\lib\\site-packages\\seaborn\\categorical.py:3750: UserWarning: The `size` parameter has been renamed to `height`; please update your code.\n",
      "  warnings.warn(msg, UserWarning)\n"
     ]
    },
    {
     "data": {
      "text/plain": [
       "<seaborn.axisgrid.FacetGrid at 0x1c9af7376a0>"
      ]
     },
     "execution_count": 78,
     "metadata": {},
     "output_type": "execute_result"
    },
    {
     "data": {
      "image/png": "[encoded data removed]",
      "text/plain": [
       "<Figure size 944.6x576 with 1 Axes>"
      ]
     },
     "metadata": {},
     "output_type": "display_data"
    }
   ],
   "source": [
    "sns.catplot(x='Self-efficacy', y='Efficacy Level', dodge = True, hue= 'Condition', kind=\"point\", data=combined_eff_df_long, size=8, aspect=1.5, capsize=.04)"
   ]
  },
  {
   "cell_type": "code",
   "execution_count": 35,
   "id": "31003645",
   "metadata": {},
   "outputs": [],
   "source": [
    "vr_results_df['Condition'] = 'VR'\n",
    "ph_results_df['Condition'] = 'Physical'"
   ]
  },
  {
   "cell_type": "code",
   "execution_count": 36,
   "id": "40f75c13",
   "metadata": {},
   "outputs": [
    {
     "data": {
      "text/plain": [
       "Index(['Unnamed: 0', 'Participant_ID', 'Baseline_HR', 'Baseline_GSR',\n",
       "       'Pretest_Time', 'Pretest_Mistake_Time', 'Pretest_GSR', 'Pretest_HR',\n",
       "       'Level_1_Time', 'Level_1_Mistake_Time', 'Level_1_HR', 'Level_1_GSR',\n",
       "       'Level_2_Time', 'Level_2_Mistake_Time', 'Level_2_HR', 'Level_2_GSR',\n",
       "       'Level_3_Time', 'Level_3_Mistake_Time', 'Level_3_HR', 'Level_3_GSR',\n",
       "       'Level_4_Time', 'Level_4_Mistake_Time', 'Level_4_HR', 'Level_4_GSR',\n",
       "       'Posttest_Time', 'Posttest_Mistake_Time', 'Posttest_GSR', 'Posttest_HR',\n",
       "       'Condition', 'Time_Gain', 'Mistake_Gain', 'Norm_Pretest_HR',\n",
       "       'Norm_Pretest_GSR', 'Norm_Level_1_HR', 'Norm_Level_1_GSR',\n",
       "       'Norm_Level_2_HR', 'Norm_Level_2_GSR', 'Norm_Level_3_HR',\n",
       "       'Norm_Level_3_GSR', 'Norm_Level_4_HR', 'Norm_Level_4_GSR',\n",
       "       'Norm_Posttest_HR', 'Norm_Posttest_GSR', 'Avg_GSR', 'Avg_HR'],\n",
       "      dtype='object')"
      ]
     },
     "execution_count": 36,
     "metadata": {},
     "output_type": "execute_result"
    }
   ],
   "source": [
    "vr_results_df.columns"
   ]
  },
  {
   "cell_type": "code",
   "execution_count": 65,
   "id": "a12580c9",
   "metadata": {},
   "outputs": [],
   "source": [
    "combined_results_df = pd.concat([vr_results_df, ph_results_df])\n",
    "#combined_results_df = combined_results_df[['Pretest_Time', 'Posttest_Time', 'Condition']].copy()\n",
    "combined_results_df = combined_results_df[['Pretest_Mistake_Time', 'Posttest_Mistake_Time', 'Condition']].copy()\n",
    "combined_results_df.rename(columns={'Pretest_Mistake_Time': 'Pretest', 'Posttest_Mistake_Time': 'Posttest'}, inplace=True)\n",
    "combined_results_df_long = combined_results_df.melt(id_vars=['Condition'], var_name='Test', value_name='Time')"
   ]
  },
  {
   "cell_type": "code",
   "execution_count": 49,
   "id": "ae408674",
   "metadata": {},
   "outputs": [
    {
     "data": {
      "text/html": [
       "<div>\n",
       "<style scoped>\n",
       "    .dataframe tbody tr th:only-of-type {\n",
       "        vertical-align: middle;\n",
       "    }\n",
       "\n",
       "    .dataframe tbody tr th {\n",
       "        vertical-align: top;\n",
       "    }\n",
       "\n",
       "    .dataframe thead th {\n",
       "        text-align: right;\n",
       "    }\n",
       "</style>\n",
       "<table border=\"1\" class=\"dataframe\">\n",
       "  <thead>\n",
       "    <tr style=\"text-align: right;\">\n",
       "      <th></th>\n",
       "      <th>Condition</th>\n",
       "      <th>Variable</th>\n",
       "      <th>Time</th>\n",
       "    </tr>\n",
       "  </thead>\n",
       "  <tbody>\n",
       "    <tr>\n",
       "      <th>0</th>\n",
       "      <td>VR</td>\n",
       "      <td>Pretest_Time</td>\n",
       "      <td>24.540540</td>\n",
       "    </tr>\n",
       "    <tr>\n",
       "      <th>1</th>\n",
       "      <td>VR</td>\n",
       "      <td>Pretest_Time</td>\n",
       "      <td>36.800053</td>\n",
       "    </tr>\n",
       "    <tr>\n",
       "      <th>2</th>\n",
       "      <td>VR</td>\n",
       "      <td>Pretest_Time</td>\n",
       "      <td>37.060505</td>\n",
       "    </tr>\n",
       "    <tr>\n",
       "      <th>3</th>\n",
       "      <td>VR</td>\n",
       "      <td>Pretest_Time</td>\n",
       "      <td>27.061413</td>\n",
       "    </tr>\n",
       "    <tr>\n",
       "      <th>4</th>\n",
       "      <td>VR</td>\n",
       "      <td>Pretest_Time</td>\n",
       "      <td>39.901130</td>\n",
       "    </tr>\n",
       "    <tr>\n",
       "      <th>...</th>\n",
       "      <td>...</td>\n",
       "      <td>...</td>\n",
       "      <td>...</td>\n",
       "    </tr>\n",
       "    <tr>\n",
       "      <th>157</th>\n",
       "      <td>Physical</td>\n",
       "      <td>Posttest_Time</td>\n",
       "      <td>18.503739</td>\n",
       "    </tr>\n",
       "    <tr>\n",
       "      <th>158</th>\n",
       "      <td>Physical</td>\n",
       "      <td>Posttest_Time</td>\n",
       "      <td>22.779398</td>\n",
       "    </tr>\n",
       "    <tr>\n",
       "      <th>159</th>\n",
       "      <td>Physical</td>\n",
       "      <td>Posttest_Time</td>\n",
       "      <td>18.156550</td>\n",
       "    </tr>\n",
       "    <tr>\n",
       "      <th>160</th>\n",
       "      <td>Physical</td>\n",
       "      <td>Posttest_Time</td>\n",
       "      <td>40.977314</td>\n",
       "    </tr>\n",
       "    <tr>\n",
       "      <th>161</th>\n",
       "      <td>Physical</td>\n",
       "      <td>Posttest_Time</td>\n",
       "      <td>35.205139</td>\n",
       "    </tr>\n",
       "  </tbody>\n",
       "</table>\n",
       "<p>162 rows × 3 columns</p>\n",
       "</div>"
      ],
      "text/plain": [
       "    Condition       Variable       Time\n",
       "0          VR   Pretest_Time  24.540540\n",
       "1          VR   Pretest_Time  36.800053\n",
       "2          VR   Pretest_Time  37.060505\n",
       "3          VR   Pretest_Time  27.061413\n",
       "4          VR   Pretest_Time  39.901130\n",
       "..        ...            ...        ...\n",
       "157  Physical  Posttest_Time  18.503739\n",
       "158  Physical  Posttest_Time  22.779398\n",
       "159  Physical  Posttest_Time  18.156550\n",
       "160  Physical  Posttest_Time  40.977314\n",
       "161  Physical  Posttest_Time  35.205139\n",
       "\n",
       "[162 rows x 3 columns]"
      ]
     },
     "execution_count": 49,
     "metadata": {},
     "output_type": "execute_result"
    }
   ],
   "source": [
    "combined_results_df_long"
   ]
  },
  {
   "cell_type": "code",
   "execution_count": 66,
   "id": "392831c7",
   "metadata": {},
   "outputs": [
    {
     "name": "stderr",
     "output_type": "stream",
     "text": [
      "C:\\Users\\au657021\\AppData\\Local\\Continuum\\anaconda3\\envs\\buzz_env\\lib\\site-packages\\seaborn\\categorical.py:3750: UserWarning: The `size` parameter has been renamed to `height`; please update your code.\n",
      "  warnings.warn(msg, UserWarning)\n"
     ]
    },
    {
     "data": {
      "text/plain": [
       "<seaborn.axisgrid.FacetGrid at 0x1c9ae4a8430>"
      ]
     },
     "execution_count": 66,
     "metadata": {},
     "output_type": "execute_result"
    },
    {
     "data": {
      "image/png": "[encoded data removed]",
      "text/plain": [
       "<Figure size 944.6x576 with 1 Axes>"
      ]
     },
     "metadata": {},
     "output_type": "display_data"
    }
   ],
   "source": [
    "sns.catplot(x='Test', y='Time', dodge = True, hue= 'Condition', kind=\"point\", data=combined_results_df_long, size=8, aspect=1.5, capsize=.04)"
   ]
  },
  {
   "cell_type": "code",
   "execution_count": 18,
   "id": "c44b1db1",
   "metadata": {},
   "outputs": [
    {
     "data": {
      "text/html": [
       "<div>\n",
       "<style scoped>\n",
       "    .dataframe tbody tr th:only-of-type {\n",
       "        vertical-align: middle;\n",
       "    }\n",
       "\n",
       "    .dataframe tbody tr th {\n",
       "        vertical-align: top;\n",
       "    }\n",
       "\n",
       "    .dataframe thead th {\n",
       "        text-align: right;\n",
       "    }\n",
       "</style>\n",
       "<table border=\"1\" class=\"dataframe\">\n",
       "  <thead>\n",
       "    <tr style=\"text-align: right;\">\n",
       "      <th></th>\n",
       "      <th>Condition</th>\n",
       "      <th>Variable</th>\n",
       "      <th>Level</th>\n",
       "    </tr>\n",
       "  </thead>\n",
       "  <tbody>\n",
       "    <tr>\n",
       "      <th>0</th>\n",
       "      <td>VR</td>\n",
       "      <td>Mental Demand</td>\n",
       "      <td>13</td>\n",
       "    </tr>\n",
       "    <tr>\n",
       "      <th>1</th>\n",
       "      <td>VR</td>\n",
       "      <td>Mental Demand</td>\n",
       "      <td>12</td>\n",
       "    </tr>\n",
       "    <tr>\n",
       "      <th>2</th>\n",
       "      <td>VR</td>\n",
       "      <td>Mental Demand</td>\n",
       "      <td>8</td>\n",
       "    </tr>\n",
       "    <tr>\n",
       "      <th>3</th>\n",
       "      <td>VR</td>\n",
       "      <td>Mental Demand</td>\n",
       "      <td>8</td>\n",
       "    </tr>\n",
       "    <tr>\n",
       "      <th>4</th>\n",
       "      <td>VR</td>\n",
       "      <td>Mental Demand</td>\n",
       "      <td>18</td>\n",
       "    </tr>\n",
       "    <tr>\n",
       "      <th>...</th>\n",
       "      <td>...</td>\n",
       "      <td>...</td>\n",
       "      <td>...</td>\n",
       "    </tr>\n",
       "    <tr>\n",
       "      <th>517</th>\n",
       "      <td>Physical</td>\n",
       "      <td>Frustration</td>\n",
       "      <td>17</td>\n",
       "    </tr>\n",
       "    <tr>\n",
       "      <th>518</th>\n",
       "      <td>Physical</td>\n",
       "      <td>Frustration</td>\n",
       "      <td>2</td>\n",
       "    </tr>\n",
       "    <tr>\n",
       "      <th>519</th>\n",
       "      <td>Physical</td>\n",
       "      <td>Frustration</td>\n",
       "      <td>11</td>\n",
       "    </tr>\n",
       "    <tr>\n",
       "      <th>520</th>\n",
       "      <td>Physical</td>\n",
       "      <td>Frustration</td>\n",
       "      <td>3</td>\n",
       "    </tr>\n",
       "    <tr>\n",
       "      <th>521</th>\n",
       "      <td>Physical</td>\n",
       "      <td>Frustration</td>\n",
       "      <td>17</td>\n",
       "    </tr>\n",
       "  </tbody>\n",
       "</table>\n",
       "<p>522 rows × 3 columns</p>\n",
       "</div>"
      ],
      "text/plain": [
       "    Condition       Variable  Level\n",
       "0          VR  Mental Demand     13\n",
       "1          VR  Mental Demand     12\n",
       "2          VR  Mental Demand      8\n",
       "3          VR  Mental Demand      8\n",
       "4          VR  Mental Demand     18\n",
       "..        ...            ...    ...\n",
       "517  Physical    Frustration     17\n",
       "518  Physical    Frustration      2\n",
       "519  Physical    Frustration     11\n",
       "520  Physical    Frustration      3\n",
       "521  Physical    Frustration     17\n",
       "\n",
       "[522 rows x 3 columns]"
      ]
     },
     "execution_count": 18,
     "metadata": {},
     "output_type": "execute_result"
    }
   ],
   "source": [
    "vr_nasatlx_df = pd.read_csv('..\\\\OnlineSurvey\\\\VR_Nasa.csv')\n",
    "ph_nasatlx_df = pd.read_csv('..\\\\OnlineSurvey\\\\Ph_Nasa.csv')\n",
    "vr_nasatlx_df['Condition'] = 'VR'\n",
    "ph_nasatlx_df['Condition'] = 'Physical'\n",
    "nasatlx_df = pd.concat([vr_nasatlx_df, ph_nasatlx_df])\n",
    "nasatlx_df_long = nasatlx_df.melt(id_vars=['Condition'], var_name='Variable', value_name='Level')\n",
    "nasatlx_df_long"
   ]
  },
  {
   "cell_type": "code",
   "execution_count": 68,
   "id": "9884b7c3",
   "metadata": {},
   "outputs": [
    {
     "name": "stderr",
     "output_type": "stream",
     "text": [
      "C:\\Users\\au657021\\AppData\\Local\\Continuum\\anaconda3\\envs\\buzz_env\\lib\\site-packages\\seaborn\\categorical.py:3750: UserWarning: The `size` parameter has been renamed to `height`; please update your code.\n",
      "  warnings.warn(msg, UserWarning)\n"
     ]
    },
    {
     "data": {
      "text/plain": [
       "<seaborn.axisgrid.FacetGrid at 0x1c9af6fd5e0>"
      ]
     },
     "execution_count": 68,
     "metadata": {},
     "output_type": "execute_result"
    },
    {
     "data": {
      "image/png": "[encoded data removed]",
      "text/plain": [
       "<Figure size 944.6x576 with 1 Axes>"
      ]
     },
     "metadata": {},
     "output_type": "display_data"
    }
   ],
   "source": [
    "\n",
    "sns.catplot(x='Variable', y='Level', hue= 'Condition', kind=\"bar\", data=nasatlx_df_long, size=8, aspect=1.5, ci = None)"
   ]
  },
  {
   "cell_type": "code",
   "execution_count": null,
   "id": "40a6a65c",
   "metadata": {},
   "outputs": [
    {
     "data": {
      "text/plain": [
       "count    42.000000\n",
       "mean     10.619048\n",
       "std       5.656649\n",
       "min       1.000000\n",
       "25%       5.000000\n",
       "50%      12.000000\n",
       "75%      15.000000\n",
       "max      21.000000\n",
       "Name: Frustration, dtype: float64"
      ]
     },
     "execution_count": 42,
     "metadata": {},
     "output_type": "execute_result"
    }
   ],
   "source": [
    "ph_nasatlx_df['Frustration'].describe()"
   ]
  },
  {
   "cell_type": "code",
   "execution_count": null,
   "id": "47756202",
   "metadata": {},
   "outputs": [
    {
     "name": "stdout",
     "output_type": "stream",
     "text": [
      "Mann Whitney U test for Mental Demand in VR vs physical\n",
      "MannwhitneyuResult(statistic=874.0, pvalue=0.5476396506501511)\n",
      "Mann Whitney U test for Physical Demand in VR vs physical\n",
      "MannwhitneyuResult(statistic=915.0, pvalue=0.8017537172432971)\n",
      "Mann Whitney U test for Temporal Demand in VR vs physical\n",
      "MannwhitneyuResult(statistic=1240.0, pvalue=0.012120548114918736)\n",
      "Mann Whitney U test for Performance in VR vs physical\n",
      "MannwhitneyuResult(statistic=802.0, pvalue=0.22471942196316996)\n",
      "Mann Whitney U test for Effort in VR vs physical\n",
      "MannwhitneyuResult(statistic=973.0, pvalue=0.814670863592921)\n",
      "Mann Whitney U test for Frustration in VR vs physical\n",
      "MannwhitneyuResult(statistic=922.5, pvalue=0.8514775130430722)\n"
     ]
    }
   ],
   "source": [
    "print(\"Mann Whitney U test for Mental Demand in VR vs physical\")\n",
    "print(stats.mannwhitneyu(x=ph_nasatlx_df['Mental Demand'], y=vr_nasatlx_df['Mental Demand']))\n",
    "print(\"Mann Whitney U test for Physical Demand in VR vs physical\")\n",
    "print(stats.mannwhitneyu(x=ph_nasatlx_df['Physical Demand'], y=vr_nasatlx_df['Physical Demand']))\n",
    "print(\"Mann Whitney U test for Temporal Demand in VR vs physical\")\n",
    "print(stats.mannwhitneyu(x=ph_nasatlx_df['Temporal Demand'], y=vr_nasatlx_df['Temporal Demand']))\n",
    "print(\"Mann Whitney U test for Performance in VR vs physical\")\n",
    "print(stats.mannwhitneyu(x=ph_nasatlx_df['Performance'], y=vr_nasatlx_df['Performance']))\n",
    "print(\"Mann Whitney U test for Effort in VR vs physical\")\n",
    "print(stats.mannwhitneyu(x=ph_nasatlx_df['Effort'], y=vr_nasatlx_df['Effort']))\n",
    "print(\"Mann Whitney U test for Frustration in VR vs physical\")\n",
    "print(stats.mannwhitneyu(x=ph_nasatlx_df['Frustration'], y=vr_nasatlx_df['Frustration']))\n"
   ]
  },
  {
   "cell_type": "code",
   "execution_count": null,
   "id": "06f02f52",
   "metadata": {},
   "outputs": [],
   "source": [
    "#Create a dataframe with the mean values of each column in the ph_nasatlx_df and vr_nasatlx_df\n",
    "#nasatlx_df = pd.DataFrame(columns=['Mental Demand', 'Physical Demand', 'Temporal Demand', 'Performance', 'Effort', 'Frustration'])\n",
    "#nasatlx_df = nasatlx_df.append(pd.DataFrame([[ph_nasatlx_df['Mental Demand'].mean(), ph_nasatlx_df['Physical Demand'].mean(), ph_nasatlx_df['Temporal Demand'].mean(), ph_nasatlx_df['Performance'].mean(), ph_nasatlx_df['Effort'].mean(), ph_nasatlx_df['Frustration'].mean()]], columns=['Mental Demand', 'Physical Demand', 'Temporal Demand', 'Performance', 'Effort', 'Frustration'], index=['PH'] ))\n",
    "#nasatlx_df = nasatlx_df.append(pd.DataFrame([[vr_nasatlx_df['Mental Demand'].mean(), vr_nasatlx_df['Physical Demand'].mean(), vr_nasatlx_df['Temporal Demand'].mean(), vr_nasatlx_df['Performance'].mean(), vr_nasatlx_df['Effort'].mean(), vr_nasatlx_df['Frustration'].mean()]], columns=['Mental Demand', 'Physical Demand', 'Temporal Demand', 'Performance', 'Effort', 'Frustration'], index=['VR'] ))"
   ]
  },
  {
   "cell_type": "code",
   "execution_count": null,
   "id": "a224e930",
   "metadata": {},
   "outputs": [
    {
     "data": {
      "text/html": [
       "<div>\n",
       "<style scoped>\n",
       "    .dataframe tbody tr th:only-of-type {\n",
       "        vertical-align: middle;\n",
       "    }\n",
       "\n",
       "    .dataframe tbody tr th {\n",
       "        vertical-align: top;\n",
       "    }\n",
       "\n",
       "    .dataframe thead th {\n",
       "        text-align: right;\n",
       "    }\n",
       "</style>\n",
       "<table border=\"1\" class=\"dataframe\">\n",
       "  <thead>\n",
       "    <tr style=\"text-align: right;\">\n",
       "      <th></th>\n",
       "      <th>Mental Demand</th>\n",
       "      <th>Physical Demand</th>\n",
       "      <th>Temporal Demand</th>\n",
       "      <th>Performance</th>\n",
       "      <th>Effort</th>\n",
       "      <th>Frustration</th>\n",
       "    </tr>\n",
       "  </thead>\n",
       "  <tbody>\n",
       "    <tr>\n",
       "      <th>PH</th>\n",
       "      <td>11.523810</td>\n",
       "      <td>9.952381</td>\n",
       "      <td>11.714286</td>\n",
       "      <td>11.380952</td>\n",
       "      <td>14.523810</td>\n",
       "      <td>10.619048</td>\n",
       "    </tr>\n",
       "    <tr>\n",
       "      <th>VR</th>\n",
       "      <td>12.066667</td>\n",
       "      <td>10.222222</td>\n",
       "      <td>9.155556</td>\n",
       "      <td>12.400000</td>\n",
       "      <td>14.488889</td>\n",
       "      <td>10.822222</td>\n",
       "    </tr>\n",
       "  </tbody>\n",
       "</table>\n",
       "</div>"
      ],
      "text/plain": [
       "    Mental Demand  Physical Demand  Temporal Demand  Performance     Effort  \\\n",
       "PH      11.523810         9.952381        11.714286    11.380952  14.523810   \n",
       "VR      12.066667        10.222222         9.155556    12.400000  14.488889   \n",
       "\n",
       "    Frustration  \n",
       "PH    10.619048  \n",
       "VR    10.822222  "
      ]
     },
     "execution_count": 45,
     "metadata": {},
     "output_type": "execute_result"
    }
   ],
   "source": [
    "#nasatlx_df"
   ]
  },
  {
   "cell_type": "code",
   "execution_count": 4,
   "id": "9a3bc4fd",
   "metadata": {},
   "outputs": [
    {
     "name": "stderr",
     "output_type": "stream",
     "text": [
      "C:\\Users\\au657021\\AppData\\Local\\Continuum\\anaconda3\\envs\\buzz_env\\lib\\site-packages\\sklearn\\neighbors\\_distance_metric.py:10: FutureWarning: sklearn.neighbors.DistanceMetric has been moved to sklearn.metrics.DistanceMetric in 1.0. This import path will be removed in 1.3\n",
      "  warnings.warn(\n"
     ]
    }
   ],
   "source": [
    "import neurokit2 as nk\n",
    "\n",
    "# Download example data\n",
    "data = nk.data(\"bio_eventrelated_100hz\")\n",
    "\n",
    "# Preprocess the data (filter, find peaks, etc.)\n",
    "processed_data, info = nk.bio_process(ecg=data[\"ECG\"], rsp=data[\"RSP\"], eda=data[\"EDA\"], sampling_rate=100)\n",
    "\n",
    "# Compute relevant features\n",
    "results = nk.bio_analyze(processed_data, sampling_rate=100)"
   ]
  },
  {
   "cell_type": "code",
   "execution_count": 9,
   "id": "65e7828b",
   "metadata": {},
   "outputs": [
    {
     "data": {
      "text/plain": [
       "Index(['ECG_Rate_Mean', 'HRV_MeanNN', 'HRV_SDNN', 'HRV_SDANN1', 'HRV_SDNNI1',\n",
       "       'HRV_SDANN2', 'HRV_SDNNI2', 'HRV_SDANN5', 'HRV_SDNNI5', 'HRV_RMSSD',\n",
       "       ...\n",
       "       'SCR_Peaks_N', 'SCR_Peaks_Amplitude_Mean', 'RSA_P2T_Mean',\n",
       "       'RSA_P2T_Mean_log', 'RSA_P2T_SD', 'RSA_P2T_NoRSA', 'RSA_PorgesBohrer',\n",
       "       'RSA_Gates_Mean', 'RSA_Gates_Mean_log', 'RSA_Gates_SD'],\n",
       "      dtype='object', length=113)"
      ]
     },
     "execution_count": 9,
     "metadata": {},
     "output_type": "execute_result"
    }
   ],
   "source": [
    "results.columns"
   ]
  }
 ],
 "metadata": {
  "kernelspec": {
   "display_name": "Python 3 (ipykernel)",
   "language": "python",
   "name": "python3"
  },
  "language_info": {
   "codemirror_mode": {
    "name": "ipython",
    "version": 3
   },
   "file_extension": ".py",
   "mimetype": "text/x-python",
   "name": "python",
   "nbconvert_exporter": "python",
   "pygments_lexer": "ipython3",
   "version": "3.9.7"
  }
 },
 "nbformat": 4,
 "nbformat_minor": 5
}
